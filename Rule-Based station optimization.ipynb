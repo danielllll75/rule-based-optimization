{
 "cells": [
  {
   "cell_type": "code",
   "execution_count": 2,
   "id": "fdca4b03",
   "metadata": {},
   "outputs": [],
   "source": [
    "import numpy as np\n",
    "import pandas as pd\n",
    "import math"
   ]
  },
  {
   "cell_type": "markdown",
   "id": "cbb5aa1a",
   "metadata": {},
   "source": [
    "## Step 1: Gather and Prepare Data"
   ]
  },
  {
   "cell_type": "markdown",
   "id": "582ac2f9",
   "metadata": {},
   "source": [
    "### Input Data"
   ]
  },
  {
   "cell_type": "markdown",
   "id": "65002d83",
   "metadata": {},
   "source": [
    "#### Heavy Machiney Data"
   ]
  },
  {
   "cell_type": "code",
   "execution_count": 3,
   "id": "9d675956",
   "metadata": {},
   "outputs": [
    {
     "name": "stdout",
     "output_type": "stream",
     "text": [
      "Energy demand : 225.0 kWh\n"
     ]
    }
   ],
   "source": [
    "BC = 300          # Battery capacity (Kwh)\n",
    "r = BC * 0.25     # Current SOC based on the percentage of the battery capacity\n",
    "D = BC - r        # Required energy demand\n",
    "v = 40           # Charging speed (Kw)\n",
    "print(f\"Energy demand : {D} kWh\") "
   ]
  },
  {
   "cell_type": "markdown",
   "id": "474354ff",
   "metadata": {},
   "source": [
    "#### Stations Data"
   ]
  },
  {
   "cell_type": "code",
   "execution_count": 4,
   "id": "9f15f3d1",
   "metadata": {},
   "outputs": [],
   "source": [
    "dataset = pd.read_excel('C:\\\\Users\\\\ASUS\\\\Downloads\\\\archive\\\\Final_dataset(Cleaned_extra_stations).xlsx')\n",
    "dataset\n",
    "CS = dataset['capacity']             # Charging speed (Kw)\n",
    "a = dataset['available']             # Availability\n",
    "latitude = dataset['latitude']       # Latitudes of stations\n",
    "longitude = dataset['longitude']     # Longitudes of stations"
   ]
  },
  {
   "cell_type": "markdown",
   "id": "abc117cd",
   "metadata": {},
   "source": [
    "## Step 2: Define the rules"
   ]
  },
  {
   "cell_type": "markdown",
   "id": "7c2093ab",
   "metadata": {},
   "source": [
    "### Distance Check"
   ]
  },
  {
   "cell_type": "code",
   "execution_count": 14,
   "id": "1c75e7ce",
   "metadata": {
    "scrolled": true
   },
   "outputs": [
    {
     "data": {
      "text/html": [
       "<div>\n",
       "<style scoped>\n",
       "    .dataframe tbody tr th:only-of-type {\n",
       "        vertical-align: middle;\n",
       "    }\n",
       "\n",
       "    .dataframe tbody tr th {\n",
       "        vertical-align: top;\n",
       "    }\n",
       "\n",
       "    .dataframe thead th {\n",
       "        text-align: right;\n",
       "    }\n",
       "</style>\n",
       "<table border=\"1\" class=\"dataframe\">\n",
       "  <thead>\n",
       "    <tr style=\"text-align: right;\">\n",
       "      <th></th>\n",
       "      <th>Name</th>\n",
       "      <th>Address</th>\n",
       "      <th>Latitude</th>\n",
       "      <th>Longitude</th>\n",
       "      <th>Cost_per_Unit</th>\n",
       "      <th>Distance</th>\n",
       "      <th>Available</th>\n",
       "    </tr>\n",
       "  </thead>\n",
       "  <tbody>\n",
       "    <tr>\n",
       "      <th>0</th>\n",
       "      <td>REIL</td>\n",
       "      <td>Nizamuddin Railway station</td>\n",
       "      <td>28.588991</td>\n",
       "      <td>77.253240</td>\n",
       "      <td>11.56</td>\n",
       "      <td>2.79</td>\n",
       "      <td>0</td>\n",
       "    </tr>\n",
       "    <tr>\n",
       "      <th>1</th>\n",
       "      <td>EESL</td>\n",
       "      <td>Outside Bharat Sanchar Bhawan, Ashoke Road, Ja...</td>\n",
       "      <td>28.621724</td>\n",
       "      <td>77.219286</td>\n",
       "      <td>10.00</td>\n",
       "      <td>2.80</td>\n",
       "      <td>0</td>\n",
       "    </tr>\n",
       "    <tr>\n",
       "      <th>2</th>\n",
       "      <td>EESL</td>\n",
       "      <td>Palika Maternity Hospital, Block 11, Lodhi Col...</td>\n",
       "      <td>28.583518</td>\n",
       "      <td>77.222057</td>\n",
       "      <td>10.00</td>\n",
       "      <td>1.58</td>\n",
       "      <td>0</td>\n",
       "    </tr>\n",
       "    <tr>\n",
       "      <th>3</th>\n",
       "      <td>EESL</td>\n",
       "      <td>Outside Chelmsford Club/ Opposite CSIR Buildin...</td>\n",
       "      <td>28.618177</td>\n",
       "      <td>77.212590</td>\n",
       "      <td>9.50</td>\n",
       "      <td>2.68</td>\n",
       "      <td>2</td>\n",
       "    </tr>\n",
       "    <tr>\n",
       "      <th>4</th>\n",
       "      <td>EESL</td>\n",
       "      <td>Press Club of India, 1, Raisina Road, Windsor ...</td>\n",
       "      <td>28.617517</td>\n",
       "      <td>77.213919</td>\n",
       "      <td>9.50</td>\n",
       "      <td>2.55</td>\n",
       "      <td>0</td>\n",
       "    </tr>\n",
       "  </tbody>\n",
       "</table>\n",
       "</div>"
      ],
      "text/plain": [
       "   Name                                            Address   Latitude  \\\n",
       "0  REIL                         Nizamuddin Railway station  28.588991   \n",
       "1  EESL  Outside Bharat Sanchar Bhawan, Ashoke Road, Ja...  28.621724   \n",
       "2  EESL  Palika Maternity Hospital, Block 11, Lodhi Col...  28.583518   \n",
       "3  EESL  Outside Chelmsford Club/ Opposite CSIR Buildin...  28.618177   \n",
       "4  EESL  Press Club of India, 1, Raisina Road, Windsor ...  28.617517   \n",
       "\n",
       "   Longitude  Cost_per_Unit  Distance  Available  \n",
       "0  77.253240          11.56      2.79          0  \n",
       "1  77.219286          10.00      2.80          0  \n",
       "2  77.222057          10.00      1.58          0  \n",
       "3  77.212590           9.50      2.68          2  \n",
       "4  77.213919           9.50      2.55          0  "
      ]
     },
     "execution_count": 14,
     "metadata": {},
     "output_type": "execute_result"
    }
   ],
   "source": [
    "from geopy.distance import geodesic\n",
    "\n",
    "# Ensure your dataset has the required columns\n",
    "# Columns: 'name', 'address', 'latitude', 'longitude', 'cost_per_unit', 'available'\n",
    "\n",
    "# Reference coordinate (latitude, longitude)\n",
    "reference_point = (28.597250, 77.226350)\n",
    "\n",
    "# Calculate distances using Vincenty formula (via geopy)\n",
    "dataset['Distance'] = dataset.apply(lambda row: round(geodesic(reference_point, \n",
    "                                                               (row['latitude'], row['longitude'])).kilometers, 2), axis=1)\n",
    "\n",
    "# Filter stations by distance condition (within 3 km)\n",
    "results_distance = []\n",
    "for _, row in dataset[dataset['Distance'] <= 3].iterrows():\n",
    "    results_distance.append([row['name'], row['address'], \n",
    "                             row['latitude'], row['longitude'], row['cost_per_unit'], \n",
    "                             row['Distance'], row.get('available', None)])\n",
    "\n",
    "# Convert to dataframe\n",
    "filtered_distance_df = pd.DataFrame(results_distance, \n",
    "                                    columns=['Name', 'Address', 'Latitude', 'Longitude', \n",
    "                                             'Cost_per_Unit', 'Distance', 'Available'])\n",
    "\n",
    "# View the filtered dataframe\n",
    "filtered_distance_df.head()\n"
   ]
  },
  {
   "cell_type": "markdown",
   "id": "54539c66",
   "metadata": {},
   "source": [
    "#### Availability Check"
   ]
  },
  {
   "cell_type": "code",
   "execution_count": 15,
   "id": "021d5555",
   "metadata": {},
   "outputs": [
    {
     "data": {
      "text/html": [
       "<div>\n",
       "<style scoped>\n",
       "    .dataframe tbody tr th:only-of-type {\n",
       "        vertical-align: middle;\n",
       "    }\n",
       "\n",
       "    .dataframe tbody tr th {\n",
       "        vertical-align: top;\n",
       "    }\n",
       "\n",
       "    .dataframe thead th {\n",
       "        text-align: right;\n",
       "    }\n",
       "</style>\n",
       "<table border=\"1\" class=\"dataframe\">\n",
       "  <thead>\n",
       "    <tr style=\"text-align: right;\">\n",
       "      <th></th>\n",
       "      <th>Name</th>\n",
       "      <th>Address</th>\n",
       "      <th>Latitude</th>\n",
       "      <th>Longitude</th>\n",
       "      <th>Cost_per_Unit</th>\n",
       "      <th>Distance</th>\n",
       "      <th>Available</th>\n",
       "    </tr>\n",
       "  </thead>\n",
       "  <tbody>\n",
       "    <tr>\n",
       "      <th>0</th>\n",
       "      <td>EESL</td>\n",
       "      <td>NDMC Parking,  Outside Jain Bhawan,  Shaheed B...</td>\n",
       "      <td>28.633614</td>\n",
       "      <td>77.207691</td>\n",
       "      <td>10.0</td>\n",
       "      <td>4.42</td>\n",
       "      <td>1</td>\n",
       "    </tr>\n",
       "    <tr>\n",
       "      <th>1</th>\n",
       "      <td>EESL</td>\n",
       "      <td>PSOI Club, Chanakyapuri, New Delhi 110021</td>\n",
       "      <td>28.586638</td>\n",
       "      <td>77.193352</td>\n",
       "      <td>9.5</td>\n",
       "      <td>3.44</td>\n",
       "      <td>1</td>\n",
       "    </tr>\n",
       "    <tr>\n",
       "      <th>2</th>\n",
       "      <td>EESL</td>\n",
       "      <td>Outside Chelmsford Club/ Opposite CSIR Buildin...</td>\n",
       "      <td>28.618177</td>\n",
       "      <td>77.212590</td>\n",
       "      <td>9.5</td>\n",
       "      <td>2.68</td>\n",
       "      <td>2</td>\n",
       "    </tr>\n",
       "    <tr>\n",
       "      <th>3</th>\n",
       "      <td>EESL</td>\n",
       "      <td>Opposite ICICI Bank, Janpath, New Delhi</td>\n",
       "      <td>28.628528</td>\n",
       "      <td>77.219460</td>\n",
       "      <td>9.5</td>\n",
       "      <td>3.53</td>\n",
       "      <td>1</td>\n",
       "    </tr>\n",
       "    <tr>\n",
       "      <th>4</th>\n",
       "      <td>EESL</td>\n",
       "      <td>Talkatora Stadium Presidents Estate New Delhi ...</td>\n",
       "      <td>28.625753</td>\n",
       "      <td>77.194530</td>\n",
       "      <td>9.5</td>\n",
       "      <td>4.43</td>\n",
       "      <td>1</td>\n",
       "    </tr>\n",
       "  </tbody>\n",
       "</table>\n",
       "</div>"
      ],
      "text/plain": [
       "   Name                                            Address   Latitude  \\\n",
       "0  EESL  NDMC Parking,  Outside Jain Bhawan,  Shaheed B...  28.633614   \n",
       "1  EESL          PSOI Club, Chanakyapuri, New Delhi 110021  28.586638   \n",
       "2  EESL  Outside Chelmsford Club/ Opposite CSIR Buildin...  28.618177   \n",
       "3  EESL            Opposite ICICI Bank, Janpath, New Delhi  28.628528   \n",
       "4  EESL  Talkatora Stadium Presidents Estate New Delhi ...  28.625753   \n",
       "\n",
       "   Longitude  Cost_per_Unit  Distance  Available  \n",
       "0  77.207691           10.0      4.42          1  \n",
       "1  77.193352            9.5      3.44          1  \n",
       "2  77.212590            9.5      2.68          2  \n",
       "3  77.219460            9.5      3.53          1  \n",
       "4  77.194530            9.5      4.43          1  "
      ]
     },
     "execution_count": 15,
     "metadata": {},
     "output_type": "execute_result"
    }
   ],
   "source": [
    "\n",
    "results_available = []\n",
    "for _, row in dataset[dataset['available'] > 0].iterrows():                     # Filter stations for their availability\n",
    "    results_available.append([row['name'], row['address'], row['latitude'], row['longitude'], row['cost_per_unit'], row.get('Distance', None), row['available']])\n",
    "\n",
    "\n",
    "filtered_available_df = pd.DataFrame(results_available,                        # Convert to dataframe\n",
    "                                     columns=['Name', 'Address', 'Latitude', 'Longitude', 'Cost_per_Unit', 'Distance', 'Available'])\n",
    "\n",
    "\n",
    "filtered_available_df.head()"
   ]
  },
  {
   "cell_type": "markdown",
   "id": "205cb59f",
   "metadata": {},
   "source": [
    "#### Combine two conditions"
   ]
  },
  {
   "cell_type": "code",
   "execution_count": 16,
   "id": "69030ec3",
   "metadata": {
    "scrolled": false
   },
   "outputs": [
    {
     "data": {
      "text/html": [
       "<div>\n",
       "<style scoped>\n",
       "    .dataframe tbody tr th:only-of-type {\n",
       "        vertical-align: middle;\n",
       "    }\n",
       "\n",
       "    .dataframe tbody tr th {\n",
       "        vertical-align: top;\n",
       "    }\n",
       "\n",
       "    .dataframe thead th {\n",
       "        text-align: right;\n",
       "    }\n",
       "</style>\n",
       "<table border=\"1\" class=\"dataframe\">\n",
       "  <thead>\n",
       "    <tr style=\"text-align: right;\">\n",
       "      <th></th>\n",
       "      <th>Name</th>\n",
       "      <th>Address</th>\n",
       "      <th>Latitude</th>\n",
       "      <th>Longitude</th>\n",
       "      <th>Cost_per_Unit</th>\n",
       "      <th>Distance</th>\n",
       "      <th>Available</th>\n",
       "    </tr>\n",
       "  </thead>\n",
       "  <tbody>\n",
       "    <tr>\n",
       "      <th>0</th>\n",
       "      <td>EESL</td>\n",
       "      <td>Outside Chelmsford Club/ Opposite CSIR Buildin...</td>\n",
       "      <td>28.618177</td>\n",
       "      <td>77.212590</td>\n",
       "      <td>9.5</td>\n",
       "      <td>2.68</td>\n",
       "      <td>2</td>\n",
       "    </tr>\n",
       "    <tr>\n",
       "      <th>1</th>\n",
       "      <td>REVOS</td>\n",
       "      <td>E -12, ground floor, Lajpat Nagar 1, New Delhi...</td>\n",
       "      <td>28.573348</td>\n",
       "      <td>77.237225</td>\n",
       "      <td>10.0</td>\n",
       "      <td>2.85</td>\n",
       "      <td>1</td>\n",
       "    </tr>\n",
       "    <tr>\n",
       "      <th>2</th>\n",
       "      <td>REVOS</td>\n",
       "      <td>E -12, ground floor, Lajpat Nagar 1, New Delhi...</td>\n",
       "      <td>28.573348</td>\n",
       "      <td>77.237225</td>\n",
       "      <td>10.0</td>\n",
       "      <td>2.85</td>\n",
       "      <td>1</td>\n",
       "    </tr>\n",
       "    <tr>\n",
       "      <th>3</th>\n",
       "      <td>REVOS</td>\n",
       "      <td>B215 lagpat nagar delhi</td>\n",
       "      <td>28.574852</td>\n",
       "      <td>77.241118</td>\n",
       "      <td>10.0</td>\n",
       "      <td>2.87</td>\n",
       "      <td>1</td>\n",
       "    </tr>\n",
       "    <tr>\n",
       "      <th>4</th>\n",
       "      <td>REVOS</td>\n",
       "      <td>B 215 Lajpat Nagar Delhi</td>\n",
       "      <td>28.575134</td>\n",
       "      <td>77.238969</td>\n",
       "      <td>10.0</td>\n",
       "      <td>2.74</td>\n",
       "      <td>1</td>\n",
       "    </tr>\n",
       "  </tbody>\n",
       "</table>\n",
       "</div>"
      ],
      "text/plain": [
       "    Name                                            Address   Latitude  \\\n",
       "0   EESL  Outside Chelmsford Club/ Opposite CSIR Buildin...  28.618177   \n",
       "1  REVOS  E -12, ground floor, Lajpat Nagar 1, New Delhi...  28.573348   \n",
       "2  REVOS  E -12, ground floor, Lajpat Nagar 1, New Delhi...  28.573348   \n",
       "3  REVOS                            B215 lagpat nagar delhi  28.574852   \n",
       "4  REVOS                           B 215 Lajpat Nagar Delhi  28.575134   \n",
       "\n",
       "   Longitude  Cost_per_Unit  Distance  Available  \n",
       "0  77.212590            9.5      2.68          2  \n",
       "1  77.237225           10.0      2.85          1  \n",
       "2  77.237225           10.0      2.85          1  \n",
       "3  77.241118           10.0      2.87          1  \n",
       "4  77.238969           10.0      2.74          1  "
      ]
     },
     "execution_count": 16,
     "metadata": {},
     "output_type": "execute_result"
    }
   ],
   "source": [
    "results_combined = []\n",
    "for _, row in dataset[(dataset['Distance'] <= 3) & (dataset['available'] > 0)].iterrows(): # Combine both two conditions\n",
    "    results_combined.append([row['name'], row['address'], row['latitude'], row['longitude'], row['cost_per_unit'], row['Distance'], row['available']])\n",
    "\n",
    "\n",
    "filtered_combined_df = pd.DataFrame(results_combined,                                       \n",
    "                                    columns=['Name', 'Address', 'Latitude', 'Longitude', 'Cost_per_Unit', 'Distance', 'Available'])\n",
    "\n",
    "filtered_combined_df.head()"
   ]
  },
  {
   "cell_type": "code",
   "execution_count": 17,
   "id": "050426c8",
   "metadata": {
    "scrolled": true
   },
   "outputs": [
    {
     "data": {
      "text/html": [
       "<div>\n",
       "<style scoped>\n",
       "    .dataframe tbody tr th:only-of-type {\n",
       "        vertical-align: middle;\n",
       "    }\n",
       "\n",
       "    .dataframe tbody tr th {\n",
       "        vertical-align: top;\n",
       "    }\n",
       "\n",
       "    .dataframe thead th {\n",
       "        text-align: right;\n",
       "    }\n",
       "</style>\n",
       "<table border=\"1\" class=\"dataframe\">\n",
       "  <thead>\n",
       "    <tr style=\"text-align: right;\">\n",
       "      <th></th>\n",
       "      <th>Name</th>\n",
       "      <th>Address</th>\n",
       "      <th>Latitude</th>\n",
       "      <th>Longitude</th>\n",
       "      <th>Cost_per_Unit</th>\n",
       "      <th>Distance</th>\n",
       "      <th>Available</th>\n",
       "    </tr>\n",
       "  </thead>\n",
       "  <tbody>\n",
       "    <tr>\n",
       "      <th>0</th>\n",
       "      <td>EESL</td>\n",
       "      <td>Outside Chelmsford Club/ Opposite CSIR Buildin...</td>\n",
       "      <td>28.618177</td>\n",
       "      <td>77.212590</td>\n",
       "      <td>9.5</td>\n",
       "      <td>2.68</td>\n",
       "      <td>2</td>\n",
       "    </tr>\n",
       "    <tr>\n",
       "      <th>1</th>\n",
       "      <td>REVOS</td>\n",
       "      <td>E -12, ground floor, Lajpat Nagar 1, New Delhi...</td>\n",
       "      <td>28.573348</td>\n",
       "      <td>77.237225</td>\n",
       "      <td>10.0</td>\n",
       "      <td>2.85</td>\n",
       "      <td>1</td>\n",
       "    </tr>\n",
       "    <tr>\n",
       "      <th>2</th>\n",
       "      <td>REVOS</td>\n",
       "      <td>E -12, ground floor, Lajpat Nagar 1, New Delhi...</td>\n",
       "      <td>28.573348</td>\n",
       "      <td>77.237225</td>\n",
       "      <td>10.0</td>\n",
       "      <td>2.85</td>\n",
       "      <td>1</td>\n",
       "    </tr>\n",
       "    <tr>\n",
       "      <th>3</th>\n",
       "      <td>REVOS</td>\n",
       "      <td>B215 lagpat nagar delhi</td>\n",
       "      <td>28.574852</td>\n",
       "      <td>77.241118</td>\n",
       "      <td>10.0</td>\n",
       "      <td>2.87</td>\n",
       "      <td>1</td>\n",
       "    </tr>\n",
       "    <tr>\n",
       "      <th>4</th>\n",
       "      <td>REVOS</td>\n",
       "      <td>B 215 Lajpat Nagar Delhi</td>\n",
       "      <td>28.575134</td>\n",
       "      <td>77.238969</td>\n",
       "      <td>10.0</td>\n",
       "      <td>2.74</td>\n",
       "      <td>1</td>\n",
       "    </tr>\n",
       "    <tr>\n",
       "      <th>5</th>\n",
       "      <td>REVOS</td>\n",
       "      <td>prem nagar near tyagraj stadium tyagraj park</td>\n",
       "      <td>28.579142</td>\n",
       "      <td>77.215722</td>\n",
       "      <td>10.0</td>\n",
       "      <td>2.26</td>\n",
       "      <td>1</td>\n",
       "    </tr>\n",
       "    <tr>\n",
       "      <th>6</th>\n",
       "      <td>REVOS</td>\n",
       "      <td>near mother dairy nizamuddin railway station</td>\n",
       "      <td>28.588216</td>\n",
       "      <td>77.255175</td>\n",
       "      <td>10.0</td>\n",
       "      <td>2.99</td>\n",
       "      <td>1</td>\n",
       "    </tr>\n",
       "    <tr>\n",
       "      <th>7</th>\n",
       "      <td>REVOS</td>\n",
       "      <td>a 111 3 sukhdev makrket kotla Mubarakpur</td>\n",
       "      <td>28.574880</td>\n",
       "      <td>77.227579</td>\n",
       "      <td>10.0</td>\n",
       "      <td>2.48</td>\n",
       "      <td>1</td>\n",
       "    </tr>\n",
       "    <tr>\n",
       "      <th>8</th>\n",
       "      <td>REVOS</td>\n",
       "      <td>A753/1, sukhdev Market, Kotla Mubarakpur</td>\n",
       "      <td>28.574847</td>\n",
       "      <td>77.227747</td>\n",
       "      <td>10.0</td>\n",
       "      <td>2.49</td>\n",
       "      <td>1</td>\n",
       "    </tr>\n",
       "    <tr>\n",
       "      <th>9</th>\n",
       "      <td>REVOS</td>\n",
       "      <td>808 Sukh Dev market kotla Mubarakpur new delhi</td>\n",
       "      <td>28.574992</td>\n",
       "      <td>77.228454</td>\n",
       "      <td>10.0</td>\n",
       "      <td>2.48</td>\n",
       "      <td>1</td>\n",
       "    </tr>\n",
       "    <tr>\n",
       "      <th>10</th>\n",
       "      <td>REVOS</td>\n",
       "      <td>A-181/6 sukhdev nagar kotla Mubarakpur new delhi</td>\n",
       "      <td>28.574207</td>\n",
       "      <td>77.228207</td>\n",
       "      <td>10.0</td>\n",
       "      <td>2.56</td>\n",
       "      <td>1</td>\n",
       "    </tr>\n",
       "    <tr>\n",
       "      <th>11</th>\n",
       "      <td>REVOS</td>\n",
       "      <td>LAXMAN CHAMBER SHOP NO 6  BHOGAL ROAD JAUNGPURA</td>\n",
       "      <td>28.584462</td>\n",
       "      <td>77.247862</td>\n",
       "      <td>10.0</td>\n",
       "      <td>2.54</td>\n",
       "      <td>1</td>\n",
       "    </tr>\n",
       "    <tr>\n",
       "      <th>12</th>\n",
       "      <td>REVOS</td>\n",
       "      <td>C84 A LAJPAT NAGAR</td>\n",
       "      <td>28.577116</td>\n",
       "      <td>77.239365</td>\n",
       "      <td>10.0</td>\n",
       "      <td>2.57</td>\n",
       "      <td>1</td>\n",
       "    </tr>\n",
       "    <tr>\n",
       "      <th>13</th>\n",
       "      <td>EESL Prithviraj Mark</td>\n",
       "      <td>NDMC Parking, Prithviraj Market, Prithviraj Ln...</td>\n",
       "      <td>28.600735</td>\n",
       "      <td>77.226277</td>\n",
       "      <td>10.0</td>\n",
       "      <td>0.39</td>\n",
       "      <td>1</td>\n",
       "    </tr>\n",
       "    <tr>\n",
       "      <th>14</th>\n",
       "      <td>EESL Jor Bagh Market</td>\n",
       "      <td>NDMC Parking, Outside RWA Park, Jor Bagh Marke...</td>\n",
       "      <td>28.588117</td>\n",
       "      <td>77.217564</td>\n",
       "      <td>10.0</td>\n",
       "      <td>1.33</td>\n",
       "      <td>1</td>\n",
       "    </tr>\n",
       "    <tr>\n",
       "      <th>15</th>\n",
       "      <td>EESL Khanna Market 1</td>\n",
       "      <td>NDMC Parking, Opposite Goel Opticals, Khanna M...</td>\n",
       "      <td>28.580532</td>\n",
       "      <td>77.221048</td>\n",
       "      <td>10.0</td>\n",
       "      <td>1.92</td>\n",
       "      <td>1</td>\n",
       "    </tr>\n",
       "    <tr>\n",
       "      <th>16</th>\n",
       "      <td>EESL Khanna Market 2</td>\n",
       "      <td>NDMC Parking, Opposite Dory Pharmacy, Khanna M...</td>\n",
       "      <td>28.584365</td>\n",
       "      <td>77.220540</td>\n",
       "      <td>10.0</td>\n",
       "      <td>1.54</td>\n",
       "      <td>1</td>\n",
       "    </tr>\n",
       "    <tr>\n",
       "      <th>17</th>\n",
       "      <td>EESL Oriental Bank</td>\n",
       "      <td>NDMC Parking,  Outside Oriental Bank, Radial R...</td>\n",
       "      <td>28.600152</td>\n",
       "      <td>77.215762</td>\n",
       "      <td>10.0</td>\n",
       "      <td>1.08</td>\n",
       "      <td>1</td>\n",
       "    </tr>\n",
       "    <tr>\n",
       "      <th>18</th>\n",
       "      <td>EESL Hotel Claridges</td>\n",
       "      <td>NDMC Parking,  Side of Hotel Claridges,  Tees ...</td>\n",
       "      <td>28.600234</td>\n",
       "      <td>77.213530</td>\n",
       "      <td>10.0</td>\n",
       "      <td>1.30</td>\n",
       "      <td>1</td>\n",
       "    </tr>\n",
       "    <tr>\n",
       "      <th>19</th>\n",
       "      <td>EESL Lodhi Garden</td>\n",
       "      <td>NDMC Parking,  Gate No. 1, Lodhi Gardens, Lodh...</td>\n",
       "      <td>28.590311</td>\n",
       "      <td>77.220163</td>\n",
       "      <td>10.0</td>\n",
       "      <td>0.98</td>\n",
       "      <td>1</td>\n",
       "    </tr>\n",
       "    <tr>\n",
       "      <th>20</th>\n",
       "      <td>EESL Chelmsford Club</td>\n",
       "      <td>Outside Chelmsford Club/ Opposite CSIR Buildin...</td>\n",
       "      <td>28.618177</td>\n",
       "      <td>77.212590</td>\n",
       "      <td>19.0</td>\n",
       "      <td>2.68</td>\n",
       "      <td>4</td>\n",
       "    </tr>\n",
       "    <tr>\n",
       "      <th>21</th>\n",
       "      <td>EESL Maherchand Mark</td>\n",
       "      <td>Double Story Market, Maherchand Lodhi Road, Ne...</td>\n",
       "      <td>28.581077</td>\n",
       "      <td>77.227199</td>\n",
       "      <td>19.0</td>\n",
       "      <td>1.79</td>\n",
       "      <td>2</td>\n",
       "    </tr>\n",
       "    <tr>\n",
       "      <th>22</th>\n",
       "      <td>EESL Khan Market</td>\n",
       "      <td>NDMC Parking, Khan Market, New Delhi, 110003</td>\n",
       "      <td>28.600324</td>\n",
       "      <td>77.226883</td>\n",
       "      <td>10.0</td>\n",
       "      <td>0.34</td>\n",
       "      <td>2</td>\n",
       "    </tr>\n",
       "  </tbody>\n",
       "</table>\n",
       "</div>"
      ],
      "text/plain": [
       "                    Name                                            Address  \\\n",
       "0                   EESL  Outside Chelmsford Club/ Opposite CSIR Buildin...   \n",
       "1                  REVOS  E -12, ground floor, Lajpat Nagar 1, New Delhi...   \n",
       "2                  REVOS  E -12, ground floor, Lajpat Nagar 1, New Delhi...   \n",
       "3                  REVOS                            B215 lagpat nagar delhi   \n",
       "4                  REVOS                           B 215 Lajpat Nagar Delhi   \n",
       "5                  REVOS      prem nagar near tyagraj stadium tyagraj park    \n",
       "6                  REVOS      near mother dairy nizamuddin railway station    \n",
       "7                  REVOS          a 111 3 sukhdev makrket kotla Mubarakpur    \n",
       "8                  REVOS           A753/1, sukhdev Market, Kotla Mubarakpur   \n",
       "9                  REVOS    808 Sukh Dev market kotla Mubarakpur new delhi    \n",
       "10                 REVOS   A-181/6 sukhdev nagar kotla Mubarakpur new delhi   \n",
       "11                 REVOS    LAXMAN CHAMBER SHOP NO 6  BHOGAL ROAD JAUNGPURA   \n",
       "12                 REVOS                                 C84 A LAJPAT NAGAR   \n",
       "13  EESL Prithviraj Mark  NDMC Parking, Prithviraj Market, Prithviraj Ln...   \n",
       "14  EESL Jor Bagh Market  NDMC Parking, Outside RWA Park, Jor Bagh Marke...   \n",
       "15  EESL Khanna Market 1  NDMC Parking, Opposite Goel Opticals, Khanna M...   \n",
       "16  EESL Khanna Market 2  NDMC Parking, Opposite Dory Pharmacy, Khanna M...   \n",
       "17    EESL Oriental Bank  NDMC Parking,  Outside Oriental Bank, Radial R...   \n",
       "18  EESL Hotel Claridges  NDMC Parking,  Side of Hotel Claridges,  Tees ...   \n",
       "19     EESL Lodhi Garden  NDMC Parking,  Gate No. 1, Lodhi Gardens, Lodh...   \n",
       "20  EESL Chelmsford Club  Outside Chelmsford Club/ Opposite CSIR Buildin...   \n",
       "21  EESL Maherchand Mark  Double Story Market, Maherchand Lodhi Road, Ne...   \n",
       "22      EESL Khan Market       NDMC Parking, Khan Market, New Delhi, 110003   \n",
       "\n",
       "     Latitude  Longitude  Cost_per_Unit  Distance  Available  \n",
       "0   28.618177  77.212590            9.5      2.68          2  \n",
       "1   28.573348  77.237225           10.0      2.85          1  \n",
       "2   28.573348  77.237225           10.0      2.85          1  \n",
       "3   28.574852  77.241118           10.0      2.87          1  \n",
       "4   28.575134  77.238969           10.0      2.74          1  \n",
       "5   28.579142  77.215722           10.0      2.26          1  \n",
       "6   28.588216  77.255175           10.0      2.99          1  \n",
       "7   28.574880  77.227579           10.0      2.48          1  \n",
       "8   28.574847  77.227747           10.0      2.49          1  \n",
       "9   28.574992  77.228454           10.0      2.48          1  \n",
       "10  28.574207  77.228207           10.0      2.56          1  \n",
       "11  28.584462  77.247862           10.0      2.54          1  \n",
       "12  28.577116  77.239365           10.0      2.57          1  \n",
       "13  28.600735  77.226277           10.0      0.39          1  \n",
       "14  28.588117  77.217564           10.0      1.33          1  \n",
       "15  28.580532  77.221048           10.0      1.92          1  \n",
       "16  28.584365  77.220540           10.0      1.54          1  \n",
       "17  28.600152  77.215762           10.0      1.08          1  \n",
       "18  28.600234  77.213530           10.0      1.30          1  \n",
       "19  28.590311  77.220163           10.0      0.98          1  \n",
       "20  28.618177  77.212590           19.0      2.68          4  \n",
       "21  28.581077  77.227199           19.0      1.79          2  \n",
       "22  28.600324  77.226883           10.0      0.34          2  "
      ]
     },
     "execution_count": 17,
     "metadata": {},
     "output_type": "execute_result"
    }
   ],
   "source": [
    "filtered_combined_df"
   ]
  },
  {
   "cell_type": "markdown",
   "id": "fc00d1e9",
   "metadata": {},
   "source": [
    "#### Show the number of acceptable stations"
   ]
  },
  {
   "cell_type": "code",
   "execution_count": 18,
   "id": "26dbff93",
   "metadata": {},
   "outputs": [
    {
     "name": "stdout",
     "output_type": "stream",
     "text": [
      "The number of accepted stations: 37 \n"
     ]
    }
   ],
   "source": [
    "filtered_distance_df.shape\n",
    "print(f\"The number of accepted stations: {len(filtered_distance_df)} \")"
   ]
  },
  {
   "cell_type": "markdown",
   "id": "d81a3f44",
   "metadata": {},
   "source": [
    "#### Display the stations on map"
   ]
  },
  {
   "cell_type": "code",
   "execution_count": 19,
   "id": "382e03fd",
   "metadata": {},
   "outputs": [
    {
     "data": {
      "application/vnd.plotly.v1+json": {
       "config": {
        "plotlyServerURL": "https://plot.ly"
       },
       "data": [
        {
         "hoverinfo": "text",
         "lat": [
          28.59725
         ],
         "lon": [
          77.22635
         ],
         "marker": {
          "color": "red",
          "size": 15
         },
         "mode": "markers",
         "name": "Reference Point",
         "text": "<b>Reference Point</b>",
         "type": "scattermapbox"
        },
        {
         "hoverinfo": "text",
         "lat": [
          28.61817712,
          28.5733477,
          28.5733477,
          28.57485225910045,
          28.57513403507146,
          28.57914153198751,
          28.58821620653066,
          28.57487993618849,
          28.57484695923171,
          28.57499241108842,
          28.57420714533633,
          28.58446195410766,
          28.57711557309058,
          28.600735,
          28.588117,
          28.580532,
          28.584365,
          28.6001517,
          28.600234,
          28.59031055,
          28.61817712,
          28.58107736,
          28.600324
         ],
         "lon": [
          77.21258998,
          77.2372255,
          77.2372255,
          77.24111828953028,
          77.23896883428097,
          77.21572246402503,
          77.25517507642508,
          77.22757916897535,
          77.22774747759104,
          77.22845423966646,
          77.22820714116096,
          77.24786203354597,
          77.23936513066292,
          77.226277,
          77.217564,
          77.221048,
          77.22054,
          77.2157617,
          77.2135299,
          77.2201632,
          77.21258998,
          77.22719863,
          77.226883
         ],
         "marker": {
          "color": "blue",
          "size": 10
         },
         "mode": "markers",
         "name": "Stations",
         "text": [
          "EESL<br>Outside Chelmsford Club/ Opposite CSIR Building, Rafi Marg, Sansad Marg Area, New Delhi 110001",
          "REVOS<br>E -12, ground floor, Lajpat Nagar 1, New Delhi 110024",
          "REVOS<br>E -12, ground floor, Lajpat Nagar 1, New Delhi 110024",
          "REVOS<br>B215 lagpat nagar delhi",
          "REVOS<br>B 215 Lajpat Nagar Delhi",
          "REVOS<br>prem nagar near tyagraj stadium tyagraj park ",
          "REVOS<br>near mother dairy nizamuddin railway station ",
          "REVOS<br>a 111 3 sukhdev makrket kotla Mubarakpur ",
          "REVOS<br>A753/1, sukhdev Market, Kotla Mubarakpur",
          "REVOS<br>808 Sukh Dev market kotla Mubarakpur new delhi ",
          "REVOS<br>A-181/6 sukhdev nagar kotla Mubarakpur new delhi",
          "REVOS<br>LAXMAN CHAMBER SHOP NO 6  BHOGAL ROAD JAUNGPURA",
          "REVOS<br>C84 A LAJPAT NAGAR",
          "EESL Prithviraj Mark<br>NDMC Parking, Prithviraj Market, Prithviraj Ln, New Delhi, Delhi- 110003",
          "EESL Jor Bagh Market<br>NDMC Parking, Outside RWA Park, Jor Bagh Market,  Jor Bagh Colony Road, New Delhi- 110003",
          "EESL Khanna Market 1<br>NDMC Parking, Opposite Goel Opticals, Khanna Market, Aliganj, Lodhi Colony, New Delhi- 110003",
          "EESL Khanna Market 2<br>NDMC Parking, Opposite Dory Pharmacy, Khanna Market, Aliganj, Lodhi Colony, New Delhi- 110003",
          "EESL Oriental Bank<br>NDMC Parking,  Outside Oriental Bank, Radial Road No. 7,  Block M, Middle Circe, Connaught Place,",
          "EESL Hotel Claridges<br>NDMC Parking,  Side of Hotel Claridges,  Tees January Marg,  Dr. APJ Abdul Kalam Road,  New Delhi-",
          "EESL Lodhi Garden<br>NDMC Parking,  Gate No. 1, Lodhi Gardens, Lodhi Estate, Lodhi Road,  New Delhi-  110003",
          "EESL Chelmsford Club<br>Outside Chelmsford Club/ Opposite CSIR Building, Rafi Marg, Sansad Marg Area, New Delhi 110001",
          "EESL Maherchand Mark<br>Double Story Market, Maherchand Lodhi Road, New Delhi - 110003",
          "EESL Khan Market<br>NDMC Parking, Khan Market, New Delhi, 110003"
         ],
         "type": "scattermapbox"
        }
       ],
       "layout": {
        "height": 600,
        "mapbox": {
         "center": {
          "lat": 28.59725,
          "lon": 77.22635
         },
         "style": "open-street-map",
         "zoom": 12
        },
        "template": {
         "data": {
          "bar": [
           {
            "error_x": {
             "color": "#2a3f5f"
            },
            "error_y": {
             "color": "#2a3f5f"
            },
            "marker": {
             "line": {
              "color": "#E5ECF6",
              "width": 0.5
             },
             "pattern": {
              "fillmode": "overlay",
              "size": 10,
              "solidity": 0.2
             }
            },
            "type": "bar"
           }
          ],
          "barpolar": [
           {
            "marker": {
             "line": {
              "color": "#E5ECF6",
              "width": 0.5
             },
             "pattern": {
              "fillmode": "overlay",
              "size": 10,
              "solidity": 0.2
             }
            },
            "type": "barpolar"
           }
          ],
          "carpet": [
           {
            "aaxis": {
             "endlinecolor": "#2a3f5f",
             "gridcolor": "white",
             "linecolor": "white",
             "minorgridcolor": "white",
             "startlinecolor": "#2a3f5f"
            },
            "baxis": {
             "endlinecolor": "#2a3f5f",
             "gridcolor": "white",
             "linecolor": "white",
             "minorgridcolor": "white",
             "startlinecolor": "#2a3f5f"
            },
            "type": "carpet"
           }
          ],
          "choropleth": [
           {
            "colorbar": {
             "outlinewidth": 0,
             "ticks": ""
            },
            "type": "choropleth"
           }
          ],
          "contour": [
           {
            "colorbar": {
             "outlinewidth": 0,
             "ticks": ""
            },
            "colorscale": [
             [
              0,
              "#0d0887"
             ],
             [
              0.1111111111111111,
              "#46039f"
             ],
             [
              0.2222222222222222,
              "#7201a8"
             ],
             [
              0.3333333333333333,
              "#9c179e"
             ],
             [
              0.4444444444444444,
              "#bd3786"
             ],
             [
              0.5555555555555556,
              "#d8576b"
             ],
             [
              0.6666666666666666,
              "#ed7953"
             ],
             [
              0.7777777777777778,
              "#fb9f3a"
             ],
             [
              0.8888888888888888,
              "#fdca26"
             ],
             [
              1,
              "#f0f921"
             ]
            ],
            "type": "contour"
           }
          ],
          "contourcarpet": [
           {
            "colorbar": {
             "outlinewidth": 0,
             "ticks": ""
            },
            "type": "contourcarpet"
           }
          ],
          "heatmap": [
           {
            "colorbar": {
             "outlinewidth": 0,
             "ticks": ""
            },
            "colorscale": [
             [
              0,
              "#0d0887"
             ],
             [
              0.1111111111111111,
              "#46039f"
             ],
             [
              0.2222222222222222,
              "#7201a8"
             ],
             [
              0.3333333333333333,
              "#9c179e"
             ],
             [
              0.4444444444444444,
              "#bd3786"
             ],
             [
              0.5555555555555556,
              "#d8576b"
             ],
             [
              0.6666666666666666,
              "#ed7953"
             ],
             [
              0.7777777777777778,
              "#fb9f3a"
             ],
             [
              0.8888888888888888,
              "#fdca26"
             ],
             [
              1,
              "#f0f921"
             ]
            ],
            "type": "heatmap"
           }
          ],
          "heatmapgl": [
           {
            "colorbar": {
             "outlinewidth": 0,
             "ticks": ""
            },
            "colorscale": [
             [
              0,
              "#0d0887"
             ],
             [
              0.1111111111111111,
              "#46039f"
             ],
             [
              0.2222222222222222,
              "#7201a8"
             ],
             [
              0.3333333333333333,
              "#9c179e"
             ],
             [
              0.4444444444444444,
              "#bd3786"
             ],
             [
              0.5555555555555556,
              "#d8576b"
             ],
             [
              0.6666666666666666,
              "#ed7953"
             ],
             [
              0.7777777777777778,
              "#fb9f3a"
             ],
             [
              0.8888888888888888,
              "#fdca26"
             ],
             [
              1,
              "#f0f921"
             ]
            ],
            "type": "heatmapgl"
           }
          ],
          "histogram": [
           {
            "marker": {
             "pattern": {
              "fillmode": "overlay",
              "size": 10,
              "solidity": 0.2
             }
            },
            "type": "histogram"
           }
          ],
          "histogram2d": [
           {
            "colorbar": {
             "outlinewidth": 0,
             "ticks": ""
            },
            "colorscale": [
             [
              0,
              "#0d0887"
             ],
             [
              0.1111111111111111,
              "#46039f"
             ],
             [
              0.2222222222222222,
              "#7201a8"
             ],
             [
              0.3333333333333333,
              "#9c179e"
             ],
             [
              0.4444444444444444,
              "#bd3786"
             ],
             [
              0.5555555555555556,
              "#d8576b"
             ],
             [
              0.6666666666666666,
              "#ed7953"
             ],
             [
              0.7777777777777778,
              "#fb9f3a"
             ],
             [
              0.8888888888888888,
              "#fdca26"
             ],
             [
              1,
              "#f0f921"
             ]
            ],
            "type": "histogram2d"
           }
          ],
          "histogram2dcontour": [
           {
            "colorbar": {
             "outlinewidth": 0,
             "ticks": ""
            },
            "colorscale": [
             [
              0,
              "#0d0887"
             ],
             [
              0.1111111111111111,
              "#46039f"
             ],
             [
              0.2222222222222222,
              "#7201a8"
             ],
             [
              0.3333333333333333,
              "#9c179e"
             ],
             [
              0.4444444444444444,
              "#bd3786"
             ],
             [
              0.5555555555555556,
              "#d8576b"
             ],
             [
              0.6666666666666666,
              "#ed7953"
             ],
             [
              0.7777777777777778,
              "#fb9f3a"
             ],
             [
              0.8888888888888888,
              "#fdca26"
             ],
             [
              1,
              "#f0f921"
             ]
            ],
            "type": "histogram2dcontour"
           }
          ],
          "mesh3d": [
           {
            "colorbar": {
             "outlinewidth": 0,
             "ticks": ""
            },
            "type": "mesh3d"
           }
          ],
          "parcoords": [
           {
            "line": {
             "colorbar": {
              "outlinewidth": 0,
              "ticks": ""
             }
            },
            "type": "parcoords"
           }
          ],
          "pie": [
           {
            "automargin": true,
            "type": "pie"
           }
          ],
          "scatter": [
           {
            "fillpattern": {
             "fillmode": "overlay",
             "size": 10,
             "solidity": 0.2
            },
            "type": "scatter"
           }
          ],
          "scatter3d": [
           {
            "line": {
             "colorbar": {
              "outlinewidth": 0,
              "ticks": ""
             }
            },
            "marker": {
             "colorbar": {
              "outlinewidth": 0,
              "ticks": ""
             }
            },
            "type": "scatter3d"
           }
          ],
          "scattercarpet": [
           {
            "marker": {
             "colorbar": {
              "outlinewidth": 0,
              "ticks": ""
             }
            },
            "type": "scattercarpet"
           }
          ],
          "scattergeo": [
           {
            "marker": {
             "colorbar": {
              "outlinewidth": 0,
              "ticks": ""
             }
            },
            "type": "scattergeo"
           }
          ],
          "scattergl": [
           {
            "marker": {
             "colorbar": {
              "outlinewidth": 0,
              "ticks": ""
             }
            },
            "type": "scattergl"
           }
          ],
          "scattermapbox": [
           {
            "marker": {
             "colorbar": {
              "outlinewidth": 0,
              "ticks": ""
             }
            },
            "type": "scattermapbox"
           }
          ],
          "scatterpolar": [
           {
            "marker": {
             "colorbar": {
              "outlinewidth": 0,
              "ticks": ""
             }
            },
            "type": "scatterpolar"
           }
          ],
          "scatterpolargl": [
           {
            "marker": {
             "colorbar": {
              "outlinewidth": 0,
              "ticks": ""
             }
            },
            "type": "scatterpolargl"
           }
          ],
          "scatterternary": [
           {
            "marker": {
             "colorbar": {
              "outlinewidth": 0,
              "ticks": ""
             }
            },
            "type": "scatterternary"
           }
          ],
          "surface": [
           {
            "colorbar": {
             "outlinewidth": 0,
             "ticks": ""
            },
            "colorscale": [
             [
              0,
              "#0d0887"
             ],
             [
              0.1111111111111111,
              "#46039f"
             ],
             [
              0.2222222222222222,
              "#7201a8"
             ],
             [
              0.3333333333333333,
              "#9c179e"
             ],
             [
              0.4444444444444444,
              "#bd3786"
             ],
             [
              0.5555555555555556,
              "#d8576b"
             ],
             [
              0.6666666666666666,
              "#ed7953"
             ],
             [
              0.7777777777777778,
              "#fb9f3a"
             ],
             [
              0.8888888888888888,
              "#fdca26"
             ],
             [
              1,
              "#f0f921"
             ]
            ],
            "type": "surface"
           }
          ],
          "table": [
           {
            "cells": {
             "fill": {
              "color": "#EBF0F8"
             },
             "line": {
              "color": "white"
             }
            },
            "header": {
             "fill": {
              "color": "#C8D4E3"
             },
             "line": {
              "color": "white"
             }
            },
            "type": "table"
           }
          ]
         },
         "layout": {
          "annotationdefaults": {
           "arrowcolor": "#2a3f5f",
           "arrowhead": 0,
           "arrowwidth": 1
          },
          "autotypenumbers": "strict",
          "coloraxis": {
           "colorbar": {
            "outlinewidth": 0,
            "ticks": ""
           }
          },
          "colorscale": {
           "diverging": [
            [
             0,
             "#8e0152"
            ],
            [
             0.1,
             "#c51b7d"
            ],
            [
             0.2,
             "#de77ae"
            ],
            [
             0.3,
             "#f1b6da"
            ],
            [
             0.4,
             "#fde0ef"
            ],
            [
             0.5,
             "#f7f7f7"
            ],
            [
             0.6,
             "#e6f5d0"
            ],
            [
             0.7,
             "#b8e186"
            ],
            [
             0.8,
             "#7fbc41"
            ],
            [
             0.9,
             "#4d9221"
            ],
            [
             1,
             "#276419"
            ]
           ],
           "sequential": [
            [
             0,
             "#0d0887"
            ],
            [
             0.1111111111111111,
             "#46039f"
            ],
            [
             0.2222222222222222,
             "#7201a8"
            ],
            [
             0.3333333333333333,
             "#9c179e"
            ],
            [
             0.4444444444444444,
             "#bd3786"
            ],
            [
             0.5555555555555556,
             "#d8576b"
            ],
            [
             0.6666666666666666,
             "#ed7953"
            ],
            [
             0.7777777777777778,
             "#fb9f3a"
            ],
            [
             0.8888888888888888,
             "#fdca26"
            ],
            [
             1,
             "#f0f921"
            ]
           ],
           "sequentialminus": [
            [
             0,
             "#0d0887"
            ],
            [
             0.1111111111111111,
             "#46039f"
            ],
            [
             0.2222222222222222,
             "#7201a8"
            ],
            [
             0.3333333333333333,
             "#9c179e"
            ],
            [
             0.4444444444444444,
             "#bd3786"
            ],
            [
             0.5555555555555556,
             "#d8576b"
            ],
            [
             0.6666666666666666,
             "#ed7953"
            ],
            [
             0.7777777777777778,
             "#fb9f3a"
            ],
            [
             0.8888888888888888,
             "#fdca26"
            ],
            [
             1,
             "#f0f921"
            ]
           ]
          },
          "colorway": [
           "#636efa",
           "#EF553B",
           "#00cc96",
           "#ab63fa",
           "#FFA15A",
           "#19d3f3",
           "#FF6692",
           "#B6E880",
           "#FF97FF",
           "#FECB52"
          ],
          "font": {
           "color": "#2a3f5f"
          },
          "geo": {
           "bgcolor": "white",
           "lakecolor": "white",
           "landcolor": "#E5ECF6",
           "showlakes": true,
           "showland": true,
           "subunitcolor": "white"
          },
          "hoverlabel": {
           "align": "left"
          },
          "hovermode": "closest",
          "mapbox": {
           "style": "light"
          },
          "paper_bgcolor": "white",
          "plot_bgcolor": "#E5ECF6",
          "polar": {
           "angularaxis": {
            "gridcolor": "white",
            "linecolor": "white",
            "ticks": ""
           },
           "bgcolor": "#E5ECF6",
           "radialaxis": {
            "gridcolor": "white",
            "linecolor": "white",
            "ticks": ""
           }
          },
          "scene": {
           "xaxis": {
            "backgroundcolor": "#E5ECF6",
            "gridcolor": "white",
            "gridwidth": 2,
            "linecolor": "white",
            "showbackground": true,
            "ticks": "",
            "zerolinecolor": "white"
           },
           "yaxis": {
            "backgroundcolor": "#E5ECF6",
            "gridcolor": "white",
            "gridwidth": 2,
            "linecolor": "white",
            "showbackground": true,
            "ticks": "",
            "zerolinecolor": "white"
           },
           "zaxis": {
            "backgroundcolor": "#E5ECF6",
            "gridcolor": "white",
            "gridwidth": 2,
            "linecolor": "white",
            "showbackground": true,
            "ticks": "",
            "zerolinecolor": "white"
           }
          },
          "shapedefaults": {
           "line": {
            "color": "#2a3f5f"
           }
          },
          "ternary": {
           "aaxis": {
            "gridcolor": "white",
            "linecolor": "white",
            "ticks": ""
           },
           "baxis": {
            "gridcolor": "white",
            "linecolor": "white",
            "ticks": ""
           },
           "bgcolor": "#E5ECF6",
           "caxis": {
            "gridcolor": "white",
            "linecolor": "white",
            "ticks": ""
           }
          },
          "title": {
           "x": 0.05
          },
          "xaxis": {
           "automargin": true,
           "gridcolor": "white",
           "linecolor": "white",
           "ticks": "",
           "title": {
            "standoff": 15
           },
           "zerolinecolor": "white",
           "zerolinewidth": 2
          },
          "yaxis": {
           "automargin": true,
           "gridcolor": "white",
           "linecolor": "white",
           "ticks": "",
           "title": {
            "standoff": 15
           },
           "zerolinecolor": "white",
           "zerolinewidth": 2
          }
         }
        },
        "title": {
         "text": "Map of Chosen Stations and Reference Point",
         "x": 0.5
        }
       }
      },
      "text/html": [
       "<div>                            <div id=\"e8fe419a-ec47-4173-bacd-49dfc83443db\" class=\"plotly-graph-div\" style=\"height:600px; width:100%;\"></div>            <script type=\"text/javascript\">                require([\"plotly\"], function(Plotly) {                    window.PLOTLYENV=window.PLOTLYENV || {};                                    if (document.getElementById(\"e8fe419a-ec47-4173-bacd-49dfc83443db\")) {                    Plotly.newPlot(                        \"e8fe419a-ec47-4173-bacd-49dfc83443db\",                        [{\"hoverinfo\":\"text\",\"lat\":[28.59725],\"lon\":[77.22635],\"marker\":{\"color\":\"red\",\"size\":15},\"mode\":\"markers\",\"name\":\"Reference Point\",\"text\":\"<b>Reference Point</b>\",\"type\":\"scattermapbox\"},{\"hoverinfo\":\"text\",\"lat\":[28.61817712,28.5733477,28.5733477,28.57485225910045,28.57513403507146,28.57914153198751,28.58821620653066,28.57487993618849,28.57484695923171,28.57499241108842,28.57420714533633,28.58446195410766,28.57711557309058,28.600735,28.588117,28.580532,28.584365,28.6001517,28.600234,28.59031055,28.61817712,28.58107736,28.600324],\"lon\":[77.21258998,77.2372255,77.2372255,77.24111828953028,77.23896883428097,77.21572246402503,77.25517507642508,77.22757916897535,77.22774747759104,77.22845423966646,77.22820714116096,77.24786203354597,77.23936513066292,77.226277,77.217564,77.221048,77.22054,77.2157617,77.2135299,77.2201632,77.21258998,77.22719863,77.226883],\"marker\":{\"color\":\"blue\",\"size\":10},\"mode\":\"markers\",\"name\":\"Stations\",\"text\":[\"EESL<br>Outside Chelmsford Club/ Opposite CSIR Building, Rafi Marg, Sansad Marg Area, New Delhi 110001\",\"REVOS<br>E -12, ground floor, Lajpat Nagar 1, New Delhi 110024\",\"REVOS<br>E -12, ground floor, Lajpat Nagar 1, New Delhi 110024\",\"REVOS<br>B215 lagpat nagar delhi\",\"REVOS<br>B 215 Lajpat Nagar Delhi\",\"REVOS<br>prem nagar near tyagraj stadium tyagraj park \",\"REVOS<br>near mother dairy nizamuddin railway station \",\"REVOS<br>a 111 3 sukhdev makrket kotla Mubarakpur \",\"REVOS<br>A753/1, sukhdev Market, Kotla Mubarakpur\",\"REVOS<br>808 Sukh Dev market kotla Mubarakpur new delhi \",\"REVOS<br>A-181/6 sukhdev nagar kotla Mubarakpur new delhi\",\"REVOS<br>LAXMAN CHAMBER SHOP NO 6  BHOGAL ROAD JAUNGPURA\",\"REVOS<br>C84 A LAJPAT NAGAR\",\"EESL Prithviraj Mark<br>NDMC Parking, Prithviraj Market, Prithviraj Ln, New Delhi, Delhi- 110003\",\"EESL Jor Bagh Market<br>NDMC Parking, Outside RWA Park, Jor Bagh Market,  Jor Bagh Colony Road, New Delhi- 110003\",\"EESL Khanna Market 1<br>NDMC Parking, Opposite Goel Opticals, Khanna Market, Aliganj, Lodhi Colony, New Delhi- 110003\",\"EESL Khanna Market 2<br>NDMC Parking, Opposite Dory Pharmacy, Khanna Market, Aliganj, Lodhi Colony, New Delhi- 110003\",\"EESL Oriental Bank<br>NDMC Parking,  Outside Oriental Bank, Radial Road No. 7,  Block M, Middle Circe, Connaught Place,\",\"EESL Hotel Claridges<br>NDMC Parking,  Side of Hotel Claridges,  Tees January Marg,  Dr. APJ Abdul Kalam Road,  New Delhi-\",\"EESL Lodhi Garden<br>NDMC Parking,  Gate No. 1, Lodhi Gardens, Lodhi Estate, Lodhi Road,  New Delhi-  110003\",\"EESL Chelmsford Club<br>Outside Chelmsford Club/ Opposite CSIR Building, Rafi Marg, Sansad Marg Area, New Delhi 110001\",\"EESL Maherchand Mark<br>Double Story Market, Maherchand Lodhi Road, New Delhi - 110003\",\"EESL Khan Market<br>NDMC Parking, Khan Market, New Delhi, 110003\"],\"type\":\"scattermapbox\"}],                        {\"template\":{\"data\":{\"histogram2dcontour\":[{\"type\":\"histogram2dcontour\",\"colorbar\":{\"outlinewidth\":0,\"ticks\":\"\"},\"colorscale\":[[0.0,\"#0d0887\"],[0.1111111111111111,\"#46039f\"],[0.2222222222222222,\"#7201a8\"],[0.3333333333333333,\"#9c179e\"],[0.4444444444444444,\"#bd3786\"],[0.5555555555555556,\"#d8576b\"],[0.6666666666666666,\"#ed7953\"],[0.7777777777777778,\"#fb9f3a\"],[0.8888888888888888,\"#fdca26\"],[1.0,\"#f0f921\"]]}],\"choropleth\":[{\"type\":\"choropleth\",\"colorbar\":{\"outlinewidth\":0,\"ticks\":\"\"}}],\"histogram2d\":[{\"type\":\"histogram2d\",\"colorbar\":{\"outlinewidth\":0,\"ticks\":\"\"},\"colorscale\":[[0.0,\"#0d0887\"],[0.1111111111111111,\"#46039f\"],[0.2222222222222222,\"#7201a8\"],[0.3333333333333333,\"#9c179e\"],[0.4444444444444444,\"#bd3786\"],[0.5555555555555556,\"#d8576b\"],[0.6666666666666666,\"#ed7953\"],[0.7777777777777778,\"#fb9f3a\"],[0.8888888888888888,\"#fdca26\"],[1.0,\"#f0f921\"]]}],\"heatmap\":[{\"type\":\"heatmap\",\"colorbar\":{\"outlinewidth\":0,\"ticks\":\"\"},\"colorscale\":[[0.0,\"#0d0887\"],[0.1111111111111111,\"#46039f\"],[0.2222222222222222,\"#7201a8\"],[0.3333333333333333,\"#9c179e\"],[0.4444444444444444,\"#bd3786\"],[0.5555555555555556,\"#d8576b\"],[0.6666666666666666,\"#ed7953\"],[0.7777777777777778,\"#fb9f3a\"],[0.8888888888888888,\"#fdca26\"],[1.0,\"#f0f921\"]]}],\"heatmapgl\":[{\"type\":\"heatmapgl\",\"colorbar\":{\"outlinewidth\":0,\"ticks\":\"\"},\"colorscale\":[[0.0,\"#0d0887\"],[0.1111111111111111,\"#46039f\"],[0.2222222222222222,\"#7201a8\"],[0.3333333333333333,\"#9c179e\"],[0.4444444444444444,\"#bd3786\"],[0.5555555555555556,\"#d8576b\"],[0.6666666666666666,\"#ed7953\"],[0.7777777777777778,\"#fb9f3a\"],[0.8888888888888888,\"#fdca26\"],[1.0,\"#f0f921\"]]}],\"contourcarpet\":[{\"type\":\"contourcarpet\",\"colorbar\":{\"outlinewidth\":0,\"ticks\":\"\"}}],\"contour\":[{\"type\":\"contour\",\"colorbar\":{\"outlinewidth\":0,\"ticks\":\"\"},\"colorscale\":[[0.0,\"#0d0887\"],[0.1111111111111111,\"#46039f\"],[0.2222222222222222,\"#7201a8\"],[0.3333333333333333,\"#9c179e\"],[0.4444444444444444,\"#bd3786\"],[0.5555555555555556,\"#d8576b\"],[0.6666666666666666,\"#ed7953\"],[0.7777777777777778,\"#fb9f3a\"],[0.8888888888888888,\"#fdca26\"],[1.0,\"#f0f921\"]]}],\"surface\":[{\"type\":\"surface\",\"colorbar\":{\"outlinewidth\":0,\"ticks\":\"\"},\"colorscale\":[[0.0,\"#0d0887\"],[0.1111111111111111,\"#46039f\"],[0.2222222222222222,\"#7201a8\"],[0.3333333333333333,\"#9c179e\"],[0.4444444444444444,\"#bd3786\"],[0.5555555555555556,\"#d8576b\"],[0.6666666666666666,\"#ed7953\"],[0.7777777777777778,\"#fb9f3a\"],[0.8888888888888888,\"#fdca26\"],[1.0,\"#f0f921\"]]}],\"mesh3d\":[{\"type\":\"mesh3d\",\"colorbar\":{\"outlinewidth\":0,\"ticks\":\"\"}}],\"scatter\":[{\"fillpattern\":{\"fillmode\":\"overlay\",\"size\":10,\"solidity\":0.2},\"type\":\"scatter\"}],\"parcoords\":[{\"type\":\"parcoords\",\"line\":{\"colorbar\":{\"outlinewidth\":0,\"ticks\":\"\"}}}],\"scatterpolargl\":[{\"type\":\"scatterpolargl\",\"marker\":{\"colorbar\":{\"outlinewidth\":0,\"ticks\":\"\"}}}],\"bar\":[{\"error_x\":{\"color\":\"#2a3f5f\"},\"error_y\":{\"color\":\"#2a3f5f\"},\"marker\":{\"line\":{\"color\":\"#E5ECF6\",\"width\":0.5},\"pattern\":{\"fillmode\":\"overlay\",\"size\":10,\"solidity\":0.2}},\"type\":\"bar\"}],\"scattergeo\":[{\"type\":\"scattergeo\",\"marker\":{\"colorbar\":{\"outlinewidth\":0,\"ticks\":\"\"}}}],\"scatterpolar\":[{\"type\":\"scatterpolar\",\"marker\":{\"colorbar\":{\"outlinewidth\":0,\"ticks\":\"\"}}}],\"histogram\":[{\"marker\":{\"pattern\":{\"fillmode\":\"overlay\",\"size\":10,\"solidity\":0.2}},\"type\":\"histogram\"}],\"scattergl\":[{\"type\":\"scattergl\",\"marker\":{\"colorbar\":{\"outlinewidth\":0,\"ticks\":\"\"}}}],\"scatter3d\":[{\"type\":\"scatter3d\",\"line\":{\"colorbar\":{\"outlinewidth\":0,\"ticks\":\"\"}},\"marker\":{\"colorbar\":{\"outlinewidth\":0,\"ticks\":\"\"}}}],\"scattermapbox\":[{\"type\":\"scattermapbox\",\"marker\":{\"colorbar\":{\"outlinewidth\":0,\"ticks\":\"\"}}}],\"scatterternary\":[{\"type\":\"scatterternary\",\"marker\":{\"colorbar\":{\"outlinewidth\":0,\"ticks\":\"\"}}}],\"scattercarpet\":[{\"type\":\"scattercarpet\",\"marker\":{\"colorbar\":{\"outlinewidth\":0,\"ticks\":\"\"}}}],\"carpet\":[{\"aaxis\":{\"endlinecolor\":\"#2a3f5f\",\"gridcolor\":\"white\",\"linecolor\":\"white\",\"minorgridcolor\":\"white\",\"startlinecolor\":\"#2a3f5f\"},\"baxis\":{\"endlinecolor\":\"#2a3f5f\",\"gridcolor\":\"white\",\"linecolor\":\"white\",\"minorgridcolor\":\"white\",\"startlinecolor\":\"#2a3f5f\"},\"type\":\"carpet\"}],\"table\":[{\"cells\":{\"fill\":{\"color\":\"#EBF0F8\"},\"line\":{\"color\":\"white\"}},\"header\":{\"fill\":{\"color\":\"#C8D4E3\"},\"line\":{\"color\":\"white\"}},\"type\":\"table\"}],\"barpolar\":[{\"marker\":{\"line\":{\"color\":\"#E5ECF6\",\"width\":0.5},\"pattern\":{\"fillmode\":\"overlay\",\"size\":10,\"solidity\":0.2}},\"type\":\"barpolar\"}],\"pie\":[{\"automargin\":true,\"type\":\"pie\"}]},\"layout\":{\"autotypenumbers\":\"strict\",\"colorway\":[\"#636efa\",\"#EF553B\",\"#00cc96\",\"#ab63fa\",\"#FFA15A\",\"#19d3f3\",\"#FF6692\",\"#B6E880\",\"#FF97FF\",\"#FECB52\"],\"font\":{\"color\":\"#2a3f5f\"},\"hovermode\":\"closest\",\"hoverlabel\":{\"align\":\"left\"},\"paper_bgcolor\":\"white\",\"plot_bgcolor\":\"#E5ECF6\",\"polar\":{\"bgcolor\":\"#E5ECF6\",\"angularaxis\":{\"gridcolor\":\"white\",\"linecolor\":\"white\",\"ticks\":\"\"},\"radialaxis\":{\"gridcolor\":\"white\",\"linecolor\":\"white\",\"ticks\":\"\"}},\"ternary\":{\"bgcolor\":\"#E5ECF6\",\"aaxis\":{\"gridcolor\":\"white\",\"linecolor\":\"white\",\"ticks\":\"\"},\"baxis\":{\"gridcolor\":\"white\",\"linecolor\":\"white\",\"ticks\":\"\"},\"caxis\":{\"gridcolor\":\"white\",\"linecolor\":\"white\",\"ticks\":\"\"}},\"coloraxis\":{\"colorbar\":{\"outlinewidth\":0,\"ticks\":\"\"}},\"colorscale\":{\"sequential\":[[0.0,\"#0d0887\"],[0.1111111111111111,\"#46039f\"],[0.2222222222222222,\"#7201a8\"],[0.3333333333333333,\"#9c179e\"],[0.4444444444444444,\"#bd3786\"],[0.5555555555555556,\"#d8576b\"],[0.6666666666666666,\"#ed7953\"],[0.7777777777777778,\"#fb9f3a\"],[0.8888888888888888,\"#fdca26\"],[1.0,\"#f0f921\"]],\"sequentialminus\":[[0.0,\"#0d0887\"],[0.1111111111111111,\"#46039f\"],[0.2222222222222222,\"#7201a8\"],[0.3333333333333333,\"#9c179e\"],[0.4444444444444444,\"#bd3786\"],[0.5555555555555556,\"#d8576b\"],[0.6666666666666666,\"#ed7953\"],[0.7777777777777778,\"#fb9f3a\"],[0.8888888888888888,\"#fdca26\"],[1.0,\"#f0f921\"]],\"diverging\":[[0,\"#8e0152\"],[0.1,\"#c51b7d\"],[0.2,\"#de77ae\"],[0.3,\"#f1b6da\"],[0.4,\"#fde0ef\"],[0.5,\"#f7f7f7\"],[0.6,\"#e6f5d0\"],[0.7,\"#b8e186\"],[0.8,\"#7fbc41\"],[0.9,\"#4d9221\"],[1,\"#276419\"]]},\"xaxis\":{\"gridcolor\":\"white\",\"linecolor\":\"white\",\"ticks\":\"\",\"title\":{\"standoff\":15},\"zerolinecolor\":\"white\",\"automargin\":true,\"zerolinewidth\":2},\"yaxis\":{\"gridcolor\":\"white\",\"linecolor\":\"white\",\"ticks\":\"\",\"title\":{\"standoff\":15},\"zerolinecolor\":\"white\",\"automargin\":true,\"zerolinewidth\":2},\"scene\":{\"xaxis\":{\"backgroundcolor\":\"#E5ECF6\",\"gridcolor\":\"white\",\"linecolor\":\"white\",\"showbackground\":true,\"ticks\":\"\",\"zerolinecolor\":\"white\",\"gridwidth\":2},\"yaxis\":{\"backgroundcolor\":\"#E5ECF6\",\"gridcolor\":\"white\",\"linecolor\":\"white\",\"showbackground\":true,\"ticks\":\"\",\"zerolinecolor\":\"white\",\"gridwidth\":2},\"zaxis\":{\"backgroundcolor\":\"#E5ECF6\",\"gridcolor\":\"white\",\"linecolor\":\"white\",\"showbackground\":true,\"ticks\":\"\",\"zerolinecolor\":\"white\",\"gridwidth\":2}},\"shapedefaults\":{\"line\":{\"color\":\"#2a3f5f\"}},\"annotationdefaults\":{\"arrowcolor\":\"#2a3f5f\",\"arrowhead\":0,\"arrowwidth\":1},\"geo\":{\"bgcolor\":\"white\",\"landcolor\":\"#E5ECF6\",\"subunitcolor\":\"white\",\"showland\":true,\"showlakes\":true,\"lakecolor\":\"white\"},\"title\":{\"x\":0.05},\"mapbox\":{\"style\":\"light\"}}},\"mapbox\":{\"center\":{\"lat\":28.59725,\"lon\":77.22635},\"style\":\"open-street-map\",\"zoom\":12},\"title\":{\"text\":\"Map of Chosen Stations and Reference Point\",\"x\":0.5},\"height\":600},                        {\"responsive\": true}                    ).then(function(){\n",
       "                            \n",
       "var gd = document.getElementById('e8fe419a-ec47-4173-bacd-49dfc83443db');\n",
       "var x = new MutationObserver(function (mutations, observer) {{\n",
       "        var display = window.getComputedStyle(gd).display;\n",
       "        if (!display || display === 'none') {{\n",
       "            console.log([gd, 'removed!']);\n",
       "            Plotly.purge(gd);\n",
       "            observer.disconnect();\n",
       "        }}\n",
       "}});\n",
       "\n",
       "// Listen for the removal of the full notebook cells\n",
       "var notebookContainer = gd.closest('#notebook-container');\n",
       "if (notebookContainer) {{\n",
       "    x.observe(notebookContainer, {childList: true});\n",
       "}}\n",
       "\n",
       "// Listen for the clearing of the current output cell\n",
       "var outputEl = gd.closest('.output');\n",
       "if (outputEl) {{\n",
       "    x.observe(outputEl, {childList: true});\n",
       "}}\n",
       "\n",
       "                        })                };                });            </script>        </div>"
      ]
     },
     "metadata": {},
     "output_type": "display_data"
    }
   ],
   "source": [
    "import plotly.graph_objects as go\n",
    "\n",
    "# Reference point coordinates\n",
    "reference_point = {\"latitude\": reference_point[0], \"longitude\": reference_point[1], \"name\": \"Reference Point\"}\n",
    "\n",
    "# Create the map figure\n",
    "fig = go.Figure()\n",
    "\n",
    "# Add the reference point as a larger marker\n",
    "fig.add_trace(go.Scattermapbox(\n",
    "    lat=[reference_point['latitude']],\n",
    "    lon=[reference_point['longitude']],\n",
    "    mode='markers',\n",
    "    marker=go.scattermapbox.Marker(\n",
    "        size=15,  # Larger size for reference point\n",
    "        color='red'  # Distinct color\n",
    "    ),\n",
    "    name=reference_point['name'],  # Legend name\n",
    "    hoverinfo='text',\n",
    "    text=f\"<b>{reference_point['name']}</b>\"  # Tooltip text\n",
    "))\n",
    "\n",
    "# Add the chosen stations as smaller markers\n",
    "fig.add_trace(go.Scattermapbox(\n",
    "    lat=filtered_combined_df['Latitude'],  # Replace with your latitude column name\n",
    "    lon=filtered_combined_df['Longitude'],  # Replace with your longitude column name\n",
    "    mode='markers',\n",
    "    marker=go.scattermapbox.Marker(\n",
    "        size=10,  # Smaller size for chosen stations\n",
    "        color='blue'\n",
    "    ),\n",
    "    name=\"Stations\",  # Legend name\n",
    "    hoverinfo='text',\n",
    "    text=filtered_combined_df['Name'] + \"<br>\" + filtered_combined_df['Address']  # Tooltip text\n",
    "))\n",
    "\n",
    "# Update the layout for the map\n",
    "fig.update_layout(\n",
    "    mapbox=dict(\n",
    "        style=\"open-street-map\",\n",
    "        center=dict(lat=reference_point['latitude'], lon=reference_point['longitude']),\n",
    "        zoom=12\n",
    "    ),\n",
    "    title=\"Map of Chosen Stations and Reference Point\",\n",
    "    title_x=0.5,  # Center the title\n",
    "    height=600\n",
    ")\n",
    "\n",
    "# Show the map\n",
    "fig.show()\n"
   ]
  },
  {
   "cell_type": "markdown",
   "id": "53e74282",
   "metadata": {},
   "source": [
    "#### Build the model"
   ]
  },
  {
   "cell_type": "code",
   "execution_count": 20,
   "id": "b14064e8",
   "metadata": {},
   "outputs": [
    {
     "name": "stdout",
     "output_type": "stream",
     "text": [
      "Top 5 Cheapest Stations in order:\n"
     ]
    },
    {
     "data": {
      "text/html": [
       "<div>\n",
       "<style scoped>\n",
       "    .dataframe tbody tr th:only-of-type {\n",
       "        vertical-align: middle;\n",
       "    }\n",
       "\n",
       "    .dataframe tbody tr th {\n",
       "        vertical-align: top;\n",
       "    }\n",
       "\n",
       "    .dataframe thead th {\n",
       "        text-align: right;\n",
       "    }\n",
       "</style>\n",
       "<table border=\"1\" class=\"dataframe\">\n",
       "  <thead>\n",
       "    <tr style=\"text-align: right;\">\n",
       "      <th></th>\n",
       "      <th>Name</th>\n",
       "      <th>Address</th>\n",
       "      <th>Total Cost</th>\n",
       "      <th>Distance</th>\n",
       "      <th>Cost_per_Unit</th>\n",
       "      <th>Available</th>\n",
       "    </tr>\n",
       "  </thead>\n",
       "  <tbody>\n",
       "    <tr>\n",
       "      <th>0</th>\n",
       "      <td>EESL Khan Market</td>\n",
       "      <td>NDMC Parking, Khan Market, New Delhi, 110003</td>\n",
       "      <td>2284.0</td>\n",
       "      <td>0.34</td>\n",
       "      <td>10.0</td>\n",
       "      <td>2</td>\n",
       "    </tr>\n",
       "    <tr>\n",
       "      <th>1</th>\n",
       "      <td>EESL Prithviraj Mark</td>\n",
       "      <td>NDMC Parking, Prithviraj Market, Prithviraj Ln...</td>\n",
       "      <td>2289.0</td>\n",
       "      <td>0.39</td>\n",
       "      <td>10.0</td>\n",
       "      <td>1</td>\n",
       "    </tr>\n",
       "    <tr>\n",
       "      <th>2</th>\n",
       "      <td>EESL Lodhi Garden</td>\n",
       "      <td>NDMC Parking,  Gate No. 1, Lodhi Gardens, Lodh...</td>\n",
       "      <td>2348.0</td>\n",
       "      <td>0.98</td>\n",
       "      <td>10.0</td>\n",
       "      <td>1</td>\n",
       "    </tr>\n",
       "    <tr>\n",
       "      <th>3</th>\n",
       "      <td>EESL Oriental Bank</td>\n",
       "      <td>NDMC Parking,  Outside Oriental Bank, Radial R...</td>\n",
       "      <td>2358.0</td>\n",
       "      <td>1.08</td>\n",
       "      <td>10.0</td>\n",
       "      <td>1</td>\n",
       "    </tr>\n",
       "    <tr>\n",
       "      <th>4</th>\n",
       "      <td>EESL Hotel Claridges</td>\n",
       "      <td>NDMC Parking,  Side of Hotel Claridges,  Tees ...</td>\n",
       "      <td>2380.0</td>\n",
       "      <td>1.30</td>\n",
       "      <td>10.0</td>\n",
       "      <td>1</td>\n",
       "    </tr>\n",
       "  </tbody>\n",
       "</table>\n",
       "</div>"
      ],
      "text/plain": [
       "                   Name                                            Address  \\\n",
       "0      EESL Khan Market       NDMC Parking, Khan Market, New Delhi, 110003   \n",
       "1  EESL Prithviraj Mark  NDMC Parking, Prithviraj Market, Prithviraj Ln...   \n",
       "2     EESL Lodhi Garden  NDMC Parking,  Gate No. 1, Lodhi Gardens, Lodh...   \n",
       "3    EESL Oriental Bank  NDMC Parking,  Outside Oriental Bank, Radial R...   \n",
       "4  EESL Hotel Claridges  NDMC Parking,  Side of Hotel Claridges,  Tees ...   \n",
       "\n",
       "   Total Cost  Distance  Cost_per_Unit  Available  \n",
       "0      2284.0      0.34           10.0          2  \n",
       "1      2289.0      0.39           10.0          1  \n",
       "2      2348.0      0.98           10.0          1  \n",
       "3      2358.0      1.08           10.0          1  \n",
       "4      2380.0      1.30           10.0          1  "
      ]
     },
     "execution_count": 20,
     "metadata": {},
     "output_type": "execute_result"
    }
   ],
   "source": [
    "import heapq\n",
    "\n",
    "t = 100                                                                              # Weight for distance (Euro)\n",
    "p = filtered_combined_df['Cost_per_Unit']\n",
    "# Step 1: Calculate the total cost dynamically\n",
    "filtered_combined_df['Total Cost'] = (D * filtered_combined_df['Cost_per_Unit']) + (t * filtered_combined_df['Distance'])\n",
    "\n",
    "# Step 2: Check required columns and find the top 5 cheapest stations\n",
    "if 'Total Cost' in filtered_combined_df.columns:\n",
    "    top_5 = heapq.nsmallest(\n",
    "        5,\n",
    "        filtered_combined_df[['Name', 'Address', 'Total Cost', 'Distance', 'Cost_per_Unit', 'Available']].itertuples(index=False),\n",
    "        key=lambda x: x[2]  # Sorting by 'Total Cost' (2nd index in the tuple)\n",
    "    )\n",
    "\n",
    "    # Step 3: Convert to DataFrame\n",
    "    cheapest_stations_df = pd.DataFrame(top_5, columns=['Name', 'Address', 'Total Cost', 'Distance', 'Cost_per_Unit', 'Available'])\n",
    "\n",
    "    # Step 4: Display the results\n",
    "    print(\"Top 5 Cheapest Stations in order:\")\n",
    "\n",
    "else:\n",
    "    print(\"Error: 'Total Cost' column is missing.\")\n",
    "\n",
    "cheapest_stations_df.head()"
   ]
  },
  {
   "cell_type": "markdown",
   "id": "21f8c694",
   "metadata": {},
   "source": [
    "#### Display 5 best stations on map"
   ]
  },
  {
   "cell_type": "code",
   "execution_count": 21,
   "id": "fca573b8",
   "metadata": {
    "scrolled": true
   },
   "outputs": [
    {
     "data": {
      "application/vnd.plotly.v1+json": {
       "config": {
        "plotlyServerURL": "https://plot.ly"
       },
       "data": [
        {
         "lat": [
          28.59725
         ],
         "lon": [
          77.22635
         ],
         "marker": {
          "color": "red",
          "size": 15
         },
         "mode": "markers+text",
         "name": "Reference Point",
         "text": [
          "Reference Point"
         ],
         "textposition": "top right",
         "type": "scattermapbox"
        },
        {
         "lat": [
          28.61817712,
          28.5733477,
          28.5733477,
          28.57485225910045,
          28.57513403507146
         ],
         "lon": [
          77.21258998,
          77.2372255,
          77.2372255,
          77.24111828953028,
          77.23896883428097
         ],
         "marker": {
          "color": "blue",
          "size": 12
         },
         "mode": "markers+text",
         "name": "Cheapest Stations",
         "text": [
          "Name: EESL Khan Market<br>Address: NDMC Parking, Khan Market, New Delhi, 110003<br>Distance: 0.34 km<br>Cost per Kwh: 10.0 <br>Total Cost: 2284.0",
          "Name: EESL Prithviraj Mark<br>Address: NDMC Parking, Prithviraj Market, Prithviraj Ln, New Delhi, Delhi- 110003<br>Distance: 0.39 km<br>Cost per Kwh: 10.0 <br>Total Cost: 2289.0",
          "Name: EESL Lodhi Garden<br>Address: NDMC Parking,  Gate No. 1, Lodhi Gardens, Lodhi Estate, Lodhi Road,  New Delhi-  110003<br>Distance: 0.98 km<br>Cost per Kwh: 10.0 <br>Total Cost: 2348.0",
          "Name: EESL Oriental Bank<br>Address: NDMC Parking,  Outside Oriental Bank, Radial Road No. 7,  Block M, Middle Circe, Connaught Place,<br>Distance: 1.08 km<br>Cost per Kwh: 10.0 <br>Total Cost: 2358.0",
          "Name: EESL Hotel Claridges<br>Address: NDMC Parking,  Side of Hotel Claridges,  Tees January Marg,  Dr. APJ Abdul Kalam Road,  New Delhi-<br>Distance: 1.3 km<br>Cost per Kwh: 10.0 <br>Total Cost: 2380.0"
         ],
         "textposition": "bottom right",
         "type": "scattermapbox"
        }
       ],
       "layout": {
        "height": 600,
        "mapbox": {
         "center": {
          "lat": 28.59725,
          "lon": 77.22635
         },
         "style": "open-street-map",
         "zoom": 12
        },
        "template": {
         "data": {
          "bar": [
           {
            "error_x": {
             "color": "#2a3f5f"
            },
            "error_y": {
             "color": "#2a3f5f"
            },
            "marker": {
             "line": {
              "color": "#E5ECF6",
              "width": 0.5
             },
             "pattern": {
              "fillmode": "overlay",
              "size": 10,
              "solidity": 0.2
             }
            },
            "type": "bar"
           }
          ],
          "barpolar": [
           {
            "marker": {
             "line": {
              "color": "#E5ECF6",
              "width": 0.5
             },
             "pattern": {
              "fillmode": "overlay",
              "size": 10,
              "solidity": 0.2
             }
            },
            "type": "barpolar"
           }
          ],
          "carpet": [
           {
            "aaxis": {
             "endlinecolor": "#2a3f5f",
             "gridcolor": "white",
             "linecolor": "white",
             "minorgridcolor": "white",
             "startlinecolor": "#2a3f5f"
            },
            "baxis": {
             "endlinecolor": "#2a3f5f",
             "gridcolor": "white",
             "linecolor": "white",
             "minorgridcolor": "white",
             "startlinecolor": "#2a3f5f"
            },
            "type": "carpet"
           }
          ],
          "choropleth": [
           {
            "colorbar": {
             "outlinewidth": 0,
             "ticks": ""
            },
            "type": "choropleth"
           }
          ],
          "contour": [
           {
            "colorbar": {
             "outlinewidth": 0,
             "ticks": ""
            },
            "colorscale": [
             [
              0,
              "#0d0887"
             ],
             [
              0.1111111111111111,
              "#46039f"
             ],
             [
              0.2222222222222222,
              "#7201a8"
             ],
             [
              0.3333333333333333,
              "#9c179e"
             ],
             [
              0.4444444444444444,
              "#bd3786"
             ],
             [
              0.5555555555555556,
              "#d8576b"
             ],
             [
              0.6666666666666666,
              "#ed7953"
             ],
             [
              0.7777777777777778,
              "#fb9f3a"
             ],
             [
              0.8888888888888888,
              "#fdca26"
             ],
             [
              1,
              "#f0f921"
             ]
            ],
            "type": "contour"
           }
          ],
          "contourcarpet": [
           {
            "colorbar": {
             "outlinewidth": 0,
             "ticks": ""
            },
            "type": "contourcarpet"
           }
          ],
          "heatmap": [
           {
            "colorbar": {
             "outlinewidth": 0,
             "ticks": ""
            },
            "colorscale": [
             [
              0,
              "#0d0887"
             ],
             [
              0.1111111111111111,
              "#46039f"
             ],
             [
              0.2222222222222222,
              "#7201a8"
             ],
             [
              0.3333333333333333,
              "#9c179e"
             ],
             [
              0.4444444444444444,
              "#bd3786"
             ],
             [
              0.5555555555555556,
              "#d8576b"
             ],
             [
              0.6666666666666666,
              "#ed7953"
             ],
             [
              0.7777777777777778,
              "#fb9f3a"
             ],
             [
              0.8888888888888888,
              "#fdca26"
             ],
             [
              1,
              "#f0f921"
             ]
            ],
            "type": "heatmap"
           }
          ],
          "heatmapgl": [
           {
            "colorbar": {
             "outlinewidth": 0,
             "ticks": ""
            },
            "colorscale": [
             [
              0,
              "#0d0887"
             ],
             [
              0.1111111111111111,
              "#46039f"
             ],
             [
              0.2222222222222222,
              "#7201a8"
             ],
             [
              0.3333333333333333,
              "#9c179e"
             ],
             [
              0.4444444444444444,
              "#bd3786"
             ],
             [
              0.5555555555555556,
              "#d8576b"
             ],
             [
              0.6666666666666666,
              "#ed7953"
             ],
             [
              0.7777777777777778,
              "#fb9f3a"
             ],
             [
              0.8888888888888888,
              "#fdca26"
             ],
             [
              1,
              "#f0f921"
             ]
            ],
            "type": "heatmapgl"
           }
          ],
          "histogram": [
           {
            "marker": {
             "pattern": {
              "fillmode": "overlay",
              "size": 10,
              "solidity": 0.2
             }
            },
            "type": "histogram"
           }
          ],
          "histogram2d": [
           {
            "colorbar": {
             "outlinewidth": 0,
             "ticks": ""
            },
            "colorscale": [
             [
              0,
              "#0d0887"
             ],
             [
              0.1111111111111111,
              "#46039f"
             ],
             [
              0.2222222222222222,
              "#7201a8"
             ],
             [
              0.3333333333333333,
              "#9c179e"
             ],
             [
              0.4444444444444444,
              "#bd3786"
             ],
             [
              0.5555555555555556,
              "#d8576b"
             ],
             [
              0.6666666666666666,
              "#ed7953"
             ],
             [
              0.7777777777777778,
              "#fb9f3a"
             ],
             [
              0.8888888888888888,
              "#fdca26"
             ],
             [
              1,
              "#f0f921"
             ]
            ],
            "type": "histogram2d"
           }
          ],
          "histogram2dcontour": [
           {
            "colorbar": {
             "outlinewidth": 0,
             "ticks": ""
            },
            "colorscale": [
             [
              0,
              "#0d0887"
             ],
             [
              0.1111111111111111,
              "#46039f"
             ],
             [
              0.2222222222222222,
              "#7201a8"
             ],
             [
              0.3333333333333333,
              "#9c179e"
             ],
             [
              0.4444444444444444,
              "#bd3786"
             ],
             [
              0.5555555555555556,
              "#d8576b"
             ],
             [
              0.6666666666666666,
              "#ed7953"
             ],
             [
              0.7777777777777778,
              "#fb9f3a"
             ],
             [
              0.8888888888888888,
              "#fdca26"
             ],
             [
              1,
              "#f0f921"
             ]
            ],
            "type": "histogram2dcontour"
           }
          ],
          "mesh3d": [
           {
            "colorbar": {
             "outlinewidth": 0,
             "ticks": ""
            },
            "type": "mesh3d"
           }
          ],
          "parcoords": [
           {
            "line": {
             "colorbar": {
              "outlinewidth": 0,
              "ticks": ""
             }
            },
            "type": "parcoords"
           }
          ],
          "pie": [
           {
            "automargin": true,
            "type": "pie"
           }
          ],
          "scatter": [
           {
            "fillpattern": {
             "fillmode": "overlay",
             "size": 10,
             "solidity": 0.2
            },
            "type": "scatter"
           }
          ],
          "scatter3d": [
           {
            "line": {
             "colorbar": {
              "outlinewidth": 0,
              "ticks": ""
             }
            },
            "marker": {
             "colorbar": {
              "outlinewidth": 0,
              "ticks": ""
             }
            },
            "type": "scatter3d"
           }
          ],
          "scattercarpet": [
           {
            "marker": {
             "colorbar": {
              "outlinewidth": 0,
              "ticks": ""
             }
            },
            "type": "scattercarpet"
           }
          ],
          "scattergeo": [
           {
            "marker": {
             "colorbar": {
              "outlinewidth": 0,
              "ticks": ""
             }
            },
            "type": "scattergeo"
           }
          ],
          "scattergl": [
           {
            "marker": {
             "colorbar": {
              "outlinewidth": 0,
              "ticks": ""
             }
            },
            "type": "scattergl"
           }
          ],
          "scattermapbox": [
           {
            "marker": {
             "colorbar": {
              "outlinewidth": 0,
              "ticks": ""
             }
            },
            "type": "scattermapbox"
           }
          ],
          "scatterpolar": [
           {
            "marker": {
             "colorbar": {
              "outlinewidth": 0,
              "ticks": ""
             }
            },
            "type": "scatterpolar"
           }
          ],
          "scatterpolargl": [
           {
            "marker": {
             "colorbar": {
              "outlinewidth": 0,
              "ticks": ""
             }
            },
            "type": "scatterpolargl"
           }
          ],
          "scatterternary": [
           {
            "marker": {
             "colorbar": {
              "outlinewidth": 0,
              "ticks": ""
             }
            },
            "type": "scatterternary"
           }
          ],
          "surface": [
           {
            "colorbar": {
             "outlinewidth": 0,
             "ticks": ""
            },
            "colorscale": [
             [
              0,
              "#0d0887"
             ],
             [
              0.1111111111111111,
              "#46039f"
             ],
             [
              0.2222222222222222,
              "#7201a8"
             ],
             [
              0.3333333333333333,
              "#9c179e"
             ],
             [
              0.4444444444444444,
              "#bd3786"
             ],
             [
              0.5555555555555556,
              "#d8576b"
             ],
             [
              0.6666666666666666,
              "#ed7953"
             ],
             [
              0.7777777777777778,
              "#fb9f3a"
             ],
             [
              0.8888888888888888,
              "#fdca26"
             ],
             [
              1,
              "#f0f921"
             ]
            ],
            "type": "surface"
           }
          ],
          "table": [
           {
            "cells": {
             "fill": {
              "color": "#EBF0F8"
             },
             "line": {
              "color": "white"
             }
            },
            "header": {
             "fill": {
              "color": "#C8D4E3"
             },
             "line": {
              "color": "white"
             }
            },
            "type": "table"
           }
          ]
         },
         "layout": {
          "annotationdefaults": {
           "arrowcolor": "#2a3f5f",
           "arrowhead": 0,
           "arrowwidth": 1
          },
          "autotypenumbers": "strict",
          "coloraxis": {
           "colorbar": {
            "outlinewidth": 0,
            "ticks": ""
           }
          },
          "colorscale": {
           "diverging": [
            [
             0,
             "#8e0152"
            ],
            [
             0.1,
             "#c51b7d"
            ],
            [
             0.2,
             "#de77ae"
            ],
            [
             0.3,
             "#f1b6da"
            ],
            [
             0.4,
             "#fde0ef"
            ],
            [
             0.5,
             "#f7f7f7"
            ],
            [
             0.6,
             "#e6f5d0"
            ],
            [
             0.7,
             "#b8e186"
            ],
            [
             0.8,
             "#7fbc41"
            ],
            [
             0.9,
             "#4d9221"
            ],
            [
             1,
             "#276419"
            ]
           ],
           "sequential": [
            [
             0,
             "#0d0887"
            ],
            [
             0.1111111111111111,
             "#46039f"
            ],
            [
             0.2222222222222222,
             "#7201a8"
            ],
            [
             0.3333333333333333,
             "#9c179e"
            ],
            [
             0.4444444444444444,
             "#bd3786"
            ],
            [
             0.5555555555555556,
             "#d8576b"
            ],
            [
             0.6666666666666666,
             "#ed7953"
            ],
            [
             0.7777777777777778,
             "#fb9f3a"
            ],
            [
             0.8888888888888888,
             "#fdca26"
            ],
            [
             1,
             "#f0f921"
            ]
           ],
           "sequentialminus": [
            [
             0,
             "#0d0887"
            ],
            [
             0.1111111111111111,
             "#46039f"
            ],
            [
             0.2222222222222222,
             "#7201a8"
            ],
            [
             0.3333333333333333,
             "#9c179e"
            ],
            [
             0.4444444444444444,
             "#bd3786"
            ],
            [
             0.5555555555555556,
             "#d8576b"
            ],
            [
             0.6666666666666666,
             "#ed7953"
            ],
            [
             0.7777777777777778,
             "#fb9f3a"
            ],
            [
             0.8888888888888888,
             "#fdca26"
            ],
            [
             1,
             "#f0f921"
            ]
           ]
          },
          "colorway": [
           "#636efa",
           "#EF553B",
           "#00cc96",
           "#ab63fa",
           "#FFA15A",
           "#19d3f3",
           "#FF6692",
           "#B6E880",
           "#FF97FF",
           "#FECB52"
          ],
          "font": {
           "color": "#2a3f5f"
          },
          "geo": {
           "bgcolor": "white",
           "lakecolor": "white",
           "landcolor": "#E5ECF6",
           "showlakes": true,
           "showland": true,
           "subunitcolor": "white"
          },
          "hoverlabel": {
           "align": "left"
          },
          "hovermode": "closest",
          "mapbox": {
           "style": "light"
          },
          "paper_bgcolor": "white",
          "plot_bgcolor": "#E5ECF6",
          "polar": {
           "angularaxis": {
            "gridcolor": "white",
            "linecolor": "white",
            "ticks": ""
           },
           "bgcolor": "#E5ECF6",
           "radialaxis": {
            "gridcolor": "white",
            "linecolor": "white",
            "ticks": ""
           }
          },
          "scene": {
           "xaxis": {
            "backgroundcolor": "#E5ECF6",
            "gridcolor": "white",
            "gridwidth": 2,
            "linecolor": "white",
            "showbackground": true,
            "ticks": "",
            "zerolinecolor": "white"
           },
           "yaxis": {
            "backgroundcolor": "#E5ECF6",
            "gridcolor": "white",
            "gridwidth": 2,
            "linecolor": "white",
            "showbackground": true,
            "ticks": "",
            "zerolinecolor": "white"
           },
           "zaxis": {
            "backgroundcolor": "#E5ECF6",
            "gridcolor": "white",
            "gridwidth": 2,
            "linecolor": "white",
            "showbackground": true,
            "ticks": "",
            "zerolinecolor": "white"
           }
          },
          "shapedefaults": {
           "line": {
            "color": "#2a3f5f"
           }
          },
          "ternary": {
           "aaxis": {
            "gridcolor": "white",
            "linecolor": "white",
            "ticks": ""
           },
           "baxis": {
            "gridcolor": "white",
            "linecolor": "white",
            "ticks": ""
           },
           "bgcolor": "#E5ECF6",
           "caxis": {
            "gridcolor": "white",
            "linecolor": "white",
            "ticks": ""
           }
          },
          "title": {
           "x": 0.05
          },
          "xaxis": {
           "automargin": true,
           "gridcolor": "white",
           "linecolor": "white",
           "ticks": "",
           "title": {
            "standoff": 15
           },
           "zerolinecolor": "white",
           "zerolinewidth": 2
          },
          "yaxis": {
           "automargin": true,
           "gridcolor": "white",
           "linecolor": "white",
           "ticks": "",
           "title": {
            "standoff": 15
           },
           "zerolinecolor": "white",
           "zerolinewidth": 2
          }
         }
        },
        "title": {
         "text": "Top 5 Cheapest Stations and Reference Point",
         "x": 0.5
        }
       }
      },
      "text/html": [
       "<div>                            <div id=\"f44b4bde-a7ed-42e0-a179-a6b7b5f0534e\" class=\"plotly-graph-div\" style=\"height:600px; width:100%;\"></div>            <script type=\"text/javascript\">                require([\"plotly\"], function(Plotly) {                    window.PLOTLYENV=window.PLOTLYENV || {};                                    if (document.getElementById(\"f44b4bde-a7ed-42e0-a179-a6b7b5f0534e\")) {                    Plotly.newPlot(                        \"f44b4bde-a7ed-42e0-a179-a6b7b5f0534e\",                        [{\"lat\":[28.59725],\"lon\":[77.22635],\"marker\":{\"color\":\"red\",\"size\":15},\"mode\":\"markers+text\",\"name\":\"Reference Point\",\"text\":[\"Reference Point\"],\"textposition\":\"top right\",\"type\":\"scattermapbox\"},{\"lat\":[28.61817712,28.5733477,28.5733477,28.57485225910045,28.57513403507146],\"lon\":[77.21258998,77.2372255,77.2372255,77.24111828953028,77.23896883428097],\"marker\":{\"color\":\"blue\",\"size\":12},\"mode\":\"markers+text\",\"name\":\"Cheapest Stations\",\"text\":[\"Name: EESL Khan Market<br>Address: NDMC Parking, Khan Market, New Delhi, 110003<br>Distance: 0.34 km<br>Cost per Kwh: 10.0 <br>Total Cost: 2284.0\",\"Name: EESL Prithviraj Mark<br>Address: NDMC Parking, Prithviraj Market, Prithviraj Ln, New Delhi, Delhi- 110003<br>Distance: 0.39 km<br>Cost per Kwh: 10.0 <br>Total Cost: 2289.0\",\"Name: EESL Lodhi Garden<br>Address: NDMC Parking,  Gate No. 1, Lodhi Gardens, Lodhi Estate, Lodhi Road,  New Delhi-  110003<br>Distance: 0.98 km<br>Cost per Kwh: 10.0 <br>Total Cost: 2348.0\",\"Name: EESL Oriental Bank<br>Address: NDMC Parking,  Outside Oriental Bank, Radial Road No. 7,  Block M, Middle Circe, Connaught Place,<br>Distance: 1.08 km<br>Cost per Kwh: 10.0 <br>Total Cost: 2358.0\",\"Name: EESL Hotel Claridges<br>Address: NDMC Parking,  Side of Hotel Claridges,  Tees January Marg,  Dr. APJ Abdul Kalam Road,  New Delhi-<br>Distance: 1.3 km<br>Cost per Kwh: 10.0 <br>Total Cost: 2380.0\"],\"textposition\":\"bottom right\",\"type\":\"scattermapbox\"}],                        {\"template\":{\"data\":{\"histogram2dcontour\":[{\"type\":\"histogram2dcontour\",\"colorbar\":{\"outlinewidth\":0,\"ticks\":\"\"},\"colorscale\":[[0.0,\"#0d0887\"],[0.1111111111111111,\"#46039f\"],[0.2222222222222222,\"#7201a8\"],[0.3333333333333333,\"#9c179e\"],[0.4444444444444444,\"#bd3786\"],[0.5555555555555556,\"#d8576b\"],[0.6666666666666666,\"#ed7953\"],[0.7777777777777778,\"#fb9f3a\"],[0.8888888888888888,\"#fdca26\"],[1.0,\"#f0f921\"]]}],\"choropleth\":[{\"type\":\"choropleth\",\"colorbar\":{\"outlinewidth\":0,\"ticks\":\"\"}}],\"histogram2d\":[{\"type\":\"histogram2d\",\"colorbar\":{\"outlinewidth\":0,\"ticks\":\"\"},\"colorscale\":[[0.0,\"#0d0887\"],[0.1111111111111111,\"#46039f\"],[0.2222222222222222,\"#7201a8\"],[0.3333333333333333,\"#9c179e\"],[0.4444444444444444,\"#bd3786\"],[0.5555555555555556,\"#d8576b\"],[0.6666666666666666,\"#ed7953\"],[0.7777777777777778,\"#fb9f3a\"],[0.8888888888888888,\"#fdca26\"],[1.0,\"#f0f921\"]]}],\"heatmap\":[{\"type\":\"heatmap\",\"colorbar\":{\"outlinewidth\":0,\"ticks\":\"\"},\"colorscale\":[[0.0,\"#0d0887\"],[0.1111111111111111,\"#46039f\"],[0.2222222222222222,\"#7201a8\"],[0.3333333333333333,\"#9c179e\"],[0.4444444444444444,\"#bd3786\"],[0.5555555555555556,\"#d8576b\"],[0.6666666666666666,\"#ed7953\"],[0.7777777777777778,\"#fb9f3a\"],[0.8888888888888888,\"#fdca26\"],[1.0,\"#f0f921\"]]}],\"heatmapgl\":[{\"type\":\"heatmapgl\",\"colorbar\":{\"outlinewidth\":0,\"ticks\":\"\"},\"colorscale\":[[0.0,\"#0d0887\"],[0.1111111111111111,\"#46039f\"],[0.2222222222222222,\"#7201a8\"],[0.3333333333333333,\"#9c179e\"],[0.4444444444444444,\"#bd3786\"],[0.5555555555555556,\"#d8576b\"],[0.6666666666666666,\"#ed7953\"],[0.7777777777777778,\"#fb9f3a\"],[0.8888888888888888,\"#fdca26\"],[1.0,\"#f0f921\"]]}],\"contourcarpet\":[{\"type\":\"contourcarpet\",\"colorbar\":{\"outlinewidth\":0,\"ticks\":\"\"}}],\"contour\":[{\"type\":\"contour\",\"colorbar\":{\"outlinewidth\":0,\"ticks\":\"\"},\"colorscale\":[[0.0,\"#0d0887\"],[0.1111111111111111,\"#46039f\"],[0.2222222222222222,\"#7201a8\"],[0.3333333333333333,\"#9c179e\"],[0.4444444444444444,\"#bd3786\"],[0.5555555555555556,\"#d8576b\"],[0.6666666666666666,\"#ed7953\"],[0.7777777777777778,\"#fb9f3a\"],[0.8888888888888888,\"#fdca26\"],[1.0,\"#f0f921\"]]}],\"surface\":[{\"type\":\"surface\",\"colorbar\":{\"outlinewidth\":0,\"ticks\":\"\"},\"colorscale\":[[0.0,\"#0d0887\"],[0.1111111111111111,\"#46039f\"],[0.2222222222222222,\"#7201a8\"],[0.3333333333333333,\"#9c179e\"],[0.4444444444444444,\"#bd3786\"],[0.5555555555555556,\"#d8576b\"],[0.6666666666666666,\"#ed7953\"],[0.7777777777777778,\"#fb9f3a\"],[0.8888888888888888,\"#fdca26\"],[1.0,\"#f0f921\"]]}],\"mesh3d\":[{\"type\":\"mesh3d\",\"colorbar\":{\"outlinewidth\":0,\"ticks\":\"\"}}],\"scatter\":[{\"fillpattern\":{\"fillmode\":\"overlay\",\"size\":10,\"solidity\":0.2},\"type\":\"scatter\"}],\"parcoords\":[{\"type\":\"parcoords\",\"line\":{\"colorbar\":{\"outlinewidth\":0,\"ticks\":\"\"}}}],\"scatterpolargl\":[{\"type\":\"scatterpolargl\",\"marker\":{\"colorbar\":{\"outlinewidth\":0,\"ticks\":\"\"}}}],\"bar\":[{\"error_x\":{\"color\":\"#2a3f5f\"},\"error_y\":{\"color\":\"#2a3f5f\"},\"marker\":{\"line\":{\"color\":\"#E5ECF6\",\"width\":0.5},\"pattern\":{\"fillmode\":\"overlay\",\"size\":10,\"solidity\":0.2}},\"type\":\"bar\"}],\"scattergeo\":[{\"type\":\"scattergeo\",\"marker\":{\"colorbar\":{\"outlinewidth\":0,\"ticks\":\"\"}}}],\"scatterpolar\":[{\"type\":\"scatterpolar\",\"marker\":{\"colorbar\":{\"outlinewidth\":0,\"ticks\":\"\"}}}],\"histogram\":[{\"marker\":{\"pattern\":{\"fillmode\":\"overlay\",\"size\":10,\"solidity\":0.2}},\"type\":\"histogram\"}],\"scattergl\":[{\"type\":\"scattergl\",\"marker\":{\"colorbar\":{\"outlinewidth\":0,\"ticks\":\"\"}}}],\"scatter3d\":[{\"type\":\"scatter3d\",\"line\":{\"colorbar\":{\"outlinewidth\":0,\"ticks\":\"\"}},\"marker\":{\"colorbar\":{\"outlinewidth\":0,\"ticks\":\"\"}}}],\"scattermapbox\":[{\"type\":\"scattermapbox\",\"marker\":{\"colorbar\":{\"outlinewidth\":0,\"ticks\":\"\"}}}],\"scatterternary\":[{\"type\":\"scatterternary\",\"marker\":{\"colorbar\":{\"outlinewidth\":0,\"ticks\":\"\"}}}],\"scattercarpet\":[{\"type\":\"scattercarpet\",\"marker\":{\"colorbar\":{\"outlinewidth\":0,\"ticks\":\"\"}}}],\"carpet\":[{\"aaxis\":{\"endlinecolor\":\"#2a3f5f\",\"gridcolor\":\"white\",\"linecolor\":\"white\",\"minorgridcolor\":\"white\",\"startlinecolor\":\"#2a3f5f\"},\"baxis\":{\"endlinecolor\":\"#2a3f5f\",\"gridcolor\":\"white\",\"linecolor\":\"white\",\"minorgridcolor\":\"white\",\"startlinecolor\":\"#2a3f5f\"},\"type\":\"carpet\"}],\"table\":[{\"cells\":{\"fill\":{\"color\":\"#EBF0F8\"},\"line\":{\"color\":\"white\"}},\"header\":{\"fill\":{\"color\":\"#C8D4E3\"},\"line\":{\"color\":\"white\"}},\"type\":\"table\"}],\"barpolar\":[{\"marker\":{\"line\":{\"color\":\"#E5ECF6\",\"width\":0.5},\"pattern\":{\"fillmode\":\"overlay\",\"size\":10,\"solidity\":0.2}},\"type\":\"barpolar\"}],\"pie\":[{\"automargin\":true,\"type\":\"pie\"}]},\"layout\":{\"autotypenumbers\":\"strict\",\"colorway\":[\"#636efa\",\"#EF553B\",\"#00cc96\",\"#ab63fa\",\"#FFA15A\",\"#19d3f3\",\"#FF6692\",\"#B6E880\",\"#FF97FF\",\"#FECB52\"],\"font\":{\"color\":\"#2a3f5f\"},\"hovermode\":\"closest\",\"hoverlabel\":{\"align\":\"left\"},\"paper_bgcolor\":\"white\",\"plot_bgcolor\":\"#E5ECF6\",\"polar\":{\"bgcolor\":\"#E5ECF6\",\"angularaxis\":{\"gridcolor\":\"white\",\"linecolor\":\"white\",\"ticks\":\"\"},\"radialaxis\":{\"gridcolor\":\"white\",\"linecolor\":\"white\",\"ticks\":\"\"}},\"ternary\":{\"bgcolor\":\"#E5ECF6\",\"aaxis\":{\"gridcolor\":\"white\",\"linecolor\":\"white\",\"ticks\":\"\"},\"baxis\":{\"gridcolor\":\"white\",\"linecolor\":\"white\",\"ticks\":\"\"},\"caxis\":{\"gridcolor\":\"white\",\"linecolor\":\"white\",\"ticks\":\"\"}},\"coloraxis\":{\"colorbar\":{\"outlinewidth\":0,\"ticks\":\"\"}},\"colorscale\":{\"sequential\":[[0.0,\"#0d0887\"],[0.1111111111111111,\"#46039f\"],[0.2222222222222222,\"#7201a8\"],[0.3333333333333333,\"#9c179e\"],[0.4444444444444444,\"#bd3786\"],[0.5555555555555556,\"#d8576b\"],[0.6666666666666666,\"#ed7953\"],[0.7777777777777778,\"#fb9f3a\"],[0.8888888888888888,\"#fdca26\"],[1.0,\"#f0f921\"]],\"sequentialminus\":[[0.0,\"#0d0887\"],[0.1111111111111111,\"#46039f\"],[0.2222222222222222,\"#7201a8\"],[0.3333333333333333,\"#9c179e\"],[0.4444444444444444,\"#bd3786\"],[0.5555555555555556,\"#d8576b\"],[0.6666666666666666,\"#ed7953\"],[0.7777777777777778,\"#fb9f3a\"],[0.8888888888888888,\"#fdca26\"],[1.0,\"#f0f921\"]],\"diverging\":[[0,\"#8e0152\"],[0.1,\"#c51b7d\"],[0.2,\"#de77ae\"],[0.3,\"#f1b6da\"],[0.4,\"#fde0ef\"],[0.5,\"#f7f7f7\"],[0.6,\"#e6f5d0\"],[0.7,\"#b8e186\"],[0.8,\"#7fbc41\"],[0.9,\"#4d9221\"],[1,\"#276419\"]]},\"xaxis\":{\"gridcolor\":\"white\",\"linecolor\":\"white\",\"ticks\":\"\",\"title\":{\"standoff\":15},\"zerolinecolor\":\"white\",\"automargin\":true,\"zerolinewidth\":2},\"yaxis\":{\"gridcolor\":\"white\",\"linecolor\":\"white\",\"ticks\":\"\",\"title\":{\"standoff\":15},\"zerolinecolor\":\"white\",\"automargin\":true,\"zerolinewidth\":2},\"scene\":{\"xaxis\":{\"backgroundcolor\":\"#E5ECF6\",\"gridcolor\":\"white\",\"linecolor\":\"white\",\"showbackground\":true,\"ticks\":\"\",\"zerolinecolor\":\"white\",\"gridwidth\":2},\"yaxis\":{\"backgroundcolor\":\"#E5ECF6\",\"gridcolor\":\"white\",\"linecolor\":\"white\",\"showbackground\":true,\"ticks\":\"\",\"zerolinecolor\":\"white\",\"gridwidth\":2},\"zaxis\":{\"backgroundcolor\":\"#E5ECF6\",\"gridcolor\":\"white\",\"linecolor\":\"white\",\"showbackground\":true,\"ticks\":\"\",\"zerolinecolor\":\"white\",\"gridwidth\":2}},\"shapedefaults\":{\"line\":{\"color\":\"#2a3f5f\"}},\"annotationdefaults\":{\"arrowcolor\":\"#2a3f5f\",\"arrowhead\":0,\"arrowwidth\":1},\"geo\":{\"bgcolor\":\"white\",\"landcolor\":\"#E5ECF6\",\"subunitcolor\":\"white\",\"showland\":true,\"showlakes\":true,\"lakecolor\":\"white\"},\"title\":{\"x\":0.05},\"mapbox\":{\"style\":\"light\"}}},\"mapbox\":{\"center\":{\"lat\":28.59725,\"lon\":77.22635},\"style\":\"open-street-map\",\"zoom\":12},\"title\":{\"text\":\"Top 5 Cheapest Stations and Reference Point\",\"x\":0.5},\"height\":600},                        {\"responsive\": true}                    ).then(function(){\n",
       "                            \n",
       "var gd = document.getElementById('f44b4bde-a7ed-42e0-a179-a6b7b5f0534e');\n",
       "var x = new MutationObserver(function (mutations, observer) {{\n",
       "        var display = window.getComputedStyle(gd).display;\n",
       "        if (!display || display === 'none') {{\n",
       "            console.log([gd, 'removed!']);\n",
       "            Plotly.purge(gd);\n",
       "            observer.disconnect();\n",
       "        }}\n",
       "}});\n",
       "\n",
       "// Listen for the removal of the full notebook cells\n",
       "var notebookContainer = gd.closest('#notebook-container');\n",
       "if (notebookContainer) {{\n",
       "    x.observe(notebookContainer, {childList: true});\n",
       "}}\n",
       "\n",
       "// Listen for the clearing of the current output cell\n",
       "var outputEl = gd.closest('.output');\n",
       "if (outputEl) {{\n",
       "    x.observe(outputEl, {childList: true});\n",
       "}}\n",
       "\n",
       "                        })                };                });            </script>        </div>"
      ]
     },
     "metadata": {},
     "output_type": "display_data"
    }
   ],
   "source": [
    "# Coordinates for the 5 cheapest stations\n",
    "cheapest_stations = cheapest_stations_df  # Assuming this contains 'Address' and 'Total Cost'\n",
    "latitudes = filtered_combined_df.loc[cheapest_stations_df.index, 'Latitude']\n",
    "longitudes = filtered_combined_df.loc[cheapest_stations_df.index, 'Longitude']\n",
    "\n",
    "# Create the map figure\n",
    "fig = go.Figure()\n",
    "\n",
    "# Add the reference point\n",
    "fig.add_trace(go.Scattermapbox(\n",
    "    lat=[reference_point['latitude']],  # Use key 'latitude'\n",
    "    lon=[reference_point['longitude']],  # Use key 'longitude'\n",
    "    mode='markers+text',\n",
    "    marker=dict(size=15, color='red'),\n",
    "    text=[\"Reference Point\"],\n",
    "    textposition=\"top right\",\n",
    "    name=\"Reference Point\"\n",
    "))\n",
    "# Add the 5 cheapest stations\n",
    "fig.add_trace(go.Scattermapbox(\n",
    "    lat=latitudes,\n",
    "    lon=longitudes,\n",
    "    mode='markers+text',\n",
    "    marker=dict(size=12, color='blue'),\n",
    "    text=[\n",
    "        f\"Name: {row['Name']}<br>\"\n",
    "        f\"Address: {row['Address']}<br>\"\n",
    "        f\"Distance: {row['Distance']} km<br>\"\n",
    "        f\"Cost per Kwh: {row['Cost_per_Unit']} <br>\"\n",
    "        f\"Total Cost: {row['Total Cost']}\"\n",
    "        for _, row in cheapest_stations.iterrows()\n",
    "    ],\n",
    "    textposition=\"bottom right\",\n",
    "    name=\"Cheapest Stations\"\n",
    "))\n",
    "\n",
    "\n",
    "# Update layout with map details\n",
    "fig.update_layout(\n",
    "    mapbox=dict(\n",
    "        style=\"open-street-map\",\n",
    "        center=dict(\n",
    "            lat=reference_point['latitude'], \n",
    "            lon=reference_point['longitude']\n",
    "        ),\n",
    "        zoom=12\n",
    "    ),\n",
    "    title=\"Top 5 Cheapest Stations and Reference Point\",\n",
    "    title_x=0.5,\n",
    "    height=600\n",
    ")\n",
    "\n",
    "\n",
    "# Show the map\n",
    "fig.show()"
   ]
  },
  {
   "cell_type": "code",
   "execution_count": null,
   "id": "6a167bf0",
   "metadata": {},
   "outputs": [],
   "source": []
  },
  {
   "cell_type": "code",
   "execution_count": null,
   "id": "4ac6c4c8",
   "metadata": {},
   "outputs": [],
   "source": []
  }
 ],
 "metadata": {
  "kernelspec": {
   "display_name": "Python 3 (ipykernel)",
   "language": "python",
   "name": "python3"
  },
  "language_info": {
   "codemirror_mode": {
    "name": "ipython",
    "version": 3
   },
   "file_extension": ".py",
   "mimetype": "text/x-python",
   "name": "python",
   "nbconvert_exporter": "python",
   "pygments_lexer": "ipython3",
   "version": "3.11.4"
  }
 },
 "nbformat": 4,
 "nbformat_minor": 5
}
