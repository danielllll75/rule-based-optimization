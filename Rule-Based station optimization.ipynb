{
 "cells": [
  {
   "cell_type": "code",
   "execution_count": 1,
   "id": "fdca4b03",
   "metadata": {},
   "outputs": [],
   "source": [
    "import numpy as np\n",
    "import pandas as pd"
   ]
  },
  {
   "cell_type": "markdown",
   "id": "cbb5aa1a",
   "metadata": {},
   "source": [
    "## Step 1: Gather and Prepare Data"
   ]
  },
  {
   "cell_type": "markdown",
   "id": "582ac2f9",
   "metadata": {},
   "source": [
    "### Input Data"
   ]
  },
  {
   "cell_type": "markdown",
   "id": "65002d83",
   "metadata": {},
   "source": [
    "#### Heavy Machiney Data"
   ]
  },
  {
   "cell_type": "code",
   "execution_count": 2,
   "id": "9d675956",
   "metadata": {},
   "outputs": [
    {
     "name": "stdout",
     "output_type": "stream",
     "text": [
      "Energy demand : 225.0 kWh\n"
     ]
    }
   ],
   "source": [
    "BC = 300          # Battery capacity (Kwh)\n",
    "r = BC * 0.25     # Current SOC based on the percentage of the battery capacity\n",
    "D = BC - r        # Required energy demand\n",
    "v = 40           # Charging speed (Kw)\n",
    "print(f\"Energy demand : {D} kWh\") "
   ]
  },
  {
   "cell_type": "markdown",
   "id": "474354ff",
   "metadata": {},
   "source": [
    "#### Stations Data"
   ]
  },
  {
   "cell_type": "code",
   "execution_count": 3,
   "id": "9f15f3d1",
   "metadata": {},
   "outputs": [],
   "source": [
    "dataset = pd.read_excel('C:\\\\Users\\\\ASUS\\\\Downloads\\\\archive\\\\Complete_Dataset.xlsx')\n",
    "dataset\n",
    "CS = dataset['capacity']             # Charging speed (Kw)\n",
    "a = dataset['available']             # Availability\n",
    "latitude = dataset['latitude']       # Latitudes of stations\n",
    "longitude = dataset['longitude']     # Longitudes of stations"
   ]
  },
  {
   "cell_type": "markdown",
   "id": "abc117cd",
   "metadata": {},
   "source": [
    "## Step 2: Define the rules"
   ]
  },
  {
   "cell_type": "markdown",
   "id": "7c2093ab",
   "metadata": {},
   "source": [
    "### Distance Check"
   ]
  },
  {
   "cell_type": "code",
   "execution_count": 27,
   "id": "1c75e7ce",
   "metadata": {
    "scrolled": true
   },
   "outputs": [
    {
     "data": {
      "text/html": [
       "<div>\n",
       "<style scoped>\n",
       "    .dataframe tbody tr th:only-of-type {\n",
       "        vertical-align: middle;\n",
       "    }\n",
       "\n",
       "    .dataframe tbody tr th {\n",
       "        vertical-align: top;\n",
       "    }\n",
       "\n",
       "    .dataframe thead th {\n",
       "        text-align: right;\n",
       "    }\n",
       "</style>\n",
       "<table border=\"1\" class=\"dataframe\">\n",
       "  <thead>\n",
       "    <tr style=\"text-align: right;\">\n",
       "      <th></th>\n",
       "      <th>Name</th>\n",
       "      <th>Address</th>\n",
       "      <th>Latitude</th>\n",
       "      <th>Longitude</th>\n",
       "      <th>Cost_per_Unit</th>\n",
       "      <th>Distance</th>\n",
       "      <th>Available</th>\n",
       "    </tr>\n",
       "  </thead>\n",
       "  <tbody>\n",
       "    <tr>\n",
       "      <th>0</th>\n",
       "      <td>REIL</td>\n",
       "      <td>Nizamuddin Railway station</td>\n",
       "      <td>28.588991</td>\n",
       "      <td>77.253240</td>\n",
       "      <td>11.56</td>\n",
       "      <td>2.79</td>\n",
       "      <td>0</td>\n",
       "    </tr>\n",
       "    <tr>\n",
       "      <th>1</th>\n",
       "      <td>EESL</td>\n",
       "      <td>NDMC Parking, Khan Market, New Delhi, 110003</td>\n",
       "      <td>28.600324</td>\n",
       "      <td>77.226883</td>\n",
       "      <td>10.00</td>\n",
       "      <td>0.34</td>\n",
       "      <td>1</td>\n",
       "    </tr>\n",
       "    <tr>\n",
       "      <th>2</th>\n",
       "      <td>EESL</td>\n",
       "      <td>NDMC Parking, Prithviraj Market, Prithviraj Ln...</td>\n",
       "      <td>28.600735</td>\n",
       "      <td>77.226277</td>\n",
       "      <td>10.00</td>\n",
       "      <td>0.39</td>\n",
       "      <td>1</td>\n",
       "    </tr>\n",
       "    <tr>\n",
       "      <th>3</th>\n",
       "      <td>EESL</td>\n",
       "      <td>NDMC Parking, Outside RWA Park, Jor Bagh Marke...</td>\n",
       "      <td>28.588117</td>\n",
       "      <td>77.217564</td>\n",
       "      <td>10.00</td>\n",
       "      <td>1.33</td>\n",
       "      <td>1</td>\n",
       "    </tr>\n",
       "    <tr>\n",
       "      <th>4</th>\n",
       "      <td>EESL</td>\n",
       "      <td>NDMC Parking, Opposite Goel Opticals, Khanna M...</td>\n",
       "      <td>28.580532</td>\n",
       "      <td>77.221048</td>\n",
       "      <td>10.00</td>\n",
       "      <td>1.92</td>\n",
       "      <td>1</td>\n",
       "    </tr>\n",
       "  </tbody>\n",
       "</table>\n",
       "</div>"
      ],
      "text/plain": [
       "   Name                                            Address   Latitude  \\\n",
       "0  REIL                         Nizamuddin Railway station  28.588991   \n",
       "1  EESL       NDMC Parking, Khan Market, New Delhi, 110003  28.600324   \n",
       "2  EESL  NDMC Parking, Prithviraj Market, Prithviraj Ln...  28.600735   \n",
       "3  EESL  NDMC Parking, Outside RWA Park, Jor Bagh Marke...  28.588117   \n",
       "4  EESL  NDMC Parking, Opposite Goel Opticals, Khanna M...  28.580532   \n",
       "\n",
       "   Longitude  Cost_per_Unit  Distance  Available  \n",
       "0  77.253240          11.56      2.79          0  \n",
       "1  77.226883          10.00      0.34          1  \n",
       "2  77.226277          10.00      0.39          1  \n",
       "3  77.217564          10.00      1.33          1  \n",
       "4  77.221048          10.00      1.92          1  "
      ]
     },
     "execution_count": 27,
     "metadata": {},
     "output_type": "execute_result"
    }
   ],
   "source": [
    "from geopy.distance import geodesic\n",
    "import pandas as pd  # Assuming pandas is being used for your dataset\n",
    "\n",
    "# Reference coordinate (latitude, longitude)\n",
    "reference_point = (28.597250, 77.226350)\n",
    "\n",
    "# Calculate distances for all stations and round to two decimal places\n",
    "dataset['Distance'] = dataset.apply(lambda row: round(geodesic(reference_point, \n",
    "                                                               (row['latitude'], row['longitude'])).kilometers, 2), axis=1)\n",
    "\n",
    "# Filter stations by distance condition\n",
    "results_distance = []\n",
    "for _, row in dataset[dataset['Distance'] <= 3].iterrows():  # Filter stations within less than 3km\n",
    "    results_distance.append([row['name'], row['address'], \n",
    "                             row['latitude'], row['longitude'], row['cost_per_unit'], row['Distance'], row.get('available', None)])\n",
    "\n",
    "# Convert to dataframe\n",
    "filtered_distance_df = pd.DataFrame(results_distance, \n",
    "                                    columns=['Name', 'Address', 'Latitude', 'Longitude', 'Cost_per_Unit', 'Distance', 'Available'])\n",
    "\n",
    "# View the filtered dataframe\n",
    "filtered_distance_df.head()\n",
    "\n"
   ]
  },
  {
   "cell_type": "markdown",
   "id": "54539c66",
   "metadata": {},
   "source": [
    "#### Availability Check"
   ]
  },
  {
   "cell_type": "code",
   "execution_count": 28,
   "id": "021d5555",
   "metadata": {},
   "outputs": [
    {
     "data": {
      "text/html": [
       "<div>\n",
       "<style scoped>\n",
       "    .dataframe tbody tr th:only-of-type {\n",
       "        vertical-align: middle;\n",
       "    }\n",
       "\n",
       "    .dataframe tbody tr th {\n",
       "        vertical-align: top;\n",
       "    }\n",
       "\n",
       "    .dataframe thead th {\n",
       "        text-align: right;\n",
       "    }\n",
       "</style>\n",
       "<table border=\"1\" class=\"dataframe\">\n",
       "  <thead>\n",
       "    <tr style=\"text-align: right;\">\n",
       "      <th></th>\n",
       "      <th>Name</th>\n",
       "      <th>Address</th>\n",
       "      <th>Latitude</th>\n",
       "      <th>Longitude</th>\n",
       "      <th>Cost_per_Unit</th>\n",
       "      <th>Distance</th>\n",
       "      <th>Available</th>\n",
       "    </tr>\n",
       "  </thead>\n",
       "  <tbody>\n",
       "    <tr>\n",
       "      <th>0</th>\n",
       "      <td>EESL</td>\n",
       "      <td>NDMC Parking, Khan Market, New Delhi, 110003</td>\n",
       "      <td>28.600324</td>\n",
       "      <td>77.226883</td>\n",
       "      <td>10.0</td>\n",
       "      <td>0.34</td>\n",
       "      <td>1</td>\n",
       "    </tr>\n",
       "    <tr>\n",
       "      <th>1</th>\n",
       "      <td>EESL</td>\n",
       "      <td>NDMC Parking, Prithviraj Market, Prithviraj Ln...</td>\n",
       "      <td>28.600735</td>\n",
       "      <td>77.226277</td>\n",
       "      <td>10.0</td>\n",
       "      <td>0.39</td>\n",
       "      <td>1</td>\n",
       "    </tr>\n",
       "    <tr>\n",
       "      <th>2</th>\n",
       "      <td>EESL</td>\n",
       "      <td>NDMC Parking, Outside RWA Park, Jor Bagh Marke...</td>\n",
       "      <td>28.588117</td>\n",
       "      <td>77.217564</td>\n",
       "      <td>10.0</td>\n",
       "      <td>1.33</td>\n",
       "      <td>1</td>\n",
       "    </tr>\n",
       "    <tr>\n",
       "      <th>3</th>\n",
       "      <td>EESL</td>\n",
       "      <td>NDMC Parking, Opposite Goel Opticals, Khanna M...</td>\n",
       "      <td>28.580532</td>\n",
       "      <td>77.221048</td>\n",
       "      <td>10.0</td>\n",
       "      <td>1.92</td>\n",
       "      <td>1</td>\n",
       "    </tr>\n",
       "    <tr>\n",
       "      <th>4</th>\n",
       "      <td>EESL</td>\n",
       "      <td>NDMC Parking, Opposite Dory Pharmacy, Khanna M...</td>\n",
       "      <td>28.584365</td>\n",
       "      <td>77.220540</td>\n",
       "      <td>10.0</td>\n",
       "      <td>1.54</td>\n",
       "      <td>1</td>\n",
       "    </tr>\n",
       "  </tbody>\n",
       "</table>\n",
       "</div>"
      ],
      "text/plain": [
       "   Name                                            Address   Latitude  \\\n",
       "0  EESL       NDMC Parking, Khan Market, New Delhi, 110003  28.600324   \n",
       "1  EESL  NDMC Parking, Prithviraj Market, Prithviraj Ln...  28.600735   \n",
       "2  EESL  NDMC Parking, Outside RWA Park, Jor Bagh Marke...  28.588117   \n",
       "3  EESL  NDMC Parking, Opposite Goel Opticals, Khanna M...  28.580532   \n",
       "4  EESL  NDMC Parking, Opposite Dory Pharmacy, Khanna M...  28.584365   \n",
       "\n",
       "   Longitude  Cost_per_Unit  Distance  Available  \n",
       "0  77.226883           10.0      0.34          1  \n",
       "1  77.226277           10.0      0.39          1  \n",
       "2  77.217564           10.0      1.33          1  \n",
       "3  77.221048           10.0      1.92          1  \n",
       "4  77.220540           10.0      1.54          1  "
      ]
     },
     "execution_count": 28,
     "metadata": {},
     "output_type": "execute_result"
    }
   ],
   "source": [
    "\n",
    "results_available = []\n",
    "for _, row in dataset[dataset['available'] > 0].iterrows():                     # Filter stations for their availability\n",
    "    results_available.append([row['name'], row['address'], row['latitude'], row['longitude'], row['cost_per_unit'], row.get('Distance', None), row['available']])\n",
    "\n",
    "\n",
    "filtered_available_df = pd.DataFrame(results_available,                        # Convert to dataframe\n",
    "                                     columns=['Name', 'Address', 'Latitude', 'Longitude', 'Cost_per_Unit', 'Distance', 'Available'])\n",
    "\n",
    "\n",
    "filtered_available_df.head()"
   ]
  },
  {
   "cell_type": "markdown",
   "id": "205cb59f",
   "metadata": {},
   "source": [
    "#### Combine two conditions"
   ]
  },
  {
   "cell_type": "code",
   "execution_count": 29,
   "id": "69030ec3",
   "metadata": {
    "scrolled": false
   },
   "outputs": [
    {
     "data": {
      "text/html": [
       "<div>\n",
       "<style scoped>\n",
       "    .dataframe tbody tr th:only-of-type {\n",
       "        vertical-align: middle;\n",
       "    }\n",
       "\n",
       "    .dataframe tbody tr th {\n",
       "        vertical-align: top;\n",
       "    }\n",
       "\n",
       "    .dataframe thead th {\n",
       "        text-align: right;\n",
       "    }\n",
       "</style>\n",
       "<table border=\"1\" class=\"dataframe\">\n",
       "  <thead>\n",
       "    <tr style=\"text-align: right;\">\n",
       "      <th></th>\n",
       "      <th>Name</th>\n",
       "      <th>Address</th>\n",
       "      <th>Latitude</th>\n",
       "      <th>Longitude</th>\n",
       "      <th>Cost_per_Unit</th>\n",
       "      <th>Distance</th>\n",
       "      <th>Available</th>\n",
       "    </tr>\n",
       "  </thead>\n",
       "  <tbody>\n",
       "    <tr>\n",
       "      <th>0</th>\n",
       "      <td>EESL</td>\n",
       "      <td>NDMC Parking, Khan Market, New Delhi, 110003</td>\n",
       "      <td>28.600324</td>\n",
       "      <td>77.226883</td>\n",
       "      <td>10.0</td>\n",
       "      <td>0.34</td>\n",
       "      <td>1</td>\n",
       "    </tr>\n",
       "    <tr>\n",
       "      <th>1</th>\n",
       "      <td>EESL</td>\n",
       "      <td>NDMC Parking, Prithviraj Market, Prithviraj Ln...</td>\n",
       "      <td>28.600735</td>\n",
       "      <td>77.226277</td>\n",
       "      <td>10.0</td>\n",
       "      <td>0.39</td>\n",
       "      <td>1</td>\n",
       "    </tr>\n",
       "    <tr>\n",
       "      <th>2</th>\n",
       "      <td>EESL</td>\n",
       "      <td>NDMC Parking, Outside RWA Park, Jor Bagh Marke...</td>\n",
       "      <td>28.588117</td>\n",
       "      <td>77.217564</td>\n",
       "      <td>10.0</td>\n",
       "      <td>1.33</td>\n",
       "      <td>1</td>\n",
       "    </tr>\n",
       "    <tr>\n",
       "      <th>3</th>\n",
       "      <td>EESL</td>\n",
       "      <td>NDMC Parking, Opposite Goel Opticals, Khanna M...</td>\n",
       "      <td>28.580532</td>\n",
       "      <td>77.221048</td>\n",
       "      <td>10.0</td>\n",
       "      <td>1.92</td>\n",
       "      <td>1</td>\n",
       "    </tr>\n",
       "    <tr>\n",
       "      <th>4</th>\n",
       "      <td>EESL</td>\n",
       "      <td>NDMC Parking, Opposite Dory Pharmacy, Khanna M...</td>\n",
       "      <td>28.584365</td>\n",
       "      <td>77.220540</td>\n",
       "      <td>10.0</td>\n",
       "      <td>1.54</td>\n",
       "      <td>1</td>\n",
       "    </tr>\n",
       "  </tbody>\n",
       "</table>\n",
       "</div>"
      ],
      "text/plain": [
       "   Name                                            Address   Latitude  \\\n",
       "0  EESL       NDMC Parking, Khan Market, New Delhi, 110003  28.600324   \n",
       "1  EESL  NDMC Parking, Prithviraj Market, Prithviraj Ln...  28.600735   \n",
       "2  EESL  NDMC Parking, Outside RWA Park, Jor Bagh Marke...  28.588117   \n",
       "3  EESL  NDMC Parking, Opposite Goel Opticals, Khanna M...  28.580532   \n",
       "4  EESL  NDMC Parking, Opposite Dory Pharmacy, Khanna M...  28.584365   \n",
       "\n",
       "   Longitude  Cost_per_Unit  Distance  Available  \n",
       "0  77.226883           10.0      0.34          1  \n",
       "1  77.226277           10.0      0.39          1  \n",
       "2  77.217564           10.0      1.33          1  \n",
       "3  77.221048           10.0      1.92          1  \n",
       "4  77.220540           10.0      1.54          1  "
      ]
     },
     "execution_count": 29,
     "metadata": {},
     "output_type": "execute_result"
    }
   ],
   "source": [
    "results_combined = []\n",
    "for _, row in dataset[(dataset['Distance'] <= 3) & (dataset['available'] > 0)].iterrows(): # Combine both two conditions\n",
    "    results_combined.append([row['name'], row['address'], row['latitude'], row['longitude'], row['cost_per_unit'], row['Distance'], row['available']])\n",
    "\n",
    "\n",
    "filtered_combined_df = pd.DataFrame(results_combined,                                       \n",
    "                                    columns=['Name', 'Address', 'Latitude', 'Longitude', 'Cost_per_Unit', 'Distance', 'Available'])\n",
    "\n",
    "filtered_combined_df.head()"
   ]
  },
  {
   "cell_type": "code",
   "execution_count": 30,
   "id": "050426c8",
   "metadata": {
    "scrolled": true
   },
   "outputs": [
    {
     "data": {
      "text/html": [
       "<div>\n",
       "<style scoped>\n",
       "    .dataframe tbody tr th:only-of-type {\n",
       "        vertical-align: middle;\n",
       "    }\n",
       "\n",
       "    .dataframe tbody tr th {\n",
       "        vertical-align: top;\n",
       "    }\n",
       "\n",
       "    .dataframe thead th {\n",
       "        text-align: right;\n",
       "    }\n",
       "</style>\n",
       "<table border=\"1\" class=\"dataframe\">\n",
       "  <thead>\n",
       "    <tr style=\"text-align: right;\">\n",
       "      <th></th>\n",
       "      <th>Name</th>\n",
       "      <th>Address</th>\n",
       "      <th>Latitude</th>\n",
       "      <th>Longitude</th>\n",
       "      <th>Cost_per_Unit</th>\n",
       "      <th>Distance</th>\n",
       "      <th>Available</th>\n",
       "    </tr>\n",
       "  </thead>\n",
       "  <tbody>\n",
       "    <tr>\n",
       "      <th>0</th>\n",
       "      <td>EESL</td>\n",
       "      <td>NDMC Parking, Khan Market, New Delhi, 110003</td>\n",
       "      <td>28.600324</td>\n",
       "      <td>77.226883</td>\n",
       "      <td>10.00</td>\n",
       "      <td>0.34</td>\n",
       "      <td>1</td>\n",
       "    </tr>\n",
       "    <tr>\n",
       "      <th>1</th>\n",
       "      <td>EESL</td>\n",
       "      <td>NDMC Parking, Prithviraj Market, Prithviraj Ln...</td>\n",
       "      <td>28.600735</td>\n",
       "      <td>77.226277</td>\n",
       "      <td>10.00</td>\n",
       "      <td>0.39</td>\n",
       "      <td>1</td>\n",
       "    </tr>\n",
       "    <tr>\n",
       "      <th>2</th>\n",
       "      <td>EESL</td>\n",
       "      <td>NDMC Parking, Outside RWA Park, Jor Bagh Marke...</td>\n",
       "      <td>28.588117</td>\n",
       "      <td>77.217564</td>\n",
       "      <td>10.00</td>\n",
       "      <td>1.33</td>\n",
       "      <td>1</td>\n",
       "    </tr>\n",
       "    <tr>\n",
       "      <th>3</th>\n",
       "      <td>EESL</td>\n",
       "      <td>NDMC Parking, Opposite Goel Opticals, Khanna M...</td>\n",
       "      <td>28.580532</td>\n",
       "      <td>77.221048</td>\n",
       "      <td>10.00</td>\n",
       "      <td>1.92</td>\n",
       "      <td>1</td>\n",
       "    </tr>\n",
       "    <tr>\n",
       "      <th>4</th>\n",
       "      <td>EESL</td>\n",
       "      <td>NDMC Parking, Opposite Dory Pharmacy, Khanna M...</td>\n",
       "      <td>28.584365</td>\n",
       "      <td>77.220540</td>\n",
       "      <td>10.00</td>\n",
       "      <td>1.54</td>\n",
       "      <td>1</td>\n",
       "    </tr>\n",
       "    <tr>\n",
       "      <th>5</th>\n",
       "      <td>EESL</td>\n",
       "      <td>NDMC Parking,  Outside Oriental Bank, Radial R...</td>\n",
       "      <td>28.600152</td>\n",
       "      <td>77.215762</td>\n",
       "      <td>10.00</td>\n",
       "      <td>1.08</td>\n",
       "      <td>1</td>\n",
       "    </tr>\n",
       "    <tr>\n",
       "      <th>6</th>\n",
       "      <td>EESL</td>\n",
       "      <td>NDMC Parking,  Side of Hotel Claridges,  Tees ...</td>\n",
       "      <td>28.600234</td>\n",
       "      <td>77.213530</td>\n",
       "      <td>10.00</td>\n",
       "      <td>1.30</td>\n",
       "      <td>1</td>\n",
       "    </tr>\n",
       "    <tr>\n",
       "      <th>7</th>\n",
       "      <td>EESL</td>\n",
       "      <td>NDMC Parking,  Back of Hotel Claridges,  Tees ...</td>\n",
       "      <td>28.601118</td>\n",
       "      <td>77.213603</td>\n",
       "      <td>10.00</td>\n",
       "      <td>1.32</td>\n",
       "      <td>1</td>\n",
       "    </tr>\n",
       "    <tr>\n",
       "      <th>8</th>\n",
       "      <td>EESL</td>\n",
       "      <td>NDMC Parking,  Gate No. 1, Lodhi Gardens, Lodh...</td>\n",
       "      <td>28.590311</td>\n",
       "      <td>77.220163</td>\n",
       "      <td>10.00</td>\n",
       "      <td>0.98</td>\n",
       "      <td>1</td>\n",
       "    </tr>\n",
       "    <tr>\n",
       "      <th>9</th>\n",
       "      <td>EESL</td>\n",
       "      <td>Outside Chelmsford Club/ Opposite CSIR Buildin...</td>\n",
       "      <td>28.618177</td>\n",
       "      <td>77.212590</td>\n",
       "      <td>9.50</td>\n",
       "      <td>2.68</td>\n",
       "      <td>2</td>\n",
       "    </tr>\n",
       "    <tr>\n",
       "      <th>10</th>\n",
       "      <td>EESL</td>\n",
       "      <td>Outside Chelmsford Club/ Opposite CSIR Buildin...</td>\n",
       "      <td>28.618177</td>\n",
       "      <td>77.212590</td>\n",
       "      <td>19.00</td>\n",
       "      <td>2.68</td>\n",
       "      <td>4</td>\n",
       "    </tr>\n",
       "    <tr>\n",
       "      <th>11</th>\n",
       "      <td>EESL</td>\n",
       "      <td>Outside Chelmsford Club/ Opposite CSIR Buildin...</td>\n",
       "      <td>28.618177</td>\n",
       "      <td>77.212590</td>\n",
       "      <td>19.00</td>\n",
       "      <td>2.68</td>\n",
       "      <td>4</td>\n",
       "    </tr>\n",
       "    <tr>\n",
       "      <th>12</th>\n",
       "      <td>EESL</td>\n",
       "      <td>Outside Chelmsford Club/ Opposite CSIR Buildin...</td>\n",
       "      <td>28.618177</td>\n",
       "      <td>77.212590</td>\n",
       "      <td>19.00</td>\n",
       "      <td>2.68</td>\n",
       "      <td>4</td>\n",
       "    </tr>\n",
       "    <tr>\n",
       "      <th>13</th>\n",
       "      <td>EESL</td>\n",
       "      <td>Laxmi Bai Market, Safderjung Flyover, New Delhi</td>\n",
       "      <td>28.577999</td>\n",
       "      <td>77.209521</td>\n",
       "      <td>9.50</td>\n",
       "      <td>2.69</td>\n",
       "      <td>1</td>\n",
       "    </tr>\n",
       "    <tr>\n",
       "      <th>14</th>\n",
       "      <td>EESL</td>\n",
       "      <td>Double Story Market, Maherchand Lodhi Road, Ne...</td>\n",
       "      <td>28.581077</td>\n",
       "      <td>77.227199</td>\n",
       "      <td>10.00</td>\n",
       "      <td>1.79</td>\n",
       "      <td>2</td>\n",
       "    </tr>\n",
       "    <tr>\n",
       "      <th>15</th>\n",
       "      <td>EESL</td>\n",
       "      <td>Double Story Market, Maherchand Lodhi Road, Ne...</td>\n",
       "      <td>28.581077</td>\n",
       "      <td>77.227199</td>\n",
       "      <td>26.00</td>\n",
       "      <td>1.79</td>\n",
       "      <td>2</td>\n",
       "    </tr>\n",
       "    <tr>\n",
       "      <th>16</th>\n",
       "      <td>EESL</td>\n",
       "      <td>Double Story Market, Maherchand Lodhi Road, Ne...</td>\n",
       "      <td>28.581077</td>\n",
       "      <td>77.227199</td>\n",
       "      <td>10.00</td>\n",
       "      <td>1.79</td>\n",
       "      <td>2</td>\n",
       "    </tr>\n",
       "    <tr>\n",
       "      <th>17</th>\n",
       "      <td>REVOS</td>\n",
       "      <td>E -12, ground floor, Lajpat Nagar 1, New Delhi...</td>\n",
       "      <td>28.573348</td>\n",
       "      <td>77.237225</td>\n",
       "      <td>10.00</td>\n",
       "      <td>2.85</td>\n",
       "      <td>1</td>\n",
       "    </tr>\n",
       "    <tr>\n",
       "      <th>18</th>\n",
       "      <td>REVOS</td>\n",
       "      <td>E -12, ground floor, Lajpat Nagar 1, New Delhi...</td>\n",
       "      <td>28.573348</td>\n",
       "      <td>77.237225</td>\n",
       "      <td>10.00</td>\n",
       "      <td>2.85</td>\n",
       "      <td>1</td>\n",
       "    </tr>\n",
       "    <tr>\n",
       "      <th>19</th>\n",
       "      <td>REVOS</td>\n",
       "      <td>E -12, ground floor, Lajpat Nagar 1, New Delhi...</td>\n",
       "      <td>28.573348</td>\n",
       "      <td>77.237225</td>\n",
       "      <td>10.00</td>\n",
       "      <td>2.85</td>\n",
       "      <td>1</td>\n",
       "    </tr>\n",
       "    <tr>\n",
       "      <th>20</th>\n",
       "      <td>REVOS</td>\n",
       "      <td>E -12, ground floor, Lajpat Nagar 1, New Delhi...</td>\n",
       "      <td>28.573348</td>\n",
       "      <td>77.237225</td>\n",
       "      <td>10.00</td>\n",
       "      <td>2.85</td>\n",
       "      <td>1</td>\n",
       "    </tr>\n",
       "    <tr>\n",
       "      <th>21</th>\n",
       "      <td>REVOS</td>\n",
       "      <td>E -12, ground floor, Lajpat Nagar 1, New Delhi...</td>\n",
       "      <td>28.573348</td>\n",
       "      <td>77.237225</td>\n",
       "      <td>10.00</td>\n",
       "      <td>2.85</td>\n",
       "      <td>1</td>\n",
       "    </tr>\n",
       "    <tr>\n",
       "      <th>22</th>\n",
       "      <td>REVOS</td>\n",
       "      <td>E -12, ground floor, Lajpat Nagar 1, New Delhi...</td>\n",
       "      <td>28.573348</td>\n",
       "      <td>77.237225</td>\n",
       "      <td>10.00</td>\n",
       "      <td>2.85</td>\n",
       "      <td>1</td>\n",
       "    </tr>\n",
       "    <tr>\n",
       "      <th>23</th>\n",
       "      <td>REVOS</td>\n",
       "      <td>B215 lagpat nagar delhi</td>\n",
       "      <td>28.574852</td>\n",
       "      <td>77.241118</td>\n",
       "      <td>10.00</td>\n",
       "      <td>2.87</td>\n",
       "      <td>1</td>\n",
       "    </tr>\n",
       "    <tr>\n",
       "      <th>24</th>\n",
       "      <td>REVOS</td>\n",
       "      <td>B 215 Lajpat Nagar Delhi</td>\n",
       "      <td>28.575134</td>\n",
       "      <td>77.238969</td>\n",
       "      <td>10.00</td>\n",
       "      <td>2.74</td>\n",
       "      <td>1</td>\n",
       "    </tr>\n",
       "    <tr>\n",
       "      <th>25</th>\n",
       "      <td>REVOS</td>\n",
       "      <td>prem nagar near tyagraj stadium tyagraj park</td>\n",
       "      <td>28.579135</td>\n",
       "      <td>77.215703</td>\n",
       "      <td>10.00</td>\n",
       "      <td>2.26</td>\n",
       "      <td>1</td>\n",
       "    </tr>\n",
       "    <tr>\n",
       "      <th>26</th>\n",
       "      <td>REVOS</td>\n",
       "      <td>prem nagar near tyagraj stadium tyagraj park</td>\n",
       "      <td>28.579142</td>\n",
       "      <td>77.215722</td>\n",
       "      <td>10.00</td>\n",
       "      <td>2.26</td>\n",
       "      <td>1</td>\n",
       "    </tr>\n",
       "    <tr>\n",
       "      <th>27</th>\n",
       "      <td>REVOS</td>\n",
       "      <td>near mother dairy nizamuddin railway station</td>\n",
       "      <td>28.588216</td>\n",
       "      <td>77.255175</td>\n",
       "      <td>10.00</td>\n",
       "      <td>2.99</td>\n",
       "      <td>1</td>\n",
       "    </tr>\n",
       "    <tr>\n",
       "      <th>28</th>\n",
       "      <td>REVOS</td>\n",
       "      <td>111 3  sukhdev market kotla Mubarakpur</td>\n",
       "      <td>28.574873</td>\n",
       "      <td>77.227662</td>\n",
       "      <td>10.00</td>\n",
       "      <td>2.48</td>\n",
       "      <td>1</td>\n",
       "    </tr>\n",
       "    <tr>\n",
       "      <th>29</th>\n",
       "      <td>REVOS</td>\n",
       "      <td>a 111 3 sukhdev makrket kotla Mubarakpur</td>\n",
       "      <td>28.574880</td>\n",
       "      <td>77.227579</td>\n",
       "      <td>10.00</td>\n",
       "      <td>2.48</td>\n",
       "      <td>1</td>\n",
       "    </tr>\n",
       "    <tr>\n",
       "      <th>30</th>\n",
       "      <td>REVOS</td>\n",
       "      <td>A753/1, sukhdev Market, Kotla Mubarakpur</td>\n",
       "      <td>28.574847</td>\n",
       "      <td>77.227747</td>\n",
       "      <td>10.00</td>\n",
       "      <td>2.49</td>\n",
       "      <td>1</td>\n",
       "    </tr>\n",
       "    <tr>\n",
       "      <th>31</th>\n",
       "      <td>REVOS</td>\n",
       "      <td>808 Sukh Dev market kotla Mubarakpur new delhi</td>\n",
       "      <td>28.574992</td>\n",
       "      <td>77.228454</td>\n",
       "      <td>10.00</td>\n",
       "      <td>2.48</td>\n",
       "      <td>1</td>\n",
       "    </tr>\n",
       "    <tr>\n",
       "      <th>32</th>\n",
       "      <td>REVOS</td>\n",
       "      <td>New Auto Class B105 LAJPAT NAGER PART 1 CAR MA...</td>\n",
       "      <td>28.574737</td>\n",
       "      <td>77.239005</td>\n",
       "      <td>10.00</td>\n",
       "      <td>2.79</td>\n",
       "      <td>1</td>\n",
       "    </tr>\n",
       "    <tr>\n",
       "      <th>33</th>\n",
       "      <td>REVOS</td>\n",
       "      <td>New Auto Class B105 Lajpat Nagar part I New De...</td>\n",
       "      <td>28.574743</td>\n",
       "      <td>77.239031</td>\n",
       "      <td>10.00</td>\n",
       "      <td>2.79</td>\n",
       "      <td>1</td>\n",
       "    </tr>\n",
       "    <tr>\n",
       "      <th>34</th>\n",
       "      <td>REVOS</td>\n",
       "      <td>A-181/6 sukhdev nagar kotla Mubarakpur new delhi</td>\n",
       "      <td>28.574207</td>\n",
       "      <td>77.228207</td>\n",
       "      <td>10.00</td>\n",
       "      <td>2.56</td>\n",
       "      <td>1</td>\n",
       "    </tr>\n",
       "    <tr>\n",
       "      <th>35</th>\n",
       "      <td>REVOS</td>\n",
       "      <td>LAXMAN CHAMBER SHOP NO 6  BHOGAL ROAD JAUNGPURA</td>\n",
       "      <td>28.584462</td>\n",
       "      <td>77.247862</td>\n",
       "      <td>10.00</td>\n",
       "      <td>2.54</td>\n",
       "      <td>1</td>\n",
       "    </tr>\n",
       "    <tr>\n",
       "      <th>36</th>\n",
       "      <td>REVOS</td>\n",
       "      <td>C84 A LAJPAT NAGAR</td>\n",
       "      <td>28.577116</td>\n",
       "      <td>77.239365</td>\n",
       "      <td>10.00</td>\n",
       "      <td>2.57</td>\n",
       "      <td>1</td>\n",
       "    </tr>\n",
       "    <tr>\n",
       "      <th>37</th>\n",
       "      <td>REVOS</td>\n",
       "      <td>C84 A LAJPAT NAGAR</td>\n",
       "      <td>28.577116</td>\n",
       "      <td>77.239365</td>\n",
       "      <td>10.00</td>\n",
       "      <td>2.57</td>\n",
       "      <td>1</td>\n",
       "    </tr>\n",
       "    <tr>\n",
       "      <th>38</th>\n",
       "      <td>Indraprastha Metro Parking</td>\n",
       "      <td>Mahatma Gandhi Marg, Gas Turbine Power Station...</td>\n",
       "      <td>28.620000</td>\n",
       "      <td>77.240000</td>\n",
       "      <td>2.05</td>\n",
       "      <td>2.85</td>\n",
       "      <td>2</td>\n",
       "    </tr>\n",
       "    <tr>\n",
       "      <th>39</th>\n",
       "      <td>Indraprastha Metro Parking</td>\n",
       "      <td>Mahatma Gandhi Marg, Gas Turbine Power Station...</td>\n",
       "      <td>28.620000</td>\n",
       "      <td>77.240000</td>\n",
       "      <td>2.05</td>\n",
       "      <td>2.85</td>\n",
       "      <td>1</td>\n",
       "    </tr>\n",
       "    <tr>\n",
       "      <th>40</th>\n",
       "      <td>EESL Prithviraj Mark</td>\n",
       "      <td>NDMC Parking, Prithviraj Market, Prithviraj Ln...</td>\n",
       "      <td>28.600735</td>\n",
       "      <td>77.226277</td>\n",
       "      <td>10.00</td>\n",
       "      <td>0.39</td>\n",
       "      <td>1</td>\n",
       "    </tr>\n",
       "    <tr>\n",
       "      <th>41</th>\n",
       "      <td>EESL Jor Bagh Market</td>\n",
       "      <td>NDMC Parking, Outside RWA Park, Jor Bagh Marke...</td>\n",
       "      <td>28.588117</td>\n",
       "      <td>77.217564</td>\n",
       "      <td>10.00</td>\n",
       "      <td>1.33</td>\n",
       "      <td>1</td>\n",
       "    </tr>\n",
       "    <tr>\n",
       "      <th>42</th>\n",
       "      <td>EESL Khanna Market 1</td>\n",
       "      <td>NDMC Parking, Opposite Goel Opticals, Khanna M...</td>\n",
       "      <td>28.580532</td>\n",
       "      <td>77.221048</td>\n",
       "      <td>10.00</td>\n",
       "      <td>1.92</td>\n",
       "      <td>1</td>\n",
       "    </tr>\n",
       "    <tr>\n",
       "      <th>43</th>\n",
       "      <td>EESL Khanna Market 2</td>\n",
       "      <td>NDMC Parking, Opposite Dory Pharmacy, Khanna M...</td>\n",
       "      <td>28.584365</td>\n",
       "      <td>77.220540</td>\n",
       "      <td>10.00</td>\n",
       "      <td>1.54</td>\n",
       "      <td>1</td>\n",
       "    </tr>\n",
       "    <tr>\n",
       "      <th>44</th>\n",
       "      <td>EESL Oriental Bank</td>\n",
       "      <td>NDMC Parking,  Outside Oriental Bank, Radial R...</td>\n",
       "      <td>28.600152</td>\n",
       "      <td>77.215762</td>\n",
       "      <td>10.00</td>\n",
       "      <td>1.08</td>\n",
       "      <td>1</td>\n",
       "    </tr>\n",
       "    <tr>\n",
       "      <th>45</th>\n",
       "      <td>EESL Hotel Claridges</td>\n",
       "      <td>NDMC Parking,  Side of Hotel Claridges,  Tees ...</td>\n",
       "      <td>28.600234</td>\n",
       "      <td>77.213530</td>\n",
       "      <td>10.00</td>\n",
       "      <td>1.30</td>\n",
       "      <td>1</td>\n",
       "    </tr>\n",
       "    <tr>\n",
       "      <th>46</th>\n",
       "      <td>EESL Hotel Claridges</td>\n",
       "      <td>NDMC Parking,  Back of Hotel Claridges,  Tees ...</td>\n",
       "      <td>28.601118</td>\n",
       "      <td>77.213603</td>\n",
       "      <td>10.00</td>\n",
       "      <td>1.32</td>\n",
       "      <td>1</td>\n",
       "    </tr>\n",
       "    <tr>\n",
       "      <th>47</th>\n",
       "      <td>EESL Lodhi Garden</td>\n",
       "      <td>NDMC Parking,  Gate No. 1, Lodhi Gardens, Lodh...</td>\n",
       "      <td>28.590311</td>\n",
       "      <td>77.220163</td>\n",
       "      <td>10.00</td>\n",
       "      <td>0.98</td>\n",
       "      <td>1</td>\n",
       "    </tr>\n",
       "    <tr>\n",
       "      <th>48</th>\n",
       "      <td>EESL Laxmi Bai Marke</td>\n",
       "      <td>Laxmi Bai Market, Safderjung Flyover, New Delhi</td>\n",
       "      <td>28.577999</td>\n",
       "      <td>77.209521</td>\n",
       "      <td>9.50</td>\n",
       "      <td>2.69</td>\n",
       "      <td>1</td>\n",
       "    </tr>\n",
       "    <tr>\n",
       "      <th>49</th>\n",
       "      <td>EESL Chelmsford Club</td>\n",
       "      <td>Outside Chelmsford Club/ Opposite CSIR Buildin...</td>\n",
       "      <td>28.618177</td>\n",
       "      <td>77.212590</td>\n",
       "      <td>19.00</td>\n",
       "      <td>2.68</td>\n",
       "      <td>4</td>\n",
       "    </tr>\n",
       "    <tr>\n",
       "      <th>50</th>\n",
       "      <td>EESL Chelmsford Club</td>\n",
       "      <td>Outside Chelmsford Club/ Opposite CSIR Buildin...</td>\n",
       "      <td>28.618177</td>\n",
       "      <td>77.212590</td>\n",
       "      <td>19.00</td>\n",
       "      <td>2.68</td>\n",
       "      <td>4</td>\n",
       "    </tr>\n",
       "    <tr>\n",
       "      <th>51</th>\n",
       "      <td>EESL Chelmsford Club</td>\n",
       "      <td>Outside Chelmsford Club/ Opposite CSIR Buildin...</td>\n",
       "      <td>28.618177</td>\n",
       "      <td>77.212590</td>\n",
       "      <td>19.00</td>\n",
       "      <td>2.68</td>\n",
       "      <td>4</td>\n",
       "    </tr>\n",
       "    <tr>\n",
       "      <th>52</th>\n",
       "      <td>EESL Maherchand Mark</td>\n",
       "      <td>Double Story Market, Maherchand Lodhi Road, Ne...</td>\n",
       "      <td>28.581077</td>\n",
       "      <td>77.227199</td>\n",
       "      <td>19.00</td>\n",
       "      <td>1.79</td>\n",
       "      <td>2</td>\n",
       "    </tr>\n",
       "    <tr>\n",
       "      <th>53</th>\n",
       "      <td>EESL Maherchand Mark</td>\n",
       "      <td>Double Story Market, Maherchand Lodhi Road, Ne...</td>\n",
       "      <td>28.581077</td>\n",
       "      <td>77.227199</td>\n",
       "      <td>10.00</td>\n",
       "      <td>1.79</td>\n",
       "      <td>1</td>\n",
       "    </tr>\n",
       "    <tr>\n",
       "      <th>54</th>\n",
       "      <td>EESL Maherchand Mark</td>\n",
       "      <td>Double Story Market, Maherchand Lodhi Road, Ne...</td>\n",
       "      <td>28.581077</td>\n",
       "      <td>77.227199</td>\n",
       "      <td>19.00</td>\n",
       "      <td>1.79</td>\n",
       "      <td>2</td>\n",
       "    </tr>\n",
       "    <tr>\n",
       "      <th>55</th>\n",
       "      <td>EESL Maherchand Mark</td>\n",
       "      <td>Double Story Market, Maherchand Lodhi Road, Ne...</td>\n",
       "      <td>28.581077</td>\n",
       "      <td>77.227199</td>\n",
       "      <td>19.00</td>\n",
       "      <td>1.79</td>\n",
       "      <td>2</td>\n",
       "    </tr>\n",
       "    <tr>\n",
       "      <th>56</th>\n",
       "      <td>EESL Khan Market</td>\n",
       "      <td>NDMC Parking, Khan Market, New Delhi, 110003</td>\n",
       "      <td>28.600324</td>\n",
       "      <td>77.226883</td>\n",
       "      <td>10.00</td>\n",
       "      <td>0.34</td>\n",
       "      <td>2</td>\n",
       "    </tr>\n",
       "  </tbody>\n",
       "</table>\n",
       "</div>"
      ],
      "text/plain": [
       "                          Name  \\\n",
       "0                         EESL   \n",
       "1                         EESL   \n",
       "2                         EESL   \n",
       "3                         EESL   \n",
       "4                         EESL   \n",
       "5                         EESL   \n",
       "6                         EESL   \n",
       "7                         EESL   \n",
       "8                         EESL   \n",
       "9                         EESL   \n",
       "10                        EESL   \n",
       "11                        EESL   \n",
       "12                        EESL   \n",
       "13                        EESL   \n",
       "14                        EESL   \n",
       "15                        EESL   \n",
       "16                        EESL   \n",
       "17                       REVOS   \n",
       "18                       REVOS   \n",
       "19                       REVOS   \n",
       "20                       REVOS   \n",
       "21                       REVOS   \n",
       "22                       REVOS   \n",
       "23                       REVOS   \n",
       "24                       REVOS   \n",
       "25                       REVOS   \n",
       "26                       REVOS   \n",
       "27                       REVOS   \n",
       "28                       REVOS   \n",
       "29                       REVOS   \n",
       "30                       REVOS   \n",
       "31                       REVOS   \n",
       "32                       REVOS   \n",
       "33                       REVOS   \n",
       "34                       REVOS   \n",
       "35                       REVOS   \n",
       "36                       REVOS   \n",
       "37                       REVOS   \n",
       "38  Indraprastha Metro Parking   \n",
       "39  Indraprastha Metro Parking   \n",
       "40        EESL Prithviraj Mark   \n",
       "41        EESL Jor Bagh Market   \n",
       "42        EESL Khanna Market 1   \n",
       "43        EESL Khanna Market 2   \n",
       "44          EESL Oriental Bank   \n",
       "45        EESL Hotel Claridges   \n",
       "46        EESL Hotel Claridges   \n",
       "47           EESL Lodhi Garden   \n",
       "48        EESL Laxmi Bai Marke   \n",
       "49        EESL Chelmsford Club   \n",
       "50        EESL Chelmsford Club   \n",
       "51        EESL Chelmsford Club   \n",
       "52        EESL Maherchand Mark   \n",
       "53        EESL Maherchand Mark   \n",
       "54        EESL Maherchand Mark   \n",
       "55        EESL Maherchand Mark   \n",
       "56            EESL Khan Market   \n",
       "\n",
       "                                              Address   Latitude  Longitude  \\\n",
       "0        NDMC Parking, Khan Market, New Delhi, 110003  28.600324  77.226883   \n",
       "1   NDMC Parking, Prithviraj Market, Prithviraj Ln...  28.600735  77.226277   \n",
       "2   NDMC Parking, Outside RWA Park, Jor Bagh Marke...  28.588117  77.217564   \n",
       "3   NDMC Parking, Opposite Goel Opticals, Khanna M...  28.580532  77.221048   \n",
       "4   NDMC Parking, Opposite Dory Pharmacy, Khanna M...  28.584365  77.220540   \n",
       "5   NDMC Parking,  Outside Oriental Bank, Radial R...  28.600152  77.215762   \n",
       "6   NDMC Parking,  Side of Hotel Claridges,  Tees ...  28.600234  77.213530   \n",
       "7   NDMC Parking,  Back of Hotel Claridges,  Tees ...  28.601118  77.213603   \n",
       "8   NDMC Parking,  Gate No. 1, Lodhi Gardens, Lodh...  28.590311  77.220163   \n",
       "9   Outside Chelmsford Club/ Opposite CSIR Buildin...  28.618177  77.212590   \n",
       "10  Outside Chelmsford Club/ Opposite CSIR Buildin...  28.618177  77.212590   \n",
       "11  Outside Chelmsford Club/ Opposite CSIR Buildin...  28.618177  77.212590   \n",
       "12  Outside Chelmsford Club/ Opposite CSIR Buildin...  28.618177  77.212590   \n",
       "13    Laxmi Bai Market, Safderjung Flyover, New Delhi  28.577999  77.209521   \n",
       "14  Double Story Market, Maherchand Lodhi Road, Ne...  28.581077  77.227199   \n",
       "15  Double Story Market, Maherchand Lodhi Road, Ne...  28.581077  77.227199   \n",
       "16  Double Story Market, Maherchand Lodhi Road, Ne...  28.581077  77.227199   \n",
       "17  E -12, ground floor, Lajpat Nagar 1, New Delhi...  28.573348  77.237225   \n",
       "18  E -12, ground floor, Lajpat Nagar 1, New Delhi...  28.573348  77.237225   \n",
       "19  E -12, ground floor, Lajpat Nagar 1, New Delhi...  28.573348  77.237225   \n",
       "20  E -12, ground floor, Lajpat Nagar 1, New Delhi...  28.573348  77.237225   \n",
       "21  E -12, ground floor, Lajpat Nagar 1, New Delhi...  28.573348  77.237225   \n",
       "22  E -12, ground floor, Lajpat Nagar 1, New Delhi...  28.573348  77.237225   \n",
       "23                            B215 lagpat nagar delhi  28.574852  77.241118   \n",
       "24                           B 215 Lajpat Nagar Delhi  28.575134  77.238969   \n",
       "25      prem nagar near tyagraj stadium tyagraj park   28.579135  77.215703   \n",
       "26      prem nagar near tyagraj stadium tyagraj park   28.579142  77.215722   \n",
       "27      near mother dairy nizamuddin railway station   28.588216  77.255175   \n",
       "28            111 3  sukhdev market kotla Mubarakpur   28.574873  77.227662   \n",
       "29          a 111 3 sukhdev makrket kotla Mubarakpur   28.574880  77.227579   \n",
       "30           A753/1, sukhdev Market, Kotla Mubarakpur  28.574847  77.227747   \n",
       "31    808 Sukh Dev market kotla Mubarakpur new delhi   28.574992  77.228454   \n",
       "32  New Auto Class B105 LAJPAT NAGER PART 1 CAR MA...  28.574737  77.239005   \n",
       "33  New Auto Class B105 Lajpat Nagar part I New De...  28.574743  77.239031   \n",
       "34   A-181/6 sukhdev nagar kotla Mubarakpur new delhi  28.574207  77.228207   \n",
       "35    LAXMAN CHAMBER SHOP NO 6  BHOGAL ROAD JAUNGPURA  28.584462  77.247862   \n",
       "36                                 C84 A LAJPAT NAGAR  28.577116  77.239365   \n",
       "37                                 C84 A LAJPAT NAGAR  28.577116  77.239365   \n",
       "38  Mahatma Gandhi Marg, Gas Turbine Power Station...  28.620000  77.240000   \n",
       "39  Mahatma Gandhi Marg, Gas Turbine Power Station...  28.620000  77.240000   \n",
       "40  NDMC Parking, Prithviraj Market, Prithviraj Ln...  28.600735  77.226277   \n",
       "41  NDMC Parking, Outside RWA Park, Jor Bagh Marke...  28.588117  77.217564   \n",
       "42  NDMC Parking, Opposite Goel Opticals, Khanna M...  28.580532  77.221048   \n",
       "43  NDMC Parking, Opposite Dory Pharmacy, Khanna M...  28.584365  77.220540   \n",
       "44  NDMC Parking,  Outside Oriental Bank, Radial R...  28.600152  77.215762   \n",
       "45  NDMC Parking,  Side of Hotel Claridges,  Tees ...  28.600234  77.213530   \n",
       "46  NDMC Parking,  Back of Hotel Claridges,  Tees ...  28.601118  77.213603   \n",
       "47  NDMC Parking,  Gate No. 1, Lodhi Gardens, Lodh...  28.590311  77.220163   \n",
       "48    Laxmi Bai Market, Safderjung Flyover, New Delhi  28.577999  77.209521   \n",
       "49  Outside Chelmsford Club/ Opposite CSIR Buildin...  28.618177  77.212590   \n",
       "50  Outside Chelmsford Club/ Opposite CSIR Buildin...  28.618177  77.212590   \n",
       "51  Outside Chelmsford Club/ Opposite CSIR Buildin...  28.618177  77.212590   \n",
       "52  Double Story Market, Maherchand Lodhi Road, Ne...  28.581077  77.227199   \n",
       "53  Double Story Market, Maherchand Lodhi Road, Ne...  28.581077  77.227199   \n",
       "54  Double Story Market, Maherchand Lodhi Road, Ne...  28.581077  77.227199   \n",
       "55  Double Story Market, Maherchand Lodhi Road, Ne...  28.581077  77.227199   \n",
       "56       NDMC Parking, Khan Market, New Delhi, 110003  28.600324  77.226883   \n",
       "\n",
       "    Cost_per_Unit  Distance  Available  \n",
       "0           10.00      0.34          1  \n",
       "1           10.00      0.39          1  \n",
       "2           10.00      1.33          1  \n",
       "3           10.00      1.92          1  \n",
       "4           10.00      1.54          1  \n",
       "5           10.00      1.08          1  \n",
       "6           10.00      1.30          1  \n",
       "7           10.00      1.32          1  \n",
       "8           10.00      0.98          1  \n",
       "9            9.50      2.68          2  \n",
       "10          19.00      2.68          4  \n",
       "11          19.00      2.68          4  \n",
       "12          19.00      2.68          4  \n",
       "13           9.50      2.69          1  \n",
       "14          10.00      1.79          2  \n",
       "15          26.00      1.79          2  \n",
       "16          10.00      1.79          2  \n",
       "17          10.00      2.85          1  \n",
       "18          10.00      2.85          1  \n",
       "19          10.00      2.85          1  \n",
       "20          10.00      2.85          1  \n",
       "21          10.00      2.85          1  \n",
       "22          10.00      2.85          1  \n",
       "23          10.00      2.87          1  \n",
       "24          10.00      2.74          1  \n",
       "25          10.00      2.26          1  \n",
       "26          10.00      2.26          1  \n",
       "27          10.00      2.99          1  \n",
       "28          10.00      2.48          1  \n",
       "29          10.00      2.48          1  \n",
       "30          10.00      2.49          1  \n",
       "31          10.00      2.48          1  \n",
       "32          10.00      2.79          1  \n",
       "33          10.00      2.79          1  \n",
       "34          10.00      2.56          1  \n",
       "35          10.00      2.54          1  \n",
       "36          10.00      2.57          1  \n",
       "37          10.00      2.57          1  \n",
       "38           2.05      2.85          2  \n",
       "39           2.05      2.85          1  \n",
       "40          10.00      0.39          1  \n",
       "41          10.00      1.33          1  \n",
       "42          10.00      1.92          1  \n",
       "43          10.00      1.54          1  \n",
       "44          10.00      1.08          1  \n",
       "45          10.00      1.30          1  \n",
       "46          10.00      1.32          1  \n",
       "47          10.00      0.98          1  \n",
       "48           9.50      2.69          1  \n",
       "49          19.00      2.68          4  \n",
       "50          19.00      2.68          4  \n",
       "51          19.00      2.68          4  \n",
       "52          19.00      1.79          2  \n",
       "53          10.00      1.79          1  \n",
       "54          19.00      1.79          2  \n",
       "55          19.00      1.79          2  \n",
       "56          10.00      0.34          2  "
      ]
     },
     "execution_count": 30,
     "metadata": {},
     "output_type": "execute_result"
    }
   ],
   "source": [
    "filtered_combined_df"
   ]
  },
  {
   "cell_type": "markdown",
   "id": "fc00d1e9",
   "metadata": {},
   "source": [
    "#### Show the number of acceptable stations"
   ]
  },
  {
   "cell_type": "code",
   "execution_count": 31,
   "id": "26dbff93",
   "metadata": {},
   "outputs": [
    {
     "name": "stdout",
     "output_type": "stream",
     "text": [
      "The number of accepted stations: 79 \n"
     ]
    }
   ],
   "source": [
    "filtered_distance_df.shape\n",
    "print(f\"The number of accepted stations: {len(filtered_distance_df)} \")"
   ]
  },
  {
   "cell_type": "markdown",
   "id": "d81a3f44",
   "metadata": {},
   "source": [
    "#### Display the stations on map"
   ]
  },
  {
   "cell_type": "code",
   "execution_count": 32,
   "id": "382e03fd",
   "metadata": {},
   "outputs": [
    {
     "data": {
      "application/vnd.plotly.v1+json": {
       "config": {
        "plotlyServerURL": "https://plot.ly"
       },
       "data": [
        {
         "hoverinfo": "text",
         "lat": [
          28.59725
         ],
         "lon": [
          77.22635
         ],
         "marker": {
          "color": "red",
          "size": 15
         },
         "mode": "markers",
         "name": "Reference Point",
         "text": "<b>Reference Point</b>",
         "type": "scattermapbox"
        },
        {
         "hoverinfo": "text",
         "lat": [
          28.600324,
          28.600735,
          28.588117,
          28.580532,
          28.584365,
          28.6001517,
          28.600234,
          28.601118,
          28.59031055,
          28.61817712,
          28.61817712,
          28.61817712,
          28.61817712,
          28.577999,
          28.58107736,
          28.58107736,
          28.58107736,
          28.5733477,
          28.5733477,
          28.5733477,
          28.5733477,
          28.5733477,
          28.5733477,
          28.57485225910045,
          28.57513403507146,
          28.57913534905941,
          28.57914153198751,
          28.58821620653066,
          28.57487316413572,
          28.57487993618849,
          28.57484695923171,
          28.57499241108842,
          28.57473654523857,
          28.5747430228627,
          28.57420714533633,
          28.58446195410766,
          28.57711557309058,
          28.57711557309058,
          28.62,
          28.62,
          28.600735,
          28.588117,
          28.580532,
          28.584365,
          28.6001517,
          28.600234,
          28.601118,
          28.59031055,
          28.577999,
          28.61817712,
          28.61817712,
          28.61817712,
          28.58107736,
          28.58107736,
          28.58107736,
          28.58107736,
          28.600324
         ],
         "lon": [
          77.226883,
          77.226277,
          77.217564,
          77.221048,
          77.22054,
          77.2157617,
          77.2135299,
          77.2136033,
          77.2201632,
          77.21258998,
          77.21258998,
          77.21258998,
          77.21258998,
          77.209521,
          77.22719863,
          77.22719863,
          77.22719863,
          77.2372255,
          77.2372255,
          77.2372255,
          77.2372255,
          77.2372255,
          77.2372255,
          77.24111828953028,
          77.23896883428097,
          77.21570268273354,
          77.21572246402503,
          77.25517507642508,
          77.22766164690256,
          77.22757916897535,
          77.22774747759104,
          77.22845423966646,
          77.23900470882654,
          77.23903052508831,
          77.22820714116096,
          77.24786203354597,
          77.23936513066292,
          77.23936513066292,
          77.24,
          77.24,
          77.226277,
          77.217564,
          77.221048,
          77.22054,
          77.2157617,
          77.2135299,
          77.2136033,
          77.2201632,
          77.209521,
          77.21258998,
          77.21258998,
          77.21258998,
          77.22719863,
          77.22719863,
          77.22719863,
          77.22719863,
          77.226883
         ],
         "marker": {
          "color": "blue",
          "size": 10
         },
         "mode": "markers",
         "name": "Stations",
         "text": [
          "EESL<br>NDMC Parking, Khan Market, New Delhi, 110003",
          "EESL<br>NDMC Parking, Prithviraj Market, Prithviraj Ln, New Delhi, Delhi- 110003 ",
          "EESL<br>NDMC Parking, Outside RWA Park, Jor Bagh Market,  Jor Bagh Colony Road, New Delhi- 110003 ",
          "EESL<br>NDMC Parking, Opposite Goel Opticals, Khanna Market, Aliganj, Lodhi Colony, New Delhi- 110003 ",
          "EESL<br>NDMC Parking, Opposite Dory Pharmacy, Khanna Market, Aliganj, Lodhi Colony, New Delhi- 110003 ",
          "EESL<br>NDMC Parking,  Outside Oriental Bank, Radial Road No. 7,  Block M, Middle Circe, Connaught Place,  New Delhi- 110001 ",
          "EESL<br>NDMC Parking,  Side of Hotel Claridges,  Tees January Marg,  Dr. APJ Abdul Kalam Road,  New Delhi- 110003 ",
          "EESL<br>NDMC Parking,  Back of Hotel Claridges,  Tees January Marg,  Dr. APJ Abdul Kalam Road,  New Delhi- 110003 ",
          "EESL<br>NDMC Parking,  Gate No. 1, Lodhi Gardens, Lodhi Estate, Lodhi Road,  New Delhi-  110003 ",
          "EESL<br>Outside Chelmsford Club/ Opposite CSIR Building, Rafi Marg, Sansad Marg Area, New Delhi 110001",
          "EESL<br>Outside Chelmsford Club/ Opposite CSIR Building, Rafi Marg, Sansad Marg Area, New Delhi 110001",
          "EESL<br>Outside Chelmsford Club/ Opposite CSIR Building, Rafi Marg, Sansad Marg Area, New Delhi 110001",
          "EESL<br>Outside Chelmsford Club/ Opposite CSIR Building, Rafi Marg, Sansad Marg Area, New Delhi 110001",
          "EESL<br>Laxmi Bai Market, Safderjung Flyover, New Delhi",
          "EESL<br>Double Story Market, Maherchand Lodhi Road, New Delhi - 110003",
          "EESL<br>Double Story Market, Maherchand Lodhi Road, New Delhi - 110003",
          "EESL<br>Double Story Market, Maherchand Lodhi Road, New Delhi - 110003",
          "REVOS<br>E -12, ground floor, Lajpat Nagar 1, New Delhi 110024",
          "REVOS<br>E -12, ground floor, Lajpat Nagar 1, New Delhi 110024",
          "REVOS<br>E -12, ground floor, Lajpat Nagar 1, New Delhi 110024",
          "REVOS<br>E -12, ground floor, Lajpat Nagar 1, New Delhi 110024",
          "REVOS<br>E -12, ground floor, Lajpat Nagar 1, New Delhi 110024",
          "REVOS<br>E -12, ground floor, Lajpat Nagar 1, New Delhi 110024",
          "REVOS<br>B215 lagpat nagar delhi",
          "REVOS<br>B 215 Lajpat Nagar Delhi",
          "REVOS<br>prem nagar near tyagraj stadium tyagraj park ",
          "REVOS<br>prem nagar near tyagraj stadium tyagraj park ",
          "REVOS<br>near mother dairy nizamuddin railway station ",
          "REVOS<br>111 3  sukhdev market kotla Mubarakpur ",
          "REVOS<br>a 111 3 sukhdev makrket kotla Mubarakpur ",
          "REVOS<br>A753/1, sukhdev Market, Kotla Mubarakpur",
          "REVOS<br>808 Sukh Dev market kotla Mubarakpur new delhi ",
          "REVOS<br>New Auto Class B105 LAJPAT NAGER PART 1 CAR MARKET NEW DELHI",
          "REVOS<br>New Auto Class B105 Lajpat Nagar part I New Delhi ",
          "REVOS<br>A-181/6 sukhdev nagar kotla Mubarakpur new delhi",
          "REVOS<br>LAXMAN CHAMBER SHOP NO 6  BHOGAL ROAD JAUNGPURA",
          "REVOS<br>C84 A LAJPAT NAGAR",
          "REVOS<br>C84 A LAJPAT NAGAR",
          "Indraprastha Metro Parking<br>Mahatma Gandhi Marg, Gas Turbine Power Station, IP Estate, New Delhi, Delhi 110002",
          "Indraprastha Metro Parking<br>Mahatma Gandhi Marg, Gas Turbine Power Station, IP Estate, New Delhi, Delhi 110002",
          "EESL Prithviraj Mark<br>NDMC Parking, Prithviraj Market, Prithviraj Ln, New Delhi, Delhi- 110003",
          "EESL Jor Bagh Market<br>NDMC Parking, Outside RWA Park, Jor Bagh Market,  Jor Bagh Colony Road, New Delhi- 110003",
          "EESL Khanna Market 1<br>NDMC Parking, Opposite Goel Opticals, Khanna Market, Aliganj, Lodhi Colony, New Delhi- 110003",
          "EESL Khanna Market 2<br>NDMC Parking, Opposite Dory Pharmacy, Khanna Market, Aliganj, Lodhi Colony, New Delhi- 110003",
          "EESL Oriental Bank<br>NDMC Parking,  Outside Oriental Bank, Radial Road No. 7,  Block M, Middle Circe, Connaught Place,",
          "EESL Hotel Claridges<br>NDMC Parking,  Side of Hotel Claridges,  Tees January Marg,  Dr. APJ Abdul Kalam Road,  New Delhi-",
          "EESL Hotel Claridges<br>NDMC Parking,  Back of Hotel Claridges,  Tees January Marg,  Dr. APJ Abdul Kalam Road,  New Delhi-",
          "EESL Lodhi Garden<br>NDMC Parking,  Gate No. 1, Lodhi Gardens, Lodhi Estate, Lodhi Road,  New Delhi-  110003",
          "EESL Laxmi Bai Marke<br>Laxmi Bai Market, Safderjung Flyover, New Delhi",
          "EESL Chelmsford Club<br>Outside Chelmsford Club/ Opposite CSIR Building, Rafi Marg, Sansad Marg Area, New Delhi 110001",
          "EESL Chelmsford Club<br>Outside Chelmsford Club/ Opposite CSIR Building, Rafi Marg, Sansad Marg Area, New Delhi 110001",
          "EESL Chelmsford Club<br>Outside Chelmsford Club/ Opposite CSIR Building, Rafi Marg, Sansad Marg Area, New Delhi 110001",
          "EESL Maherchand Mark<br>Double Story Market, Maherchand Lodhi Road, New Delhi - 110003",
          "EESL Maherchand Mark<br>Double Story Market, Maherchand Lodhi Road, New Delhi - 110003",
          "EESL Maherchand Mark<br>Double Story Market, Maherchand Lodhi Road, New Delhi - 110003",
          "EESL Maherchand Mark<br>Double Story Market, Maherchand Lodhi Road, New Delhi - 110003",
          "EESL Khan Market<br>NDMC Parking, Khan Market, New Delhi, 110003"
         ],
         "type": "scattermapbox"
        }
       ],
       "layout": {
        "height": 600,
        "mapbox": {
         "center": {
          "lat": 28.59725,
          "lon": 77.22635
         },
         "style": "open-street-map",
         "zoom": 12
        },
        "template": {
         "data": {
          "bar": [
           {
            "error_x": {
             "color": "#2a3f5f"
            },
            "error_y": {
             "color": "#2a3f5f"
            },
            "marker": {
             "line": {
              "color": "#E5ECF6",
              "width": 0.5
             },
             "pattern": {
              "fillmode": "overlay",
              "size": 10,
              "solidity": 0.2
             }
            },
            "type": "bar"
           }
          ],
          "barpolar": [
           {
            "marker": {
             "line": {
              "color": "#E5ECF6",
              "width": 0.5
             },
             "pattern": {
              "fillmode": "overlay",
              "size": 10,
              "solidity": 0.2
             }
            },
            "type": "barpolar"
           }
          ],
          "carpet": [
           {
            "aaxis": {
             "endlinecolor": "#2a3f5f",
             "gridcolor": "white",
             "linecolor": "white",
             "minorgridcolor": "white",
             "startlinecolor": "#2a3f5f"
            },
            "baxis": {
             "endlinecolor": "#2a3f5f",
             "gridcolor": "white",
             "linecolor": "white",
             "minorgridcolor": "white",
             "startlinecolor": "#2a3f5f"
            },
            "type": "carpet"
           }
          ],
          "choropleth": [
           {
            "colorbar": {
             "outlinewidth": 0,
             "ticks": ""
            },
            "type": "choropleth"
           }
          ],
          "contour": [
           {
            "colorbar": {
             "outlinewidth": 0,
             "ticks": ""
            },
            "colorscale": [
             [
              0,
              "#0d0887"
             ],
             [
              0.1111111111111111,
              "#46039f"
             ],
             [
              0.2222222222222222,
              "#7201a8"
             ],
             [
              0.3333333333333333,
              "#9c179e"
             ],
             [
              0.4444444444444444,
              "#bd3786"
             ],
             [
              0.5555555555555556,
              "#d8576b"
             ],
             [
              0.6666666666666666,
              "#ed7953"
             ],
             [
              0.7777777777777778,
              "#fb9f3a"
             ],
             [
              0.8888888888888888,
              "#fdca26"
             ],
             [
              1,
              "#f0f921"
             ]
            ],
            "type": "contour"
           }
          ],
          "contourcarpet": [
           {
            "colorbar": {
             "outlinewidth": 0,
             "ticks": ""
            },
            "type": "contourcarpet"
           }
          ],
          "heatmap": [
           {
            "colorbar": {
             "outlinewidth": 0,
             "ticks": ""
            },
            "colorscale": [
             [
              0,
              "#0d0887"
             ],
             [
              0.1111111111111111,
              "#46039f"
             ],
             [
              0.2222222222222222,
              "#7201a8"
             ],
             [
              0.3333333333333333,
              "#9c179e"
             ],
             [
              0.4444444444444444,
              "#bd3786"
             ],
             [
              0.5555555555555556,
              "#d8576b"
             ],
             [
              0.6666666666666666,
              "#ed7953"
             ],
             [
              0.7777777777777778,
              "#fb9f3a"
             ],
             [
              0.8888888888888888,
              "#fdca26"
             ],
             [
              1,
              "#f0f921"
             ]
            ],
            "type": "heatmap"
           }
          ],
          "heatmapgl": [
           {
            "colorbar": {
             "outlinewidth": 0,
             "ticks": ""
            },
            "colorscale": [
             [
              0,
              "#0d0887"
             ],
             [
              0.1111111111111111,
              "#46039f"
             ],
             [
              0.2222222222222222,
              "#7201a8"
             ],
             [
              0.3333333333333333,
              "#9c179e"
             ],
             [
              0.4444444444444444,
              "#bd3786"
             ],
             [
              0.5555555555555556,
              "#d8576b"
             ],
             [
              0.6666666666666666,
              "#ed7953"
             ],
             [
              0.7777777777777778,
              "#fb9f3a"
             ],
             [
              0.8888888888888888,
              "#fdca26"
             ],
             [
              1,
              "#f0f921"
             ]
            ],
            "type": "heatmapgl"
           }
          ],
          "histogram": [
           {
            "marker": {
             "pattern": {
              "fillmode": "overlay",
              "size": 10,
              "solidity": 0.2
             }
            },
            "type": "histogram"
           }
          ],
          "histogram2d": [
           {
            "colorbar": {
             "outlinewidth": 0,
             "ticks": ""
            },
            "colorscale": [
             [
              0,
              "#0d0887"
             ],
             [
              0.1111111111111111,
              "#46039f"
             ],
             [
              0.2222222222222222,
              "#7201a8"
             ],
             [
              0.3333333333333333,
              "#9c179e"
             ],
             [
              0.4444444444444444,
              "#bd3786"
             ],
             [
              0.5555555555555556,
              "#d8576b"
             ],
             [
              0.6666666666666666,
              "#ed7953"
             ],
             [
              0.7777777777777778,
              "#fb9f3a"
             ],
             [
              0.8888888888888888,
              "#fdca26"
             ],
             [
              1,
              "#f0f921"
             ]
            ],
            "type": "histogram2d"
           }
          ],
          "histogram2dcontour": [
           {
            "colorbar": {
             "outlinewidth": 0,
             "ticks": ""
            },
            "colorscale": [
             [
              0,
              "#0d0887"
             ],
             [
              0.1111111111111111,
              "#46039f"
             ],
             [
              0.2222222222222222,
              "#7201a8"
             ],
             [
              0.3333333333333333,
              "#9c179e"
             ],
             [
              0.4444444444444444,
              "#bd3786"
             ],
             [
              0.5555555555555556,
              "#d8576b"
             ],
             [
              0.6666666666666666,
              "#ed7953"
             ],
             [
              0.7777777777777778,
              "#fb9f3a"
             ],
             [
              0.8888888888888888,
              "#fdca26"
             ],
             [
              1,
              "#f0f921"
             ]
            ],
            "type": "histogram2dcontour"
           }
          ],
          "mesh3d": [
           {
            "colorbar": {
             "outlinewidth": 0,
             "ticks": ""
            },
            "type": "mesh3d"
           }
          ],
          "parcoords": [
           {
            "line": {
             "colorbar": {
              "outlinewidth": 0,
              "ticks": ""
             }
            },
            "type": "parcoords"
           }
          ],
          "pie": [
           {
            "automargin": true,
            "type": "pie"
           }
          ],
          "scatter": [
           {
            "fillpattern": {
             "fillmode": "overlay",
             "size": 10,
             "solidity": 0.2
            },
            "type": "scatter"
           }
          ],
          "scatter3d": [
           {
            "line": {
             "colorbar": {
              "outlinewidth": 0,
              "ticks": ""
             }
            },
            "marker": {
             "colorbar": {
              "outlinewidth": 0,
              "ticks": ""
             }
            },
            "type": "scatter3d"
           }
          ],
          "scattercarpet": [
           {
            "marker": {
             "colorbar": {
              "outlinewidth": 0,
              "ticks": ""
             }
            },
            "type": "scattercarpet"
           }
          ],
          "scattergeo": [
           {
            "marker": {
             "colorbar": {
              "outlinewidth": 0,
              "ticks": ""
             }
            },
            "type": "scattergeo"
           }
          ],
          "scattergl": [
           {
            "marker": {
             "colorbar": {
              "outlinewidth": 0,
              "ticks": ""
             }
            },
            "type": "scattergl"
           }
          ],
          "scattermapbox": [
           {
            "marker": {
             "colorbar": {
              "outlinewidth": 0,
              "ticks": ""
             }
            },
            "type": "scattermapbox"
           }
          ],
          "scatterpolar": [
           {
            "marker": {
             "colorbar": {
              "outlinewidth": 0,
              "ticks": ""
             }
            },
            "type": "scatterpolar"
           }
          ],
          "scatterpolargl": [
           {
            "marker": {
             "colorbar": {
              "outlinewidth": 0,
              "ticks": ""
             }
            },
            "type": "scatterpolargl"
           }
          ],
          "scatterternary": [
           {
            "marker": {
             "colorbar": {
              "outlinewidth": 0,
              "ticks": ""
             }
            },
            "type": "scatterternary"
           }
          ],
          "surface": [
           {
            "colorbar": {
             "outlinewidth": 0,
             "ticks": ""
            },
            "colorscale": [
             [
              0,
              "#0d0887"
             ],
             [
              0.1111111111111111,
              "#46039f"
             ],
             [
              0.2222222222222222,
              "#7201a8"
             ],
             [
              0.3333333333333333,
              "#9c179e"
             ],
             [
              0.4444444444444444,
              "#bd3786"
             ],
             [
              0.5555555555555556,
              "#d8576b"
             ],
             [
              0.6666666666666666,
              "#ed7953"
             ],
             [
              0.7777777777777778,
              "#fb9f3a"
             ],
             [
              0.8888888888888888,
              "#fdca26"
             ],
             [
              1,
              "#f0f921"
             ]
            ],
            "type": "surface"
           }
          ],
          "table": [
           {
            "cells": {
             "fill": {
              "color": "#EBF0F8"
             },
             "line": {
              "color": "white"
             }
            },
            "header": {
             "fill": {
              "color": "#C8D4E3"
             },
             "line": {
              "color": "white"
             }
            },
            "type": "table"
           }
          ]
         },
         "layout": {
          "annotationdefaults": {
           "arrowcolor": "#2a3f5f",
           "arrowhead": 0,
           "arrowwidth": 1
          },
          "autotypenumbers": "strict",
          "coloraxis": {
           "colorbar": {
            "outlinewidth": 0,
            "ticks": ""
           }
          },
          "colorscale": {
           "diverging": [
            [
             0,
             "#8e0152"
            ],
            [
             0.1,
             "#c51b7d"
            ],
            [
             0.2,
             "#de77ae"
            ],
            [
             0.3,
             "#f1b6da"
            ],
            [
             0.4,
             "#fde0ef"
            ],
            [
             0.5,
             "#f7f7f7"
            ],
            [
             0.6,
             "#e6f5d0"
            ],
            [
             0.7,
             "#b8e186"
            ],
            [
             0.8,
             "#7fbc41"
            ],
            [
             0.9,
             "#4d9221"
            ],
            [
             1,
             "#276419"
            ]
           ],
           "sequential": [
            [
             0,
             "#0d0887"
            ],
            [
             0.1111111111111111,
             "#46039f"
            ],
            [
             0.2222222222222222,
             "#7201a8"
            ],
            [
             0.3333333333333333,
             "#9c179e"
            ],
            [
             0.4444444444444444,
             "#bd3786"
            ],
            [
             0.5555555555555556,
             "#d8576b"
            ],
            [
             0.6666666666666666,
             "#ed7953"
            ],
            [
             0.7777777777777778,
             "#fb9f3a"
            ],
            [
             0.8888888888888888,
             "#fdca26"
            ],
            [
             1,
             "#f0f921"
            ]
           ],
           "sequentialminus": [
            [
             0,
             "#0d0887"
            ],
            [
             0.1111111111111111,
             "#46039f"
            ],
            [
             0.2222222222222222,
             "#7201a8"
            ],
            [
             0.3333333333333333,
             "#9c179e"
            ],
            [
             0.4444444444444444,
             "#bd3786"
            ],
            [
             0.5555555555555556,
             "#d8576b"
            ],
            [
             0.6666666666666666,
             "#ed7953"
            ],
            [
             0.7777777777777778,
             "#fb9f3a"
            ],
            [
             0.8888888888888888,
             "#fdca26"
            ],
            [
             1,
             "#f0f921"
            ]
           ]
          },
          "colorway": [
           "#636efa",
           "#EF553B",
           "#00cc96",
           "#ab63fa",
           "#FFA15A",
           "#19d3f3",
           "#FF6692",
           "#B6E880",
           "#FF97FF",
           "#FECB52"
          ],
          "font": {
           "color": "#2a3f5f"
          },
          "geo": {
           "bgcolor": "white",
           "lakecolor": "white",
           "landcolor": "#E5ECF6",
           "showlakes": true,
           "showland": true,
           "subunitcolor": "white"
          },
          "hoverlabel": {
           "align": "left"
          },
          "hovermode": "closest",
          "mapbox": {
           "style": "light"
          },
          "paper_bgcolor": "white",
          "plot_bgcolor": "#E5ECF6",
          "polar": {
           "angularaxis": {
            "gridcolor": "white",
            "linecolor": "white",
            "ticks": ""
           },
           "bgcolor": "#E5ECF6",
           "radialaxis": {
            "gridcolor": "white",
            "linecolor": "white",
            "ticks": ""
           }
          },
          "scene": {
           "xaxis": {
            "backgroundcolor": "#E5ECF6",
            "gridcolor": "white",
            "gridwidth": 2,
            "linecolor": "white",
            "showbackground": true,
            "ticks": "",
            "zerolinecolor": "white"
           },
           "yaxis": {
            "backgroundcolor": "#E5ECF6",
            "gridcolor": "white",
            "gridwidth": 2,
            "linecolor": "white",
            "showbackground": true,
            "ticks": "",
            "zerolinecolor": "white"
           },
           "zaxis": {
            "backgroundcolor": "#E5ECF6",
            "gridcolor": "white",
            "gridwidth": 2,
            "linecolor": "white",
            "showbackground": true,
            "ticks": "",
            "zerolinecolor": "white"
           }
          },
          "shapedefaults": {
           "line": {
            "color": "#2a3f5f"
           }
          },
          "ternary": {
           "aaxis": {
            "gridcolor": "white",
            "linecolor": "white",
            "ticks": ""
           },
           "baxis": {
            "gridcolor": "white",
            "linecolor": "white",
            "ticks": ""
           },
           "bgcolor": "#E5ECF6",
           "caxis": {
            "gridcolor": "white",
            "linecolor": "white",
            "ticks": ""
           }
          },
          "title": {
           "x": 0.05
          },
          "xaxis": {
           "automargin": true,
           "gridcolor": "white",
           "linecolor": "white",
           "ticks": "",
           "title": {
            "standoff": 15
           },
           "zerolinecolor": "white",
           "zerolinewidth": 2
          },
          "yaxis": {
           "automargin": true,
           "gridcolor": "white",
           "linecolor": "white",
           "ticks": "",
           "title": {
            "standoff": 15
           },
           "zerolinecolor": "white",
           "zerolinewidth": 2
          }
         }
        },
        "title": {
         "text": "Map of Chosen Stations and Reference Point",
         "x": 0.5
        }
       }
      },
      "text/html": [
       "<div>                            <div id=\"10d30652-d290-4a5f-8d6e-83715186730a\" class=\"plotly-graph-div\" style=\"height:600px; width:100%;\"></div>            <script type=\"text/javascript\">                require([\"plotly\"], function(Plotly) {                    window.PLOTLYENV=window.PLOTLYENV || {};                                    if (document.getElementById(\"10d30652-d290-4a5f-8d6e-83715186730a\")) {                    Plotly.newPlot(                        \"10d30652-d290-4a5f-8d6e-83715186730a\",                        [{\"hoverinfo\":\"text\",\"lat\":[28.59725],\"lon\":[77.22635],\"marker\":{\"color\":\"red\",\"size\":15},\"mode\":\"markers\",\"name\":\"Reference Point\",\"text\":\"<b>Reference Point</b>\",\"type\":\"scattermapbox\"},{\"hoverinfo\":\"text\",\"lat\":[28.600324,28.600735,28.588117,28.580532,28.584365,28.6001517,28.600234,28.601118,28.59031055,28.61817712,28.61817712,28.61817712,28.61817712,28.577999,28.58107736,28.58107736,28.58107736,28.5733477,28.5733477,28.5733477,28.5733477,28.5733477,28.5733477,28.57485225910045,28.57513403507146,28.57913534905941,28.57914153198751,28.58821620653066,28.57487316413572,28.57487993618849,28.57484695923171,28.57499241108842,28.57473654523857,28.5747430228627,28.57420714533633,28.58446195410766,28.57711557309058,28.57711557309058,28.62,28.62,28.600735,28.588117,28.580532,28.584365,28.6001517,28.600234,28.601118,28.59031055,28.577999,28.61817712,28.61817712,28.61817712,28.58107736,28.58107736,28.58107736,28.58107736,28.600324],\"lon\":[77.226883,77.226277,77.217564,77.221048,77.22054,77.2157617,77.2135299,77.2136033,77.2201632,77.21258998,77.21258998,77.21258998,77.21258998,77.209521,77.22719863,77.22719863,77.22719863,77.2372255,77.2372255,77.2372255,77.2372255,77.2372255,77.2372255,77.24111828953028,77.23896883428097,77.21570268273354,77.21572246402503,77.25517507642508,77.22766164690256,77.22757916897535,77.22774747759104,77.22845423966646,77.23900470882654,77.23903052508831,77.22820714116096,77.24786203354597,77.23936513066292,77.23936513066292,77.24,77.24,77.226277,77.217564,77.221048,77.22054,77.2157617,77.2135299,77.2136033,77.2201632,77.209521,77.21258998,77.21258998,77.21258998,77.22719863,77.22719863,77.22719863,77.22719863,77.226883],\"marker\":{\"color\":\"blue\",\"size\":10},\"mode\":\"markers\",\"name\":\"Stations\",\"text\":[\"EESL<br>NDMC Parking, Khan Market, New Delhi, 110003\",\"EESL<br>NDMC Parking, Prithviraj Market, Prithviraj Ln, New Delhi, Delhi- 110003 \",\"EESL<br>NDMC Parking, Outside RWA Park, Jor Bagh Market,  Jor Bagh Colony Road, New Delhi- 110003 \",\"EESL<br>NDMC Parking, Opposite Goel Opticals, Khanna Market, Aliganj, Lodhi Colony, New Delhi- 110003 \",\"EESL<br>NDMC Parking, Opposite Dory Pharmacy, Khanna Market, Aliganj, Lodhi Colony, New Delhi- 110003 \",\"EESL<br>NDMC Parking,  Outside Oriental Bank, Radial Road No. 7,  Block M, Middle Circe, Connaught Place,  New Delhi- 110001 \",\"EESL<br>NDMC Parking,  Side of Hotel Claridges,  Tees January Marg,  Dr. APJ Abdul Kalam Road,  New Delhi- 110003 \",\"EESL<br>NDMC Parking,  Back of Hotel Claridges,  Tees January Marg,  Dr. APJ Abdul Kalam Road,  New Delhi- 110003 \",\"EESL<br>NDMC Parking,  Gate No. 1, Lodhi Gardens, Lodhi Estate, Lodhi Road,  New Delhi-  110003 \",\"EESL<br>Outside Chelmsford Club/ Opposite CSIR Building, Rafi Marg, Sansad Marg Area, New Delhi 110001\",\"EESL<br>Outside Chelmsford Club/ Opposite CSIR Building, Rafi Marg, Sansad Marg Area, New Delhi 110001\",\"EESL<br>Outside Chelmsford Club/ Opposite CSIR Building, Rafi Marg, Sansad Marg Area, New Delhi 110001\",\"EESL<br>Outside Chelmsford Club/ Opposite CSIR Building, Rafi Marg, Sansad Marg Area, New Delhi 110001\",\"EESL<br>Laxmi Bai Market, Safderjung Flyover, New Delhi\",\"EESL<br>Double Story Market, Maherchand Lodhi Road, New Delhi - 110003\",\"EESL<br>Double Story Market, Maherchand Lodhi Road, New Delhi - 110003\",\"EESL<br>Double Story Market, Maherchand Lodhi Road, New Delhi - 110003\",\"REVOS<br>E -12, ground floor, Lajpat Nagar 1, New Delhi 110024\",\"REVOS<br>E -12, ground floor, Lajpat Nagar 1, New Delhi 110024\",\"REVOS<br>E -12, ground floor, Lajpat Nagar 1, New Delhi 110024\",\"REVOS<br>E -12, ground floor, Lajpat Nagar 1, New Delhi 110024\",\"REVOS<br>E -12, ground floor, Lajpat Nagar 1, New Delhi 110024\",\"REVOS<br>E -12, ground floor, Lajpat Nagar 1, New Delhi 110024\",\"REVOS<br>B215 lagpat nagar delhi\",\"REVOS<br>B 215 Lajpat Nagar Delhi\",\"REVOS<br>prem nagar near tyagraj stadium tyagraj park \",\"REVOS<br>prem nagar near tyagraj stadium tyagraj park \",\"REVOS<br>near mother dairy nizamuddin railway station \",\"REVOS<br>111 3  sukhdev market kotla Mubarakpur \",\"REVOS<br>a 111 3 sukhdev makrket kotla Mubarakpur \",\"REVOS<br>A753/1, sukhdev Market, Kotla Mubarakpur\",\"REVOS<br>808 Sukh Dev market kotla Mubarakpur new delhi \",\"REVOS<br>New Auto Class B105 LAJPAT NAGER PART 1 CAR MARKET NEW DELHI\",\"REVOS<br>New Auto Class B105 Lajpat Nagar part I New Delhi \",\"REVOS<br>A-181/6 sukhdev nagar kotla Mubarakpur new delhi\",\"REVOS<br>LAXMAN CHAMBER SHOP NO 6  BHOGAL ROAD JAUNGPURA\",\"REVOS<br>C84 A LAJPAT NAGAR\",\"REVOS<br>C84 A LAJPAT NAGAR\",\"Indraprastha Metro Parking<br>Mahatma Gandhi Marg, Gas Turbine Power Station, IP Estate, New Delhi, Delhi 110002\",\"Indraprastha Metro Parking<br>Mahatma Gandhi Marg, Gas Turbine Power Station, IP Estate, New Delhi, Delhi 110002\",\"EESL Prithviraj Mark<br>NDMC Parking, Prithviraj Market, Prithviraj Ln, New Delhi, Delhi- 110003\",\"EESL Jor Bagh Market<br>NDMC Parking, Outside RWA Park, Jor Bagh Market,  Jor Bagh Colony Road, New Delhi- 110003\",\"EESL Khanna Market 1<br>NDMC Parking, Opposite Goel Opticals, Khanna Market, Aliganj, Lodhi Colony, New Delhi- 110003\",\"EESL Khanna Market 2<br>NDMC Parking, Opposite Dory Pharmacy, Khanna Market, Aliganj, Lodhi Colony, New Delhi- 110003\",\"EESL Oriental Bank<br>NDMC Parking,  Outside Oriental Bank, Radial Road No. 7,  Block M, Middle Circe, Connaught Place,\",\"EESL Hotel Claridges<br>NDMC Parking,  Side of Hotel Claridges,  Tees January Marg,  Dr. APJ Abdul Kalam Road,  New Delhi-\",\"EESL Hotel Claridges<br>NDMC Parking,  Back of Hotel Claridges,  Tees January Marg,  Dr. APJ Abdul Kalam Road,  New Delhi-\",\"EESL Lodhi Garden<br>NDMC Parking,  Gate No. 1, Lodhi Gardens, Lodhi Estate, Lodhi Road,  New Delhi-  110003\",\"EESL Laxmi Bai Marke<br>Laxmi Bai Market, Safderjung Flyover, New Delhi\",\"EESL Chelmsford Club<br>Outside Chelmsford Club/ Opposite CSIR Building, Rafi Marg, Sansad Marg Area, New Delhi 110001\",\"EESL Chelmsford Club<br>Outside Chelmsford Club/ Opposite CSIR Building, Rafi Marg, Sansad Marg Area, New Delhi 110001\",\"EESL Chelmsford Club<br>Outside Chelmsford Club/ Opposite CSIR Building, Rafi Marg, Sansad Marg Area, New Delhi 110001\",\"EESL Maherchand Mark<br>Double Story Market, Maherchand Lodhi Road, New Delhi - 110003\",\"EESL Maherchand Mark<br>Double Story Market, Maherchand Lodhi Road, New Delhi - 110003\",\"EESL Maherchand Mark<br>Double Story Market, Maherchand Lodhi Road, New Delhi - 110003\",\"EESL Maherchand Mark<br>Double Story Market, Maherchand Lodhi Road, New Delhi - 110003\",\"EESL Khan Market<br>NDMC Parking, Khan Market, New Delhi, 110003\"],\"type\":\"scattermapbox\"}],                        {\"template\":{\"data\":{\"histogram2dcontour\":[{\"type\":\"histogram2dcontour\",\"colorbar\":{\"outlinewidth\":0,\"ticks\":\"\"},\"colorscale\":[[0.0,\"#0d0887\"],[0.1111111111111111,\"#46039f\"],[0.2222222222222222,\"#7201a8\"],[0.3333333333333333,\"#9c179e\"],[0.4444444444444444,\"#bd3786\"],[0.5555555555555556,\"#d8576b\"],[0.6666666666666666,\"#ed7953\"],[0.7777777777777778,\"#fb9f3a\"],[0.8888888888888888,\"#fdca26\"],[1.0,\"#f0f921\"]]}],\"choropleth\":[{\"type\":\"choropleth\",\"colorbar\":{\"outlinewidth\":0,\"ticks\":\"\"}}],\"histogram2d\":[{\"type\":\"histogram2d\",\"colorbar\":{\"outlinewidth\":0,\"ticks\":\"\"},\"colorscale\":[[0.0,\"#0d0887\"],[0.1111111111111111,\"#46039f\"],[0.2222222222222222,\"#7201a8\"],[0.3333333333333333,\"#9c179e\"],[0.4444444444444444,\"#bd3786\"],[0.5555555555555556,\"#d8576b\"],[0.6666666666666666,\"#ed7953\"],[0.7777777777777778,\"#fb9f3a\"],[0.8888888888888888,\"#fdca26\"],[1.0,\"#f0f921\"]]}],\"heatmap\":[{\"type\":\"heatmap\",\"colorbar\":{\"outlinewidth\":0,\"ticks\":\"\"},\"colorscale\":[[0.0,\"#0d0887\"],[0.1111111111111111,\"#46039f\"],[0.2222222222222222,\"#7201a8\"],[0.3333333333333333,\"#9c179e\"],[0.4444444444444444,\"#bd3786\"],[0.5555555555555556,\"#d8576b\"],[0.6666666666666666,\"#ed7953\"],[0.7777777777777778,\"#fb9f3a\"],[0.8888888888888888,\"#fdca26\"],[1.0,\"#f0f921\"]]}],\"heatmapgl\":[{\"type\":\"heatmapgl\",\"colorbar\":{\"outlinewidth\":0,\"ticks\":\"\"},\"colorscale\":[[0.0,\"#0d0887\"],[0.1111111111111111,\"#46039f\"],[0.2222222222222222,\"#7201a8\"],[0.3333333333333333,\"#9c179e\"],[0.4444444444444444,\"#bd3786\"],[0.5555555555555556,\"#d8576b\"],[0.6666666666666666,\"#ed7953\"],[0.7777777777777778,\"#fb9f3a\"],[0.8888888888888888,\"#fdca26\"],[1.0,\"#f0f921\"]]}],\"contourcarpet\":[{\"type\":\"contourcarpet\",\"colorbar\":{\"outlinewidth\":0,\"ticks\":\"\"}}],\"contour\":[{\"type\":\"contour\",\"colorbar\":{\"outlinewidth\":0,\"ticks\":\"\"},\"colorscale\":[[0.0,\"#0d0887\"],[0.1111111111111111,\"#46039f\"],[0.2222222222222222,\"#7201a8\"],[0.3333333333333333,\"#9c179e\"],[0.4444444444444444,\"#bd3786\"],[0.5555555555555556,\"#d8576b\"],[0.6666666666666666,\"#ed7953\"],[0.7777777777777778,\"#fb9f3a\"],[0.8888888888888888,\"#fdca26\"],[1.0,\"#f0f921\"]]}],\"surface\":[{\"type\":\"surface\",\"colorbar\":{\"outlinewidth\":0,\"ticks\":\"\"},\"colorscale\":[[0.0,\"#0d0887\"],[0.1111111111111111,\"#46039f\"],[0.2222222222222222,\"#7201a8\"],[0.3333333333333333,\"#9c179e\"],[0.4444444444444444,\"#bd3786\"],[0.5555555555555556,\"#d8576b\"],[0.6666666666666666,\"#ed7953\"],[0.7777777777777778,\"#fb9f3a\"],[0.8888888888888888,\"#fdca26\"],[1.0,\"#f0f921\"]]}],\"mesh3d\":[{\"type\":\"mesh3d\",\"colorbar\":{\"outlinewidth\":0,\"ticks\":\"\"}}],\"scatter\":[{\"fillpattern\":{\"fillmode\":\"overlay\",\"size\":10,\"solidity\":0.2},\"type\":\"scatter\"}],\"parcoords\":[{\"type\":\"parcoords\",\"line\":{\"colorbar\":{\"outlinewidth\":0,\"ticks\":\"\"}}}],\"scatterpolargl\":[{\"type\":\"scatterpolargl\",\"marker\":{\"colorbar\":{\"outlinewidth\":0,\"ticks\":\"\"}}}],\"bar\":[{\"error_x\":{\"color\":\"#2a3f5f\"},\"error_y\":{\"color\":\"#2a3f5f\"},\"marker\":{\"line\":{\"color\":\"#E5ECF6\",\"width\":0.5},\"pattern\":{\"fillmode\":\"overlay\",\"size\":10,\"solidity\":0.2}},\"type\":\"bar\"}],\"scattergeo\":[{\"type\":\"scattergeo\",\"marker\":{\"colorbar\":{\"outlinewidth\":0,\"ticks\":\"\"}}}],\"scatterpolar\":[{\"type\":\"scatterpolar\",\"marker\":{\"colorbar\":{\"outlinewidth\":0,\"ticks\":\"\"}}}],\"histogram\":[{\"marker\":{\"pattern\":{\"fillmode\":\"overlay\",\"size\":10,\"solidity\":0.2}},\"type\":\"histogram\"}],\"scattergl\":[{\"type\":\"scattergl\",\"marker\":{\"colorbar\":{\"outlinewidth\":0,\"ticks\":\"\"}}}],\"scatter3d\":[{\"type\":\"scatter3d\",\"line\":{\"colorbar\":{\"outlinewidth\":0,\"ticks\":\"\"}},\"marker\":{\"colorbar\":{\"outlinewidth\":0,\"ticks\":\"\"}}}],\"scattermapbox\":[{\"type\":\"scattermapbox\",\"marker\":{\"colorbar\":{\"outlinewidth\":0,\"ticks\":\"\"}}}],\"scatterternary\":[{\"type\":\"scatterternary\",\"marker\":{\"colorbar\":{\"outlinewidth\":0,\"ticks\":\"\"}}}],\"scattercarpet\":[{\"type\":\"scattercarpet\",\"marker\":{\"colorbar\":{\"outlinewidth\":0,\"ticks\":\"\"}}}],\"carpet\":[{\"aaxis\":{\"endlinecolor\":\"#2a3f5f\",\"gridcolor\":\"white\",\"linecolor\":\"white\",\"minorgridcolor\":\"white\",\"startlinecolor\":\"#2a3f5f\"},\"baxis\":{\"endlinecolor\":\"#2a3f5f\",\"gridcolor\":\"white\",\"linecolor\":\"white\",\"minorgridcolor\":\"white\",\"startlinecolor\":\"#2a3f5f\"},\"type\":\"carpet\"}],\"table\":[{\"cells\":{\"fill\":{\"color\":\"#EBF0F8\"},\"line\":{\"color\":\"white\"}},\"header\":{\"fill\":{\"color\":\"#C8D4E3\"},\"line\":{\"color\":\"white\"}},\"type\":\"table\"}],\"barpolar\":[{\"marker\":{\"line\":{\"color\":\"#E5ECF6\",\"width\":0.5},\"pattern\":{\"fillmode\":\"overlay\",\"size\":10,\"solidity\":0.2}},\"type\":\"barpolar\"}],\"pie\":[{\"automargin\":true,\"type\":\"pie\"}]},\"layout\":{\"autotypenumbers\":\"strict\",\"colorway\":[\"#636efa\",\"#EF553B\",\"#00cc96\",\"#ab63fa\",\"#FFA15A\",\"#19d3f3\",\"#FF6692\",\"#B6E880\",\"#FF97FF\",\"#FECB52\"],\"font\":{\"color\":\"#2a3f5f\"},\"hovermode\":\"closest\",\"hoverlabel\":{\"align\":\"left\"},\"paper_bgcolor\":\"white\",\"plot_bgcolor\":\"#E5ECF6\",\"polar\":{\"bgcolor\":\"#E5ECF6\",\"angularaxis\":{\"gridcolor\":\"white\",\"linecolor\":\"white\",\"ticks\":\"\"},\"radialaxis\":{\"gridcolor\":\"white\",\"linecolor\":\"white\",\"ticks\":\"\"}},\"ternary\":{\"bgcolor\":\"#E5ECF6\",\"aaxis\":{\"gridcolor\":\"white\",\"linecolor\":\"white\",\"ticks\":\"\"},\"baxis\":{\"gridcolor\":\"white\",\"linecolor\":\"white\",\"ticks\":\"\"},\"caxis\":{\"gridcolor\":\"white\",\"linecolor\":\"white\",\"ticks\":\"\"}},\"coloraxis\":{\"colorbar\":{\"outlinewidth\":0,\"ticks\":\"\"}},\"colorscale\":{\"sequential\":[[0.0,\"#0d0887\"],[0.1111111111111111,\"#46039f\"],[0.2222222222222222,\"#7201a8\"],[0.3333333333333333,\"#9c179e\"],[0.4444444444444444,\"#bd3786\"],[0.5555555555555556,\"#d8576b\"],[0.6666666666666666,\"#ed7953\"],[0.7777777777777778,\"#fb9f3a\"],[0.8888888888888888,\"#fdca26\"],[1.0,\"#f0f921\"]],\"sequentialminus\":[[0.0,\"#0d0887\"],[0.1111111111111111,\"#46039f\"],[0.2222222222222222,\"#7201a8\"],[0.3333333333333333,\"#9c179e\"],[0.4444444444444444,\"#bd3786\"],[0.5555555555555556,\"#d8576b\"],[0.6666666666666666,\"#ed7953\"],[0.7777777777777778,\"#fb9f3a\"],[0.8888888888888888,\"#fdca26\"],[1.0,\"#f0f921\"]],\"diverging\":[[0,\"#8e0152\"],[0.1,\"#c51b7d\"],[0.2,\"#de77ae\"],[0.3,\"#f1b6da\"],[0.4,\"#fde0ef\"],[0.5,\"#f7f7f7\"],[0.6,\"#e6f5d0\"],[0.7,\"#b8e186\"],[0.8,\"#7fbc41\"],[0.9,\"#4d9221\"],[1,\"#276419\"]]},\"xaxis\":{\"gridcolor\":\"white\",\"linecolor\":\"white\",\"ticks\":\"\",\"title\":{\"standoff\":15},\"zerolinecolor\":\"white\",\"automargin\":true,\"zerolinewidth\":2},\"yaxis\":{\"gridcolor\":\"white\",\"linecolor\":\"white\",\"ticks\":\"\",\"title\":{\"standoff\":15},\"zerolinecolor\":\"white\",\"automargin\":true,\"zerolinewidth\":2},\"scene\":{\"xaxis\":{\"backgroundcolor\":\"#E5ECF6\",\"gridcolor\":\"white\",\"linecolor\":\"white\",\"showbackground\":true,\"ticks\":\"\",\"zerolinecolor\":\"white\",\"gridwidth\":2},\"yaxis\":{\"backgroundcolor\":\"#E5ECF6\",\"gridcolor\":\"white\",\"linecolor\":\"white\",\"showbackground\":true,\"ticks\":\"\",\"zerolinecolor\":\"white\",\"gridwidth\":2},\"zaxis\":{\"backgroundcolor\":\"#E5ECF6\",\"gridcolor\":\"white\",\"linecolor\":\"white\",\"showbackground\":true,\"ticks\":\"\",\"zerolinecolor\":\"white\",\"gridwidth\":2}},\"shapedefaults\":{\"line\":{\"color\":\"#2a3f5f\"}},\"annotationdefaults\":{\"arrowcolor\":\"#2a3f5f\",\"arrowhead\":0,\"arrowwidth\":1},\"geo\":{\"bgcolor\":\"white\",\"landcolor\":\"#E5ECF6\",\"subunitcolor\":\"white\",\"showland\":true,\"showlakes\":true,\"lakecolor\":\"white\"},\"title\":{\"x\":0.05},\"mapbox\":{\"style\":\"light\"}}},\"mapbox\":{\"center\":{\"lat\":28.59725,\"lon\":77.22635},\"style\":\"open-street-map\",\"zoom\":12},\"title\":{\"text\":\"Map of Chosen Stations and Reference Point\",\"x\":0.5},\"height\":600},                        {\"responsive\": true}                    ).then(function(){\n",
       "                            \n",
       "var gd = document.getElementById('10d30652-d290-4a5f-8d6e-83715186730a');\n",
       "var x = new MutationObserver(function (mutations, observer) {{\n",
       "        var display = window.getComputedStyle(gd).display;\n",
       "        if (!display || display === 'none') {{\n",
       "            console.log([gd, 'removed!']);\n",
       "            Plotly.purge(gd);\n",
       "            observer.disconnect();\n",
       "        }}\n",
       "}});\n",
       "\n",
       "// Listen for the removal of the full notebook cells\n",
       "var notebookContainer = gd.closest('#notebook-container');\n",
       "if (notebookContainer) {{\n",
       "    x.observe(notebookContainer, {childList: true});\n",
       "}}\n",
       "\n",
       "// Listen for the clearing of the current output cell\n",
       "var outputEl = gd.closest('.output');\n",
       "if (outputEl) {{\n",
       "    x.observe(outputEl, {childList: true});\n",
       "}}\n",
       "\n",
       "                        })                };                });            </script>        </div>"
      ]
     },
     "metadata": {},
     "output_type": "display_data"
    }
   ],
   "source": [
    "import plotly.graph_objects as go\n",
    "\n",
    "# Reference point coordinates\n",
    "reference_point = {\"latitude\": reference_point[0], \"longitude\": reference_point[1], \"name\": \"Reference Point\"}\n",
    "\n",
    "# Create the map figure\n",
    "fig = go.Figure()\n",
    "\n",
    "# Add the reference point as a larger marker\n",
    "fig.add_trace(go.Scattermapbox(\n",
    "    lat=[reference_point['latitude']],\n",
    "    lon=[reference_point['longitude']],\n",
    "    mode='markers',\n",
    "    marker=go.scattermapbox.Marker(\n",
    "        size=15,  # Larger size for reference point\n",
    "        color='red'  # Distinct color\n",
    "    ),\n",
    "    name=reference_point['name'],  # Legend name\n",
    "    hoverinfo='text',\n",
    "    text=f\"<b>{reference_point['name']}</b>\"  # Tooltip text\n",
    "))\n",
    "\n",
    "# Add the chosen stations as smaller markers\n",
    "fig.add_trace(go.Scattermapbox(\n",
    "    lat=filtered_combined_df['Latitude'],  # Replace with your latitude column name\n",
    "    lon=filtered_combined_df['Longitude'],  # Replace with your longitude column name\n",
    "    mode='markers',\n",
    "    marker=go.scattermapbox.Marker(\n",
    "        size=10,  # Smaller size for chosen stations\n",
    "        color='blue'\n",
    "    ),\n",
    "    name=\"Stations\",  # Legend name\n",
    "    hoverinfo='text',\n",
    "    text=filtered_combined_df['Name'] + \"<br>\" + filtered_combined_df['Address']  # Tooltip text\n",
    "))\n",
    "\n",
    "# Update the layout for the map\n",
    "fig.update_layout(\n",
    "    mapbox=dict(\n",
    "        style=\"open-street-map\",\n",
    "        center=dict(lat=reference_point['latitude'], lon=reference_point['longitude']),\n",
    "        zoom=12\n",
    "    ),\n",
    "    title=\"Map of Chosen Stations and Reference Point\",\n",
    "    title_x=0.5,  # Center the title\n",
    "    height=600\n",
    ")\n",
    "\n",
    "# Show the map\n",
    "fig.show()\n"
   ]
  },
  {
   "cell_type": "markdown",
   "id": "53e74282",
   "metadata": {},
   "source": [
    "#### Build the model"
   ]
  },
  {
   "cell_type": "code",
   "execution_count": 33,
   "id": "b14064e8",
   "metadata": {},
   "outputs": [
    {
     "name": "stdout",
     "output_type": "stream",
     "text": [
      "Top 5 Cheapest Stations in order:\n"
     ]
    },
    {
     "data": {
      "text/html": [
       "<div>\n",
       "<style scoped>\n",
       "    .dataframe tbody tr th:only-of-type {\n",
       "        vertical-align: middle;\n",
       "    }\n",
       "\n",
       "    .dataframe tbody tr th {\n",
       "        vertical-align: top;\n",
       "    }\n",
       "\n",
       "    .dataframe thead th {\n",
       "        text-align: right;\n",
       "    }\n",
       "</style>\n",
       "<table border=\"1\" class=\"dataframe\">\n",
       "  <thead>\n",
       "    <tr style=\"text-align: right;\">\n",
       "      <th></th>\n",
       "      <th>Name</th>\n",
       "      <th>Address</th>\n",
       "      <th>Total Cost</th>\n",
       "      <th>Distance</th>\n",
       "      <th>Cost_per_Unit</th>\n",
       "      <th>Available</th>\n",
       "    </tr>\n",
       "  </thead>\n",
       "  <tbody>\n",
       "    <tr>\n",
       "      <th>0</th>\n",
       "      <td>Indraprastha Metro Parking</td>\n",
       "      <td>Mahatma Gandhi Marg, Gas Turbine Power Station...</td>\n",
       "      <td>466.95</td>\n",
       "      <td>2.85</td>\n",
       "      <td>2.05</td>\n",
       "      <td>2</td>\n",
       "    </tr>\n",
       "    <tr>\n",
       "      <th>1</th>\n",
       "      <td>Indraprastha Metro Parking</td>\n",
       "      <td>Mahatma Gandhi Marg, Gas Turbine Power Station...</td>\n",
       "      <td>466.95</td>\n",
       "      <td>2.85</td>\n",
       "      <td>2.05</td>\n",
       "      <td>1</td>\n",
       "    </tr>\n",
       "    <tr>\n",
       "      <th>2</th>\n",
       "      <td>EESL</td>\n",
       "      <td>Outside Chelmsford Club/ Opposite CSIR Buildin...</td>\n",
       "      <td>2142.86</td>\n",
       "      <td>2.68</td>\n",
       "      <td>9.50</td>\n",
       "      <td>2</td>\n",
       "    </tr>\n",
       "    <tr>\n",
       "      <th>3</th>\n",
       "      <td>EESL</td>\n",
       "      <td>Laxmi Bai Market, Safderjung Flyover, New Delhi</td>\n",
       "      <td>2142.88</td>\n",
       "      <td>2.69</td>\n",
       "      <td>9.50</td>\n",
       "      <td>1</td>\n",
       "    </tr>\n",
       "    <tr>\n",
       "      <th>4</th>\n",
       "      <td>EESL Laxmi Bai Marke</td>\n",
       "      <td>Laxmi Bai Market, Safderjung Flyover, New Delhi</td>\n",
       "      <td>2142.88</td>\n",
       "      <td>2.69</td>\n",
       "      <td>9.50</td>\n",
       "      <td>1</td>\n",
       "    </tr>\n",
       "  </tbody>\n",
       "</table>\n",
       "</div>"
      ],
      "text/plain": [
       "                         Name  \\\n",
       "0  Indraprastha Metro Parking   \n",
       "1  Indraprastha Metro Parking   \n",
       "2                        EESL   \n",
       "3                        EESL   \n",
       "4        EESL Laxmi Bai Marke   \n",
       "\n",
       "                                             Address  Total Cost  Distance  \\\n",
       "0  Mahatma Gandhi Marg, Gas Turbine Power Station...      466.95      2.85   \n",
       "1  Mahatma Gandhi Marg, Gas Turbine Power Station...      466.95      2.85   \n",
       "2  Outside Chelmsford Club/ Opposite CSIR Buildin...     2142.86      2.68   \n",
       "3    Laxmi Bai Market, Safderjung Flyover, New Delhi     2142.88      2.69   \n",
       "4    Laxmi Bai Market, Safderjung Flyover, New Delhi     2142.88      2.69   \n",
       "\n",
       "   Cost_per_Unit  Available  \n",
       "0           2.05          2  \n",
       "1           2.05          1  \n",
       "2           9.50          2  \n",
       "3           9.50          1  \n",
       "4           9.50          1  "
      ]
     },
     "execution_count": 33,
     "metadata": {},
     "output_type": "execute_result"
    }
   ],
   "source": [
    "import heapq\n",
    "\n",
    "t = 2                                                                                # Weight for distance\n",
    "p = filtered_combined_df['Cost_per_Unit']\n",
    "# Step 1: Calculate the total cost dynamically\n",
    "filtered_combined_df['Total Cost'] = (D * filtered_combined_df['Cost_per_Unit']) + (t * filtered_combined_df['Distance'])\n",
    "\n",
    "# Step 2: Check required columns and find the top 5 cheapest stations\n",
    "if 'Total Cost' in filtered_combined_df.columns:\n",
    "    top_5 = heapq.nsmallest(\n",
    "        5,\n",
    "        filtered_combined_df[['Name', 'Address', 'Total Cost', 'Distance', 'Cost_per_Unit', 'Available']].itertuples(index=False),\n",
    "        key=lambda x: x[2]  # Sorting by 'Total Cost' (2nd index in the tuple)\n",
    "    )\n",
    "\n",
    "    # Step 3: Convert to DataFrame\n",
    "    cheapest_stations_df = pd.DataFrame(top_5, columns=['Name', 'Address', 'Total Cost', 'Distance', 'Cost_per_Unit', 'Available'])\n",
    "\n",
    "    # Step 4: Display the results\n",
    "    print(\"Top 5 Cheapest Stations in order:\")\n",
    "\n",
    "else:\n",
    "    print(\"Error: 'Total Cost' column is missing.\")\n",
    "\n",
    "cheapest_stations_df.head()"
   ]
  },
  {
   "cell_type": "markdown",
   "id": "21f8c694",
   "metadata": {},
   "source": [
    "#### Display 5 best stations on map"
   ]
  },
  {
   "cell_type": "code",
   "execution_count": 34,
   "id": "fca573b8",
   "metadata": {},
   "outputs": [
    {
     "data": {
      "application/vnd.plotly.v1+json": {
       "config": {
        "plotlyServerURL": "https://plot.ly"
       },
       "data": [
        {
         "lat": [
          28.59725
         ],
         "lon": [
          77.22635
         ],
         "marker": {
          "color": "red",
          "size": 15
         },
         "mode": "markers+text",
         "name": "Reference Point",
         "text": [
          "Reference Point"
         ],
         "textposition": "top right",
         "type": "scattermapbox"
        },
        {
         "lat": [
          28.600324,
          28.600735,
          28.588117,
          28.580532,
          28.584365
         ],
         "lon": [
          77.226883,
          77.226277,
          77.217564,
          77.221048,
          77.22054
         ],
         "marker": {
          "color": "blue",
          "size": 12
         },
         "mode": "markers+text",
         "name": "Cheapest Stations",
         "text": [
          "Name: Indraprastha Metro Parking<br>Address: Mahatma Gandhi Marg, Gas Turbine Power Station, IP Estate, New Delhi, Delhi 110002<br>Distance: 2.85 km<br>Cost per Kwh: 2.05 <br>Total Cost: 466.94999999999993",
          "Name: Indraprastha Metro Parking<br>Address: Mahatma Gandhi Marg, Gas Turbine Power Station, IP Estate, New Delhi, Delhi 110002<br>Distance: 2.85 km<br>Cost per Kwh: 2.05 <br>Total Cost: 466.94999999999993",
          "Name: EESL<br>Address: Outside Chelmsford Club/ Opposite CSIR Building, Rafi Marg, Sansad Marg Area, New Delhi 110001<br>Distance: 2.68 km<br>Cost per Kwh: 9.5 <br>Total Cost: 2142.86",
          "Name: EESL<br>Address: Laxmi Bai Market, Safderjung Flyover, New Delhi<br>Distance: 2.69 km<br>Cost per Kwh: 9.5 <br>Total Cost: 2142.88",
          "Name: EESL Laxmi Bai Marke<br>Address: Laxmi Bai Market, Safderjung Flyover, New Delhi<br>Distance: 2.69 km<br>Cost per Kwh: 9.5 <br>Total Cost: 2142.88"
         ],
         "textposition": "bottom right",
         "type": "scattermapbox"
        }
       ],
       "layout": {
        "height": 600,
        "mapbox": {
         "center": {
          "lat": 28.59725,
          "lon": 77.22635
         },
         "style": "open-street-map",
         "zoom": 12
        },
        "template": {
         "data": {
          "bar": [
           {
            "error_x": {
             "color": "#2a3f5f"
            },
            "error_y": {
             "color": "#2a3f5f"
            },
            "marker": {
             "line": {
              "color": "#E5ECF6",
              "width": 0.5
             },
             "pattern": {
              "fillmode": "overlay",
              "size": 10,
              "solidity": 0.2
             }
            },
            "type": "bar"
           }
          ],
          "barpolar": [
           {
            "marker": {
             "line": {
              "color": "#E5ECF6",
              "width": 0.5
             },
             "pattern": {
              "fillmode": "overlay",
              "size": 10,
              "solidity": 0.2
             }
            },
            "type": "barpolar"
           }
          ],
          "carpet": [
           {
            "aaxis": {
             "endlinecolor": "#2a3f5f",
             "gridcolor": "white",
             "linecolor": "white",
             "minorgridcolor": "white",
             "startlinecolor": "#2a3f5f"
            },
            "baxis": {
             "endlinecolor": "#2a3f5f",
             "gridcolor": "white",
             "linecolor": "white",
             "minorgridcolor": "white",
             "startlinecolor": "#2a3f5f"
            },
            "type": "carpet"
           }
          ],
          "choropleth": [
           {
            "colorbar": {
             "outlinewidth": 0,
             "ticks": ""
            },
            "type": "choropleth"
           }
          ],
          "contour": [
           {
            "colorbar": {
             "outlinewidth": 0,
             "ticks": ""
            },
            "colorscale": [
             [
              0,
              "#0d0887"
             ],
             [
              0.1111111111111111,
              "#46039f"
             ],
             [
              0.2222222222222222,
              "#7201a8"
             ],
             [
              0.3333333333333333,
              "#9c179e"
             ],
             [
              0.4444444444444444,
              "#bd3786"
             ],
             [
              0.5555555555555556,
              "#d8576b"
             ],
             [
              0.6666666666666666,
              "#ed7953"
             ],
             [
              0.7777777777777778,
              "#fb9f3a"
             ],
             [
              0.8888888888888888,
              "#fdca26"
             ],
             [
              1,
              "#f0f921"
             ]
            ],
            "type": "contour"
           }
          ],
          "contourcarpet": [
           {
            "colorbar": {
             "outlinewidth": 0,
             "ticks": ""
            },
            "type": "contourcarpet"
           }
          ],
          "heatmap": [
           {
            "colorbar": {
             "outlinewidth": 0,
             "ticks": ""
            },
            "colorscale": [
             [
              0,
              "#0d0887"
             ],
             [
              0.1111111111111111,
              "#46039f"
             ],
             [
              0.2222222222222222,
              "#7201a8"
             ],
             [
              0.3333333333333333,
              "#9c179e"
             ],
             [
              0.4444444444444444,
              "#bd3786"
             ],
             [
              0.5555555555555556,
              "#d8576b"
             ],
             [
              0.6666666666666666,
              "#ed7953"
             ],
             [
              0.7777777777777778,
              "#fb9f3a"
             ],
             [
              0.8888888888888888,
              "#fdca26"
             ],
             [
              1,
              "#f0f921"
             ]
            ],
            "type": "heatmap"
           }
          ],
          "heatmapgl": [
           {
            "colorbar": {
             "outlinewidth": 0,
             "ticks": ""
            },
            "colorscale": [
             [
              0,
              "#0d0887"
             ],
             [
              0.1111111111111111,
              "#46039f"
             ],
             [
              0.2222222222222222,
              "#7201a8"
             ],
             [
              0.3333333333333333,
              "#9c179e"
             ],
             [
              0.4444444444444444,
              "#bd3786"
             ],
             [
              0.5555555555555556,
              "#d8576b"
             ],
             [
              0.6666666666666666,
              "#ed7953"
             ],
             [
              0.7777777777777778,
              "#fb9f3a"
             ],
             [
              0.8888888888888888,
              "#fdca26"
             ],
             [
              1,
              "#f0f921"
             ]
            ],
            "type": "heatmapgl"
           }
          ],
          "histogram": [
           {
            "marker": {
             "pattern": {
              "fillmode": "overlay",
              "size": 10,
              "solidity": 0.2
             }
            },
            "type": "histogram"
           }
          ],
          "histogram2d": [
           {
            "colorbar": {
             "outlinewidth": 0,
             "ticks": ""
            },
            "colorscale": [
             [
              0,
              "#0d0887"
             ],
             [
              0.1111111111111111,
              "#46039f"
             ],
             [
              0.2222222222222222,
              "#7201a8"
             ],
             [
              0.3333333333333333,
              "#9c179e"
             ],
             [
              0.4444444444444444,
              "#bd3786"
             ],
             [
              0.5555555555555556,
              "#d8576b"
             ],
             [
              0.6666666666666666,
              "#ed7953"
             ],
             [
              0.7777777777777778,
              "#fb9f3a"
             ],
             [
              0.8888888888888888,
              "#fdca26"
             ],
             [
              1,
              "#f0f921"
             ]
            ],
            "type": "histogram2d"
           }
          ],
          "histogram2dcontour": [
           {
            "colorbar": {
             "outlinewidth": 0,
             "ticks": ""
            },
            "colorscale": [
             [
              0,
              "#0d0887"
             ],
             [
              0.1111111111111111,
              "#46039f"
             ],
             [
              0.2222222222222222,
              "#7201a8"
             ],
             [
              0.3333333333333333,
              "#9c179e"
             ],
             [
              0.4444444444444444,
              "#bd3786"
             ],
             [
              0.5555555555555556,
              "#d8576b"
             ],
             [
              0.6666666666666666,
              "#ed7953"
             ],
             [
              0.7777777777777778,
              "#fb9f3a"
             ],
             [
              0.8888888888888888,
              "#fdca26"
             ],
             [
              1,
              "#f0f921"
             ]
            ],
            "type": "histogram2dcontour"
           }
          ],
          "mesh3d": [
           {
            "colorbar": {
             "outlinewidth": 0,
             "ticks": ""
            },
            "type": "mesh3d"
           }
          ],
          "parcoords": [
           {
            "line": {
             "colorbar": {
              "outlinewidth": 0,
              "ticks": ""
             }
            },
            "type": "parcoords"
           }
          ],
          "pie": [
           {
            "automargin": true,
            "type": "pie"
           }
          ],
          "scatter": [
           {
            "fillpattern": {
             "fillmode": "overlay",
             "size": 10,
             "solidity": 0.2
            },
            "type": "scatter"
           }
          ],
          "scatter3d": [
           {
            "line": {
             "colorbar": {
              "outlinewidth": 0,
              "ticks": ""
             }
            },
            "marker": {
             "colorbar": {
              "outlinewidth": 0,
              "ticks": ""
             }
            },
            "type": "scatter3d"
           }
          ],
          "scattercarpet": [
           {
            "marker": {
             "colorbar": {
              "outlinewidth": 0,
              "ticks": ""
             }
            },
            "type": "scattercarpet"
           }
          ],
          "scattergeo": [
           {
            "marker": {
             "colorbar": {
              "outlinewidth": 0,
              "ticks": ""
             }
            },
            "type": "scattergeo"
           }
          ],
          "scattergl": [
           {
            "marker": {
             "colorbar": {
              "outlinewidth": 0,
              "ticks": ""
             }
            },
            "type": "scattergl"
           }
          ],
          "scattermapbox": [
           {
            "marker": {
             "colorbar": {
              "outlinewidth": 0,
              "ticks": ""
             }
            },
            "type": "scattermapbox"
           }
          ],
          "scatterpolar": [
           {
            "marker": {
             "colorbar": {
              "outlinewidth": 0,
              "ticks": ""
             }
            },
            "type": "scatterpolar"
           }
          ],
          "scatterpolargl": [
           {
            "marker": {
             "colorbar": {
              "outlinewidth": 0,
              "ticks": ""
             }
            },
            "type": "scatterpolargl"
           }
          ],
          "scatterternary": [
           {
            "marker": {
             "colorbar": {
              "outlinewidth": 0,
              "ticks": ""
             }
            },
            "type": "scatterternary"
           }
          ],
          "surface": [
           {
            "colorbar": {
             "outlinewidth": 0,
             "ticks": ""
            },
            "colorscale": [
             [
              0,
              "#0d0887"
             ],
             [
              0.1111111111111111,
              "#46039f"
             ],
             [
              0.2222222222222222,
              "#7201a8"
             ],
             [
              0.3333333333333333,
              "#9c179e"
             ],
             [
              0.4444444444444444,
              "#bd3786"
             ],
             [
              0.5555555555555556,
              "#d8576b"
             ],
             [
              0.6666666666666666,
              "#ed7953"
             ],
             [
              0.7777777777777778,
              "#fb9f3a"
             ],
             [
              0.8888888888888888,
              "#fdca26"
             ],
             [
              1,
              "#f0f921"
             ]
            ],
            "type": "surface"
           }
          ],
          "table": [
           {
            "cells": {
             "fill": {
              "color": "#EBF0F8"
             },
             "line": {
              "color": "white"
             }
            },
            "header": {
             "fill": {
              "color": "#C8D4E3"
             },
             "line": {
              "color": "white"
             }
            },
            "type": "table"
           }
          ]
         },
         "layout": {
          "annotationdefaults": {
           "arrowcolor": "#2a3f5f",
           "arrowhead": 0,
           "arrowwidth": 1
          },
          "autotypenumbers": "strict",
          "coloraxis": {
           "colorbar": {
            "outlinewidth": 0,
            "ticks": ""
           }
          },
          "colorscale": {
           "diverging": [
            [
             0,
             "#8e0152"
            ],
            [
             0.1,
             "#c51b7d"
            ],
            [
             0.2,
             "#de77ae"
            ],
            [
             0.3,
             "#f1b6da"
            ],
            [
             0.4,
             "#fde0ef"
            ],
            [
             0.5,
             "#f7f7f7"
            ],
            [
             0.6,
             "#e6f5d0"
            ],
            [
             0.7,
             "#b8e186"
            ],
            [
             0.8,
             "#7fbc41"
            ],
            [
             0.9,
             "#4d9221"
            ],
            [
             1,
             "#276419"
            ]
           ],
           "sequential": [
            [
             0,
             "#0d0887"
            ],
            [
             0.1111111111111111,
             "#46039f"
            ],
            [
             0.2222222222222222,
             "#7201a8"
            ],
            [
             0.3333333333333333,
             "#9c179e"
            ],
            [
             0.4444444444444444,
             "#bd3786"
            ],
            [
             0.5555555555555556,
             "#d8576b"
            ],
            [
             0.6666666666666666,
             "#ed7953"
            ],
            [
             0.7777777777777778,
             "#fb9f3a"
            ],
            [
             0.8888888888888888,
             "#fdca26"
            ],
            [
             1,
             "#f0f921"
            ]
           ],
           "sequentialminus": [
            [
             0,
             "#0d0887"
            ],
            [
             0.1111111111111111,
             "#46039f"
            ],
            [
             0.2222222222222222,
             "#7201a8"
            ],
            [
             0.3333333333333333,
             "#9c179e"
            ],
            [
             0.4444444444444444,
             "#bd3786"
            ],
            [
             0.5555555555555556,
             "#d8576b"
            ],
            [
             0.6666666666666666,
             "#ed7953"
            ],
            [
             0.7777777777777778,
             "#fb9f3a"
            ],
            [
             0.8888888888888888,
             "#fdca26"
            ],
            [
             1,
             "#f0f921"
            ]
           ]
          },
          "colorway": [
           "#636efa",
           "#EF553B",
           "#00cc96",
           "#ab63fa",
           "#FFA15A",
           "#19d3f3",
           "#FF6692",
           "#B6E880",
           "#FF97FF",
           "#FECB52"
          ],
          "font": {
           "color": "#2a3f5f"
          },
          "geo": {
           "bgcolor": "white",
           "lakecolor": "white",
           "landcolor": "#E5ECF6",
           "showlakes": true,
           "showland": true,
           "subunitcolor": "white"
          },
          "hoverlabel": {
           "align": "left"
          },
          "hovermode": "closest",
          "mapbox": {
           "style": "light"
          },
          "paper_bgcolor": "white",
          "plot_bgcolor": "#E5ECF6",
          "polar": {
           "angularaxis": {
            "gridcolor": "white",
            "linecolor": "white",
            "ticks": ""
           },
           "bgcolor": "#E5ECF6",
           "radialaxis": {
            "gridcolor": "white",
            "linecolor": "white",
            "ticks": ""
           }
          },
          "scene": {
           "xaxis": {
            "backgroundcolor": "#E5ECF6",
            "gridcolor": "white",
            "gridwidth": 2,
            "linecolor": "white",
            "showbackground": true,
            "ticks": "",
            "zerolinecolor": "white"
           },
           "yaxis": {
            "backgroundcolor": "#E5ECF6",
            "gridcolor": "white",
            "gridwidth": 2,
            "linecolor": "white",
            "showbackground": true,
            "ticks": "",
            "zerolinecolor": "white"
           },
           "zaxis": {
            "backgroundcolor": "#E5ECF6",
            "gridcolor": "white",
            "gridwidth": 2,
            "linecolor": "white",
            "showbackground": true,
            "ticks": "",
            "zerolinecolor": "white"
           }
          },
          "shapedefaults": {
           "line": {
            "color": "#2a3f5f"
           }
          },
          "ternary": {
           "aaxis": {
            "gridcolor": "white",
            "linecolor": "white",
            "ticks": ""
           },
           "baxis": {
            "gridcolor": "white",
            "linecolor": "white",
            "ticks": ""
           },
           "bgcolor": "#E5ECF6",
           "caxis": {
            "gridcolor": "white",
            "linecolor": "white",
            "ticks": ""
           }
          },
          "title": {
           "x": 0.05
          },
          "xaxis": {
           "automargin": true,
           "gridcolor": "white",
           "linecolor": "white",
           "ticks": "",
           "title": {
            "standoff": 15
           },
           "zerolinecolor": "white",
           "zerolinewidth": 2
          },
          "yaxis": {
           "automargin": true,
           "gridcolor": "white",
           "linecolor": "white",
           "ticks": "",
           "title": {
            "standoff": 15
           },
           "zerolinecolor": "white",
           "zerolinewidth": 2
          }
         }
        },
        "title": {
         "text": "Top 5 Cheapest Stations and Reference Point",
         "x": 0.5
        }
       }
      },
      "text/html": [
       "<div>                            <div id=\"e72a85d1-13bf-479e-89a4-c0ce6103c2d3\" class=\"plotly-graph-div\" style=\"height:600px; width:100%;\"></div>            <script type=\"text/javascript\">                require([\"plotly\"], function(Plotly) {                    window.PLOTLYENV=window.PLOTLYENV || {};                                    if (document.getElementById(\"e72a85d1-13bf-479e-89a4-c0ce6103c2d3\")) {                    Plotly.newPlot(                        \"e72a85d1-13bf-479e-89a4-c0ce6103c2d3\",                        [{\"lat\":[28.59725],\"lon\":[77.22635],\"marker\":{\"color\":\"red\",\"size\":15},\"mode\":\"markers+text\",\"name\":\"Reference Point\",\"text\":[\"Reference Point\"],\"textposition\":\"top right\",\"type\":\"scattermapbox\"},{\"lat\":[28.600324,28.600735,28.588117,28.580532,28.584365],\"lon\":[77.226883,77.226277,77.217564,77.221048,77.22054],\"marker\":{\"color\":\"blue\",\"size\":12},\"mode\":\"markers+text\",\"name\":\"Cheapest Stations\",\"text\":[\"Name: Indraprastha Metro Parking<br>Address: Mahatma Gandhi Marg, Gas Turbine Power Station, IP Estate, New Delhi, Delhi 110002<br>Distance: 2.85 km<br>Cost per Kwh: 2.05 <br>Total Cost: 466.94999999999993\",\"Name: Indraprastha Metro Parking<br>Address: Mahatma Gandhi Marg, Gas Turbine Power Station, IP Estate, New Delhi, Delhi 110002<br>Distance: 2.85 km<br>Cost per Kwh: 2.05 <br>Total Cost: 466.94999999999993\",\"Name: EESL<br>Address: Outside Chelmsford Club/ Opposite CSIR Building, Rafi Marg, Sansad Marg Area, New Delhi 110001<br>Distance: 2.68 km<br>Cost per Kwh: 9.5 <br>Total Cost: 2142.86\",\"Name: EESL<br>Address: Laxmi Bai Market, Safderjung Flyover, New Delhi<br>Distance: 2.69 km<br>Cost per Kwh: 9.5 <br>Total Cost: 2142.88\",\"Name: EESL Laxmi Bai Marke<br>Address: Laxmi Bai Market, Safderjung Flyover, New Delhi<br>Distance: 2.69 km<br>Cost per Kwh: 9.5 <br>Total Cost: 2142.88\"],\"textposition\":\"bottom right\",\"type\":\"scattermapbox\"}],                        {\"template\":{\"data\":{\"histogram2dcontour\":[{\"type\":\"histogram2dcontour\",\"colorbar\":{\"outlinewidth\":0,\"ticks\":\"\"},\"colorscale\":[[0.0,\"#0d0887\"],[0.1111111111111111,\"#46039f\"],[0.2222222222222222,\"#7201a8\"],[0.3333333333333333,\"#9c179e\"],[0.4444444444444444,\"#bd3786\"],[0.5555555555555556,\"#d8576b\"],[0.6666666666666666,\"#ed7953\"],[0.7777777777777778,\"#fb9f3a\"],[0.8888888888888888,\"#fdca26\"],[1.0,\"#f0f921\"]]}],\"choropleth\":[{\"type\":\"choropleth\",\"colorbar\":{\"outlinewidth\":0,\"ticks\":\"\"}}],\"histogram2d\":[{\"type\":\"histogram2d\",\"colorbar\":{\"outlinewidth\":0,\"ticks\":\"\"},\"colorscale\":[[0.0,\"#0d0887\"],[0.1111111111111111,\"#46039f\"],[0.2222222222222222,\"#7201a8\"],[0.3333333333333333,\"#9c179e\"],[0.4444444444444444,\"#bd3786\"],[0.5555555555555556,\"#d8576b\"],[0.6666666666666666,\"#ed7953\"],[0.7777777777777778,\"#fb9f3a\"],[0.8888888888888888,\"#fdca26\"],[1.0,\"#f0f921\"]]}],\"heatmap\":[{\"type\":\"heatmap\",\"colorbar\":{\"outlinewidth\":0,\"ticks\":\"\"},\"colorscale\":[[0.0,\"#0d0887\"],[0.1111111111111111,\"#46039f\"],[0.2222222222222222,\"#7201a8\"],[0.3333333333333333,\"#9c179e\"],[0.4444444444444444,\"#bd3786\"],[0.5555555555555556,\"#d8576b\"],[0.6666666666666666,\"#ed7953\"],[0.7777777777777778,\"#fb9f3a\"],[0.8888888888888888,\"#fdca26\"],[1.0,\"#f0f921\"]]}],\"heatmapgl\":[{\"type\":\"heatmapgl\",\"colorbar\":{\"outlinewidth\":0,\"ticks\":\"\"},\"colorscale\":[[0.0,\"#0d0887\"],[0.1111111111111111,\"#46039f\"],[0.2222222222222222,\"#7201a8\"],[0.3333333333333333,\"#9c179e\"],[0.4444444444444444,\"#bd3786\"],[0.5555555555555556,\"#d8576b\"],[0.6666666666666666,\"#ed7953\"],[0.7777777777777778,\"#fb9f3a\"],[0.8888888888888888,\"#fdca26\"],[1.0,\"#f0f921\"]]}],\"contourcarpet\":[{\"type\":\"contourcarpet\",\"colorbar\":{\"outlinewidth\":0,\"ticks\":\"\"}}],\"contour\":[{\"type\":\"contour\",\"colorbar\":{\"outlinewidth\":0,\"ticks\":\"\"},\"colorscale\":[[0.0,\"#0d0887\"],[0.1111111111111111,\"#46039f\"],[0.2222222222222222,\"#7201a8\"],[0.3333333333333333,\"#9c179e\"],[0.4444444444444444,\"#bd3786\"],[0.5555555555555556,\"#d8576b\"],[0.6666666666666666,\"#ed7953\"],[0.7777777777777778,\"#fb9f3a\"],[0.8888888888888888,\"#fdca26\"],[1.0,\"#f0f921\"]]}],\"surface\":[{\"type\":\"surface\",\"colorbar\":{\"outlinewidth\":0,\"ticks\":\"\"},\"colorscale\":[[0.0,\"#0d0887\"],[0.1111111111111111,\"#46039f\"],[0.2222222222222222,\"#7201a8\"],[0.3333333333333333,\"#9c179e\"],[0.4444444444444444,\"#bd3786\"],[0.5555555555555556,\"#d8576b\"],[0.6666666666666666,\"#ed7953\"],[0.7777777777777778,\"#fb9f3a\"],[0.8888888888888888,\"#fdca26\"],[1.0,\"#f0f921\"]]}],\"mesh3d\":[{\"type\":\"mesh3d\",\"colorbar\":{\"outlinewidth\":0,\"ticks\":\"\"}}],\"scatter\":[{\"fillpattern\":{\"fillmode\":\"overlay\",\"size\":10,\"solidity\":0.2},\"type\":\"scatter\"}],\"parcoords\":[{\"type\":\"parcoords\",\"line\":{\"colorbar\":{\"outlinewidth\":0,\"ticks\":\"\"}}}],\"scatterpolargl\":[{\"type\":\"scatterpolargl\",\"marker\":{\"colorbar\":{\"outlinewidth\":0,\"ticks\":\"\"}}}],\"bar\":[{\"error_x\":{\"color\":\"#2a3f5f\"},\"error_y\":{\"color\":\"#2a3f5f\"},\"marker\":{\"line\":{\"color\":\"#E5ECF6\",\"width\":0.5},\"pattern\":{\"fillmode\":\"overlay\",\"size\":10,\"solidity\":0.2}},\"type\":\"bar\"}],\"scattergeo\":[{\"type\":\"scattergeo\",\"marker\":{\"colorbar\":{\"outlinewidth\":0,\"ticks\":\"\"}}}],\"scatterpolar\":[{\"type\":\"scatterpolar\",\"marker\":{\"colorbar\":{\"outlinewidth\":0,\"ticks\":\"\"}}}],\"histogram\":[{\"marker\":{\"pattern\":{\"fillmode\":\"overlay\",\"size\":10,\"solidity\":0.2}},\"type\":\"histogram\"}],\"scattergl\":[{\"type\":\"scattergl\",\"marker\":{\"colorbar\":{\"outlinewidth\":0,\"ticks\":\"\"}}}],\"scatter3d\":[{\"type\":\"scatter3d\",\"line\":{\"colorbar\":{\"outlinewidth\":0,\"ticks\":\"\"}},\"marker\":{\"colorbar\":{\"outlinewidth\":0,\"ticks\":\"\"}}}],\"scattermapbox\":[{\"type\":\"scattermapbox\",\"marker\":{\"colorbar\":{\"outlinewidth\":0,\"ticks\":\"\"}}}],\"scatterternary\":[{\"type\":\"scatterternary\",\"marker\":{\"colorbar\":{\"outlinewidth\":0,\"ticks\":\"\"}}}],\"scattercarpet\":[{\"type\":\"scattercarpet\",\"marker\":{\"colorbar\":{\"outlinewidth\":0,\"ticks\":\"\"}}}],\"carpet\":[{\"aaxis\":{\"endlinecolor\":\"#2a3f5f\",\"gridcolor\":\"white\",\"linecolor\":\"white\",\"minorgridcolor\":\"white\",\"startlinecolor\":\"#2a3f5f\"},\"baxis\":{\"endlinecolor\":\"#2a3f5f\",\"gridcolor\":\"white\",\"linecolor\":\"white\",\"minorgridcolor\":\"white\",\"startlinecolor\":\"#2a3f5f\"},\"type\":\"carpet\"}],\"table\":[{\"cells\":{\"fill\":{\"color\":\"#EBF0F8\"},\"line\":{\"color\":\"white\"}},\"header\":{\"fill\":{\"color\":\"#C8D4E3\"},\"line\":{\"color\":\"white\"}},\"type\":\"table\"}],\"barpolar\":[{\"marker\":{\"line\":{\"color\":\"#E5ECF6\",\"width\":0.5},\"pattern\":{\"fillmode\":\"overlay\",\"size\":10,\"solidity\":0.2}},\"type\":\"barpolar\"}],\"pie\":[{\"automargin\":true,\"type\":\"pie\"}]},\"layout\":{\"autotypenumbers\":\"strict\",\"colorway\":[\"#636efa\",\"#EF553B\",\"#00cc96\",\"#ab63fa\",\"#FFA15A\",\"#19d3f3\",\"#FF6692\",\"#B6E880\",\"#FF97FF\",\"#FECB52\"],\"font\":{\"color\":\"#2a3f5f\"},\"hovermode\":\"closest\",\"hoverlabel\":{\"align\":\"left\"},\"paper_bgcolor\":\"white\",\"plot_bgcolor\":\"#E5ECF6\",\"polar\":{\"bgcolor\":\"#E5ECF6\",\"angularaxis\":{\"gridcolor\":\"white\",\"linecolor\":\"white\",\"ticks\":\"\"},\"radialaxis\":{\"gridcolor\":\"white\",\"linecolor\":\"white\",\"ticks\":\"\"}},\"ternary\":{\"bgcolor\":\"#E5ECF6\",\"aaxis\":{\"gridcolor\":\"white\",\"linecolor\":\"white\",\"ticks\":\"\"},\"baxis\":{\"gridcolor\":\"white\",\"linecolor\":\"white\",\"ticks\":\"\"},\"caxis\":{\"gridcolor\":\"white\",\"linecolor\":\"white\",\"ticks\":\"\"}},\"coloraxis\":{\"colorbar\":{\"outlinewidth\":0,\"ticks\":\"\"}},\"colorscale\":{\"sequential\":[[0.0,\"#0d0887\"],[0.1111111111111111,\"#46039f\"],[0.2222222222222222,\"#7201a8\"],[0.3333333333333333,\"#9c179e\"],[0.4444444444444444,\"#bd3786\"],[0.5555555555555556,\"#d8576b\"],[0.6666666666666666,\"#ed7953\"],[0.7777777777777778,\"#fb9f3a\"],[0.8888888888888888,\"#fdca26\"],[1.0,\"#f0f921\"]],\"sequentialminus\":[[0.0,\"#0d0887\"],[0.1111111111111111,\"#46039f\"],[0.2222222222222222,\"#7201a8\"],[0.3333333333333333,\"#9c179e\"],[0.4444444444444444,\"#bd3786\"],[0.5555555555555556,\"#d8576b\"],[0.6666666666666666,\"#ed7953\"],[0.7777777777777778,\"#fb9f3a\"],[0.8888888888888888,\"#fdca26\"],[1.0,\"#f0f921\"]],\"diverging\":[[0,\"#8e0152\"],[0.1,\"#c51b7d\"],[0.2,\"#de77ae\"],[0.3,\"#f1b6da\"],[0.4,\"#fde0ef\"],[0.5,\"#f7f7f7\"],[0.6,\"#e6f5d0\"],[0.7,\"#b8e186\"],[0.8,\"#7fbc41\"],[0.9,\"#4d9221\"],[1,\"#276419\"]]},\"xaxis\":{\"gridcolor\":\"white\",\"linecolor\":\"white\",\"ticks\":\"\",\"title\":{\"standoff\":15},\"zerolinecolor\":\"white\",\"automargin\":true,\"zerolinewidth\":2},\"yaxis\":{\"gridcolor\":\"white\",\"linecolor\":\"white\",\"ticks\":\"\",\"title\":{\"standoff\":15},\"zerolinecolor\":\"white\",\"automargin\":true,\"zerolinewidth\":2},\"scene\":{\"xaxis\":{\"backgroundcolor\":\"#E5ECF6\",\"gridcolor\":\"white\",\"linecolor\":\"white\",\"showbackground\":true,\"ticks\":\"\",\"zerolinecolor\":\"white\",\"gridwidth\":2},\"yaxis\":{\"backgroundcolor\":\"#E5ECF6\",\"gridcolor\":\"white\",\"linecolor\":\"white\",\"showbackground\":true,\"ticks\":\"\",\"zerolinecolor\":\"white\",\"gridwidth\":2},\"zaxis\":{\"backgroundcolor\":\"#E5ECF6\",\"gridcolor\":\"white\",\"linecolor\":\"white\",\"showbackground\":true,\"ticks\":\"\",\"zerolinecolor\":\"white\",\"gridwidth\":2}},\"shapedefaults\":{\"line\":{\"color\":\"#2a3f5f\"}},\"annotationdefaults\":{\"arrowcolor\":\"#2a3f5f\",\"arrowhead\":0,\"arrowwidth\":1},\"geo\":{\"bgcolor\":\"white\",\"landcolor\":\"#E5ECF6\",\"subunitcolor\":\"white\",\"showland\":true,\"showlakes\":true,\"lakecolor\":\"white\"},\"title\":{\"x\":0.05},\"mapbox\":{\"style\":\"light\"}}},\"mapbox\":{\"center\":{\"lat\":28.59725,\"lon\":77.22635},\"style\":\"open-street-map\",\"zoom\":12},\"title\":{\"text\":\"Top 5 Cheapest Stations and Reference Point\",\"x\":0.5},\"height\":600},                        {\"responsive\": true}                    ).then(function(){\n",
       "                            \n",
       "var gd = document.getElementById('e72a85d1-13bf-479e-89a4-c0ce6103c2d3');\n",
       "var x = new MutationObserver(function (mutations, observer) {{\n",
       "        var display = window.getComputedStyle(gd).display;\n",
       "        if (!display || display === 'none') {{\n",
       "            console.log([gd, 'removed!']);\n",
       "            Plotly.purge(gd);\n",
       "            observer.disconnect();\n",
       "        }}\n",
       "}});\n",
       "\n",
       "// Listen for the removal of the full notebook cells\n",
       "var notebookContainer = gd.closest('#notebook-container');\n",
       "if (notebookContainer) {{\n",
       "    x.observe(notebookContainer, {childList: true});\n",
       "}}\n",
       "\n",
       "// Listen for the clearing of the current output cell\n",
       "var outputEl = gd.closest('.output');\n",
       "if (outputEl) {{\n",
       "    x.observe(outputEl, {childList: true});\n",
       "}}\n",
       "\n",
       "                        })                };                });            </script>        </div>"
      ]
     },
     "metadata": {},
     "output_type": "display_data"
    }
   ],
   "source": [
    "# Coordinates for the 5 cheapest stations\n",
    "cheapest_stations = cheapest_stations_df  # Assuming this contains 'Address' and 'Total Cost'\n",
    "latitudes = filtered_combined_df.loc[cheapest_stations_df.index, 'Latitude']\n",
    "longitudes = filtered_combined_df.loc[cheapest_stations_df.index, 'Longitude']\n",
    "\n",
    "# Create the map figure\n",
    "fig = go.Figure()\n",
    "\n",
    "# Add the reference point\n",
    "fig.add_trace(go.Scattermapbox(\n",
    "    lat=[reference_point['latitude']],  # Use key 'latitude'\n",
    "    lon=[reference_point['longitude']],  # Use key 'longitude'\n",
    "    mode='markers+text',\n",
    "    marker=dict(size=15, color='red'),\n",
    "    text=[\"Reference Point\"],\n",
    "    textposition=\"top right\",\n",
    "    name=\"Reference Point\"\n",
    "))\n",
    "# Add the 5 cheapest stations\n",
    "fig.add_trace(go.Scattermapbox(\n",
    "    lat=latitudes,\n",
    "    lon=longitudes,\n",
    "    mode='markers+text',\n",
    "    marker=dict(size=12, color='blue'),\n",
    "    text=[\n",
    "        f\"Name: {row['Name']}<br>\"\n",
    "        f\"Address: {row['Address']}<br>\"\n",
    "        f\"Distance: {row['Distance']} km<br>\"\n",
    "        f\"Cost per Kwh: {row['Cost_per_Unit']} <br>\"\n",
    "        f\"Total Cost: {row['Total Cost']}\"\n",
    "        for _, row in cheapest_stations.iterrows()\n",
    "    ],\n",
    "    textposition=\"bottom right\",\n",
    "    name=\"Cheapest Stations\"\n",
    "))\n",
    "\n",
    "\n",
    "# Update layout with map details\n",
    "fig.update_layout(\n",
    "    mapbox=dict(\n",
    "        style=\"open-street-map\",\n",
    "        center=dict(\n",
    "            lat=reference_point['latitude'], \n",
    "            lon=reference_point['longitude']\n",
    "        ),\n",
    "        zoom=12\n",
    "    ),\n",
    "    title=\"Top 5 Cheapest Stations and Reference Point\",\n",
    "    title_x=0.5,\n",
    "    height=600\n",
    ")\n",
    "\n",
    "\n",
    "# Show the map\n",
    "fig.show()"
   ]
  },
  {
   "cell_type": "code",
   "execution_count": null,
   "id": "6a167bf0",
   "metadata": {},
   "outputs": [],
   "source": []
  }
 ],
 "metadata": {
  "kernelspec": {
   "display_name": "Python 3 (ipykernel)",
   "language": "python",
   "name": "python3"
  },
  "language_info": {
   "codemirror_mode": {
    "name": "ipython",
    "version": 3
   },
   "file_extension": ".py",
   "mimetype": "text/x-python",
   "name": "python",
   "nbconvert_exporter": "python",
   "pygments_lexer": "ipython3",
   "version": "3.11.4"
  }
 },
 "nbformat": 4,
 "nbformat_minor": 5
}
