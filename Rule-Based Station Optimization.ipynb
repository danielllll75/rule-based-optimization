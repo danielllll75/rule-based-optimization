{
 "cells": [
  {
   "cell_type": "code",
   "execution_count": 1,
   "id": "fdca4b03",
   "metadata": {},
   "outputs": [],
   "source": [
    "import pandas as pd\n",
    "import math"
   ]
  },
  {
   "cell_type": "markdown",
   "id": "cbb5aa1a",
   "metadata": {},
   "source": [
    "## Step 1: Gather and Prepare Data"
   ]
  },
  {
   "cell_type": "markdown",
   "id": "582ac2f9",
   "metadata": {},
   "source": [
    "### Input Data"
   ]
  },
  {
   "cell_type": "markdown",
   "id": "65002d83",
   "metadata": {},
   "source": [
    "#### Heavy Machiney Data"
   ]
  },
  {
   "cell_type": "code",
   "execution_count": 29,
   "id": "9d675956",
   "metadata": {
    "scrolled": false
   },
   "outputs": [
    {
     "name": "stdout",
     "output_type": "stream",
     "text": [
      "\n",
      "Enter the machine number (starting from 1): 1\n",
      "\n",
      "✅ Data for machine:\n",
      "Machine name: Cat 320 Z-Line\n",
      "Machine type: 25-tonne Excavator\n",
      "Nominal Battery Capacity: 300 kWh, Usable Battery Capacity 270.0\n",
      "Charging Speed: 40 kW\n"
     ]
    }
   ],
   "source": [
    "# Load the dataset\n",
    "file_path = 'C:\\\\Users\\\\ASUS\\\\Desktop\\\\OverviewMachines.xlsx'\n",
    "df = pd.read_excel(file_path)\n",
    "\n",
    "# Column extraction\n",
    "included_columns = ['Unnamed: 1', 'Unnamed: 2', 'Unnamed: 3', 'Unnamed: 4', 'Unnamed: 7', 'Unnamed: 12']  # Adjust according to your dataset\n",
    "\n",
    "# Change column names\n",
    "column_titles = {\n",
    "    'Unnamed: 1': 'Machine Name',\n",
    "    'Unnamed: 2': 'Machine Type',\n",
    "    'Unnamed: 3': 'Battery Capacity (kWh)',\n",
    "    'Unnamed: 4': 'Charging Speed (kW)',\n",
    "    'Unnamed: 7': 'Total Charging Demand for Normal Working (kWh)',\n",
    "    'Unnamed: 12': 'Total Charging Demand for Heavy Working (kWh)'\n",
    "    \n",
    "}\n",
    "\n",
    "# Input machine number\n",
    "machine_number = int(input(\"\\nEnter the machine number (starting from 1): \")) \n",
    "\n",
    "# Convert machine number to actual dataset row index\n",
    "actual_row_number = machine_number + 1  \n",
    "\n",
    "# Validate machine number\n",
    "if machine_number < 1 or actual_row_number > len(df):\n",
    "    print(f\"\\n❌ Invalid machine number. Please enter a number between 1 and {len(df) - 1}.\")\n",
    "elif not all(col in df.columns for col in included_columns):\n",
    "    print(f\"\\n❌ Invalid columns found in {included_columns}. Please check the column names in the dataset.\")\n",
    "else:\n",
    "    # Extract values for the specified columns and row\n",
    "    machine_data = df.loc[actual_row_number - 1, included_columns].to_dict()\n",
    "\n",
    "    # Rename keys using custom column names\n",
    "    machine_data = {column_titles[k]: v for k, v in machine_data.items()}\n",
    "\n",
    "    # Store values in separate variables\n",
    "    Machine_name = machine_data['Machine Name']\n",
    "    Machine_type = machine_data['Machine Type']\n",
    "    battery_capacity = machine_data['Battery Capacity (kWh)']\n",
    "    \n",
    "    # Since nominal capacities are limited due to battery longevity, the usable battery capacity is lower.\n",
    "    battery_capacity_real = battery_capacity * 0.9                       # Assumed usable capacity is 90% of the nominal one.   \n",
    "    \n",
    "    charging_speed_vehicle = machine_data['Charging Speed (kW)']\n",
    "    \n",
    "\n",
    "    print(f\"\\n✅ Data for machine:\")\n",
    "    print(f\"Machine name: {Machine_name}\")\n",
    "    print(f\"Machine type: {Machine_type}\")\n",
    "    print(f\"Nominal Battery Capacity: {battery_capacity} kWh, Usable Battery Capacity {battery_capacity_real}\")\n",
    "    print(f\"Charging Speed: {charging_speed_vehicle} kW\")\n",
    "    "
   ]
  },
  {
   "cell_type": "markdown",
   "id": "5d79ead0",
   "metadata": {},
   "source": [
    "#### Input Remaining Battery"
   ]
  },
  {
   "cell_type": "code",
   "execution_count": 30,
   "id": "41fb25a7",
   "metadata": {
    "scrolled": true
   },
   "outputs": [
    {
     "name": "stdout",
     "output_type": "stream",
     "text": [
      "\n",
      "Enter the battery percentage on screen (from 0 to 100): 0\n",
      "The machine requires 270.0 kwh energy\n"
     ]
    }
   ],
   "source": [
    "battery_percentage = int(input('\\nEnter the battery percentage on screen (from 0 to 100): '))\n",
    "if battery_percentage < 0 or battery_percentage > 100:\n",
    "    print(f\"\\n❌ State of the charge number. Please enter a number between 0 and 100.\")\n",
    "else:\n",
    "    battery_percentage = battery_percentage / 100\n",
    "    SOC = battery_capacity_real * battery_percentage\n",
    "    Required_energy = battery_capacity_real - SOC\n",
    "    print (f'The machine requires {Required_energy} kwh energy')"
   ]
  },
  {
   "cell_type": "markdown",
   "id": "474354ff",
   "metadata": {},
   "source": [
    "#### Stations Data"
   ]
  },
  {
   "cell_type": "code",
   "execution_count": 31,
   "id": "9f15f3d1",
   "metadata": {},
   "outputs": [],
   "source": [
    "dataset = pd.read_excel('C:\\\\Users\\\\ASUS\\\\Downloads\\\\archive\\\\Final_dataset(Cleaned_extra_stations).xlsx')\n",
    "dataset\n",
    "Charging_speed_station = dataset['capacity']             # Charging speed (Kw)\n",
    "Availability = dataset['available']             # Availability\n",
    "latitude = dataset['latitude']       # Latitudes of stations\n",
    "longitude = dataset['longitude']     # Longitudes of stations"
   ]
  },
  {
   "cell_type": "markdown",
   "id": "abc117cd",
   "metadata": {},
   "source": [
    "## Step 2: Define the rules"
   ]
  },
  {
   "cell_type": "markdown",
   "id": "7c2093ab",
   "metadata": {},
   "source": [
    "#### Distance Check"
   ]
  },
  {
   "cell_type": "code",
   "execution_count": 32,
   "id": "1c75e7ce",
   "metadata": {
    "scrolled": true
   },
   "outputs": [
    {
     "data": {
      "text/html": [
       "<div>\n",
       "<style scoped>\n",
       "    .dataframe tbody tr th:only-of-type {\n",
       "        vertical-align: middle;\n",
       "    }\n",
       "\n",
       "    .dataframe tbody tr th {\n",
       "        vertical-align: top;\n",
       "    }\n",
       "\n",
       "    .dataframe thead th {\n",
       "        text-align: right;\n",
       "    }\n",
       "</style>\n",
       "<table border=\"1\" class=\"dataframe\">\n",
       "  <thead>\n",
       "    <tr style=\"text-align: right;\">\n",
       "      <th></th>\n",
       "      <th>Name</th>\n",
       "      <th>Address</th>\n",
       "      <th>Latitude</th>\n",
       "      <th>Longitude</th>\n",
       "      <th>Cost_per_Unit</th>\n",
       "      <th>Distance</th>\n",
       "      <th>Available</th>\n",
       "    </tr>\n",
       "  </thead>\n",
       "  <tbody>\n",
       "    <tr>\n",
       "      <th>1</th>\n",
       "      <td>REVOS</td>\n",
       "      <td>sector 14 rohini</td>\n",
       "      <td>28.717569</td>\n",
       "      <td>77.125984</td>\n",
       "      <td>10.0</td>\n",
       "      <td>3.64</td>\n",
       "      <td>1</td>\n",
       "    </tr>\n",
       "    <tr>\n",
       "      <th>2</th>\n",
       "      <td>REVOS</td>\n",
       "      <td>Pocket 3 Sector 23 Rohini Delhi</td>\n",
       "      <td>28.720940</td>\n",
       "      <td>77.080181</td>\n",
       "      <td>10.0</td>\n",
       "      <td>4.34</td>\n",
       "      <td>1</td>\n",
       "    </tr>\n",
       "    <tr>\n",
       "      <th>3</th>\n",
       "      <td>REVOS</td>\n",
       "      <td>Pocket 3 Sector 23 Rohini Delhi</td>\n",
       "      <td>28.721847</td>\n",
       "      <td>77.078821</td>\n",
       "      <td>10.0</td>\n",
       "      <td>4.36</td>\n",
       "      <td>1</td>\n",
       "    </tr>\n",
       "    <tr>\n",
       "      <th>4</th>\n",
       "      <td>REVOS</td>\n",
       "      <td>plot no-1,khasra no-768/1, siraspur</td>\n",
       "      <td>28.760563</td>\n",
       "      <td>77.126411</td>\n",
       "      <td>10.0</td>\n",
       "      <td>1.96</td>\n",
       "      <td>1</td>\n",
       "    </tr>\n",
       "    <tr>\n",
       "      <th>5</th>\n",
       "      <td>REVOS</td>\n",
       "      <td>A 59 Gali No 6 Suraj Park Delhi 110042</td>\n",
       "      <td>28.743411</td>\n",
       "      <td>77.135582</td>\n",
       "      <td>10.0</td>\n",
       "      <td>2.35</td>\n",
       "      <td>1</td>\n",
       "    </tr>\n",
       "  </tbody>\n",
       "</table>\n",
       "</div>"
      ],
      "text/plain": [
       "    Name                                 Address   Latitude  Longitude  \\\n",
       "1  REVOS                        sector 14 rohini  28.717569  77.125984   \n",
       "2  REVOS         Pocket 3 Sector 23 Rohini Delhi  28.720940  77.080181   \n",
       "3  REVOS         Pocket 3 Sector 23 Rohini Delhi  28.721847  77.078821   \n",
       "4  REVOS     plot no-1,khasra no-768/1, siraspur  28.760563  77.126411   \n",
       "5  REVOS  A 59 Gali No 6 Suraj Park Delhi 110042  28.743411  77.135582   \n",
       "\n",
       "   Cost_per_Unit  Distance  Available  \n",
       "1           10.0      3.64          1  \n",
       "2           10.0      4.34          1  \n",
       "3           10.0      4.36          1  \n",
       "4           10.0      1.96          1  \n",
       "5           10.0      2.35          1  "
      ]
     },
     "execution_count": 32,
     "metadata": {},
     "output_type": "execute_result"
    }
   ],
   "source": [
    "from geopy.distance import geodesic\n",
    "\n",
    "# Reference coordinator (construction field site)\n",
    "reference_point = (28.748103, 77.112122)   \n",
    "\n",
    "# Calculate the distance of the construction site to stations by Vincenty formula based (by geopy) on their geographical coordinators\n",
    "dataset['Distance'] = dataset.apply(lambda row: round(geodesic(reference_point, \n",
    "                                                    (row['latitude'], row['longitude'])).kilometers, 2), axis=1)\n",
    "\n",
    "# Filter stations by distance condition (within 5 km)                                        \n",
    "results_distance = []\n",
    "for _, row in dataset[dataset['Distance'] <= 5].iterrows():\n",
    "    results_distance.append([row['name'], row['address'], \n",
    "                             row['latitude'], row['longitude'], row['cost_per_unit'], \n",
    "                             row['Distance'], row.get('available', None)])\n",
    "\n",
    "# Convert to dataframe \n",
    "filtered_distance_df = pd.DataFrame(results_distance,                                      \n",
    "                                    columns=['Name', 'Address', 'Latitude', 'Longitude', \n",
    "                                             'Cost_per_Unit', 'Distance', 'Available'])   \n",
    "\n",
    "# Reset the index to start from 1\n",
    "filtered_distance_df.index = range(1, len(filtered_distance_df) + 1)\n",
    "# Display dataset\n",
    "filtered_distance_df.head()"
   ]
  },
  {
   "cell_type": "markdown",
   "id": "54539c66",
   "metadata": {},
   "source": [
    "#### Availability Check"
   ]
  },
  {
   "cell_type": "code",
   "execution_count": 33,
   "id": "021d5555",
   "metadata": {},
   "outputs": [
    {
     "data": {
      "text/html": [
       "<div>\n",
       "<style scoped>\n",
       "    .dataframe tbody tr th:only-of-type {\n",
       "        vertical-align: middle;\n",
       "    }\n",
       "\n",
       "    .dataframe tbody tr th {\n",
       "        vertical-align: top;\n",
       "    }\n",
       "\n",
       "    .dataframe thead th {\n",
       "        text-align: right;\n",
       "    }\n",
       "</style>\n",
       "<table border=\"1\" class=\"dataframe\">\n",
       "  <thead>\n",
       "    <tr style=\"text-align: right;\">\n",
       "      <th></th>\n",
       "      <th>Name</th>\n",
       "      <th>Address</th>\n",
       "      <th>Latitude</th>\n",
       "      <th>Longitude</th>\n",
       "      <th>Cost_per_Unit</th>\n",
       "      <th>Distance</th>\n",
       "      <th>Available</th>\n",
       "    </tr>\n",
       "  </thead>\n",
       "  <tbody>\n",
       "    <tr>\n",
       "      <th>1</th>\n",
       "      <td>EESL</td>\n",
       "      <td>NDMC Parking,  Outside Jain Bhawan,  Shaheed B...</td>\n",
       "      <td>28.633614</td>\n",
       "      <td>77.207691</td>\n",
       "      <td>10.0</td>\n",
       "      <td>15.76</td>\n",
       "      <td>1</td>\n",
       "    </tr>\n",
       "    <tr>\n",
       "      <th>2</th>\n",
       "      <td>EESL</td>\n",
       "      <td>PSOI Club, Chanakyapuri, New Delhi 110021</td>\n",
       "      <td>28.586638</td>\n",
       "      <td>77.193352</td>\n",
       "      <td>9.5</td>\n",
       "      <td>19.58</td>\n",
       "      <td>1</td>\n",
       "    </tr>\n",
       "    <tr>\n",
       "      <th>3</th>\n",
       "      <td>EESL</td>\n",
       "      <td>Outside Chelmsford Club/ Opposite CSIR Buildin...</td>\n",
       "      <td>28.628177</td>\n",
       "      <td>77.212590</td>\n",
       "      <td>9.5</td>\n",
       "      <td>16.52</td>\n",
       "      <td>2</td>\n",
       "    </tr>\n",
       "    <tr>\n",
       "      <th>4</th>\n",
       "      <td>EESL</td>\n",
       "      <td>Opposite ICICI Bank, Janpath, New Delhi</td>\n",
       "      <td>28.628528</td>\n",
       "      <td>77.219460</td>\n",
       "      <td>9.5</td>\n",
       "      <td>16.90</td>\n",
       "      <td>1</td>\n",
       "    </tr>\n",
       "    <tr>\n",
       "      <th>5</th>\n",
       "      <td>EESL</td>\n",
       "      <td>Talkatora Stadium Presidents Estate New Delhi ...</td>\n",
       "      <td>28.625753</td>\n",
       "      <td>77.194530</td>\n",
       "      <td>9.5</td>\n",
       "      <td>15.77</td>\n",
       "      <td>1</td>\n",
       "    </tr>\n",
       "  </tbody>\n",
       "</table>\n",
       "</div>"
      ],
      "text/plain": [
       "   Name                                            Address   Latitude  \\\n",
       "1  EESL  NDMC Parking,  Outside Jain Bhawan,  Shaheed B...  28.633614   \n",
       "2  EESL          PSOI Club, Chanakyapuri, New Delhi 110021  28.586638   \n",
       "3  EESL  Outside Chelmsford Club/ Opposite CSIR Buildin...  28.628177   \n",
       "4  EESL            Opposite ICICI Bank, Janpath, New Delhi  28.628528   \n",
       "5  EESL  Talkatora Stadium Presidents Estate New Delhi ...  28.625753   \n",
       "\n",
       "   Longitude  Cost_per_Unit  Distance  Available  \n",
       "1  77.207691           10.0     15.76          1  \n",
       "2  77.193352            9.5     19.58          1  \n",
       "3  77.212590            9.5     16.52          2  \n",
       "4  77.219460            9.5     16.90          1  \n",
       "5  77.194530            9.5     15.77          1  "
      ]
     },
     "execution_count": 33,
     "metadata": {},
     "output_type": "execute_result"
    }
   ],
   "source": [
    "# Filter stations for their availability\n",
    "results_available = []\n",
    "for _, row in dataset[dataset['available'] > 0].iterrows():                     \n",
    "    results_available.append([row['name'], row['address'], row['latitude'], row['longitude'], row['cost_per_unit'], row.get('Distance', None), row['available']])\n",
    "\n",
    "# Convert to dataframe\n",
    "filtered_available_df = pd.DataFrame(results_available,                        \n",
    "                                     columns=['Name', 'Address', 'Latitude', 'Longitude', 'Cost_per_Unit', 'Distance', 'Available'])\n",
    "\n",
    "# Reset the index to start from 1\n",
    "filtered_available_df.index = range(1, len(filtered_available_df) + 1)\n",
    "# Display dataset\n",
    "filtered_available_df.head()"
   ]
  },
  {
   "cell_type": "markdown",
   "id": "205cb59f",
   "metadata": {},
   "source": [
    "#### Combining Two Conditions"
   ]
  },
  {
   "cell_type": "code",
   "execution_count": 34,
   "id": "69030ec3",
   "metadata": {
    "scrolled": false
   },
   "outputs": [
    {
     "data": {
      "text/html": [
       "<div>\n",
       "<style scoped>\n",
       "    .dataframe tbody tr th:only-of-type {\n",
       "        vertical-align: middle;\n",
       "    }\n",
       "\n",
       "    .dataframe tbody tr th {\n",
       "        vertical-align: top;\n",
       "    }\n",
       "\n",
       "    .dataframe thead th {\n",
       "        text-align: right;\n",
       "    }\n",
       "</style>\n",
       "<table border=\"1\" class=\"dataframe\">\n",
       "  <thead>\n",
       "    <tr style=\"text-align: right;\">\n",
       "      <th></th>\n",
       "      <th>Name</th>\n",
       "      <th>Address</th>\n",
       "      <th>Latitude</th>\n",
       "      <th>Longitude</th>\n",
       "      <th>Cost_per_Unit</th>\n",
       "      <th>Distance</th>\n",
       "      <th>Available</th>\n",
       "    </tr>\n",
       "  </thead>\n",
       "  <tbody>\n",
       "    <tr>\n",
       "      <th>1</th>\n",
       "      <td>REVOS</td>\n",
       "      <td>142 Deepali Enclave Pitampura Delhi 110034</td>\n",
       "      <td>28.694492</td>\n",
       "      <td>77.118912</td>\n",
       "      <td>10.0</td>\n",
       "      <td>5.98</td>\n",
       "      <td>1</td>\n",
       "    </tr>\n",
       "    <tr>\n",
       "      <th>2</th>\n",
       "      <td>REVOS</td>\n",
       "      <td>sector 14 rohini</td>\n",
       "      <td>28.717569</td>\n",
       "      <td>77.125984</td>\n",
       "      <td>10.0</td>\n",
       "      <td>3.64</td>\n",
       "      <td>1</td>\n",
       "    </tr>\n",
       "    <tr>\n",
       "      <th>3</th>\n",
       "      <td>REVOS</td>\n",
       "      <td>473, Britannia Rd, Tri Nagar, Delhi, 110034</td>\n",
       "      <td>28.680616</td>\n",
       "      <td>77.155446</td>\n",
       "      <td>10.0</td>\n",
       "      <td>8.59</td>\n",
       "      <td>1</td>\n",
       "    </tr>\n",
       "    <tr>\n",
       "      <th>4</th>\n",
       "      <td>REVOS</td>\n",
       "      <td>Nangloi, Delhi, 110041</td>\n",
       "      <td>28.681211</td>\n",
       "      <td>77.075725</td>\n",
       "      <td>10.0</td>\n",
       "      <td>8.22</td>\n",
       "      <td>1</td>\n",
       "    </tr>\n",
       "    <tr>\n",
       "      <th>5</th>\n",
       "      <td>REVOS</td>\n",
       "      <td>473, Britannia Rd, Tri Nagar, Delhi, 110034zypp</td>\n",
       "      <td>28.680721</td>\n",
       "      <td>77.155315</td>\n",
       "      <td>5.0</td>\n",
       "      <td>8.58</td>\n",
       "      <td>1</td>\n",
       "    </tr>\n",
       "  </tbody>\n",
       "</table>\n",
       "</div>"
      ],
      "text/plain": [
       "    Name                                          Address   Latitude  \\\n",
       "1  REVOS       142 Deepali Enclave Pitampura Delhi 110034  28.694492   \n",
       "2  REVOS                                 sector 14 rohini  28.717569   \n",
       "3  REVOS      473, Britannia Rd, Tri Nagar, Delhi, 110034  28.680616   \n",
       "4  REVOS                           Nangloi, Delhi, 110041  28.681211   \n",
       "5  REVOS  473, Britannia Rd, Tri Nagar, Delhi, 110034zypp  28.680721   \n",
       "\n",
       "   Longitude  Cost_per_Unit  Distance  Available  \n",
       "1  77.118912           10.0      5.98          1  \n",
       "2  77.125984           10.0      3.64          1  \n",
       "3  77.155446           10.0      8.59          1  \n",
       "4  77.075725           10.0      8.22          1  \n",
       "5  77.155315            5.0      8.58          1  "
      ]
     },
     "execution_count": 34,
     "metadata": {},
     "output_type": "execute_result"
    }
   ],
   "source": [
    "# Combine both two conditions\n",
    "results_combined = []\n",
    "for _, row in dataset[(dataset['Distance'] <= 10) & (dataset['available'] > 0)].iterrows():\n",
    "    results_combined.append([row['name'], row['address'], row['latitude'], row['longitude'], row['cost_per_unit'], row['Distance'], row['available']])\n",
    "\n",
    "# Convert to dataframe\n",
    "filtered_combined_df = pd.DataFrame(results_combined,                                       \n",
    "                                    columns=['Name', 'Address', 'Latitude', 'Longitude', 'Cost_per_Unit', 'Distance', 'Available'])\n",
    "# Reset the index to start from 1\n",
    "filtered_combined_df.index = range(1, len(filtered_combined_df) + 1)\n",
    "\n",
    "\n",
    "# Display dataset\n",
    "filtered_combined_df.head()"
   ]
  },
  {
   "cell_type": "code",
   "execution_count": 35,
   "id": "050426c8",
   "metadata": {
    "scrolled": true
   },
   "outputs": [
    {
     "data": {
      "text/html": [
       "<div>\n",
       "<style scoped>\n",
       "    .dataframe tbody tr th:only-of-type {\n",
       "        vertical-align: middle;\n",
       "    }\n",
       "\n",
       "    .dataframe tbody tr th {\n",
       "        vertical-align: top;\n",
       "    }\n",
       "\n",
       "    .dataframe thead th {\n",
       "        text-align: right;\n",
       "    }\n",
       "</style>\n",
       "<table border=\"1\" class=\"dataframe\">\n",
       "  <thead>\n",
       "    <tr style=\"text-align: right;\">\n",
       "      <th></th>\n",
       "      <th>Name</th>\n",
       "      <th>Address</th>\n",
       "      <th>Latitude</th>\n",
       "      <th>Longitude</th>\n",
       "      <th>Cost_per_Unit</th>\n",
       "      <th>Distance</th>\n",
       "      <th>Available</th>\n",
       "    </tr>\n",
       "  </thead>\n",
       "  <tbody>\n",
       "    <tr>\n",
       "      <th>1</th>\n",
       "      <td>REVOS</td>\n",
       "      <td>142 Deepali Enclave Pitampura Delhi 110034</td>\n",
       "      <td>28.694492</td>\n",
       "      <td>77.118912</td>\n",
       "      <td>10.00</td>\n",
       "      <td>5.98</td>\n",
       "      <td>1</td>\n",
       "    </tr>\n",
       "    <tr>\n",
       "      <th>2</th>\n",
       "      <td>REVOS</td>\n",
       "      <td>sector 14 rohini</td>\n",
       "      <td>28.717569</td>\n",
       "      <td>77.125984</td>\n",
       "      <td>10.00</td>\n",
       "      <td>3.64</td>\n",
       "      <td>1</td>\n",
       "    </tr>\n",
       "    <tr>\n",
       "      <th>3</th>\n",
       "      <td>REVOS</td>\n",
       "      <td>473, Britannia Rd, Tri Nagar, Delhi, 110034</td>\n",
       "      <td>28.680616</td>\n",
       "      <td>77.155446</td>\n",
       "      <td>10.00</td>\n",
       "      <td>8.59</td>\n",
       "      <td>1</td>\n",
       "    </tr>\n",
       "    <tr>\n",
       "      <th>4</th>\n",
       "      <td>REVOS</td>\n",
       "      <td>Nangloi, Delhi, 110041</td>\n",
       "      <td>28.681211</td>\n",
       "      <td>77.075725</td>\n",
       "      <td>10.00</td>\n",
       "      <td>8.22</td>\n",
       "      <td>1</td>\n",
       "    </tr>\n",
       "    <tr>\n",
       "      <th>5</th>\n",
       "      <td>REVOS</td>\n",
       "      <td>473, Britannia Rd, Tri Nagar, Delhi, 110034zypp</td>\n",
       "      <td>28.680721</td>\n",
       "      <td>77.155315</td>\n",
       "      <td>5.00</td>\n",
       "      <td>8.58</td>\n",
       "      <td>1</td>\n",
       "    </tr>\n",
       "    <tr>\n",
       "      <th>...</th>\n",
       "      <td>...</td>\n",
       "      <td>...</td>\n",
       "      <td>...</td>\n",
       "      <td>...</td>\n",
       "      <td>...</td>\n",
       "      <td>...</td>\n",
       "      <td>...</td>\n",
       "    </tr>\n",
       "    <tr>\n",
       "      <th>252</th>\n",
       "      <td>E-Fill Electric</td>\n",
       "      <td>A-38, DSIIDC, Bawana Industrial Area, Sec-5</td>\n",
       "      <td>28.792700</td>\n",
       "      <td>77.072724</td>\n",
       "      <td>15.00</td>\n",
       "      <td>6.26</td>\n",
       "      <td>1</td>\n",
       "    </tr>\n",
       "    <tr>\n",
       "      <th>253</th>\n",
       "      <td>E-Fill Electric</td>\n",
       "      <td>Akash Ganga Apartment, Pocket-4, Rohini Sector-24</td>\n",
       "      <td>28.726456</td>\n",
       "      <td>77.083414</td>\n",
       "      <td>15.00</td>\n",
       "      <td>3.69</td>\n",
       "      <td>1</td>\n",
       "    </tr>\n",
       "    <tr>\n",
       "      <th>254</th>\n",
       "      <td>HP Pitampura DC Charger-1</td>\n",
       "      <td>HP PETROL PUMP - AUTO CARE CENTRE, Pitam Pura,...</td>\n",
       "      <td>28.696200</td>\n",
       "      <td>77.155000</td>\n",
       "      <td>18.00</td>\n",
       "      <td>7.12</td>\n",
       "      <td>2</td>\n",
       "    </tr>\n",
       "    <tr>\n",
       "      <th>255</th>\n",
       "      <td>Singh Service Station</td>\n",
       "      <td>GT Karnal Road DELHI-110075</td>\n",
       "      <td>28.691400</td>\n",
       "      <td>77.189300</td>\n",
       "      <td>2.05</td>\n",
       "      <td>9.82</td>\n",
       "      <td>2</td>\n",
       "    </tr>\n",
       "    <tr>\n",
       "      <th>256</th>\n",
       "      <td>ESI HOSPITAL TOWARDS DND- AC001 10 KW</td>\n",
       "      <td>ESI HOSPITAL TOWARDS DND, New Delhi, Delhi 110015</td>\n",
       "      <td>28.659159</td>\n",
       "      <td>77.129267</td>\n",
       "      <td>15.00</td>\n",
       "      <td>10.00</td>\n",
       "      <td>3</td>\n",
       "    </tr>\n",
       "  </tbody>\n",
       "</table>\n",
       "<p>256 rows × 7 columns</p>\n",
       "</div>"
      ],
      "text/plain": [
       "                                      Name  \\\n",
       "1                                    REVOS   \n",
       "2                                    REVOS   \n",
       "3                                    REVOS   \n",
       "4                                    REVOS   \n",
       "5                                    REVOS   \n",
       "..                                     ...   \n",
       "252                        E-Fill Electric   \n",
       "253                        E-Fill Electric   \n",
       "254              HP Pitampura DC Charger-1   \n",
       "255                  Singh Service Station   \n",
       "256  ESI HOSPITAL TOWARDS DND- AC001 10 KW   \n",
       "\n",
       "                                               Address   Latitude  Longitude  \\\n",
       "1           142 Deepali Enclave Pitampura Delhi 110034  28.694492  77.118912   \n",
       "2                                     sector 14 rohini  28.717569  77.125984   \n",
       "3          473, Britannia Rd, Tri Nagar, Delhi, 110034  28.680616  77.155446   \n",
       "4                               Nangloi, Delhi, 110041  28.681211  77.075725   \n",
       "5      473, Britannia Rd, Tri Nagar, Delhi, 110034zypp  28.680721  77.155315   \n",
       "..                                                 ...        ...        ...   \n",
       "252        A-38, DSIIDC, Bawana Industrial Area, Sec-5  28.792700  77.072724   \n",
       "253  Akash Ganga Apartment, Pocket-4, Rohini Sector-24  28.726456  77.083414   \n",
       "254  HP PETROL PUMP - AUTO CARE CENTRE, Pitam Pura,...  28.696200  77.155000   \n",
       "255                        GT Karnal Road DELHI-110075  28.691400  77.189300   \n",
       "256  ESI HOSPITAL TOWARDS DND, New Delhi, Delhi 110015  28.659159  77.129267   \n",
       "\n",
       "     Cost_per_Unit  Distance  Available  \n",
       "1            10.00      5.98          1  \n",
       "2            10.00      3.64          1  \n",
       "3            10.00      8.59          1  \n",
       "4            10.00      8.22          1  \n",
       "5             5.00      8.58          1  \n",
       "..             ...       ...        ...  \n",
       "252          15.00      6.26          1  \n",
       "253          15.00      3.69          1  \n",
       "254          18.00      7.12          2  \n",
       "255           2.05      9.82          2  \n",
       "256          15.00     10.00          3  \n",
       "\n",
       "[256 rows x 7 columns]"
      ]
     },
     "execution_count": 35,
     "metadata": {},
     "output_type": "execute_result"
    }
   ],
   "source": [
    "# Display all stations dataset within range and availability\n",
    "filtered_combined_df"
   ]
  },
  {
   "cell_type": "markdown",
   "id": "fc00d1e9",
   "metadata": {},
   "source": [
    "#### Number of Acceptable Stations"
   ]
  },
  {
   "cell_type": "code",
   "execution_count": 36,
   "id": "26dbff93",
   "metadata": {},
   "outputs": [
    {
     "name": "stdout",
     "output_type": "stream",
     "text": [
      "\n",
      "The number of accepted stations: 256 \n"
     ]
    }
   ],
   "source": [
    "# Display the total number of accepted stations that have both availability and distance check conditions\n",
    "filtered_combined_df.shape\n",
    "print(f\"\\nThe number of accepted stations: {len(filtered_combined_df)} \")"
   ]
  },
  {
   "cell_type": "markdown",
   "id": "d81a3f44",
   "metadata": {},
   "source": [
    "#### Display the Stations on Map"
   ]
  },
  {
   "cell_type": "code",
   "execution_count": 37,
   "id": "382e03fd",
   "metadata": {
    "scrolled": false
   },
   "outputs": [
    {
     "data": {
      "application/vnd.plotly.v1+json": {
       "config": {
        "plotlyServerURL": "https://plot.ly"
       },
       "data": [
        {
         "hoverinfo": "text",
         "lat": [
          28.748103
         ],
         "lon": [
          77.112122
         ],
         "marker": {
          "color": "red",
          "size": 15
         },
         "mode": "markers",
         "name": "Reference Point",
         "text": "<b>Reference Point</b>",
         "type": "scattermapbox"
        },
        {
         "hoverinfo": "text",
         "lat": [
          28.69449234008789,
          28.71756935119629,
          28.68061587947976,
          28.68121092427005,
          28.6807207,
          28.6807207,
          28.71969032287598,
          28.7043342590332,
          28.72094037964922,
          28.72184686189823,
          28.76056289672852,
          28.74341076516099,
          28.73840796441077,
          28.78146171569824,
          28.75060117339789,
          28.72836875915527,
          28.70018005371094,
          28.71510314941406,
          28.65932464599609,
          28.70095166969952,
          28.69799050110432,
          28.66514029242678,
          28.71937320237458,
          28.73657881621598,
          28.73610902981775,
          28.69640239325383,
          28.66308833842623,
          28.70823204148586,
          28.68609175230246,
          28.70464617541688,
          28.77081197256837,
          28.73093065607699,
          28.71222945797365,
          28.74419829200304,
          28.75765470595106,
          28.72813586225074,
          28.82702415094696,
          28.82589358383425,
          28.8270285568743,
          28.7159638491119,
          28.76718681401749,
          28.79733806869212,
          28.70082786047524,
          28.73784323081668,
          28.73782088835248,
          28.72310586831891,
          28.72305647274321,
          28.72624214557195,
          28.71722704289446,
          28.70581657985345,
          28.71245205494609,
          28.73284457339077,
          28.74368826689813,
          28.71087357635634,
          28.7699314835381,
          28.7196651754558,
          28.72184098140297,
          28.78353855863961,
          28.70092784893378,
          28.713255,
          28.71085769735234,
          28.70935300376004,
          28.74109518432189,
          28.66286740162857,
          28.77475527320849,
          28.70358574240426,
          28.71368823875922,
          28.70290642442771,
          28.70792239265441,
          28.75838598631064,
          28.72268688724876,
          28.73822922552948,
          28.72320436537939,
          28.7387169350125,
          28.72353954871087,
          28.70952620488691,
          28.74718784153066,
          28.73395321821796,
          28.72247166263574,
          28.7132621627819,
          28.72187126595003,
          28.7311961370238,
          28.71429926808379,
          28.74561076928143,
          28.73530380278721,
          28.7049840648761,
          28.72809470125311,
          28.7447588758019,
          28.70529578090303,
          28.73533996317026,
          28.70661909331914,
          28.76489086411858,
          28.75405407482325,
          28.76486852744035,
          28.7396353160692,
          28.75242713668591,
          28.66985448617412,
          28.73790290869105,
          28.71735818364661,
          28.77180148525215,
          28.71280079905215,
          28.71367471256439,
          28.73498218061815,
          28.75854852501956,
          28.76733170521874,
          28.73885069459948,
          28.78262173916731,
          28.74595793298914,
          28.77166042075638,
          28.8216899048442,
          28.72773189575858,
          28.75464928975966,
          28.73550047984159,
          28.73557044856989,
          28.661913043453,
          28.83126932231135,
          28.75221373695766,
          28.75223460664729,
          28.75765470595106,
          28.78660044218767,
          28.77550553554977,
          28.7107130218716,
          28.74633008179576,
          28.76578256392098,
          28.77505855264243,
          28.79336565187424,
          28.74991275461138,
          28.79335360511373,
          28.73829801651668,
          28.73521237281975,
          28.75778785343973,
          28.75770966972524,
          28.66138643642384,
          28.76366322143889,
          28.70373572110346,
          28.67140710836428,
          28.76742428265578,
          28.76940806514299,
          28.70935123940073,
          28.73392440712496,
          28.72972231235135,
          28.6734262476341,
          28.73649885272286,
          28.80152422104184,
          28.7707731794832,
          28.73899033354608,
          28.73248942824885,
          28.79722759524131,
          28.7130636795912,
          28.71863076966922,
          28.79717470897341,
          28.7030393475996,
          28.73390323978622,
          28.79147781937028,
          28.71237854212779,
          28.67191660347065,
          28.67404839590422,
          28.73334700762699,
          28.73481196153762,
          28.72437426814421,
          28.73123200482979,
          28.77064945295601,
          28.73847263958856,
          28.67252522919256,
          28.68221216847682,
          28.68227805495146,
          28.70849581569347,
          28.73857994149973,
          28.66904463072207,
          28.70852963285146,
          28.72378240894459,
          28.72389707641334,
          28.68066411853085,
          28.67210369227579,
          28.70252823943538,
          28.757763163852,
          28.67097174106786,
          28.72391736372166,
          28.8011284711346,
          28.70612152981415,
          28.71025988050392,
          28.74114192563856,
          28.74296482067706,
          28.74404690152572,
          28.73545755782544,
          28.73520737503785,
          28.78398550521012,
          28.6815277114423,
          28.7076874353322,
          28.72764163520087,
          28.72764369326007,
          28.79268956201481,
          28.73813897403738,
          28.70103313079566,
          28.67062903513303,
          28.7689102127566,
          28.76964082648282,
          28.72309998789446,
          28.75855293384176,
          28.71580800710845,
          28.72090509636677,
          28.68196244659618,
          28.74439436439225,
          28.70112341431914,
          28.70116782084445,
          28.69310552206259,
          28.71585270144264,
          28.72255251892893,
          28.73939866615283,
          28.72328169285734,
          28.72357571316398,
          28.75221344301833,
          28.75818171035923,
          28.7970886218244,
          28.68189450096378,
          28.73251618177427,
          28.7392228687251,
          28.71733260239172,
          28.71839995288276,
          28.71860754099656,
          28.71492117347571,
          28.71448686924872,
          28.74327142608703,
          28.73105942765037,
          28.7373390543108,
          28.68162624764683,
          28.73380475280671,
          28.70323343865351,
          28.70747159172011,
          28.79711741548626,
          28.68345547456071,
          28.6834501801729,
          28.70608036015102,
          28.71254997393981,
          28.74213230748898,
          28.71412284034892,
          28.73084451427383,
          28.68204627556244,
          28.68438228243384,
          28.68355459721622,
          28.78354032174623,
          28.73158333227877,
          28.73692277613194,
          28.72817320114171,
          28.72808058890732,
          28.712543,
          28.7981025,
          28.72842,
          28.7378801,
          28.739014,
          28.726506,
          28.7926999,
          28.7264561,
          28.6962,
          28.6914,
          28.659159
         ],
         "lon": [
          77.11891174316406,
          77.12598419189453,
          77.15544551610947,
          77.07572523504496,
          77.1553153,
          77.1553153,
          77.16101837158203,
          77.0538101196289,
          77.08018071949482,
          77.0788211748004,
          77.12641143798828,
          77.13558241724968,
          77.04190291464329,
          77.1375503540039,
          77.17734541743994,
          77.05603790283203,
          77.05477905273438,
          77.10803985595703,
          77.11187744140625,
          77.1321176737547,
          77.16025404632093,
          77.11394201964141,
          77.17377606779337,
          77.14480150490999,
          77.144666723907,
          77.09628704935312,
          77.14483469724657,
          77.15066950768232,
          77.185731343925,
          77.08507843315601,
          77.17389073222876,
          77.13526591658592,
          77.15539254248142,
          77.12025661021471,
          77.18222100287676,
          77.17408988624811,
          77.0803577452898,
          77.08073828369379,
          77.08117816597223,
          77.16379188001156,
          77.09160290658474,
          77.04672452062368,
          77.05595601350069,
          77.11037434637547,
          77.11032304912806,
          77.08750281482935,
          77.08730366081,
          77.09721710532904,
          77.06110518425703,
          77.10288628935814,
          77.1550602838397,
          77.14133743196726,
          77.1239198371768,
          77.08468046039343,
          77.11821276694536,
          77.16107614338398,
          77.09070738404989,
          77.05916058272123,
          77.16764386743307,
          77.140129,
          77.06706941127777,
          77.0810229331255,
          77.12138313800097,
          77.14476194232702,
          77.17127054929733,
          77.15747158974409,
          77.17992905527353,
          77.19537992030382,
          77.12513688951731,
          77.18814063817263,
          77.15320385992528,
          77.1365349367261,
          77.15070873498917,
          77.19290759414434,
          77.06213179975748,
          77.14179407805204,
          77.19631969928743,
          77.02251557260752,
          77.10451539605856,
          77.0605717599392,
          77.06489112228155,
          77.03803215175869,
          77.07195974886417,
          77.09906917065382,
          77.0137333497405,
          77.0571968704462,
          77.04918075352907,
          77.1142930537462,
          77.19689302146435,
          77.05490726977585,
          77.13436670601368,
          77.18346454203129,
          77.18651622533798,
          77.18347560614347,
          77.1974428743124,
          77.07664355635643,
          77.0772996917367,
          77.11676672101021,
          77.09602653980255,
          77.17969067394733,
          77.12161045521498,
          77.05987069755793,
          77.01274562627077,
          77.19387285411358,
          77.09169108420612,
          77.1200081706047,
          77.0598703622818,
          77.19670694321394,
          77.17971917241812,
          77.17019431293011,
          77.04794492572546,
          77.14834000915289,
          77.1974479034543,
          77.19747237861156,
          77.08219338208437,
          77.09412049502134,
          77.07830015569925,
          77.07827132195234,
          77.14918222278357,
          77.14025314897299,
          77.10267003625631,
          77.10990898311138,
          77.08654694259167,
          77.05215565860271,
          77.16590378433466,
          77.03709539026023,
          77.08275597542524,
          77.03721843659878,
          77.19466041773558,
          77.19769030809402,
          77.14921474456787,
          77.14921072125435,
          77.08443034440279,
          77.14882045984268,
          77.18246944248675,
          77.15529967099428,
          77.16274715960026,
          77.16229688376188,
          77.12508425116539,
          77.11166515946388,
          77.08591427654027,
          77.15937696397305,
          77.19063777476549,
          77.13773757219315,
          77.04965215176344,
          77.18546479940414,
          77.19065252691507,
          77.13687423616648,
          77.07987293601036,
          77.08377856761217,
          77.13688898831606,
          77.18242015689611,
          77.12182335555553,
          77.0338911563158,
          77.15516187250614,
          77.07996714860201,
          77.07677096128464,
          77.02460668981075,
          77.19290189445019,
          77.08879128098488,
          77.16954823583364,
          77.04974669963121,
          77.19763901084661,
          77.05927960574627,
          77.07935258746147,
          77.07927916198969,
          77.1615468710661,
          77.19557605683804,
          77.10174132138492,
          77.16153010725975,
          77.17455323785543,
          77.08823136985302,
          77.08192851394415,
          77.15170115232468,
          77.02771537005901,
          77.14932169765234,
          77.15954460203648,
          77.08590555936098,
          77.13851273059845,
          77.02778946608306,
          77.17675331979989,
          77.1514768525958,
          77.14986819773914,
          77.14309260249138,
          77.19730474054813,
          77.1975253522396,
          77.09661059081554,
          77.06255357712509,
          77.10390217602253,
          77.20731843262911,
          77.20729529857634,
          77.13957589119673,
          77.18463364988565,
          77.10905704647303,
          77.07906994968653,
          77.07462586462498,
          77.09337450563908,
          77.12872803211212,
          77.19410385936497,
          77.16421768069267,
          77.13658522814512,
          77.05489955842495,
          77.14290115982294,
          77.18369487673044,
          77.18365263193846,
          77.10390854626894,
          77.17565394937992,
          77.10318200290202,
          77.18527402728796,
          77.15797014534473,
          77.15756446123123,
          77.1492201089859,
          77.18465309590101,
          77.13694766163826,
          77.07939181476831,
          77.19066124409436,
          77.19594519585371,
          77.12925139814615,
          77.12888695299624,
          77.12950821965931,
          77.12679985910654,
          77.11733534932135,
          77.12404020130634,
          77.1174181625247,
          77.19578962773085,
          77.06253346055746,
          77.12195914238691,
          77.18248654156923,
          77.0748857036233,
          77.0467533543706,
          77.17126853764057,
          77.17130240052938,
          77.0277613028884,
          77.12928090244532,
          77.10401684045792,
          77.13094789534807,
          77.1352270245552,
          77.07930900156498,
          77.16415397822857,
          77.16392196714878,
          77.05907844007015,
          77.12964668869972,
          77.13978610932827,
          77.04705644398928,
          77.0470879599452,
          77.123276,
          77.080616,
          77.04717,
          77.0899587,
          77.1493044,
          77.1583246,
          77.0727241,
          77.0834144,
          77.155,
          77.1893,
          77.129267
         ],
         "marker": {
          "color": "blue",
          "size": 10
         },
         "mode": "markers",
         "name": "Stations",
         "text": [
          "REVOS<br>142 Deepali Enclave Pitampura Delhi 110034",
          "REVOS<br>sector 14 rohini",
          "REVOS<br>473, Britannia Rd, Tri Nagar, Delhi, 110034",
          "REVOS<br>Nangloi, Delhi, 110041",
          "REVOS<br>473, Britannia Rd, Tri Nagar, Delhi, 110034zypp",
          "REVOS<br>473, Britannia Rd, Tri Nagar, Delhi, 110034",
          "REVOS<br>Shop No.1 Ad Market Near Kalyani Mandir Shalimar Bagh",
          "REVOS<br>Nithari Chowk, Fauji Vatika, ShivRam Pan Bhandar\nKirari Suleman Nagar, Delhi-110086",
          "REVOS<br>Pocket 3 Sector 23 Rohini Delhi",
          "REVOS<br>Pocket 3 Sector 23 Rohini Delhi",
          "REVOS<br>plot no-1,khasra no-768/1, siraspur",
          "REVOS<br>A 59 Gali No 6 Suraj Park Delhi 110042",
          "REVOS<br>baldev vihar delhi",
          "REVOS<br>shop No 18  Main Chowk Budhpur Delhi 110036",
          "REVOS<br>D 70 Guru Nanak Dev Colony Bhalswa dairy near shiv chowk Delhi 110042",
          "REVOS<br>f 53 Rajiv Nagar begumpur village New Delhi",
          "REVOS<br>B 220 gali no.8 prem nagar 2 gaurav nagar anand nagar kirari suleman nagar delhi",
          "REVOS<br>B9/177,sector-5, rohini ,delhi-85",
          "REVOS<br>n block gurdwara dera dukh niwaran raghubir nagar near bus stand 912 new delhi 27",
          "REVOS<br>37 A dda Janta flat Pitampura Shiva market\nDelhi 110034",
          "REVOS<br>n-20 63b wazirpur indl area udham singh park a block",
          "REVOS<br>305 POCKET 1 PASCHIM PURI NEW DELHI 110063 SHOP NO 2",
          "REVOS<br>C-63, Rajan Babu Road, Adarsh Nagar, Delhi-110033",
          "REVOS<br>house no 5 near old bus stand Badli village",
          "REVOS<br>Ho 5 Badli village near old bus stand",
          "REVOS<br>F 1217 BALMIKI MANDIR MANGO L PURI",
          "REVOS<br>SHOP NO SH33473 new moti nagar near milan cinama Delhi 15",
          "REVOS<br>wp 65a pitam pura",
          "REVOS<br>7724 Fasih Building Clock Tower Delhi 110007",
          "REVOS<br>House No. 71B, Block A, Krishan Vihar, Opp. Budh Vihar",
          "REVOS<br>H n 645 D Block Nathu Pura",
          "REVOS<br>flat no 13 plot 5",
          "REVOS<br>BD block 16 Shalimar bagh ",
          "REVOS<br>B-4/38 ground floor sector-17 Rohini",
          "REVOS<br>swami dayanand enklev burari sawroop Nagar 60ft main road",
          "REVOS<br>G1/44 local supermarket Jahangir Puri delhi",
          "REVOS<br>Flat No 24, Block D8, Pocket 2",
          "REVOS<br>Flat No 21, Block A6 Pocket 2",
          "REVOS<br>DDA Flat E436 Sector G2 Pocket 2 Narela",
          "REVOS<br>bc block  east shalimar bagh",
          "REVOS<br>Hno 1441 Creative Heights Apartment Pocket GH1 Sector 29 Rohini",
          "REVOS<br>f 87 sector 2 bawana industrial area",
          "REVOS<br>gali no 12 gaurav nagar kirari near veer bazaar road",
          "REVOS<br>shop no 1A psp4 sector 11 near BPIT college rohini delhi",
          "REVOS<br>shop no 1A psp4 sector 11 near BPIT college rohini delhi ",
          "REVOS<br>H NO 174 POCKET 1 SECTOR 24 ROHINI ",
          "REVOS<br>A 174 pocket 1 Sector 24 near Hanuman Mandir delhi",
          "REVOS<br>212 Ground Floor Pocket 20 Rohini Sector 24",
          "REVOS<br>174 175 pocket 4 rohini sector 22",
          "REVOS<br>House number 13 pkt G29 sector 3 rohini",
          "REVOS<br>BD BLOCK west shalimar bagh",
          "REVOS<br>kharsa no-136/2 near yadav hotel badli",
          "REVOS<br>ground floor khasra no 34/22 village samaypur delhi",
          "REVOS<br>P-1/52a Budh Vihar Phase-1",
          "REVOS<br>A111 Gali no 1 khera garhi colony ",
          "REVOS<br>SHOP NO.1 A D Market Near Mata Kalyani Shalimar Bagh",
          "REVOS<br>B1 ,35 Sharma colony budh vihar phase 2",
          "REVOS<br>plot no NM64 pkt N sec 3 dsiidc Bawana delhi",
          "REVOS<br>A104 group Wazirpur Industrial Area Delhi ",
          "REVOS<br>Pitampura, Delhi",
          "REVOS<br>POCKET 1 SECTOR 21 ROHINI",
          "REVOS<br>main Kanjhawala road Budh vihar phase 1 near satnaryan hospital ",
          "REVOS<br>pocket 1  sector 16 Rohini New Delhi 110089",
          "REVOS<br>sh- 1/7 new moti nagar new delhi 1100",
          "REVOS<br>KH NO. 993 Ground Floor Near Kadipur School",
          "REVOS<br>bt block stall no 2 Shalimar bagh",
          "REVOS<br>S-16 Main Road ",
          "REVOS<br>190 malik pur village near model town first red light",
          "REVOS<br>Sai Baba chowk ",
          "REVOS<br>60 foota road kaushik enclave swaroop Nagar burari",
          "REVOS<br>shop no 28 ramjilal complex Shalimar Bagh",
          "REVOS<br>B 7/33 opp Lal path lab Rohini sec 18",
          "REVOS<br>haiderpur opposite ayurvedic hospital Delhi",
          "REVOS<br>kh.no.18/24/1 West Santnagar",
          "REVOS<br>Plot No 2 &3 Rajeev Nagar Extn Main Kanjhawala Road ",
          "REVOS<br>nu 26A pitam pura",
          "REVOS<br>41 foota road budha bazar near kamalpur delhi ",
          "REVOS<br>68/17,plot no.3, main kanjhawla road, near goel tiles , KARALA ,New Delhi,110081",
          "REVOS<br>jagdamba market rithala",
          "REVOS<br>Rohini sector 22 lakhiram park Delhi",
          "REVOS<br>kh no 12/21 khanjhwaala road begum pur main bus stand delhi",
          "REVOS<br>H.no1419 vpo karala near mcd dispencry",
          "REVOS<br>FLAT-4,BLOCK-1,SECTOR-20,M C D FLATS ,ROHINI",
          "REVOS<br>a 19 shahbad dairy main bawana road",
          "REVOS<br>H no 292 Harman Mohla chandpur dana delhi 110081",
          "REVOS<br>Plot No. - 29A, Pratap Vihar, Part - 3, Main Kirari Expressway Road",
          "REVOS<br>Rama Vihar Balaji Mandir shop no 2 Dilshad motors",
          "REVOS<br>Kh.No 65, Balimiki Mandir ke samne ",
          "REVOS<br>42,Malikpur village, Kingsway camp,Delhi-110009",
          "REVOS<br>1025 Jain nagar ",
          "REVOS<br> A.D Block power Apartment ",
          "REVOS<br>Nathu Pura Main Rd",
          "REVOS<br>ajit vihar pump house road burari Delhi ",
          "REVOS<br>AMRIT VIHAR BUS STAND NATHUPURA ROAD",
          "REVOS<br>kh no.137/02 main road opp Sant hospital A2 block Sant nagar burari ",
          "REVOS<br>phaladpur near ndpl office",
          "REVOS<br>RZC-54 gali no 2 Nihal vihar nangloi",
          "REVOS<br>G-7/257 sec 16",
          "REVOS<br>khasra 917 rithala villeg near by Guleria house",
          "REVOS<br>Pradeep vihar Gate no 2, Burari",
          "REVOS<br>shop number 1 maharaja agrsen market behind near Saraswati apartment LSC number 7 sector no Rohini Delhi 110085",
          "REVOS<br>h 141 ramesh enslave Lucky ram park sec 22",
          "REVOS<br>opposite savitri Hospital kanjhawala",
          "REVOS<br>khsra no 457/2 shri Rama dhram kanta",
          "REVOS<br>Hno 1441 Creative Height Apartment Sector 29",
          "REVOS<br>G-5/20, Sector-16, Rohini",
          "REVOS<br>pocket N-plot E-189 ",
          "REVOS<br>BURARI Delhi 110084",
          "REVOS<br>Pradeep Vihar Gate no 2",
          "REVOS<br>houseno44/21/2village Bakhtawerpur our Delhi 110036",
          "REVOS<br>C-1 Rama Vihar Main Kanjhawala Road Delhi",
          "REVOS<br>B-5, GT Karnal Road, Libaspur, Ambey Garden",
          "REVOS<br>Kh No-23/15/1, Block A-1,  Sant Nagar, Burari, Delhi-110084",
          "REVOS<br>Kh.No.23/15/1, Main 100 Foota Road, Block A-1, Sant Nagar, Burari, Delhi-110084, Opposite Pepsi Road",
          "REVOS<br>c-68 LIC COLONY, OPP SAYED GAON NEAR GH8",
          "REVOS<br>kh 68/1 Main Road Bhorgarh",
          "REVOS<br>near UCO Bank man Bawana road aur kya hai",
          "REVOS<br>men Bawana roadpahladpur Bangar near UCO Bank",
          "REVOS<br>main mSwaroop Nagar suker road Delhi 42",
          "REVOS<br>GT Karnal Road Near Sai Baba Mandir Budhpur.Alipur",
          "REVOS<br>Khera Khurd near Jai maan public school ",
          "REVOS<br>D-6/253 Shop No.1 Sector-6 Rohini ",
          "REVOS<br>80mttr road ind.area pehladpur bangar ",
          "REVOS<br>pooth khurd Delhi 110039 near society bus stand",
          "REVOS<br>Kh no 373 Ground floor kushak no 1 naar Lodi Invator Village Kadipur",
          "REVOS<br>Opposite DSIIDC office Main Delhi road BAWANA",
          "REVOS<br>pahladpur court mod Delhi",
          "REVOS<br>Opposite DSIIDC office main Delhi road Bawana",
          "REVOS<br>pepsi road vps scool",
          "REVOS<br>A1 block near jharoda dairy sant nagar sant nagar main road Delhi 110084",
          "REVOS<br> shukarBazar road Swaroop Nagar",
          "REVOS<br>A79 Super Bazar road sarurpur Delhi",
          "REVOS<br>Mein hero electric shoram sayed gao ",
          "REVOS<br>gali number 1 Swaroop Nagar nearby Ravi ki factory manipurta Road",
          "REVOS<br>GT KARNAL ROAD AZAD PUR DELHI 110009",
          "REVOS<br>Ashok parak metro station phool bagh ",
          "REVOS<br>kh.1165 main road kushak no.02 kadipur",
          "REVOS<br>kh no 1153 block B gali no 09 kushak no 2 kadipur",
          "REVOS<br>sri sai baba apartment Rohini sec 9 delhi 110085",
          "REVOS<br>E2/163 GANESH CHOWK SECTOR 11 ROHINI",
          "REVOS<br>sector 24 Rohini",
          "REVOS<br>50/7,onkar nagar B,Tri nagar",
          "REVOS<br>Ishu vihar mukand pur part 2 ",
          "REVOS<br>Kh No 52/11Near Hanuman temple outer firni road alipur",
          "REVOS<br>tiranga house near Radha Krishna Mandir Bank of Baroda pooth khurd ",
          "REVOS<br>krishna enclave opp hari park near gopal chock part 2 ",
          "REVOS<br>gali no1 Pragati enlceve",
          "REVOS<br>KH NO 61/64 MAIN NARELA BHORGHAR ROAD ALIPUR ",
          "REVOS<br>kh.nob106|6 main kanjhwala Roab near Brahm shakti hospital",
          "REVOS<br>pkt 11A Rohini sector 23",
          "REVOS<br>kh no 61/64 main narela bhorghar road alipur DELHI ",
          "REVOS<br>HANS cinema GT KARNAL ROAD AZAD PUR DELHI ",
          "REVOS<br>f-7A/36 sector-16 , Rohini",
          "REVOS<br>hno 11,12,13 kh. no. 158/9 Bawana Kanjhawala road ",
          "REVOS<br>BD Block Shalimar Bagh ",
          "REVOS<br>Old Pvc Market Near Sai Mandir",
          "REVOS<br>Chandan Vihar C59",
          "REVOS<br>Plot No 10 Khasra No 88/2shiv Vihar Karala",
          "REVOS<br>Shop No 5 Pepsi Road Himgiri Enclave Near Authority Opp Jal Borde",
          "REVOS<br>17, Pocket-2 (Opp. Union Bank of India), Sector-24, Rohini, Delhi-110085",
          "REVOS<br>C 1957 Jahangir Puri Main Road",
          "REVOS<br>tiranga house near Bank of Baroda Pooth Khurd",
          "REVOS<br>138/7bangali Calony Main Road Sant Nager Burari",
          "REVOS<br>A-16 Aman Puri  opp. Mansa Ram Hospital nangloi",
          "REVOS<br>A-5 Dsidc Industrial Area, Nangloi Delhi 41",
          "REVOS<br>A 5 Dsidc Industrial Area Nangloi Delhi 41",
          "REVOS<br>BR 51/A Shalimar Bagh",
          "REVOS<br>A2 BLOCK GALI NO 11 WEST SANT NAGAR BURADI ",
          "REVOS<br>Arss Mall",
          "REVOS<br>BR 51/A Shalimar Bagh",
          "REVOS<br>GH DHOBI GHAT JHAGIRPURI",
          "REVOS<br>122, Pocket-1 Rohini Sector-24",
          "REVOS<br>542 T huts H.m.b. Jwala Puri",
          "REVOS<br>Shop No11 Gurudwara Singh Sabha Jai Dev Park Rohatak New Delhi",
          "REVOS<br>Rani Kheda Road Jay Mata Propartes",
          "REVOS<br>Main Pusta Road,swaroop Nagar",
          "REVOS<br>3/2A PLOT N0 10 AMAR PARK ZAKHIRA NEAR ASHOKA PARK MAIN METRO STATION DELHI 110035",
          "REVOS<br>89 Pocket-3 Sector-24",
          "REVOS<br>Shop No. 5 Main Road Alipur Delhi_110036",
          "REVOS<br>Rani Khera Near Bus Stand Kanjhawala",
          "REVOS<br>Main Light Old Monastery Main Red Light",
          "REVOS<br>Cw-580 S.G.t.n Delhi-42",
          "REVOS<br>C W 53 Sanjay Ghandi Transport Nagar",
          "REVOS<br>4 A Main Bawaba Road  Near Under Pass samaypur Badhli",
          "REVOS<br>Main Road Near Buradi Road Near Buradi Police Station",
          "REVOS<br>A 1 Block Main Sant Nagar Road Near Dadoda Dariy Main Road Buradi",
          "REVOS<br>Gram Sabha Colony Village Naya Bans Delhi",
          "REVOS<br>h.no-106, Ext-3 , Nangloi Delhi",
          "REVOS<br>B-5/35 ,sector-4 rohini",
          "REVOS<br>A-101 GALI NO. 5 RAMESH TYAGI COLONY JHARODA MAJRA PART-II BURARI",
          "REVOS<br>A-101 GALI NO. 5 RAMESH TYAGI COLONY JHARODA MAJRA PART-II BURARI",
          "REVOS<br>Shop No 816 Seed Farm Road Alipur",
          "REVOS<br>Main Gali Pandit Enclave",
          "REVOS<br>B5/165 Sector 3 Rohini",
          "REVOS<br>W-198 P V C Market,Jwala Puri Near Sai Mandir Guru Harkishan Nagar Paschim Vihar",
          "REVOS<br>Flat No 21 BLK A-1 Pkt-4  Sector-34 Rohini",
          "REVOS<br>Sec. 29 Rohini",
          "REVOS<br>Plot No 31 Sec 13 Rohini",
          "REVOS<br>shri Rama dhram KAnta ",
          "REVOS<br>BC BLOCK EAST SHALIMAR BAGH",
          "REVOS<br>Plot No 48 SECTOR 13",
          "REVOS<br>METRO PILLAR NO 432 NANGLOI",
          "REVOS<br>39/7 , main Bawana road samaypur Delhi",
          "REVOS<br>A 1 Mahendro Enclave",
          "REVOS<br>A1 Mahindra Enclave",
          "REVOS<br>Best Enclave Pitampura",
          "REVOS<br>A 200 Shop No 1majlish Park",
          "REVOS<br>Shop No.34 Jagdamba Market Near Hero Showroom Rithala",
          "REVOS<br>Gopal Chowk Samta Vihar",
          "REVOS<br>House No 7 Gali No 8 Shalimar Village Max Hospital",
          "REVOS<br>House Number 7 Gali Number 8 Shalimar Village Max Hospital Nearby",
          "REVOS<br>Shop No,2, Shakti Complax Main G T Karnal Road Behind Libas Pur",
          "REVOS<br>Block 8A/151, Aaskar Public School Turn Koshik Enclave 60 Futa Road Saroop Nagar Burari",
          "REVOS<br>Alipur",
          "REVOS<br>Udyog Nagar",
          "REVOS<br>Gali No 1 Pragati Enlceve",
          "REVOS<br>Burari",
          "REVOS<br>plot no.1/1 agroha kunj,sector-13,rohini delhi",
          "REVOS<br>Sector 13",
          "REVOS<br>Popular Apartment Sector13 Rohini",
          "REVOS<br>Sec Ye or- 9, Rohini",
          "REVOS<br>Sector-9, Rohini, Delhi-110085",
          "REVOS<br>Ground Floor Khasra No_34/22, Village Samayapur",
          "REVOS<br>C_1/106, Sector 11,Rohini",
          "REVOS<br>Pepsi road Burari",
          "REVOS<br>h.no-106, ext-3 , scooter market",
          "REVOS<br>F7A/28 SECTOR-16 ROHINI",
          "REVOS<br>GT Karnal road azadpur Delhi 110009",
          "REVOS<br>sultan puri",
          "REVOS<br>F 87 sector 2 Bawana industrial area Delhi",
          "REVOS<br>ashok vihar residents suvidha samiti",
          "REVOS<br>ASHOK VIHAR RESIDENTS SUVIDHA SAMITI",
          "REVOS<br>Rani Khera Near Bus Stand Kanjhawala",
          "REVOS<br>Rohini",
          "REVOS<br>ROHINI SECTOR 26",
          "REVOS<br>Sector 14 Rohini Delhi",
          "REVOS<br>flat no 13 sec 15 rohinj",
          "REVOS<br>A 5 dsidc Udyog Nagar nr metro pillar 334 delhi 41",
          "REVOS<br>j24 prerna chok kanhaiya nagar",
          "REVOS<br>j24 prerna chowk kanhaiya nagar",
          "REVOS<br>plot no NM64 pkt N sec 3 dsiidc Bawana delhi",
          "REVOS<br>C-10/54,Shop No 1 Sector -15 ,Rohini",
          "REVOS<br>C195 Divya Jyoti apartment sector 19 Rohini Delhi",
          "REVOS<br>Shop No 1 Kanjhawala Road Near Shamshan Ghat ,Sukhbir Nagar",
          "REVOS<br>C1 main kanjhawal road Ram vihar",
          "E-Fill Electric<br>27/1, Rajapur, Pocket 27/1, Sector 9, Rohini",
          "E-Fill Electric<br>D-99, Sector-5, DISIDC Bawana Industrial Area, Delhi-110039",
          "E-Fill Electric<br>Plot No.4, Opp Kanishka Farm, Near Rama Vihar Bus stand Main Kanjhawala Raod",
          "E-Fill Electric<br>E-127, near RYAN SECHOOL, Prahlad Vihar, Sector 25, Rohini",
          "E-Fill Electric<br>AW-115, Sanjay Gandhi Transport Nagar, Delhi -110042",
          "E-Fill Electric<br>C 14, Plot No 65, Sma, Jahangirpuri Industrial Area, Azadpur",
          "E-Fill Electric<br>A-38, DSIIDC, Bawana Industrial Area, Sec-5",
          "E-Fill Electric<br>Akash Ganga Apartment, Pocket-4, Rohini Sector-24",
          "HP Pitampura DC Charger-1<br>HP PETROL PUMP - AUTO CARE CENTRE, Pitam Pura, New Delhi",
          "Singh Service Station<br>GT Karnal Road DELHI-110075",
          "ESI HOSPITAL TOWARDS DND- AC001 10 KW<br>ESI HOSPITAL TOWARDS DND, New Delhi, Delhi 110015"
         ],
         "type": "scattermapbox"
        }
       ],
       "layout": {
        "height": 600,
        "mapbox": {
         "center": {
          "lat": 28.748103,
          "lon": 77.112122
         },
         "style": "open-street-map",
         "zoom": 12
        },
        "template": {
         "data": {
          "bar": [
           {
            "error_x": {
             "color": "#2a3f5f"
            },
            "error_y": {
             "color": "#2a3f5f"
            },
            "marker": {
             "line": {
              "color": "#E5ECF6",
              "width": 0.5
             },
             "pattern": {
              "fillmode": "overlay",
              "size": 10,
              "solidity": 0.2
             }
            },
            "type": "bar"
           }
          ],
          "barpolar": [
           {
            "marker": {
             "line": {
              "color": "#E5ECF6",
              "width": 0.5
             },
             "pattern": {
              "fillmode": "overlay",
              "size": 10,
              "solidity": 0.2
             }
            },
            "type": "barpolar"
           }
          ],
          "carpet": [
           {
            "aaxis": {
             "endlinecolor": "#2a3f5f",
             "gridcolor": "white",
             "linecolor": "white",
             "minorgridcolor": "white",
             "startlinecolor": "#2a3f5f"
            },
            "baxis": {
             "endlinecolor": "#2a3f5f",
             "gridcolor": "white",
             "linecolor": "white",
             "minorgridcolor": "white",
             "startlinecolor": "#2a3f5f"
            },
            "type": "carpet"
           }
          ],
          "choropleth": [
           {
            "colorbar": {
             "outlinewidth": 0,
             "ticks": ""
            },
            "type": "choropleth"
           }
          ],
          "contour": [
           {
            "colorbar": {
             "outlinewidth": 0,
             "ticks": ""
            },
            "colorscale": [
             [
              0,
              "#0d0887"
             ],
             [
              0.1111111111111111,
              "#46039f"
             ],
             [
              0.2222222222222222,
              "#7201a8"
             ],
             [
              0.3333333333333333,
              "#9c179e"
             ],
             [
              0.4444444444444444,
              "#bd3786"
             ],
             [
              0.5555555555555556,
              "#d8576b"
             ],
             [
              0.6666666666666666,
              "#ed7953"
             ],
             [
              0.7777777777777778,
              "#fb9f3a"
             ],
             [
              0.8888888888888888,
              "#fdca26"
             ],
             [
              1,
              "#f0f921"
             ]
            ],
            "type": "contour"
           }
          ],
          "contourcarpet": [
           {
            "colorbar": {
             "outlinewidth": 0,
             "ticks": ""
            },
            "type": "contourcarpet"
           }
          ],
          "heatmap": [
           {
            "colorbar": {
             "outlinewidth": 0,
             "ticks": ""
            },
            "colorscale": [
             [
              0,
              "#0d0887"
             ],
             [
              0.1111111111111111,
              "#46039f"
             ],
             [
              0.2222222222222222,
              "#7201a8"
             ],
             [
              0.3333333333333333,
              "#9c179e"
             ],
             [
              0.4444444444444444,
              "#bd3786"
             ],
             [
              0.5555555555555556,
              "#d8576b"
             ],
             [
              0.6666666666666666,
              "#ed7953"
             ],
             [
              0.7777777777777778,
              "#fb9f3a"
             ],
             [
              0.8888888888888888,
              "#fdca26"
             ],
             [
              1,
              "#f0f921"
             ]
            ],
            "type": "heatmap"
           }
          ],
          "heatmapgl": [
           {
            "colorbar": {
             "outlinewidth": 0,
             "ticks": ""
            },
            "colorscale": [
             [
              0,
              "#0d0887"
             ],
             [
              0.1111111111111111,
              "#46039f"
             ],
             [
              0.2222222222222222,
              "#7201a8"
             ],
             [
              0.3333333333333333,
              "#9c179e"
             ],
             [
              0.4444444444444444,
              "#bd3786"
             ],
             [
              0.5555555555555556,
              "#d8576b"
             ],
             [
              0.6666666666666666,
              "#ed7953"
             ],
             [
              0.7777777777777778,
              "#fb9f3a"
             ],
             [
              0.8888888888888888,
              "#fdca26"
             ],
             [
              1,
              "#f0f921"
             ]
            ],
            "type": "heatmapgl"
           }
          ],
          "histogram": [
           {
            "marker": {
             "pattern": {
              "fillmode": "overlay",
              "size": 10,
              "solidity": 0.2
             }
            },
            "type": "histogram"
           }
          ],
          "histogram2d": [
           {
            "colorbar": {
             "outlinewidth": 0,
             "ticks": ""
            },
            "colorscale": [
             [
              0,
              "#0d0887"
             ],
             [
              0.1111111111111111,
              "#46039f"
             ],
             [
              0.2222222222222222,
              "#7201a8"
             ],
             [
              0.3333333333333333,
              "#9c179e"
             ],
             [
              0.4444444444444444,
              "#bd3786"
             ],
             [
              0.5555555555555556,
              "#d8576b"
             ],
             [
              0.6666666666666666,
              "#ed7953"
             ],
             [
              0.7777777777777778,
              "#fb9f3a"
             ],
             [
              0.8888888888888888,
              "#fdca26"
             ],
             [
              1,
              "#f0f921"
             ]
            ],
            "type": "histogram2d"
           }
          ],
          "histogram2dcontour": [
           {
            "colorbar": {
             "outlinewidth": 0,
             "ticks": ""
            },
            "colorscale": [
             [
              0,
              "#0d0887"
             ],
             [
              0.1111111111111111,
              "#46039f"
             ],
             [
              0.2222222222222222,
              "#7201a8"
             ],
             [
              0.3333333333333333,
              "#9c179e"
             ],
             [
              0.4444444444444444,
              "#bd3786"
             ],
             [
              0.5555555555555556,
              "#d8576b"
             ],
             [
              0.6666666666666666,
              "#ed7953"
             ],
             [
              0.7777777777777778,
              "#fb9f3a"
             ],
             [
              0.8888888888888888,
              "#fdca26"
             ],
             [
              1,
              "#f0f921"
             ]
            ],
            "type": "histogram2dcontour"
           }
          ],
          "mesh3d": [
           {
            "colorbar": {
             "outlinewidth": 0,
             "ticks": ""
            },
            "type": "mesh3d"
           }
          ],
          "parcoords": [
           {
            "line": {
             "colorbar": {
              "outlinewidth": 0,
              "ticks": ""
             }
            },
            "type": "parcoords"
           }
          ],
          "pie": [
           {
            "automargin": true,
            "type": "pie"
           }
          ],
          "scatter": [
           {
            "fillpattern": {
             "fillmode": "overlay",
             "size": 10,
             "solidity": 0.2
            },
            "type": "scatter"
           }
          ],
          "scatter3d": [
           {
            "line": {
             "colorbar": {
              "outlinewidth": 0,
              "ticks": ""
             }
            },
            "marker": {
             "colorbar": {
              "outlinewidth": 0,
              "ticks": ""
             }
            },
            "type": "scatter3d"
           }
          ],
          "scattercarpet": [
           {
            "marker": {
             "colorbar": {
              "outlinewidth": 0,
              "ticks": ""
             }
            },
            "type": "scattercarpet"
           }
          ],
          "scattergeo": [
           {
            "marker": {
             "colorbar": {
              "outlinewidth": 0,
              "ticks": ""
             }
            },
            "type": "scattergeo"
           }
          ],
          "scattergl": [
           {
            "marker": {
             "colorbar": {
              "outlinewidth": 0,
              "ticks": ""
             }
            },
            "type": "scattergl"
           }
          ],
          "scattermapbox": [
           {
            "marker": {
             "colorbar": {
              "outlinewidth": 0,
              "ticks": ""
             }
            },
            "type": "scattermapbox"
           }
          ],
          "scatterpolar": [
           {
            "marker": {
             "colorbar": {
              "outlinewidth": 0,
              "ticks": ""
             }
            },
            "type": "scatterpolar"
           }
          ],
          "scatterpolargl": [
           {
            "marker": {
             "colorbar": {
              "outlinewidth": 0,
              "ticks": ""
             }
            },
            "type": "scatterpolargl"
           }
          ],
          "scatterternary": [
           {
            "marker": {
             "colorbar": {
              "outlinewidth": 0,
              "ticks": ""
             }
            },
            "type": "scatterternary"
           }
          ],
          "surface": [
           {
            "colorbar": {
             "outlinewidth": 0,
             "ticks": ""
            },
            "colorscale": [
             [
              0,
              "#0d0887"
             ],
             [
              0.1111111111111111,
              "#46039f"
             ],
             [
              0.2222222222222222,
              "#7201a8"
             ],
             [
              0.3333333333333333,
              "#9c179e"
             ],
             [
              0.4444444444444444,
              "#bd3786"
             ],
             [
              0.5555555555555556,
              "#d8576b"
             ],
             [
              0.6666666666666666,
              "#ed7953"
             ],
             [
              0.7777777777777778,
              "#fb9f3a"
             ],
             [
              0.8888888888888888,
              "#fdca26"
             ],
             [
              1,
              "#f0f921"
             ]
            ],
            "type": "surface"
           }
          ],
          "table": [
           {
            "cells": {
             "fill": {
              "color": "#EBF0F8"
             },
             "line": {
              "color": "white"
             }
            },
            "header": {
             "fill": {
              "color": "#C8D4E3"
             },
             "line": {
              "color": "white"
             }
            },
            "type": "table"
           }
          ]
         },
         "layout": {
          "annotationdefaults": {
           "arrowcolor": "#2a3f5f",
           "arrowhead": 0,
           "arrowwidth": 1
          },
          "autotypenumbers": "strict",
          "coloraxis": {
           "colorbar": {
            "outlinewidth": 0,
            "ticks": ""
           }
          },
          "colorscale": {
           "diverging": [
            [
             0,
             "#8e0152"
            ],
            [
             0.1,
             "#c51b7d"
            ],
            [
             0.2,
             "#de77ae"
            ],
            [
             0.3,
             "#f1b6da"
            ],
            [
             0.4,
             "#fde0ef"
            ],
            [
             0.5,
             "#f7f7f7"
            ],
            [
             0.6,
             "#e6f5d0"
            ],
            [
             0.7,
             "#b8e186"
            ],
            [
             0.8,
             "#7fbc41"
            ],
            [
             0.9,
             "#4d9221"
            ],
            [
             1,
             "#276419"
            ]
           ],
           "sequential": [
            [
             0,
             "#0d0887"
            ],
            [
             0.1111111111111111,
             "#46039f"
            ],
            [
             0.2222222222222222,
             "#7201a8"
            ],
            [
             0.3333333333333333,
             "#9c179e"
            ],
            [
             0.4444444444444444,
             "#bd3786"
            ],
            [
             0.5555555555555556,
             "#d8576b"
            ],
            [
             0.6666666666666666,
             "#ed7953"
            ],
            [
             0.7777777777777778,
             "#fb9f3a"
            ],
            [
             0.8888888888888888,
             "#fdca26"
            ],
            [
             1,
             "#f0f921"
            ]
           ],
           "sequentialminus": [
            [
             0,
             "#0d0887"
            ],
            [
             0.1111111111111111,
             "#46039f"
            ],
            [
             0.2222222222222222,
             "#7201a8"
            ],
            [
             0.3333333333333333,
             "#9c179e"
            ],
            [
             0.4444444444444444,
             "#bd3786"
            ],
            [
             0.5555555555555556,
             "#d8576b"
            ],
            [
             0.6666666666666666,
             "#ed7953"
            ],
            [
             0.7777777777777778,
             "#fb9f3a"
            ],
            [
             0.8888888888888888,
             "#fdca26"
            ],
            [
             1,
             "#f0f921"
            ]
           ]
          },
          "colorway": [
           "#636efa",
           "#EF553B",
           "#00cc96",
           "#ab63fa",
           "#FFA15A",
           "#19d3f3",
           "#FF6692",
           "#B6E880",
           "#FF97FF",
           "#FECB52"
          ],
          "font": {
           "color": "#2a3f5f"
          },
          "geo": {
           "bgcolor": "white",
           "lakecolor": "white",
           "landcolor": "#E5ECF6",
           "showlakes": true,
           "showland": true,
           "subunitcolor": "white"
          },
          "hoverlabel": {
           "align": "left"
          },
          "hovermode": "closest",
          "mapbox": {
           "style": "light"
          },
          "paper_bgcolor": "white",
          "plot_bgcolor": "#E5ECF6",
          "polar": {
           "angularaxis": {
            "gridcolor": "white",
            "linecolor": "white",
            "ticks": ""
           },
           "bgcolor": "#E5ECF6",
           "radialaxis": {
            "gridcolor": "white",
            "linecolor": "white",
            "ticks": ""
           }
          },
          "scene": {
           "xaxis": {
            "backgroundcolor": "#E5ECF6",
            "gridcolor": "white",
            "gridwidth": 2,
            "linecolor": "white",
            "showbackground": true,
            "ticks": "",
            "zerolinecolor": "white"
           },
           "yaxis": {
            "backgroundcolor": "#E5ECF6",
            "gridcolor": "white",
            "gridwidth": 2,
            "linecolor": "white",
            "showbackground": true,
            "ticks": "",
            "zerolinecolor": "white"
           },
           "zaxis": {
            "backgroundcolor": "#E5ECF6",
            "gridcolor": "white",
            "gridwidth": 2,
            "linecolor": "white",
            "showbackground": true,
            "ticks": "",
            "zerolinecolor": "white"
           }
          },
          "shapedefaults": {
           "line": {
            "color": "#2a3f5f"
           }
          },
          "ternary": {
           "aaxis": {
            "gridcolor": "white",
            "linecolor": "white",
            "ticks": ""
           },
           "baxis": {
            "gridcolor": "white",
            "linecolor": "white",
            "ticks": ""
           },
           "bgcolor": "#E5ECF6",
           "caxis": {
            "gridcolor": "white",
            "linecolor": "white",
            "ticks": ""
           }
          },
          "title": {
           "x": 0.05
          },
          "xaxis": {
           "automargin": true,
           "gridcolor": "white",
           "linecolor": "white",
           "ticks": "",
           "title": {
            "standoff": 15
           },
           "zerolinecolor": "white",
           "zerolinewidth": 2
          },
          "yaxis": {
           "automargin": true,
           "gridcolor": "white",
           "linecolor": "white",
           "ticks": "",
           "title": {
            "standoff": 15
           },
           "zerolinecolor": "white",
           "zerolinewidth": 2
          }
         }
        },
        "title": {
         "text": "Map of Chosen Stations and Reference Point",
         "x": 0.5
        }
       }
      },
      "text/html": [
       "<div>                            <div id=\"1c4cc261-f339-47a9-b104-4c67548543ec\" class=\"plotly-graph-div\" style=\"height:600px; width:100%;\"></div>            <script type=\"text/javascript\">                require([\"plotly\"], function(Plotly) {                    window.PLOTLYENV=window.PLOTLYENV || {};                                    if (document.getElementById(\"1c4cc261-f339-47a9-b104-4c67548543ec\")) {                    Plotly.newPlot(                        \"1c4cc261-f339-47a9-b104-4c67548543ec\",                        [{\"hoverinfo\":\"text\",\"lat\":[28.748103],\"lon\":[77.112122],\"marker\":{\"color\":\"red\",\"size\":15},\"mode\":\"markers\",\"name\":\"Reference Point\",\"text\":\"<b>Reference Point</b>\",\"type\":\"scattermapbox\"},{\"hoverinfo\":\"text\",\"lat\":[28.69449234008789,28.71756935119629,28.68061587947976,28.68121092427005,28.6807207,28.6807207,28.71969032287598,28.7043342590332,28.72094037964922,28.72184686189823,28.76056289672852,28.74341076516099,28.73840796441077,28.78146171569824,28.75060117339789,28.72836875915527,28.70018005371094,28.71510314941406,28.65932464599609,28.70095166969952,28.69799050110432,28.66514029242678,28.71937320237458,28.73657881621598,28.73610902981775,28.69640239325383,28.66308833842623,28.70823204148586,28.68609175230246,28.70464617541688,28.77081197256837,28.73093065607699,28.71222945797365,28.74419829200304,28.75765470595106,28.72813586225074,28.82702415094696,28.82589358383425,28.8270285568743,28.7159638491119,28.76718681401749,28.79733806869212,28.70082786047524,28.73784323081668,28.73782088835248,28.72310586831891,28.72305647274321,28.72624214557195,28.71722704289446,28.70581657985345,28.71245205494609,28.73284457339077,28.74368826689813,28.71087357635634,28.7699314835381,28.7196651754558,28.72184098140297,28.78353855863961,28.70092784893378,28.713255,28.71085769735234,28.70935300376004,28.74109518432189,28.66286740162857,28.77475527320849,28.70358574240426,28.71368823875922,28.70290642442771,28.70792239265441,28.75838598631064,28.72268688724876,28.73822922552948,28.72320436537939,28.7387169350125,28.72353954871087,28.70952620488691,28.74718784153066,28.73395321821796,28.72247166263574,28.7132621627819,28.72187126595003,28.7311961370238,28.71429926808379,28.74561076928143,28.73530380278721,28.7049840648761,28.72809470125311,28.7447588758019,28.70529578090303,28.73533996317026,28.70661909331914,28.76489086411858,28.75405407482325,28.76486852744035,28.7396353160692,28.75242713668591,28.66985448617412,28.73790290869105,28.71735818364661,28.77180148525215,28.71280079905215,28.71367471256439,28.73498218061815,28.75854852501956,28.76733170521874,28.73885069459948,28.78262173916731,28.74595793298914,28.77166042075638,28.8216899048442,28.72773189575858,28.75464928975966,28.73550047984159,28.73557044856989,28.661913043453,28.83126932231135,28.75221373695766,28.75223460664729,28.75765470595106,28.78660044218767,28.77550553554977,28.7107130218716,28.74633008179576,28.76578256392098,28.77505855264243,28.79336565187424,28.74991275461138,28.79335360511373,28.73829801651668,28.73521237281975,28.75778785343973,28.75770966972524,28.66138643642384,28.76366322143889,28.70373572110346,28.67140710836428,28.76742428265578,28.76940806514299,28.70935123940073,28.73392440712496,28.72972231235135,28.6734262476341,28.73649885272286,28.80152422104184,28.7707731794832,28.73899033354608,28.73248942824885,28.79722759524131,28.7130636795912,28.71863076966922,28.79717470897341,28.7030393475996,28.73390323978622,28.79147781937028,28.71237854212779,28.67191660347065,28.67404839590422,28.73334700762699,28.73481196153762,28.72437426814421,28.73123200482979,28.77064945295601,28.73847263958856,28.67252522919256,28.68221216847682,28.68227805495146,28.70849581569347,28.73857994149973,28.66904463072207,28.70852963285146,28.72378240894459,28.72389707641334,28.68066411853085,28.67210369227579,28.70252823943538,28.757763163852,28.67097174106786,28.72391736372166,28.8011284711346,28.70612152981415,28.71025988050392,28.74114192563856,28.74296482067706,28.74404690152572,28.73545755782544,28.73520737503785,28.78398550521012,28.6815277114423,28.7076874353322,28.72764163520087,28.72764369326007,28.79268956201481,28.73813897403738,28.70103313079566,28.67062903513303,28.7689102127566,28.76964082648282,28.72309998789446,28.75855293384176,28.71580800710845,28.72090509636677,28.68196244659618,28.74439436439225,28.70112341431914,28.70116782084445,28.69310552206259,28.71585270144264,28.72255251892893,28.73939866615283,28.72328169285734,28.72357571316398,28.75221344301833,28.75818171035923,28.7970886218244,28.68189450096378,28.73251618177427,28.7392228687251,28.71733260239172,28.71839995288276,28.71860754099656,28.71492117347571,28.71448686924872,28.74327142608703,28.73105942765037,28.7373390543108,28.68162624764683,28.73380475280671,28.70323343865351,28.70747159172011,28.79711741548626,28.68345547456071,28.6834501801729,28.70608036015102,28.71254997393981,28.74213230748898,28.71412284034892,28.73084451427383,28.68204627556244,28.68438228243384,28.68355459721622,28.78354032174623,28.73158333227877,28.73692277613194,28.72817320114171,28.72808058890732,28.712543,28.7981025,28.72842,28.7378801,28.739014,28.726506,28.7926999,28.7264561,28.6962,28.6914,28.659159],\"lon\":[77.11891174316406,77.12598419189453,77.15544551610947,77.07572523504496,77.1553153,77.1553153,77.16101837158203,77.0538101196289,77.08018071949482,77.0788211748004,77.12641143798828,77.13558241724968,77.04190291464329,77.1375503540039,77.17734541743994,77.05603790283203,77.05477905273438,77.10803985595703,77.11187744140625,77.1321176737547,77.16025404632093,77.11394201964141,77.17377606779337,77.14480150490999,77.144666723907,77.09628704935312,77.14483469724657,77.15066950768232,77.185731343925,77.08507843315601,77.17389073222876,77.13526591658592,77.15539254248142,77.12025661021471,77.18222100287676,77.17408988624811,77.0803577452898,77.08073828369379,77.08117816597223,77.16379188001156,77.09160290658474,77.04672452062368,77.05595601350069,77.11037434637547,77.11032304912806,77.08750281482935,77.08730366081,77.09721710532904,77.06110518425703,77.10288628935814,77.1550602838397,77.14133743196726,77.1239198371768,77.08468046039343,77.11821276694536,77.16107614338398,77.09070738404989,77.05916058272123,77.16764386743307,77.140129,77.06706941127777,77.0810229331255,77.12138313800097,77.14476194232702,77.17127054929733,77.15747158974409,77.17992905527353,77.19537992030382,77.12513688951731,77.18814063817263,77.15320385992528,77.1365349367261,77.15070873498917,77.19290759414434,77.06213179975748,77.14179407805204,77.19631969928743,77.02251557260752,77.10451539605856,77.0605717599392,77.06489112228155,77.03803215175869,77.07195974886417,77.09906917065382,77.0137333497405,77.0571968704462,77.04918075352907,77.1142930537462,77.19689302146435,77.05490726977585,77.13436670601368,77.18346454203129,77.18651622533798,77.18347560614347,77.1974428743124,77.07664355635643,77.0772996917367,77.11676672101021,77.09602653980255,77.17969067394733,77.12161045521498,77.05987069755793,77.01274562627077,77.19387285411358,77.09169108420612,77.1200081706047,77.0598703622818,77.19670694321394,77.17971917241812,77.17019431293011,77.04794492572546,77.14834000915289,77.1974479034543,77.19747237861156,77.08219338208437,77.09412049502134,77.07830015569925,77.07827132195234,77.14918222278357,77.14025314897299,77.10267003625631,77.10990898311138,77.08654694259167,77.05215565860271,77.16590378433466,77.03709539026023,77.08275597542524,77.03721843659878,77.19466041773558,77.19769030809402,77.14921474456787,77.14921072125435,77.08443034440279,77.14882045984268,77.18246944248675,77.15529967099428,77.16274715960026,77.16229688376188,77.12508425116539,77.11166515946388,77.08591427654027,77.15937696397305,77.19063777476549,77.13773757219315,77.04965215176344,77.18546479940414,77.19065252691507,77.13687423616648,77.07987293601036,77.08377856761217,77.13688898831606,77.18242015689611,77.12182335555553,77.0338911563158,77.15516187250614,77.07996714860201,77.07677096128464,77.02460668981075,77.19290189445019,77.08879128098488,77.16954823583364,77.04974669963121,77.19763901084661,77.05927960574627,77.07935258746147,77.07927916198969,77.1615468710661,77.19557605683804,77.10174132138492,77.16153010725975,77.17455323785543,77.08823136985302,77.08192851394415,77.15170115232468,77.02771537005901,77.14932169765234,77.15954460203648,77.08590555936098,77.13851273059845,77.02778946608306,77.17675331979989,77.1514768525958,77.14986819773914,77.14309260249138,77.19730474054813,77.1975253522396,77.09661059081554,77.06255357712509,77.10390217602253,77.20731843262911,77.20729529857634,77.13957589119673,77.18463364988565,77.10905704647303,77.07906994968653,77.07462586462498,77.09337450563908,77.12872803211212,77.19410385936497,77.16421768069267,77.13658522814512,77.05489955842495,77.14290115982294,77.18369487673044,77.18365263193846,77.10390854626894,77.17565394937992,77.10318200290202,77.18527402728796,77.15797014534473,77.15756446123123,77.1492201089859,77.18465309590101,77.13694766163826,77.07939181476831,77.19066124409436,77.19594519585371,77.12925139814615,77.12888695299624,77.12950821965931,77.12679985910654,77.11733534932135,77.12404020130634,77.1174181625247,77.19578962773085,77.06253346055746,77.12195914238691,77.18248654156923,77.0748857036233,77.0467533543706,77.17126853764057,77.17130240052938,77.0277613028884,77.12928090244532,77.10401684045792,77.13094789534807,77.1352270245552,77.07930900156498,77.16415397822857,77.16392196714878,77.05907844007015,77.12964668869972,77.13978610932827,77.04705644398928,77.0470879599452,77.123276,77.080616,77.04717,77.0899587,77.1493044,77.1583246,77.0727241,77.0834144,77.155,77.1893,77.129267],\"marker\":{\"color\":\"blue\",\"size\":10},\"mode\":\"markers\",\"name\":\"Stations\",\"text\":[\"REVOS<br>142 Deepali Enclave Pitampura Delhi 110034\",\"REVOS<br>sector 14 rohini\",\"REVOS<br>473, Britannia Rd, Tri Nagar, Delhi, 110034\",\"REVOS<br>Nangloi, Delhi, 110041\",\"REVOS<br>473, Britannia Rd, Tri Nagar, Delhi, 110034zypp\",\"REVOS<br>473, Britannia Rd, Tri Nagar, Delhi, 110034\",\"REVOS<br>Shop No.1 Ad Market Near Kalyani Mandir Shalimar Bagh\",\"REVOS<br>Nithari Chowk, Fauji Vatika, ShivRam Pan Bhandar\\nKirari Suleman Nagar, Delhi-110086\",\"REVOS<br>Pocket 3 Sector 23 Rohini Delhi\",\"REVOS<br>Pocket 3 Sector 23 Rohini Delhi\",\"REVOS<br>plot no-1,khasra no-768/1, siraspur\",\"REVOS<br>A 59 Gali No 6 Suraj Park Delhi 110042\",\"REVOS<br>baldev vihar delhi\",\"REVOS<br>shop No 18  Main Chowk Budhpur Delhi 110036\",\"REVOS<br>D 70 Guru Nanak Dev Colony Bhalswa dairy near shiv chowk Delhi 110042\",\"REVOS<br>f 53 Rajiv Nagar begumpur village New Delhi\",\"REVOS<br>B 220 gali no.8 prem nagar 2 gaurav nagar anand nagar kirari suleman nagar delhi\",\"REVOS<br>B9/177,sector-5, rohini ,delhi-85\",\"REVOS<br>n block gurdwara dera dukh niwaran raghubir nagar near bus stand 912 new delhi 27\",\"REVOS<br>37 A dda Janta flat Pitampura Shiva market\\nDelhi 110034\",\"REVOS<br>n-20 63b wazirpur indl area udham singh park a block\",\"REVOS<br>305 POCKET 1 PASCHIM PURI NEW DELHI 110063 SHOP NO 2\",\"REVOS<br>C-63, Rajan Babu Road, Adarsh Nagar, Delhi-110033\",\"REVOS<br>house no 5 near old bus stand Badli village\",\"REVOS<br>Ho 5 Badli village near old bus stand\",\"REVOS<br>F 1217 BALMIKI MANDIR MANGO L PURI\",\"REVOS<br>SHOP NO SH33473 new moti nagar near milan cinama Delhi 15\",\"REVOS<br>wp 65a pitam pura\",\"REVOS<br>7724 Fasih Building Clock Tower Delhi 110007\",\"REVOS<br>House No. 71B, Block A, Krishan Vihar, Opp. Budh Vihar\",\"REVOS<br>H n 645 D Block Nathu Pura\",\"REVOS<br>flat no 13 plot 5\",\"REVOS<br>BD block 16 Shalimar bagh \",\"REVOS<br>B-4/38 ground floor sector-17 Rohini\",\"REVOS<br>swami dayanand enklev burari sawroop Nagar 60ft main road\",\"REVOS<br>G1/44 local supermarket Jahangir Puri delhi\",\"REVOS<br>Flat No 24, Block D8, Pocket 2\",\"REVOS<br>Flat No 21, Block A6 Pocket 2\",\"REVOS<br>DDA Flat E436 Sector G2 Pocket 2 Narela\",\"REVOS<br>bc block  east shalimar bagh\",\"REVOS<br>Hno 1441 Creative Heights Apartment Pocket GH1 Sector 29 Rohini\",\"REVOS<br>f 87 sector 2 bawana industrial area\",\"REVOS<br>gali no 12 gaurav nagar kirari near veer bazaar road\",\"REVOS<br>shop no 1A psp4 sector 11 near BPIT college rohini delhi\",\"REVOS<br>shop no 1A psp4 sector 11 near BPIT college rohini delhi \",\"REVOS<br>H NO 174 POCKET 1 SECTOR 24 ROHINI \",\"REVOS<br>A 174 pocket 1 Sector 24 near Hanuman Mandir delhi\",\"REVOS<br>212 Ground Floor Pocket 20 Rohini Sector 24\",\"REVOS<br>174 175 pocket 4 rohini sector 22\",\"REVOS<br>House number 13 pkt G29 sector 3 rohini\",\"REVOS<br>BD BLOCK west shalimar bagh\",\"REVOS<br>kharsa no-136/2 near yadav hotel badli\",\"REVOS<br>ground floor khasra no 34/22 village samaypur delhi\",\"REVOS<br>P-1/52a Budh Vihar Phase-1\",\"REVOS<br>A111 Gali no 1 khera garhi colony \",\"REVOS<br>SHOP NO.1 A D Market Near Mata Kalyani Shalimar Bagh\",\"REVOS<br>B1 ,35 Sharma colony budh vihar phase 2\",\"REVOS<br>plot no NM64 pkt N sec 3 dsiidc Bawana delhi\",\"REVOS<br>A104 group Wazirpur Industrial Area Delhi \",\"REVOS<br>Pitampura, Delhi\",\"REVOS<br>POCKET 1 SECTOR 21 ROHINI\",\"REVOS<br>main Kanjhawala road Budh vihar phase 1 near satnaryan hospital \",\"REVOS<br>pocket 1  sector 16 Rohini New Delhi 110089\",\"REVOS<br>sh- 1/7 new moti nagar new delhi 1100\",\"REVOS<br>KH NO. 993 Ground Floor Near Kadipur School\",\"REVOS<br>bt block stall no 2 Shalimar bagh\",\"REVOS<br>S-16 Main Road \",\"REVOS<br>190 malik pur village near model town first red light\",\"REVOS<br>Sai Baba chowk \",\"REVOS<br>60 foota road kaushik enclave swaroop Nagar burari\",\"REVOS<br>shop no 28 ramjilal complex Shalimar Bagh\",\"REVOS<br>B 7/33 opp Lal path lab Rohini sec 18\",\"REVOS<br>haiderpur opposite ayurvedic hospital Delhi\",\"REVOS<br>kh.no.18/24/1 West Santnagar\",\"REVOS<br>Plot No 2 &3 Rajeev Nagar Extn Main Kanjhawala Road \",\"REVOS<br>nu 26A pitam pura\",\"REVOS<br>41 foota road budha bazar near kamalpur delhi \",\"REVOS<br>68/17,plot no.3, main kanjhawla road, near goel tiles , KARALA ,New Delhi,110081\",\"REVOS<br>jagdamba market rithala\",\"REVOS<br>Rohini sector 22 lakhiram park Delhi\",\"REVOS<br>kh no 12/21 khanjhwaala road begum pur main bus stand delhi\",\"REVOS<br>H.no1419 vpo karala near mcd dispencry\",\"REVOS<br>FLAT-4,BLOCK-1,SECTOR-20,M C D FLATS ,ROHINI\",\"REVOS<br>a 19 shahbad dairy main bawana road\",\"REVOS<br>H no 292 Harman Mohla chandpur dana delhi 110081\",\"REVOS<br>Plot No. - 29A, Pratap Vihar, Part - 3, Main Kirari Expressway Road\",\"REVOS<br>Rama Vihar Balaji Mandir shop no 2 Dilshad motors\",\"REVOS<br>Kh.No 65, Balimiki Mandir ke samne \",\"REVOS<br>42,Malikpur village, Kingsway camp,Delhi-110009\",\"REVOS<br>1025 Jain nagar \",\"REVOS<br> A.D Block power Apartment \",\"REVOS<br>Nathu Pura Main Rd\",\"REVOS<br>ajit vihar pump house road burari Delhi \",\"REVOS<br>AMRIT VIHAR BUS STAND NATHUPURA ROAD\",\"REVOS<br>kh no.137/02 main road opp Sant hospital A2 block Sant nagar burari \",\"REVOS<br>phaladpur near ndpl office\",\"REVOS<br>RZC-54 gali no 2 Nihal vihar nangloi\",\"REVOS<br>G-7/257 sec 16\",\"REVOS<br>khasra 917 rithala villeg near by Guleria house\",\"REVOS<br>Pradeep vihar Gate no 2, Burari\",\"REVOS<br>shop number 1 maharaja agrsen market behind near Saraswati apartment LSC number 7 sector no Rohini Delhi 110085\",\"REVOS<br>h 141 ramesh enslave Lucky ram park sec 22\",\"REVOS<br>opposite savitri Hospital kanjhawala\",\"REVOS<br>khsra no 457/2 shri Rama dhram kanta\",\"REVOS<br>Hno 1441 Creative Height Apartment Sector 29\",\"REVOS<br>G-5/20, Sector-16, Rohini\",\"REVOS<br>pocket N-plot E-189 \",\"REVOS<br>BURARI Delhi 110084\",\"REVOS<br>Pradeep Vihar Gate no 2\",\"REVOS<br>houseno44/21/2village Bakhtawerpur our Delhi 110036\",\"REVOS<br>C-1 Rama Vihar Main Kanjhawala Road Delhi\",\"REVOS<br>B-5, GT Karnal Road, Libaspur, Ambey Garden\",\"REVOS<br>Kh No-23/15/1, Block A-1,  Sant Nagar, Burari, Delhi-110084\",\"REVOS<br>Kh.No.23/15/1, Main 100 Foota Road, Block A-1, Sant Nagar, Burari, Delhi-110084, Opposite Pepsi Road\",\"REVOS<br>c-68 LIC COLONY, OPP SAYED GAON NEAR GH8\",\"REVOS<br>kh 68/1 Main Road Bhorgarh\",\"REVOS<br>near UCO Bank man Bawana road aur kya hai\",\"REVOS<br>men Bawana roadpahladpur Bangar near UCO Bank\",\"REVOS<br>main mSwaroop Nagar suker road Delhi 42\",\"REVOS<br>GT Karnal Road Near Sai Baba Mandir Budhpur.Alipur\",\"REVOS<br>Khera Khurd near Jai maan public school \",\"REVOS<br>D-6/253 Shop No.1 Sector-6 Rohini \",\"REVOS<br>80mttr road ind.area pehladpur bangar \",\"REVOS<br>pooth khurd Delhi 110039 near society bus stand\",\"REVOS<br>Kh no 373 Ground floor kushak no 1 naar Lodi Invator Village Kadipur\",\"REVOS<br>Opposite DSIIDC office Main Delhi road BAWANA\",\"REVOS<br>pahladpur court mod Delhi\",\"REVOS<br>Opposite DSIIDC office main Delhi road Bawana\",\"REVOS<br>pepsi road vps scool\",\"REVOS<br>A1 block near jharoda dairy sant nagar sant nagar main road Delhi 110084\",\"REVOS<br> shukarBazar road Swaroop Nagar\",\"REVOS<br>A79 Super Bazar road sarurpur Delhi\",\"REVOS<br>Mein hero electric shoram sayed gao \",\"REVOS<br>gali number 1 Swaroop Nagar nearby Ravi ki factory manipurta Road\",\"REVOS<br>GT KARNAL ROAD AZAD PUR DELHI 110009\",\"REVOS<br>Ashok parak metro station phool bagh \",\"REVOS<br>kh.1165 main road kushak no.02 kadipur\",\"REVOS<br>kh no 1153 block B gali no 09 kushak no 2 kadipur\",\"REVOS<br>sri sai baba apartment Rohini sec 9 delhi 110085\",\"REVOS<br>E2/163 GANESH CHOWK SECTOR 11 ROHINI\",\"REVOS<br>sector 24 Rohini\",\"REVOS<br>50/7,onkar nagar B,Tri nagar\",\"REVOS<br>Ishu vihar mukand pur part 2 \",\"REVOS<br>Kh No 52/11Near Hanuman temple outer firni road alipur\",\"REVOS<br>tiranga house near Radha Krishna Mandir Bank of Baroda pooth khurd \",\"REVOS<br>krishna enclave opp hari park near gopal chock part 2 \",\"REVOS<br>gali no1 Pragati enlceve\",\"REVOS<br>KH NO 61/64 MAIN NARELA BHORGHAR ROAD ALIPUR \",\"REVOS<br>kh.nob106|6 main kanjhwala Roab near Brahm shakti hospital\",\"REVOS<br>pkt 11A Rohini sector 23\",\"REVOS<br>kh no 61/64 main narela bhorghar road alipur DELHI \",\"REVOS<br>HANS cinema GT KARNAL ROAD AZAD PUR DELHI \",\"REVOS<br>f-7A/36 sector-16 , Rohini\",\"REVOS<br>hno 11,12,13 kh. no. 158/9 Bawana Kanjhawala road \",\"REVOS<br>BD Block Shalimar Bagh \",\"REVOS<br>Old Pvc Market Near Sai Mandir\",\"REVOS<br>Chandan Vihar C59\",\"REVOS<br>Plot No 10 Khasra No 88/2shiv Vihar Karala\",\"REVOS<br>Shop No 5 Pepsi Road Himgiri Enclave Near Authority Opp Jal Borde\",\"REVOS<br>17, Pocket-2 (Opp. Union Bank of India), Sector-24, Rohini, Delhi-110085\",\"REVOS<br>C 1957 Jahangir Puri Main Road\",\"REVOS<br>tiranga house near Bank of Baroda Pooth Khurd\",\"REVOS<br>138/7bangali Calony Main Road Sant Nager Burari\",\"REVOS<br>A-16 Aman Puri  opp. Mansa Ram Hospital nangloi\",\"REVOS<br>A-5 Dsidc Industrial Area, Nangloi Delhi 41\",\"REVOS<br>A 5 Dsidc Industrial Area Nangloi Delhi 41\",\"REVOS<br>BR 51/A Shalimar Bagh\",\"REVOS<br>A2 BLOCK GALI NO 11 WEST SANT NAGAR BURADI \",\"REVOS<br>Arss Mall\",\"REVOS<br>BR 51/A Shalimar Bagh\",\"REVOS<br>GH DHOBI GHAT JHAGIRPURI\",\"REVOS<br>122, Pocket-1 Rohini Sector-24\",\"REVOS<br>542 T huts H.m.b. Jwala Puri\",\"REVOS<br>Shop No11 Gurudwara Singh Sabha Jai Dev Park Rohatak New Delhi\",\"REVOS<br>Rani Kheda Road Jay Mata Propartes\",\"REVOS<br>Main Pusta Road,swaroop Nagar\",\"REVOS<br>3/2A PLOT N0 10 AMAR PARK ZAKHIRA NEAR ASHOKA PARK MAIN METRO STATION DELHI 110035\",\"REVOS<br>89 Pocket-3 Sector-24\",\"REVOS<br>Shop No. 5 Main Road Alipur Delhi_110036\",\"REVOS<br>Rani Khera Near Bus Stand Kanjhawala\",\"REVOS<br>Main Light Old Monastery Main Red Light\",\"REVOS<br>Cw-580 S.G.t.n Delhi-42\",\"REVOS<br>C W 53 Sanjay Ghandi Transport Nagar\",\"REVOS<br>4 A Main Bawaba Road  Near Under Pass samaypur Badhli\",\"REVOS<br>Main Road Near Buradi Road Near Buradi Police Station\",\"REVOS<br>A 1 Block Main Sant Nagar Road Near Dadoda Dariy Main Road Buradi\",\"REVOS<br>Gram Sabha Colony Village Naya Bans Delhi\",\"REVOS<br>h.no-106, Ext-3 , Nangloi Delhi\",\"REVOS<br>B-5/35 ,sector-4 rohini\",\"REVOS<br>A-101 GALI NO. 5 RAMESH TYAGI COLONY JHARODA MAJRA PART-II BURARI\",\"REVOS<br>A-101 GALI NO. 5 RAMESH TYAGI COLONY JHARODA MAJRA PART-II BURARI\",\"REVOS<br>Shop No 816 Seed Farm Road Alipur\",\"REVOS<br>Main Gali Pandit Enclave\",\"REVOS<br>B5/165 Sector 3 Rohini\",\"REVOS<br>W-198 P V C Market,Jwala Puri Near Sai Mandir Guru Harkishan Nagar Paschim Vihar\",\"REVOS<br>Flat No 21 BLK A-1 Pkt-4  Sector-34 Rohini\",\"REVOS<br>Sec. 29 Rohini\",\"REVOS<br>Plot No 31 Sec 13 Rohini\",\"REVOS<br>shri Rama dhram KAnta \",\"REVOS<br>BC BLOCK EAST SHALIMAR BAGH\",\"REVOS<br>Plot No 48 SECTOR 13\",\"REVOS<br>METRO PILLAR NO 432 NANGLOI\",\"REVOS<br>39/7 , main Bawana road samaypur Delhi\",\"REVOS<br>A 1 Mahendro Enclave\",\"REVOS<br>A1 Mahindra Enclave\",\"REVOS<br>Best Enclave Pitampura\",\"REVOS<br>A 200 Shop No 1majlish Park\",\"REVOS<br>Shop No.34 Jagdamba Market Near Hero Showroom Rithala\",\"REVOS<br>Gopal Chowk Samta Vihar\",\"REVOS<br>House No 7 Gali No 8 Shalimar Village Max Hospital\",\"REVOS<br>House Number 7 Gali Number 8 Shalimar Village Max Hospital Nearby\",\"REVOS<br>Shop No,2, Shakti Complax Main G T Karnal Road Behind Libas Pur\",\"REVOS<br>Block 8A/151, Aaskar Public School Turn Koshik Enclave 60 Futa Road Saroop Nagar Burari\",\"REVOS<br>Alipur\",\"REVOS<br>Udyog Nagar\",\"REVOS<br>Gali No 1 Pragati Enlceve\",\"REVOS<br>Burari\",\"REVOS<br>plot no.1/1 agroha kunj,sector-13,rohini delhi\",\"REVOS<br>Sector 13\",\"REVOS<br>Popular Apartment Sector13 Rohini\",\"REVOS<br>Sec Ye or- 9, Rohini\",\"REVOS<br>Sector-9, Rohini, Delhi-110085\",\"REVOS<br>Ground Floor Khasra No_34/22, Village Samayapur\",\"REVOS<br>C_1/106, Sector 11,Rohini\",\"REVOS<br>Pepsi road Burari\",\"REVOS<br>h.no-106, ext-3 , scooter market\",\"REVOS<br>F7A/28 SECTOR-16 ROHINI\",\"REVOS<br>GT Karnal road azadpur Delhi 110009\",\"REVOS<br>sultan puri\",\"REVOS<br>F 87 sector 2 Bawana industrial area Delhi\",\"REVOS<br>ashok vihar residents suvidha samiti\",\"REVOS<br>ASHOK VIHAR RESIDENTS SUVIDHA SAMITI\",\"REVOS<br>Rani Khera Near Bus Stand Kanjhawala\",\"REVOS<br>Rohini\",\"REVOS<br>ROHINI SECTOR 26\",\"REVOS<br>Sector 14 Rohini Delhi\",\"REVOS<br>flat no 13 sec 15 rohinj\",\"REVOS<br>A 5 dsidc Udyog Nagar nr metro pillar 334 delhi 41\",\"REVOS<br>j24 prerna chok kanhaiya nagar\",\"REVOS<br>j24 prerna chowk kanhaiya nagar\",\"REVOS<br>plot no NM64 pkt N sec 3 dsiidc Bawana delhi\",\"REVOS<br>C-10/54,Shop No 1 Sector -15 ,Rohini\",\"REVOS<br>C195 Divya Jyoti apartment sector 19 Rohini Delhi\",\"REVOS<br>Shop No 1 Kanjhawala Road Near Shamshan Ghat ,Sukhbir Nagar\",\"REVOS<br>C1 main kanjhawal road Ram vihar\",\"E-Fill Electric<br>27/1, Rajapur, Pocket 27/1, Sector 9, Rohini\",\"E-Fill Electric<br>D-99, Sector-5, DISIDC Bawana Industrial Area, Delhi-110039\",\"E-Fill Electric<br>Plot No.4, Opp Kanishka Farm, Near Rama Vihar Bus stand Main Kanjhawala Raod\",\"E-Fill Electric<br>E-127, near RYAN SECHOOL, Prahlad Vihar, Sector 25, Rohini\",\"E-Fill Electric<br>AW-115, Sanjay Gandhi Transport Nagar, Delhi -110042\",\"E-Fill Electric<br>C 14, Plot No 65, Sma, Jahangirpuri Industrial Area, Azadpur\",\"E-Fill Electric<br>A-38, DSIIDC, Bawana Industrial Area, Sec-5\",\"E-Fill Electric<br>Akash Ganga Apartment, Pocket-4, Rohini Sector-24\",\"HP Pitampura DC Charger-1<br>HP PETROL PUMP - AUTO CARE CENTRE, Pitam Pura, New Delhi\",\"Singh Service Station<br>GT Karnal Road DELHI-110075\",\"ESI HOSPITAL TOWARDS DND- AC001 10 KW<br>ESI HOSPITAL TOWARDS DND, New Delhi, Delhi 110015\"],\"type\":\"scattermapbox\"}],                        {\"template\":{\"data\":{\"histogram2dcontour\":[{\"type\":\"histogram2dcontour\",\"colorbar\":{\"outlinewidth\":0,\"ticks\":\"\"},\"colorscale\":[[0.0,\"#0d0887\"],[0.1111111111111111,\"#46039f\"],[0.2222222222222222,\"#7201a8\"],[0.3333333333333333,\"#9c179e\"],[0.4444444444444444,\"#bd3786\"],[0.5555555555555556,\"#d8576b\"],[0.6666666666666666,\"#ed7953\"],[0.7777777777777778,\"#fb9f3a\"],[0.8888888888888888,\"#fdca26\"],[1.0,\"#f0f921\"]]}],\"choropleth\":[{\"type\":\"choropleth\",\"colorbar\":{\"outlinewidth\":0,\"ticks\":\"\"}}],\"histogram2d\":[{\"type\":\"histogram2d\",\"colorbar\":{\"outlinewidth\":0,\"ticks\":\"\"},\"colorscale\":[[0.0,\"#0d0887\"],[0.1111111111111111,\"#46039f\"],[0.2222222222222222,\"#7201a8\"],[0.3333333333333333,\"#9c179e\"],[0.4444444444444444,\"#bd3786\"],[0.5555555555555556,\"#d8576b\"],[0.6666666666666666,\"#ed7953\"],[0.7777777777777778,\"#fb9f3a\"],[0.8888888888888888,\"#fdca26\"],[1.0,\"#f0f921\"]]}],\"heatmap\":[{\"type\":\"heatmap\",\"colorbar\":{\"outlinewidth\":0,\"ticks\":\"\"},\"colorscale\":[[0.0,\"#0d0887\"],[0.1111111111111111,\"#46039f\"],[0.2222222222222222,\"#7201a8\"],[0.3333333333333333,\"#9c179e\"],[0.4444444444444444,\"#bd3786\"],[0.5555555555555556,\"#d8576b\"],[0.6666666666666666,\"#ed7953\"],[0.7777777777777778,\"#fb9f3a\"],[0.8888888888888888,\"#fdca26\"],[1.0,\"#f0f921\"]]}],\"heatmapgl\":[{\"type\":\"heatmapgl\",\"colorbar\":{\"outlinewidth\":0,\"ticks\":\"\"},\"colorscale\":[[0.0,\"#0d0887\"],[0.1111111111111111,\"#46039f\"],[0.2222222222222222,\"#7201a8\"],[0.3333333333333333,\"#9c179e\"],[0.4444444444444444,\"#bd3786\"],[0.5555555555555556,\"#d8576b\"],[0.6666666666666666,\"#ed7953\"],[0.7777777777777778,\"#fb9f3a\"],[0.8888888888888888,\"#fdca26\"],[1.0,\"#f0f921\"]]}],\"contourcarpet\":[{\"type\":\"contourcarpet\",\"colorbar\":{\"outlinewidth\":0,\"ticks\":\"\"}}],\"contour\":[{\"type\":\"contour\",\"colorbar\":{\"outlinewidth\":0,\"ticks\":\"\"},\"colorscale\":[[0.0,\"#0d0887\"],[0.1111111111111111,\"#46039f\"],[0.2222222222222222,\"#7201a8\"],[0.3333333333333333,\"#9c179e\"],[0.4444444444444444,\"#bd3786\"],[0.5555555555555556,\"#d8576b\"],[0.6666666666666666,\"#ed7953\"],[0.7777777777777778,\"#fb9f3a\"],[0.8888888888888888,\"#fdca26\"],[1.0,\"#f0f921\"]]}],\"surface\":[{\"type\":\"surface\",\"colorbar\":{\"outlinewidth\":0,\"ticks\":\"\"},\"colorscale\":[[0.0,\"#0d0887\"],[0.1111111111111111,\"#46039f\"],[0.2222222222222222,\"#7201a8\"],[0.3333333333333333,\"#9c179e\"],[0.4444444444444444,\"#bd3786\"],[0.5555555555555556,\"#d8576b\"],[0.6666666666666666,\"#ed7953\"],[0.7777777777777778,\"#fb9f3a\"],[0.8888888888888888,\"#fdca26\"],[1.0,\"#f0f921\"]]}],\"mesh3d\":[{\"type\":\"mesh3d\",\"colorbar\":{\"outlinewidth\":0,\"ticks\":\"\"}}],\"scatter\":[{\"fillpattern\":{\"fillmode\":\"overlay\",\"size\":10,\"solidity\":0.2},\"type\":\"scatter\"}],\"parcoords\":[{\"type\":\"parcoords\",\"line\":{\"colorbar\":{\"outlinewidth\":0,\"ticks\":\"\"}}}],\"scatterpolargl\":[{\"type\":\"scatterpolargl\",\"marker\":{\"colorbar\":{\"outlinewidth\":0,\"ticks\":\"\"}}}],\"bar\":[{\"error_x\":{\"color\":\"#2a3f5f\"},\"error_y\":{\"color\":\"#2a3f5f\"},\"marker\":{\"line\":{\"color\":\"#E5ECF6\",\"width\":0.5},\"pattern\":{\"fillmode\":\"overlay\",\"size\":10,\"solidity\":0.2}},\"type\":\"bar\"}],\"scattergeo\":[{\"type\":\"scattergeo\",\"marker\":{\"colorbar\":{\"outlinewidth\":0,\"ticks\":\"\"}}}],\"scatterpolar\":[{\"type\":\"scatterpolar\",\"marker\":{\"colorbar\":{\"outlinewidth\":0,\"ticks\":\"\"}}}],\"histogram\":[{\"marker\":{\"pattern\":{\"fillmode\":\"overlay\",\"size\":10,\"solidity\":0.2}},\"type\":\"histogram\"}],\"scattergl\":[{\"type\":\"scattergl\",\"marker\":{\"colorbar\":{\"outlinewidth\":0,\"ticks\":\"\"}}}],\"scatter3d\":[{\"type\":\"scatter3d\",\"line\":{\"colorbar\":{\"outlinewidth\":0,\"ticks\":\"\"}},\"marker\":{\"colorbar\":{\"outlinewidth\":0,\"ticks\":\"\"}}}],\"scattermapbox\":[{\"type\":\"scattermapbox\",\"marker\":{\"colorbar\":{\"outlinewidth\":0,\"ticks\":\"\"}}}],\"scatterternary\":[{\"type\":\"scatterternary\",\"marker\":{\"colorbar\":{\"outlinewidth\":0,\"ticks\":\"\"}}}],\"scattercarpet\":[{\"type\":\"scattercarpet\",\"marker\":{\"colorbar\":{\"outlinewidth\":0,\"ticks\":\"\"}}}],\"carpet\":[{\"aaxis\":{\"endlinecolor\":\"#2a3f5f\",\"gridcolor\":\"white\",\"linecolor\":\"white\",\"minorgridcolor\":\"white\",\"startlinecolor\":\"#2a3f5f\"},\"baxis\":{\"endlinecolor\":\"#2a3f5f\",\"gridcolor\":\"white\",\"linecolor\":\"white\",\"minorgridcolor\":\"white\",\"startlinecolor\":\"#2a3f5f\"},\"type\":\"carpet\"}],\"table\":[{\"cells\":{\"fill\":{\"color\":\"#EBF0F8\"},\"line\":{\"color\":\"white\"}},\"header\":{\"fill\":{\"color\":\"#C8D4E3\"},\"line\":{\"color\":\"white\"}},\"type\":\"table\"}],\"barpolar\":[{\"marker\":{\"line\":{\"color\":\"#E5ECF6\",\"width\":0.5},\"pattern\":{\"fillmode\":\"overlay\",\"size\":10,\"solidity\":0.2}},\"type\":\"barpolar\"}],\"pie\":[{\"automargin\":true,\"type\":\"pie\"}]},\"layout\":{\"autotypenumbers\":\"strict\",\"colorway\":[\"#636efa\",\"#EF553B\",\"#00cc96\",\"#ab63fa\",\"#FFA15A\",\"#19d3f3\",\"#FF6692\",\"#B6E880\",\"#FF97FF\",\"#FECB52\"],\"font\":{\"color\":\"#2a3f5f\"},\"hovermode\":\"closest\",\"hoverlabel\":{\"align\":\"left\"},\"paper_bgcolor\":\"white\",\"plot_bgcolor\":\"#E5ECF6\",\"polar\":{\"bgcolor\":\"#E5ECF6\",\"angularaxis\":{\"gridcolor\":\"white\",\"linecolor\":\"white\",\"ticks\":\"\"},\"radialaxis\":{\"gridcolor\":\"white\",\"linecolor\":\"white\",\"ticks\":\"\"}},\"ternary\":{\"bgcolor\":\"#E5ECF6\",\"aaxis\":{\"gridcolor\":\"white\",\"linecolor\":\"white\",\"ticks\":\"\"},\"baxis\":{\"gridcolor\":\"white\",\"linecolor\":\"white\",\"ticks\":\"\"},\"caxis\":{\"gridcolor\":\"white\",\"linecolor\":\"white\",\"ticks\":\"\"}},\"coloraxis\":{\"colorbar\":{\"outlinewidth\":0,\"ticks\":\"\"}},\"colorscale\":{\"sequential\":[[0.0,\"#0d0887\"],[0.1111111111111111,\"#46039f\"],[0.2222222222222222,\"#7201a8\"],[0.3333333333333333,\"#9c179e\"],[0.4444444444444444,\"#bd3786\"],[0.5555555555555556,\"#d8576b\"],[0.6666666666666666,\"#ed7953\"],[0.7777777777777778,\"#fb9f3a\"],[0.8888888888888888,\"#fdca26\"],[1.0,\"#f0f921\"]],\"sequentialminus\":[[0.0,\"#0d0887\"],[0.1111111111111111,\"#46039f\"],[0.2222222222222222,\"#7201a8\"],[0.3333333333333333,\"#9c179e\"],[0.4444444444444444,\"#bd3786\"],[0.5555555555555556,\"#d8576b\"],[0.6666666666666666,\"#ed7953\"],[0.7777777777777778,\"#fb9f3a\"],[0.8888888888888888,\"#fdca26\"],[1.0,\"#f0f921\"]],\"diverging\":[[0,\"#8e0152\"],[0.1,\"#c51b7d\"],[0.2,\"#de77ae\"],[0.3,\"#f1b6da\"],[0.4,\"#fde0ef\"],[0.5,\"#f7f7f7\"],[0.6,\"#e6f5d0\"],[0.7,\"#b8e186\"],[0.8,\"#7fbc41\"],[0.9,\"#4d9221\"],[1,\"#276419\"]]},\"xaxis\":{\"gridcolor\":\"white\",\"linecolor\":\"white\",\"ticks\":\"\",\"title\":{\"standoff\":15},\"zerolinecolor\":\"white\",\"automargin\":true,\"zerolinewidth\":2},\"yaxis\":{\"gridcolor\":\"white\",\"linecolor\":\"white\",\"ticks\":\"\",\"title\":{\"standoff\":15},\"zerolinecolor\":\"white\",\"automargin\":true,\"zerolinewidth\":2},\"scene\":{\"xaxis\":{\"backgroundcolor\":\"#E5ECF6\",\"gridcolor\":\"white\",\"linecolor\":\"white\",\"showbackground\":true,\"ticks\":\"\",\"zerolinecolor\":\"white\",\"gridwidth\":2},\"yaxis\":{\"backgroundcolor\":\"#E5ECF6\",\"gridcolor\":\"white\",\"linecolor\":\"white\",\"showbackground\":true,\"ticks\":\"\",\"zerolinecolor\":\"white\",\"gridwidth\":2},\"zaxis\":{\"backgroundcolor\":\"#E5ECF6\",\"gridcolor\":\"white\",\"linecolor\":\"white\",\"showbackground\":true,\"ticks\":\"\",\"zerolinecolor\":\"white\",\"gridwidth\":2}},\"shapedefaults\":{\"line\":{\"color\":\"#2a3f5f\"}},\"annotationdefaults\":{\"arrowcolor\":\"#2a3f5f\",\"arrowhead\":0,\"arrowwidth\":1},\"geo\":{\"bgcolor\":\"white\",\"landcolor\":\"#E5ECF6\",\"subunitcolor\":\"white\",\"showland\":true,\"showlakes\":true,\"lakecolor\":\"white\"},\"title\":{\"x\":0.05},\"mapbox\":{\"style\":\"light\"}}},\"mapbox\":{\"center\":{\"lat\":28.748103,\"lon\":77.112122},\"style\":\"open-street-map\",\"zoom\":12},\"title\":{\"text\":\"Map of Chosen Stations and Reference Point\",\"x\":0.5},\"height\":600},                        {\"responsive\": true}                    ).then(function(){\n",
       "                            \n",
       "var gd = document.getElementById('1c4cc261-f339-47a9-b104-4c67548543ec');\n",
       "var x = new MutationObserver(function (mutations, observer) {{\n",
       "        var display = window.getComputedStyle(gd).display;\n",
       "        if (!display || display === 'none') {{\n",
       "            console.log([gd, 'removed!']);\n",
       "            Plotly.purge(gd);\n",
       "            observer.disconnect();\n",
       "        }}\n",
       "}});\n",
       "\n",
       "// Listen for the removal of the full notebook cells\n",
       "var notebookContainer = gd.closest('#notebook-container');\n",
       "if (notebookContainer) {{\n",
       "    x.observe(notebookContainer, {childList: true});\n",
       "}}\n",
       "\n",
       "// Listen for the clearing of the current output cell\n",
       "var outputEl = gd.closest('.output');\n",
       "if (outputEl) {{\n",
       "    x.observe(outputEl, {childList: true});\n",
       "}}\n",
       "\n",
       "                        })                };                });            </script>        </div>"
      ]
     },
     "metadata": {},
     "output_type": "display_data"
    }
   ],
   "source": [
    "import plotly.graph_objects as go\n",
    "\n",
    "# Reference point coordinates\n",
    "reference_point = {\"latitude\": reference_point[0], \"longitude\": reference_point[1], \"name\": \"Reference Point\"}\n",
    "\n",
    "# Create the map figure\n",
    "fig = go.Figure()\n",
    "\n",
    "# Add the reference point as a larger marker\n",
    "fig.add_trace(go.Scattermapbox(\n",
    "    lat=[reference_point['latitude']],\n",
    "    lon=[reference_point['longitude']],\n",
    "    mode='markers',\n",
    "    marker=go.scattermapbox.Marker(\n",
    "        size=15,\n",
    "        color='red'  \n",
    "    ),\n",
    "    name=reference_point['name'],             # legend box\n",
    "    hoverinfo='text',\n",
    "    text=f\"<b>{reference_point['name']}</b>\"  # Tooltip text\n",
    "))\n",
    "\n",
    "# Add the chosen stations as smaller markers\n",
    "fig.add_trace(go.Scattermapbox(\n",
    "    lat=filtered_combined_df['Latitude'], \n",
    "    lon=filtered_combined_df['Longitude'],  \n",
    "    mode='markers',\n",
    "    marker=go.scattermapbox.Marker(\n",
    "        size=10, \n",
    "        color='blue'\n",
    "    ),\n",
    "    name=\"Stations\",                          # Legend name\n",
    "    hoverinfo='text',\n",
    "    text=filtered_combined_df['Name'] + \"<br>\" + filtered_combined_df['Address']  # Tooltip text\n",
    "))\n",
    "\n",
    "# Update the layout for the map\n",
    "fig.update_layout(\n",
    "    mapbox=dict(\n",
    "        style=\"open-street-map\",\n",
    "        center=dict(lat=reference_point['latitude'], lon=reference_point['longitude']),\n",
    "        zoom=12\n",
    "    ),\n",
    "    title=\"Map of Chosen Stations and Reference Point\",\n",
    "    title_x=0.5,                             # Title establieshment\n",
    "    height=600\n",
    ")\n",
    "\n",
    "\n",
    "fig.show()"
   ]
  },
  {
   "cell_type": "markdown",
   "id": "53e74282",
   "metadata": {},
   "source": [
    "#### Build the Model"
   ]
  },
  {
   "cell_type": "code",
   "execution_count": 38,
   "id": "b14064e8",
   "metadata": {},
   "outputs": [
    {
     "name": "stdout",
     "output_type": "stream",
     "text": [
      "\n",
      "Top 5 Cheapest Stations in order:\n"
     ]
    },
    {
     "data": {
      "text/html": [
       "<div>\n",
       "<style scoped>\n",
       "    .dataframe tbody tr th:only-of-type {\n",
       "        vertical-align: middle;\n",
       "    }\n",
       "\n",
       "    .dataframe tbody tr th {\n",
       "        vertical-align: top;\n",
       "    }\n",
       "\n",
       "    .dataframe thead th {\n",
       "        text-align: right;\n",
       "    }\n",
       "</style>\n",
       "<table border=\"1\" class=\"dataframe\">\n",
       "  <thead>\n",
       "    <tr style=\"text-align: right;\">\n",
       "      <th></th>\n",
       "      <th>Name</th>\n",
       "      <th>Address</th>\n",
       "      <th>Latitude</th>\n",
       "      <th>Longitude</th>\n",
       "      <th>Total Cost</th>\n",
       "      <th>Distance</th>\n",
       "      <th>Cost_per_Unit</th>\n",
       "      <th>Available</th>\n",
       "    </tr>\n",
       "  </thead>\n",
       "  <tbody>\n",
       "    <tr>\n",
       "      <th>1</th>\n",
       "      <td>REVOS</td>\n",
       "      <td>P-1/52a Budh Vihar Phase-1</td>\n",
       "      <td>28.710874</td>\n",
       "      <td>77.084680</td>\n",
       "      <td>1032.0</td>\n",
       "      <td>4.92</td>\n",
       "      <td>2.00</td>\n",
       "      <td>1</td>\n",
       "    </tr>\n",
       "    <tr>\n",
       "      <th>2</th>\n",
       "      <td>Singh Service Station</td>\n",
       "      <td>GT Karnal Road DELHI-110075</td>\n",
       "      <td>28.691400</td>\n",
       "      <td>77.189300</td>\n",
       "      <td>1535.5</td>\n",
       "      <td>9.82</td>\n",
       "      <td>2.05</td>\n",
       "      <td>2</td>\n",
       "    </tr>\n",
       "    <tr>\n",
       "      <th>3</th>\n",
       "      <td>REVOS</td>\n",
       "      <td>473, Britannia Rd, Tri Nagar, Delhi, 110034zypp</td>\n",
       "      <td>28.680721</td>\n",
       "      <td>77.155315</td>\n",
       "      <td>2208.0</td>\n",
       "      <td>8.58</td>\n",
       "      <td>5.00</td>\n",
       "      <td>1</td>\n",
       "    </tr>\n",
       "    <tr>\n",
       "      <th>4</th>\n",
       "      <td>REVOS</td>\n",
       "      <td>Kh.No 65, Balimiki Mandir ke samne</td>\n",
       "      <td>28.744759</td>\n",
       "      <td>77.114293</td>\n",
       "      <td>2743.0</td>\n",
       "      <td>0.43</td>\n",
       "      <td>10.00</td>\n",
       "      <td>1</td>\n",
       "    </tr>\n",
       "    <tr>\n",
       "      <th>5</th>\n",
       "      <td>REVOS</td>\n",
       "      <td>B-4/38 ground floor sector-17 Rohini</td>\n",
       "      <td>28.744198</td>\n",
       "      <td>77.120257</td>\n",
       "      <td>2790.0</td>\n",
       "      <td>0.90</td>\n",
       "      <td>10.00</td>\n",
       "      <td>1</td>\n",
       "    </tr>\n",
       "  </tbody>\n",
       "</table>\n",
       "</div>"
      ],
      "text/plain": [
       "                    Name                                          Address  \\\n",
       "1                  REVOS                       P-1/52a Budh Vihar Phase-1   \n",
       "2  Singh Service Station                      GT Karnal Road DELHI-110075   \n",
       "3                  REVOS  473, Britannia Rd, Tri Nagar, Delhi, 110034zypp   \n",
       "4                  REVOS              Kh.No 65, Balimiki Mandir ke samne    \n",
       "5                  REVOS             B-4/38 ground floor sector-17 Rohini   \n",
       "\n",
       "    Latitude  Longitude  Total Cost  Distance  Cost_per_Unit  Available  \n",
       "1  28.710874  77.084680      1032.0      4.92           2.00          1  \n",
       "2  28.691400  77.189300      1535.5      9.82           2.05          2  \n",
       "3  28.680721  77.155315      2208.0      8.58           5.00          1  \n",
       "4  28.744759  77.114293      2743.0      0.43          10.00          1  \n",
       "5  28.744198  77.120257      2790.0      0.90          10.00          1  "
      ]
     },
     "execution_count": 38,
     "metadata": {},
     "output_type": "execute_result"
    }
   ],
   "source": [
    "import heapq\n",
    "\n",
    "# Weight for distance (Euro)\n",
    "t = 100\n",
    "\n",
    "# Calculate the total cost dynamically\n",
    "filtered_combined_df['Total Cost'] = (Required_energy * filtered_combined_df['Cost_per_Unit']) + (t * filtered_combined_df['Distance'])\n",
    "\n",
    "# Check required columns and find the top 5 cheapest stations\n",
    "if 'Total Cost' in filtered_combined_df.columns:\n",
    "    top_5 = heapq.nsmallest(\n",
    "        5,\n",
    "        filtered_combined_df[['Name', 'Address', 'Latitude', 'Longitude', 'Total Cost', 'Distance', 'Cost_per_Unit', 'Available']].itertuples(index=False),\n",
    "        key=lambda x: x[4]                   # Index 4 corresponds to 'Total Cost'\n",
    "    )\n",
    "\n",
    "    # Convert the result to a DataFrame\n",
    "    cheapest_stations_df = pd.DataFrame(top_5, columns=['Name', 'Address', 'Latitude', 'Longitude', 'Total Cost', 'Distance', 'Cost_per_Unit', 'Available'])\n",
    "\n",
    "    # Reset the index to start from 1\n",
    "    cheapest_stations_df.index = range(1, len(cheapest_stations_df) + 1)\n",
    "    \n",
    "    \n",
    "    # Display the results\n",
    "    print(\"\\nTop 5 Cheapest Stations in order:\")\n",
    "\n",
    "# Display the resulting DataFrame\n",
    "cheapest_stations_df.head()"
   ]
  },
  {
   "cell_type": "markdown",
   "id": "21f8c694",
   "metadata": {},
   "source": [
    "#### Display 5 Best Stations on Map"
   ]
  },
  {
   "cell_type": "code",
   "execution_count": 39,
   "id": "fca573b8",
   "metadata": {
    "scrolled": false
   },
   "outputs": [
    {
     "data": {
      "application/vnd.plotly.v1+json": {
       "config": {
        "plotlyServerURL": "https://plot.ly"
       },
       "data": [
        {
         "lat": [
          28.748103
         ],
         "lon": [
          77.112122
         ],
         "marker": {
          "color": "red",
          "size": 15
         },
         "mode": "markers+text",
         "name": "Reference Point",
         "text": [
          "Reference Point"
         ],
         "textposition": "top right",
         "type": "scattermapbox"
        },
        {
         "lat": [
          28.71087357635634,
          28.6914,
          28.6807207,
          28.7447588758019,
          28.74419829200304
         ],
         "lon": [
          77.08468046039343,
          77.1893,
          77.1553153,
          77.1142930537462,
          77.12025661021471
         ],
         "marker": {
          "color": "blue",
          "size": 12
         },
         "mode": "markers+text",
         "name": "Cheapest Stations",
         "text": [
          "Name: REVOS<br>Address: P-1/52a Budh Vihar Phase-1<br>Distance: 4.92 km<br>Cost per Kwh: 2.0 <br>Total Cost: 1032.0",
          "Name: Singh Service Station<br>Address: GT Karnal Road DELHI-110075<br>Distance: 9.82 km<br>Cost per Kwh: 2.05 <br>Total Cost: 1535.5",
          "Name: REVOS<br>Address: 473, Britannia Rd, Tri Nagar, Delhi, 110034zypp<br>Distance: 8.58 km<br>Cost per Kwh: 5.0 <br>Total Cost: 2208.0",
          "Name: REVOS<br>Address: Kh.No 65, Balimiki Mandir ke samne <br>Distance: 0.43 km<br>Cost per Kwh: 10.0 <br>Total Cost: 2743.0",
          "Name: REVOS<br>Address: B-4/38 ground floor sector-17 Rohini<br>Distance: 0.9 km<br>Cost per Kwh: 10.0 <br>Total Cost: 2790.0"
         ],
         "textposition": "bottom right",
         "type": "scattermapbox"
        }
       ],
       "layout": {
        "height": 600,
        "mapbox": {
         "center": {
          "lat": 28.714390288832256,
          "lon": 77.13276908487087
         },
         "style": "open-street-map",
         "zoom": 12
        },
        "template": {
         "data": {
          "bar": [
           {
            "error_x": {
             "color": "#2a3f5f"
            },
            "error_y": {
             "color": "#2a3f5f"
            },
            "marker": {
             "line": {
              "color": "#E5ECF6",
              "width": 0.5
             },
             "pattern": {
              "fillmode": "overlay",
              "size": 10,
              "solidity": 0.2
             }
            },
            "type": "bar"
           }
          ],
          "barpolar": [
           {
            "marker": {
             "line": {
              "color": "#E5ECF6",
              "width": 0.5
             },
             "pattern": {
              "fillmode": "overlay",
              "size": 10,
              "solidity": 0.2
             }
            },
            "type": "barpolar"
           }
          ],
          "carpet": [
           {
            "aaxis": {
             "endlinecolor": "#2a3f5f",
             "gridcolor": "white",
             "linecolor": "white",
             "minorgridcolor": "white",
             "startlinecolor": "#2a3f5f"
            },
            "baxis": {
             "endlinecolor": "#2a3f5f",
             "gridcolor": "white",
             "linecolor": "white",
             "minorgridcolor": "white",
             "startlinecolor": "#2a3f5f"
            },
            "type": "carpet"
           }
          ],
          "choropleth": [
           {
            "colorbar": {
             "outlinewidth": 0,
             "ticks": ""
            },
            "type": "choropleth"
           }
          ],
          "contour": [
           {
            "colorbar": {
             "outlinewidth": 0,
             "ticks": ""
            },
            "colorscale": [
             [
              0,
              "#0d0887"
             ],
             [
              0.1111111111111111,
              "#46039f"
             ],
             [
              0.2222222222222222,
              "#7201a8"
             ],
             [
              0.3333333333333333,
              "#9c179e"
             ],
             [
              0.4444444444444444,
              "#bd3786"
             ],
             [
              0.5555555555555556,
              "#d8576b"
             ],
             [
              0.6666666666666666,
              "#ed7953"
             ],
             [
              0.7777777777777778,
              "#fb9f3a"
             ],
             [
              0.8888888888888888,
              "#fdca26"
             ],
             [
              1,
              "#f0f921"
             ]
            ],
            "type": "contour"
           }
          ],
          "contourcarpet": [
           {
            "colorbar": {
             "outlinewidth": 0,
             "ticks": ""
            },
            "type": "contourcarpet"
           }
          ],
          "heatmap": [
           {
            "colorbar": {
             "outlinewidth": 0,
             "ticks": ""
            },
            "colorscale": [
             [
              0,
              "#0d0887"
             ],
             [
              0.1111111111111111,
              "#46039f"
             ],
             [
              0.2222222222222222,
              "#7201a8"
             ],
             [
              0.3333333333333333,
              "#9c179e"
             ],
             [
              0.4444444444444444,
              "#bd3786"
             ],
             [
              0.5555555555555556,
              "#d8576b"
             ],
             [
              0.6666666666666666,
              "#ed7953"
             ],
             [
              0.7777777777777778,
              "#fb9f3a"
             ],
             [
              0.8888888888888888,
              "#fdca26"
             ],
             [
              1,
              "#f0f921"
             ]
            ],
            "type": "heatmap"
           }
          ],
          "heatmapgl": [
           {
            "colorbar": {
             "outlinewidth": 0,
             "ticks": ""
            },
            "colorscale": [
             [
              0,
              "#0d0887"
             ],
             [
              0.1111111111111111,
              "#46039f"
             ],
             [
              0.2222222222222222,
              "#7201a8"
             ],
             [
              0.3333333333333333,
              "#9c179e"
             ],
             [
              0.4444444444444444,
              "#bd3786"
             ],
             [
              0.5555555555555556,
              "#d8576b"
             ],
             [
              0.6666666666666666,
              "#ed7953"
             ],
             [
              0.7777777777777778,
              "#fb9f3a"
             ],
             [
              0.8888888888888888,
              "#fdca26"
             ],
             [
              1,
              "#f0f921"
             ]
            ],
            "type": "heatmapgl"
           }
          ],
          "histogram": [
           {
            "marker": {
             "pattern": {
              "fillmode": "overlay",
              "size": 10,
              "solidity": 0.2
             }
            },
            "type": "histogram"
           }
          ],
          "histogram2d": [
           {
            "colorbar": {
             "outlinewidth": 0,
             "ticks": ""
            },
            "colorscale": [
             [
              0,
              "#0d0887"
             ],
             [
              0.1111111111111111,
              "#46039f"
             ],
             [
              0.2222222222222222,
              "#7201a8"
             ],
             [
              0.3333333333333333,
              "#9c179e"
             ],
             [
              0.4444444444444444,
              "#bd3786"
             ],
             [
              0.5555555555555556,
              "#d8576b"
             ],
             [
              0.6666666666666666,
              "#ed7953"
             ],
             [
              0.7777777777777778,
              "#fb9f3a"
             ],
             [
              0.8888888888888888,
              "#fdca26"
             ],
             [
              1,
              "#f0f921"
             ]
            ],
            "type": "histogram2d"
           }
          ],
          "histogram2dcontour": [
           {
            "colorbar": {
             "outlinewidth": 0,
             "ticks": ""
            },
            "colorscale": [
             [
              0,
              "#0d0887"
             ],
             [
              0.1111111111111111,
              "#46039f"
             ],
             [
              0.2222222222222222,
              "#7201a8"
             ],
             [
              0.3333333333333333,
              "#9c179e"
             ],
             [
              0.4444444444444444,
              "#bd3786"
             ],
             [
              0.5555555555555556,
              "#d8576b"
             ],
             [
              0.6666666666666666,
              "#ed7953"
             ],
             [
              0.7777777777777778,
              "#fb9f3a"
             ],
             [
              0.8888888888888888,
              "#fdca26"
             ],
             [
              1,
              "#f0f921"
             ]
            ],
            "type": "histogram2dcontour"
           }
          ],
          "mesh3d": [
           {
            "colorbar": {
             "outlinewidth": 0,
             "ticks": ""
            },
            "type": "mesh3d"
           }
          ],
          "parcoords": [
           {
            "line": {
             "colorbar": {
              "outlinewidth": 0,
              "ticks": ""
             }
            },
            "type": "parcoords"
           }
          ],
          "pie": [
           {
            "automargin": true,
            "type": "pie"
           }
          ],
          "scatter": [
           {
            "fillpattern": {
             "fillmode": "overlay",
             "size": 10,
             "solidity": 0.2
            },
            "type": "scatter"
           }
          ],
          "scatter3d": [
           {
            "line": {
             "colorbar": {
              "outlinewidth": 0,
              "ticks": ""
             }
            },
            "marker": {
             "colorbar": {
              "outlinewidth": 0,
              "ticks": ""
             }
            },
            "type": "scatter3d"
           }
          ],
          "scattercarpet": [
           {
            "marker": {
             "colorbar": {
              "outlinewidth": 0,
              "ticks": ""
             }
            },
            "type": "scattercarpet"
           }
          ],
          "scattergeo": [
           {
            "marker": {
             "colorbar": {
              "outlinewidth": 0,
              "ticks": ""
             }
            },
            "type": "scattergeo"
           }
          ],
          "scattergl": [
           {
            "marker": {
             "colorbar": {
              "outlinewidth": 0,
              "ticks": ""
             }
            },
            "type": "scattergl"
           }
          ],
          "scattermapbox": [
           {
            "marker": {
             "colorbar": {
              "outlinewidth": 0,
              "ticks": ""
             }
            },
            "type": "scattermapbox"
           }
          ],
          "scatterpolar": [
           {
            "marker": {
             "colorbar": {
              "outlinewidth": 0,
              "ticks": ""
             }
            },
            "type": "scatterpolar"
           }
          ],
          "scatterpolargl": [
           {
            "marker": {
             "colorbar": {
              "outlinewidth": 0,
              "ticks": ""
             }
            },
            "type": "scatterpolargl"
           }
          ],
          "scatterternary": [
           {
            "marker": {
             "colorbar": {
              "outlinewidth": 0,
              "ticks": ""
             }
            },
            "type": "scatterternary"
           }
          ],
          "surface": [
           {
            "colorbar": {
             "outlinewidth": 0,
             "ticks": ""
            },
            "colorscale": [
             [
              0,
              "#0d0887"
             ],
             [
              0.1111111111111111,
              "#46039f"
             ],
             [
              0.2222222222222222,
              "#7201a8"
             ],
             [
              0.3333333333333333,
              "#9c179e"
             ],
             [
              0.4444444444444444,
              "#bd3786"
             ],
             [
              0.5555555555555556,
              "#d8576b"
             ],
             [
              0.6666666666666666,
              "#ed7953"
             ],
             [
              0.7777777777777778,
              "#fb9f3a"
             ],
             [
              0.8888888888888888,
              "#fdca26"
             ],
             [
              1,
              "#f0f921"
             ]
            ],
            "type": "surface"
           }
          ],
          "table": [
           {
            "cells": {
             "fill": {
              "color": "#EBF0F8"
             },
             "line": {
              "color": "white"
             }
            },
            "header": {
             "fill": {
              "color": "#C8D4E3"
             },
             "line": {
              "color": "white"
             }
            },
            "type": "table"
           }
          ]
         },
         "layout": {
          "annotationdefaults": {
           "arrowcolor": "#2a3f5f",
           "arrowhead": 0,
           "arrowwidth": 1
          },
          "autotypenumbers": "strict",
          "coloraxis": {
           "colorbar": {
            "outlinewidth": 0,
            "ticks": ""
           }
          },
          "colorscale": {
           "diverging": [
            [
             0,
             "#8e0152"
            ],
            [
             0.1,
             "#c51b7d"
            ],
            [
             0.2,
             "#de77ae"
            ],
            [
             0.3,
             "#f1b6da"
            ],
            [
             0.4,
             "#fde0ef"
            ],
            [
             0.5,
             "#f7f7f7"
            ],
            [
             0.6,
             "#e6f5d0"
            ],
            [
             0.7,
             "#b8e186"
            ],
            [
             0.8,
             "#7fbc41"
            ],
            [
             0.9,
             "#4d9221"
            ],
            [
             1,
             "#276419"
            ]
           ],
           "sequential": [
            [
             0,
             "#0d0887"
            ],
            [
             0.1111111111111111,
             "#46039f"
            ],
            [
             0.2222222222222222,
             "#7201a8"
            ],
            [
             0.3333333333333333,
             "#9c179e"
            ],
            [
             0.4444444444444444,
             "#bd3786"
            ],
            [
             0.5555555555555556,
             "#d8576b"
            ],
            [
             0.6666666666666666,
             "#ed7953"
            ],
            [
             0.7777777777777778,
             "#fb9f3a"
            ],
            [
             0.8888888888888888,
             "#fdca26"
            ],
            [
             1,
             "#f0f921"
            ]
           ],
           "sequentialminus": [
            [
             0,
             "#0d0887"
            ],
            [
             0.1111111111111111,
             "#46039f"
            ],
            [
             0.2222222222222222,
             "#7201a8"
            ],
            [
             0.3333333333333333,
             "#9c179e"
            ],
            [
             0.4444444444444444,
             "#bd3786"
            ],
            [
             0.5555555555555556,
             "#d8576b"
            ],
            [
             0.6666666666666666,
             "#ed7953"
            ],
            [
             0.7777777777777778,
             "#fb9f3a"
            ],
            [
             0.8888888888888888,
             "#fdca26"
            ],
            [
             1,
             "#f0f921"
            ]
           ]
          },
          "colorway": [
           "#636efa",
           "#EF553B",
           "#00cc96",
           "#ab63fa",
           "#FFA15A",
           "#19d3f3",
           "#FF6692",
           "#B6E880",
           "#FF97FF",
           "#FECB52"
          ],
          "font": {
           "color": "#2a3f5f"
          },
          "geo": {
           "bgcolor": "white",
           "lakecolor": "white",
           "landcolor": "#E5ECF6",
           "showlakes": true,
           "showland": true,
           "subunitcolor": "white"
          },
          "hoverlabel": {
           "align": "left"
          },
          "hovermode": "closest",
          "mapbox": {
           "style": "light"
          },
          "paper_bgcolor": "white",
          "plot_bgcolor": "#E5ECF6",
          "polar": {
           "angularaxis": {
            "gridcolor": "white",
            "linecolor": "white",
            "ticks": ""
           },
           "bgcolor": "#E5ECF6",
           "radialaxis": {
            "gridcolor": "white",
            "linecolor": "white",
            "ticks": ""
           }
          },
          "scene": {
           "xaxis": {
            "backgroundcolor": "#E5ECF6",
            "gridcolor": "white",
            "gridwidth": 2,
            "linecolor": "white",
            "showbackground": true,
            "ticks": "",
            "zerolinecolor": "white"
           },
           "yaxis": {
            "backgroundcolor": "#E5ECF6",
            "gridcolor": "white",
            "gridwidth": 2,
            "linecolor": "white",
            "showbackground": true,
            "ticks": "",
            "zerolinecolor": "white"
           },
           "zaxis": {
            "backgroundcolor": "#E5ECF6",
            "gridcolor": "white",
            "gridwidth": 2,
            "linecolor": "white",
            "showbackground": true,
            "ticks": "",
            "zerolinecolor": "white"
           }
          },
          "shapedefaults": {
           "line": {
            "color": "#2a3f5f"
           }
          },
          "ternary": {
           "aaxis": {
            "gridcolor": "white",
            "linecolor": "white",
            "ticks": ""
           },
           "baxis": {
            "gridcolor": "white",
            "linecolor": "white",
            "ticks": ""
           },
           "bgcolor": "#E5ECF6",
           "caxis": {
            "gridcolor": "white",
            "linecolor": "white",
            "ticks": ""
           }
          },
          "title": {
           "x": 0.05
          },
          "xaxis": {
           "automargin": true,
           "gridcolor": "white",
           "linecolor": "white",
           "ticks": "",
           "title": {
            "standoff": 15
           },
           "zerolinecolor": "white",
           "zerolinewidth": 2
          },
          "yaxis": {
           "automargin": true,
           "gridcolor": "white",
           "linecolor": "white",
           "ticks": "",
           "title": {
            "standoff": 15
           },
           "zerolinecolor": "white",
           "zerolinewidth": 2
          }
         }
        },
        "title": {
         "text": "Top 5 Cheapest Stations and Reference Point",
         "x": 0.5
        }
       }
      },
      "text/html": [
       "<div>                            <div id=\"36da4a1e-70c5-4ec1-a154-094d408ddb33\" class=\"plotly-graph-div\" style=\"height:600px; width:100%;\"></div>            <script type=\"text/javascript\">                require([\"plotly\"], function(Plotly) {                    window.PLOTLYENV=window.PLOTLYENV || {};                                    if (document.getElementById(\"36da4a1e-70c5-4ec1-a154-094d408ddb33\")) {                    Plotly.newPlot(                        \"36da4a1e-70c5-4ec1-a154-094d408ddb33\",                        [{\"lat\":[28.748103],\"lon\":[77.112122],\"marker\":{\"color\":\"red\",\"size\":15},\"mode\":\"markers+text\",\"name\":\"Reference Point\",\"text\":[\"Reference Point\"],\"textposition\":\"top right\",\"type\":\"scattermapbox\"},{\"lat\":[28.71087357635634,28.6914,28.6807207,28.7447588758019,28.74419829200304],\"lon\":[77.08468046039343,77.1893,77.1553153,77.1142930537462,77.12025661021471],\"marker\":{\"color\":\"blue\",\"size\":12},\"mode\":\"markers+text\",\"name\":\"Cheapest Stations\",\"text\":[\"Name: REVOS<br>Address: P-1/52a Budh Vihar Phase-1<br>Distance: 4.92 km<br>Cost per Kwh: 2.0 <br>Total Cost: 1032.0\",\"Name: Singh Service Station<br>Address: GT Karnal Road DELHI-110075<br>Distance: 9.82 km<br>Cost per Kwh: 2.05 <br>Total Cost: 1535.5\",\"Name: REVOS<br>Address: 473, Britannia Rd, Tri Nagar, Delhi, 110034zypp<br>Distance: 8.58 km<br>Cost per Kwh: 5.0 <br>Total Cost: 2208.0\",\"Name: REVOS<br>Address: Kh.No 65, Balimiki Mandir ke samne <br>Distance: 0.43 km<br>Cost per Kwh: 10.0 <br>Total Cost: 2743.0\",\"Name: REVOS<br>Address: B-4/38 ground floor sector-17 Rohini<br>Distance: 0.9 km<br>Cost per Kwh: 10.0 <br>Total Cost: 2790.0\"],\"textposition\":\"bottom right\",\"type\":\"scattermapbox\"}],                        {\"template\":{\"data\":{\"histogram2dcontour\":[{\"type\":\"histogram2dcontour\",\"colorbar\":{\"outlinewidth\":0,\"ticks\":\"\"},\"colorscale\":[[0.0,\"#0d0887\"],[0.1111111111111111,\"#46039f\"],[0.2222222222222222,\"#7201a8\"],[0.3333333333333333,\"#9c179e\"],[0.4444444444444444,\"#bd3786\"],[0.5555555555555556,\"#d8576b\"],[0.6666666666666666,\"#ed7953\"],[0.7777777777777778,\"#fb9f3a\"],[0.8888888888888888,\"#fdca26\"],[1.0,\"#f0f921\"]]}],\"choropleth\":[{\"type\":\"choropleth\",\"colorbar\":{\"outlinewidth\":0,\"ticks\":\"\"}}],\"histogram2d\":[{\"type\":\"histogram2d\",\"colorbar\":{\"outlinewidth\":0,\"ticks\":\"\"},\"colorscale\":[[0.0,\"#0d0887\"],[0.1111111111111111,\"#46039f\"],[0.2222222222222222,\"#7201a8\"],[0.3333333333333333,\"#9c179e\"],[0.4444444444444444,\"#bd3786\"],[0.5555555555555556,\"#d8576b\"],[0.6666666666666666,\"#ed7953\"],[0.7777777777777778,\"#fb9f3a\"],[0.8888888888888888,\"#fdca26\"],[1.0,\"#f0f921\"]]}],\"heatmap\":[{\"type\":\"heatmap\",\"colorbar\":{\"outlinewidth\":0,\"ticks\":\"\"},\"colorscale\":[[0.0,\"#0d0887\"],[0.1111111111111111,\"#46039f\"],[0.2222222222222222,\"#7201a8\"],[0.3333333333333333,\"#9c179e\"],[0.4444444444444444,\"#bd3786\"],[0.5555555555555556,\"#d8576b\"],[0.6666666666666666,\"#ed7953\"],[0.7777777777777778,\"#fb9f3a\"],[0.8888888888888888,\"#fdca26\"],[1.0,\"#f0f921\"]]}],\"heatmapgl\":[{\"type\":\"heatmapgl\",\"colorbar\":{\"outlinewidth\":0,\"ticks\":\"\"},\"colorscale\":[[0.0,\"#0d0887\"],[0.1111111111111111,\"#46039f\"],[0.2222222222222222,\"#7201a8\"],[0.3333333333333333,\"#9c179e\"],[0.4444444444444444,\"#bd3786\"],[0.5555555555555556,\"#d8576b\"],[0.6666666666666666,\"#ed7953\"],[0.7777777777777778,\"#fb9f3a\"],[0.8888888888888888,\"#fdca26\"],[1.0,\"#f0f921\"]]}],\"contourcarpet\":[{\"type\":\"contourcarpet\",\"colorbar\":{\"outlinewidth\":0,\"ticks\":\"\"}}],\"contour\":[{\"type\":\"contour\",\"colorbar\":{\"outlinewidth\":0,\"ticks\":\"\"},\"colorscale\":[[0.0,\"#0d0887\"],[0.1111111111111111,\"#46039f\"],[0.2222222222222222,\"#7201a8\"],[0.3333333333333333,\"#9c179e\"],[0.4444444444444444,\"#bd3786\"],[0.5555555555555556,\"#d8576b\"],[0.6666666666666666,\"#ed7953\"],[0.7777777777777778,\"#fb9f3a\"],[0.8888888888888888,\"#fdca26\"],[1.0,\"#f0f921\"]]}],\"surface\":[{\"type\":\"surface\",\"colorbar\":{\"outlinewidth\":0,\"ticks\":\"\"},\"colorscale\":[[0.0,\"#0d0887\"],[0.1111111111111111,\"#46039f\"],[0.2222222222222222,\"#7201a8\"],[0.3333333333333333,\"#9c179e\"],[0.4444444444444444,\"#bd3786\"],[0.5555555555555556,\"#d8576b\"],[0.6666666666666666,\"#ed7953\"],[0.7777777777777778,\"#fb9f3a\"],[0.8888888888888888,\"#fdca26\"],[1.0,\"#f0f921\"]]}],\"mesh3d\":[{\"type\":\"mesh3d\",\"colorbar\":{\"outlinewidth\":0,\"ticks\":\"\"}}],\"scatter\":[{\"fillpattern\":{\"fillmode\":\"overlay\",\"size\":10,\"solidity\":0.2},\"type\":\"scatter\"}],\"parcoords\":[{\"type\":\"parcoords\",\"line\":{\"colorbar\":{\"outlinewidth\":0,\"ticks\":\"\"}}}],\"scatterpolargl\":[{\"type\":\"scatterpolargl\",\"marker\":{\"colorbar\":{\"outlinewidth\":0,\"ticks\":\"\"}}}],\"bar\":[{\"error_x\":{\"color\":\"#2a3f5f\"},\"error_y\":{\"color\":\"#2a3f5f\"},\"marker\":{\"line\":{\"color\":\"#E5ECF6\",\"width\":0.5},\"pattern\":{\"fillmode\":\"overlay\",\"size\":10,\"solidity\":0.2}},\"type\":\"bar\"}],\"scattergeo\":[{\"type\":\"scattergeo\",\"marker\":{\"colorbar\":{\"outlinewidth\":0,\"ticks\":\"\"}}}],\"scatterpolar\":[{\"type\":\"scatterpolar\",\"marker\":{\"colorbar\":{\"outlinewidth\":0,\"ticks\":\"\"}}}],\"histogram\":[{\"marker\":{\"pattern\":{\"fillmode\":\"overlay\",\"size\":10,\"solidity\":0.2}},\"type\":\"histogram\"}],\"scattergl\":[{\"type\":\"scattergl\",\"marker\":{\"colorbar\":{\"outlinewidth\":0,\"ticks\":\"\"}}}],\"scatter3d\":[{\"type\":\"scatter3d\",\"line\":{\"colorbar\":{\"outlinewidth\":0,\"ticks\":\"\"}},\"marker\":{\"colorbar\":{\"outlinewidth\":0,\"ticks\":\"\"}}}],\"scattermapbox\":[{\"type\":\"scattermapbox\",\"marker\":{\"colorbar\":{\"outlinewidth\":0,\"ticks\":\"\"}}}],\"scatterternary\":[{\"type\":\"scatterternary\",\"marker\":{\"colorbar\":{\"outlinewidth\":0,\"ticks\":\"\"}}}],\"scattercarpet\":[{\"type\":\"scattercarpet\",\"marker\":{\"colorbar\":{\"outlinewidth\":0,\"ticks\":\"\"}}}],\"carpet\":[{\"aaxis\":{\"endlinecolor\":\"#2a3f5f\",\"gridcolor\":\"white\",\"linecolor\":\"white\",\"minorgridcolor\":\"white\",\"startlinecolor\":\"#2a3f5f\"},\"baxis\":{\"endlinecolor\":\"#2a3f5f\",\"gridcolor\":\"white\",\"linecolor\":\"white\",\"minorgridcolor\":\"white\",\"startlinecolor\":\"#2a3f5f\"},\"type\":\"carpet\"}],\"table\":[{\"cells\":{\"fill\":{\"color\":\"#EBF0F8\"},\"line\":{\"color\":\"white\"}},\"header\":{\"fill\":{\"color\":\"#C8D4E3\"},\"line\":{\"color\":\"white\"}},\"type\":\"table\"}],\"barpolar\":[{\"marker\":{\"line\":{\"color\":\"#E5ECF6\",\"width\":0.5},\"pattern\":{\"fillmode\":\"overlay\",\"size\":10,\"solidity\":0.2}},\"type\":\"barpolar\"}],\"pie\":[{\"automargin\":true,\"type\":\"pie\"}]},\"layout\":{\"autotypenumbers\":\"strict\",\"colorway\":[\"#636efa\",\"#EF553B\",\"#00cc96\",\"#ab63fa\",\"#FFA15A\",\"#19d3f3\",\"#FF6692\",\"#B6E880\",\"#FF97FF\",\"#FECB52\"],\"font\":{\"color\":\"#2a3f5f\"},\"hovermode\":\"closest\",\"hoverlabel\":{\"align\":\"left\"},\"paper_bgcolor\":\"white\",\"plot_bgcolor\":\"#E5ECF6\",\"polar\":{\"bgcolor\":\"#E5ECF6\",\"angularaxis\":{\"gridcolor\":\"white\",\"linecolor\":\"white\",\"ticks\":\"\"},\"radialaxis\":{\"gridcolor\":\"white\",\"linecolor\":\"white\",\"ticks\":\"\"}},\"ternary\":{\"bgcolor\":\"#E5ECF6\",\"aaxis\":{\"gridcolor\":\"white\",\"linecolor\":\"white\",\"ticks\":\"\"},\"baxis\":{\"gridcolor\":\"white\",\"linecolor\":\"white\",\"ticks\":\"\"},\"caxis\":{\"gridcolor\":\"white\",\"linecolor\":\"white\",\"ticks\":\"\"}},\"coloraxis\":{\"colorbar\":{\"outlinewidth\":0,\"ticks\":\"\"}},\"colorscale\":{\"sequential\":[[0.0,\"#0d0887\"],[0.1111111111111111,\"#46039f\"],[0.2222222222222222,\"#7201a8\"],[0.3333333333333333,\"#9c179e\"],[0.4444444444444444,\"#bd3786\"],[0.5555555555555556,\"#d8576b\"],[0.6666666666666666,\"#ed7953\"],[0.7777777777777778,\"#fb9f3a\"],[0.8888888888888888,\"#fdca26\"],[1.0,\"#f0f921\"]],\"sequentialminus\":[[0.0,\"#0d0887\"],[0.1111111111111111,\"#46039f\"],[0.2222222222222222,\"#7201a8\"],[0.3333333333333333,\"#9c179e\"],[0.4444444444444444,\"#bd3786\"],[0.5555555555555556,\"#d8576b\"],[0.6666666666666666,\"#ed7953\"],[0.7777777777777778,\"#fb9f3a\"],[0.8888888888888888,\"#fdca26\"],[1.0,\"#f0f921\"]],\"diverging\":[[0,\"#8e0152\"],[0.1,\"#c51b7d\"],[0.2,\"#de77ae\"],[0.3,\"#f1b6da\"],[0.4,\"#fde0ef\"],[0.5,\"#f7f7f7\"],[0.6,\"#e6f5d0\"],[0.7,\"#b8e186\"],[0.8,\"#7fbc41\"],[0.9,\"#4d9221\"],[1,\"#276419\"]]},\"xaxis\":{\"gridcolor\":\"white\",\"linecolor\":\"white\",\"ticks\":\"\",\"title\":{\"standoff\":15},\"zerolinecolor\":\"white\",\"automargin\":true,\"zerolinewidth\":2},\"yaxis\":{\"gridcolor\":\"white\",\"linecolor\":\"white\",\"ticks\":\"\",\"title\":{\"standoff\":15},\"zerolinecolor\":\"white\",\"automargin\":true,\"zerolinewidth\":2},\"scene\":{\"xaxis\":{\"backgroundcolor\":\"#E5ECF6\",\"gridcolor\":\"white\",\"linecolor\":\"white\",\"showbackground\":true,\"ticks\":\"\",\"zerolinecolor\":\"white\",\"gridwidth\":2},\"yaxis\":{\"backgroundcolor\":\"#E5ECF6\",\"gridcolor\":\"white\",\"linecolor\":\"white\",\"showbackground\":true,\"ticks\":\"\",\"zerolinecolor\":\"white\",\"gridwidth\":2},\"zaxis\":{\"backgroundcolor\":\"#E5ECF6\",\"gridcolor\":\"white\",\"linecolor\":\"white\",\"showbackground\":true,\"ticks\":\"\",\"zerolinecolor\":\"white\",\"gridwidth\":2}},\"shapedefaults\":{\"line\":{\"color\":\"#2a3f5f\"}},\"annotationdefaults\":{\"arrowcolor\":\"#2a3f5f\",\"arrowhead\":0,\"arrowwidth\":1},\"geo\":{\"bgcolor\":\"white\",\"landcolor\":\"#E5ECF6\",\"subunitcolor\":\"white\",\"showland\":true,\"showlakes\":true,\"lakecolor\":\"white\"},\"title\":{\"x\":0.05},\"mapbox\":{\"style\":\"light\"}}},\"mapbox\":{\"center\":{\"lat\":28.714390288832256,\"lon\":77.13276908487087},\"style\":\"open-street-map\",\"zoom\":12},\"title\":{\"text\":\"Top 5 Cheapest Stations and Reference Point\",\"x\":0.5},\"height\":600},                        {\"responsive\": true}                    ).then(function(){\n",
       "                            \n",
       "var gd = document.getElementById('36da4a1e-70c5-4ec1-a154-094d408ddb33');\n",
       "var x = new MutationObserver(function (mutations, observer) {{\n",
       "        var display = window.getComputedStyle(gd).display;\n",
       "        if (!display || display === 'none') {{\n",
       "            console.log([gd, 'removed!']);\n",
       "            Plotly.purge(gd);\n",
       "            observer.disconnect();\n",
       "        }}\n",
       "}});\n",
       "\n",
       "// Listen for the removal of the full notebook cells\n",
       "var notebookContainer = gd.closest('#notebook-container');\n",
       "if (notebookContainer) {{\n",
       "    x.observe(notebookContainer, {childList: true});\n",
       "}}\n",
       "\n",
       "// Listen for the clearing of the current output cell\n",
       "var outputEl = gd.closest('.output');\n",
       "if (outputEl) {{\n",
       "    x.observe(outputEl, {childList: true});\n",
       "}}\n",
       "\n",
       "                        })                };                });            </script>        </div>"
      ]
     },
     "metadata": {},
     "output_type": "display_data"
    }
   ],
   "source": [
    "# Create a map figure\n",
    "fig = go.Figure()\n",
    "\n",
    "# Add the reference point\n",
    "fig.add_trace(go.Scattermapbox(\n",
    "    lat=[reference_point['latitude']],  \n",
    "    lon=[reference_point['longitude']],  \n",
    "    mode='markers+text',\n",
    "    marker=dict(size=15, color='red'),\n",
    "    text=[\"Reference Point\"],\n",
    "    textposition=\"top right\",\n",
    "    name=\"Reference Point\"\n",
    "))\n",
    "\n",
    "# Add 5 cheapest stations to the map\n",
    "fig.add_trace(go.Scattermapbox(\n",
    "    lat=cheapest_stations_df['Latitude'], \n",
    "    lon=cheapest_stations_df['Longitude'],  \n",
    "    mode='markers+text',\n",
    "    marker=dict(size=12, color='blue'),\n",
    "    text=[\n",
    "        f\"Name: {row['Name']}<br>\"\n",
    "        f\"Address: {row['Address']}<br>\"\n",
    "        f\"Distance: {row['Distance']} km<br>\"\n",
    "        f\"Cost per Kwh: {row['Cost_per_Unit']} <br>\"\n",
    "        f\"Total Cost: {row['Total Cost']}\"\n",
    "        for _, row in cheapest_stations_df.iterrows()\n",
    "    ],\n",
    "    textposition=\"bottom right\",\n",
    "    name=\"Cheapest Stations\",\n",
    "))\n",
    "\n",
    "\n",
    "# Update the map layout\n",
    "fig.update_layout(\n",
    "    mapbox=dict(\n",
    "        style=\"open-street-map\",\n",
    "        center=dict(lat=cheapest_stations_df['Latitude'].mean(), lon=cheapest_stations_df['Longitude'].mean()),  # Center the map\n",
    "        zoom=12\n",
    "    ),\n",
    "    title=\"Top 5 Cheapest Stations and Reference Point\",\n",
    "    title_x=0.5,  # Center the title\n",
    "    height=600\n",
    ")\n",
    "\n",
    "# Show the map\n",
    "fig.show()\n",
    "\n"
   ]
  },
  {
   "cell_type": "markdown",
   "id": "085708af",
   "metadata": {},
   "source": [
    "#### Charging Time Calculation"
   ]
  },
  {
   "cell_type": "code",
   "execution_count": 40,
   "id": "0c74932c",
   "metadata": {},
   "outputs": [
    {
     "name": "stdout",
     "output_type": "stream",
     "text": [
      "\n",
      "Charging time is : 6.75 hours\n"
     ]
    }
   ],
   "source": [
    "# Calculate charging time\n",
    "Charging_time = Required_energy / charging_speed_vehicle\n",
    "Charging_time = round(Charging_time, 2)\n",
    "# Display charging time\n",
    "print(f'\\nCharging time is : {Charging_time} hours')"
   ]
  },
  {
   "cell_type": "markdown",
   "id": "2bfc2d6e",
   "metadata": {},
   "source": [
    "## Step 3: Real world scenarios"
   ]
  },
  {
   "cell_type": "markdown",
   "id": "02c7ef4b",
   "metadata": {},
   "source": [
    "#### Thermal Management"
   ]
  },
  {
   "cell_type": "code",
   "execution_count": 50,
   "id": "eab1bcce",
   "metadata": {},
   "outputs": [
    {
     "name": "stdout",
     "output_type": "stream",
     "text": [
      "\n",
      "Please enter the temperature (numbers only): 11\n",
      "\n",
      " It is fine there is no need to worry about energy lose because of temperature! You need same energy.\n"
     ]
    }
   ],
   "source": [
    "Temperature = int(input('\\nPlease enter the temperature (numbers only): '))\n",
    "if  Temperature > 10:\n",
    "    print(f'\\n It is fine there is no need to worry about energy lose because of temperature! You need same energy.')\n",
    "    Required_energy_season = Required_energy\n",
    "elif  Temperature <= -20:\n",
    "    print('\\n There is no way the temperature decreased there, you are in the Netherlands!')\n",
    "elif  0 < Temperature <= 10:\n",
    "    More_required_energy = (Required_energy * 0.2)\n",
    "    Required_energy_season = Required_energy + More_required_energy\n",
    "    print(f'\\n Since the temperature is low, you require {More_required_energy} kwh more energy.')\n",
    "elif  -10 < Temperature <= 0:\n",
    "    More_required_energy = (Required_energy * 0.4)\n",
    "    Required_energy_season = Required_energy + More_required_energy\n",
    "    print(f'\\n Since the temperature is very low, you require {More_required_energy} kwh more energy.')\n",
    "elif  -20 < Temperature <= -10:\n",
    "    More_required_energy = (Required_energy * 0.5)\n",
    "    Required_energy_season = Required_energy + More_required_energy \n",
    "    print(f'\\n Since the temperature is extremely low, you require {More_required_energy} kwh more energy.')"
   ]
  },
  {
   "cell_type": "markdown",
   "id": "75166386",
   "metadata": {},
   "source": [
    "#### Standby Power Consumption"
   ]
  },
  {
   "cell_type": "code",
   "execution_count": 49,
   "id": "72beaa8b",
   "metadata": {},
   "outputs": [
    {
     "name": "stdout",
     "output_type": "stream",
     "text": [
      "\n",
      " The total standby power consumption energy is 59 kWh\n"
     ]
    }
   ],
   "source": [
    "Power_cooling = 5                                                # Power for cooing/heating system for one hour\n",
    "Power_electronics = 2                                            # Power for electronics (Sensors, GPS, etc.) for one hour\n",
    "Energy_day = (Power_cooling + Power_electronics) * 8             # Energy for a working day (8 hours)\n",
    "\n",
    "Startup_energy_consumption = 3                                   # Energy for start up engine   \n",
    "\n",
    "Reenergy_standby_day = energy_day + startup_energy_consumption     # Total amount of standby energy consumption \n",
    "\n",
    "print(f\"\\n The total standby power consumption energy is {energy_standby_day} kWh\")"
   ]
  },
  {
   "cell_type": "code",
   "execution_count": 46,
   "id": "f28995f5",
   "metadata": {},
   "outputs": [
    {
     "data": {
      "text/plain": [
       "59"
      ]
     },
     "execution_count": 46,
     "metadata": {},
     "output_type": "execute_result"
    }
   ],
   "source": []
  },
  {
   "cell_type": "code",
   "execution_count": null,
   "id": "e60f365a",
   "metadata": {},
   "outputs": [],
   "source": []
  }
 ],
 "metadata": {
  "kernelspec": {
   "display_name": "Python 3 (ipykernel)",
   "language": "python",
   "name": "python3"
  },
  "language_info": {
   "codemirror_mode": {
    "name": "ipython",
    "version": 3
   },
   "file_extension": ".py",
   "mimetype": "text/x-python",
   "name": "python",
   "nbconvert_exporter": "python",
   "pygments_lexer": "ipython3",
   "version": "3.11.4"
  }
 },
 "nbformat": 4,
 "nbformat_minor": 5
}
